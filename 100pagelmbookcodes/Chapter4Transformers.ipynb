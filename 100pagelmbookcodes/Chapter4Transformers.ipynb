{
  "nbformat": 4,
  "nbformat_minor": 0,
  "metadata": {
    "colab": {
      "provenance": [],
      "gpuType": "V5E1"
    },
    "kernelspec": {
      "name": "python3",
      "display_name": "Python 3"
    },
    "language_info": {
      "name": "python"
    },
    "accelerator": "TPU",
    "widgets": {
      "application/vnd.jupyter.widget-state+json": {
        "1921ec73263d490aa91401f2f525f8dc": {
          "model_module": "@jupyter-widgets/controls",
          "model_name": "HBoxModel",
          "model_module_version": "1.5.0",
          "state": {
            "_dom_classes": [],
            "_model_module": "@jupyter-widgets/controls",
            "_model_module_version": "1.5.0",
            "_model_name": "HBoxModel",
            "_view_count": null,
            "_view_module": "@jupyter-widgets/controls",
            "_view_module_version": "1.5.0",
            "_view_name": "HBoxView",
            "box_style": "",
            "children": [
              "IPY_MODEL_66e9ee8b3ca2416e8bfb4ba00fea79d9",
              "IPY_MODEL_fec98abba6fd4bd39fa66d348c30afdb",
              "IPY_MODEL_a90f5e3738fe420582d42001984f7f5d"
            ],
            "layout": "IPY_MODEL_9c830218f5be44ed9fa169b45fae572c"
          }
        },
        "66e9ee8b3ca2416e8bfb4ba00fea79d9": {
          "model_module": "@jupyter-widgets/controls",
          "model_name": "HTMLModel",
          "model_module_version": "1.5.0",
          "state": {
            "_dom_classes": [],
            "_model_module": "@jupyter-widgets/controls",
            "_model_module_version": "1.5.0",
            "_model_name": "HTMLModel",
            "_view_count": null,
            "_view_module": "@jupyter-widgets/controls",
            "_view_module_version": "1.5.0",
            "_view_name": "HTMLView",
            "description": "",
            "description_tooltip": null,
            "layout": "IPY_MODEL_a94f0da44ef74778b2248a18171f94ce",
            "placeholder": "​",
            "style": "IPY_MODEL_3866580d61d548b6a16352e282784319",
            "value": "tokenizer_config.json: "
          }
        },
        "fec98abba6fd4bd39fa66d348c30afdb": {
          "model_module": "@jupyter-widgets/controls",
          "model_name": "FloatProgressModel",
          "model_module_version": "1.5.0",
          "state": {
            "_dom_classes": [],
            "_model_module": "@jupyter-widgets/controls",
            "_model_module_version": "1.5.0",
            "_model_name": "FloatProgressModel",
            "_view_count": null,
            "_view_module": "@jupyter-widgets/controls",
            "_view_module_version": "1.5.0",
            "_view_name": "ProgressView",
            "bar_style": "success",
            "description": "",
            "description_tooltip": null,
            "layout": "IPY_MODEL_06cde203727149018f7bb81d4f4b3c1f",
            "max": 1,
            "min": 0,
            "orientation": "horizontal",
            "style": "IPY_MODEL_efdf9f0297994a7cb2131b8d65ffa54e",
            "value": 1
          }
        },
        "a90f5e3738fe420582d42001984f7f5d": {
          "model_module": "@jupyter-widgets/controls",
          "model_name": "HTMLModel",
          "model_module_version": "1.5.0",
          "state": {
            "_dom_classes": [],
            "_model_module": "@jupyter-widgets/controls",
            "_model_module_version": "1.5.0",
            "_model_name": "HTMLModel",
            "_view_count": null,
            "_view_module": "@jupyter-widgets/controls",
            "_view_module_version": "1.5.0",
            "_view_name": "HTMLView",
            "description": "",
            "description_tooltip": null,
            "layout": "IPY_MODEL_9f1ea21ad76a4a1bbaedaea655cdf053",
            "placeholder": "​",
            "style": "IPY_MODEL_02d4a086f0e04485bb0f0ceee327ac73",
            "value": " 3.98k/? [00:00&lt;00:00, 84.3kB/s]"
          }
        },
        "9c830218f5be44ed9fa169b45fae572c": {
          "model_module": "@jupyter-widgets/base",
          "model_name": "LayoutModel",
          "model_module_version": "1.2.0",
          "state": {
            "_model_module": "@jupyter-widgets/base",
            "_model_module_version": "1.2.0",
            "_model_name": "LayoutModel",
            "_view_count": null,
            "_view_module": "@jupyter-widgets/base",
            "_view_module_version": "1.2.0",
            "_view_name": "LayoutView",
            "align_content": null,
            "align_items": null,
            "align_self": null,
            "border": null,
            "bottom": null,
            "display": null,
            "flex": null,
            "flex_flow": null,
            "grid_area": null,
            "grid_auto_columns": null,
            "grid_auto_flow": null,
            "grid_auto_rows": null,
            "grid_column": null,
            "grid_gap": null,
            "grid_row": null,
            "grid_template_areas": null,
            "grid_template_columns": null,
            "grid_template_rows": null,
            "height": null,
            "justify_content": null,
            "justify_items": null,
            "left": null,
            "margin": null,
            "max_height": null,
            "max_width": null,
            "min_height": null,
            "min_width": null,
            "object_fit": null,
            "object_position": null,
            "order": null,
            "overflow": null,
            "overflow_x": null,
            "overflow_y": null,
            "padding": null,
            "right": null,
            "top": null,
            "visibility": null,
            "width": null
          }
        },
        "a94f0da44ef74778b2248a18171f94ce": {
          "model_module": "@jupyter-widgets/base",
          "model_name": "LayoutModel",
          "model_module_version": "1.2.0",
          "state": {
            "_model_module": "@jupyter-widgets/base",
            "_model_module_version": "1.2.0",
            "_model_name": "LayoutModel",
            "_view_count": null,
            "_view_module": "@jupyter-widgets/base",
            "_view_module_version": "1.2.0",
            "_view_name": "LayoutView",
            "align_content": null,
            "align_items": null,
            "align_self": null,
            "border": null,
            "bottom": null,
            "display": null,
            "flex": null,
            "flex_flow": null,
            "grid_area": null,
            "grid_auto_columns": null,
            "grid_auto_flow": null,
            "grid_auto_rows": null,
            "grid_column": null,
            "grid_gap": null,
            "grid_row": null,
            "grid_template_areas": null,
            "grid_template_columns": null,
            "grid_template_rows": null,
            "height": null,
            "justify_content": null,
            "justify_items": null,
            "left": null,
            "margin": null,
            "max_height": null,
            "max_width": null,
            "min_height": null,
            "min_width": null,
            "object_fit": null,
            "object_position": null,
            "order": null,
            "overflow": null,
            "overflow_x": null,
            "overflow_y": null,
            "padding": null,
            "right": null,
            "top": null,
            "visibility": null,
            "width": null
          }
        },
        "3866580d61d548b6a16352e282784319": {
          "model_module": "@jupyter-widgets/controls",
          "model_name": "DescriptionStyleModel",
          "model_module_version": "1.5.0",
          "state": {
            "_model_module": "@jupyter-widgets/controls",
            "_model_module_version": "1.5.0",
            "_model_name": "DescriptionStyleModel",
            "_view_count": null,
            "_view_module": "@jupyter-widgets/base",
            "_view_module_version": "1.2.0",
            "_view_name": "StyleView",
            "description_width": ""
          }
        },
        "06cde203727149018f7bb81d4f4b3c1f": {
          "model_module": "@jupyter-widgets/base",
          "model_name": "LayoutModel",
          "model_module_version": "1.2.0",
          "state": {
            "_model_module": "@jupyter-widgets/base",
            "_model_module_version": "1.2.0",
            "_model_name": "LayoutModel",
            "_view_count": null,
            "_view_module": "@jupyter-widgets/base",
            "_view_module_version": "1.2.0",
            "_view_name": "LayoutView",
            "align_content": null,
            "align_items": null,
            "align_self": null,
            "border": null,
            "bottom": null,
            "display": null,
            "flex": null,
            "flex_flow": null,
            "grid_area": null,
            "grid_auto_columns": null,
            "grid_auto_flow": null,
            "grid_auto_rows": null,
            "grid_column": null,
            "grid_gap": null,
            "grid_row": null,
            "grid_template_areas": null,
            "grid_template_columns": null,
            "grid_template_rows": null,
            "height": null,
            "justify_content": null,
            "justify_items": null,
            "left": null,
            "margin": null,
            "max_height": null,
            "max_width": null,
            "min_height": null,
            "min_width": null,
            "object_fit": null,
            "object_position": null,
            "order": null,
            "overflow": null,
            "overflow_x": null,
            "overflow_y": null,
            "padding": null,
            "right": null,
            "top": null,
            "visibility": null,
            "width": "20px"
          }
        },
        "efdf9f0297994a7cb2131b8d65ffa54e": {
          "model_module": "@jupyter-widgets/controls",
          "model_name": "ProgressStyleModel",
          "model_module_version": "1.5.0",
          "state": {
            "_model_module": "@jupyter-widgets/controls",
            "_model_module_version": "1.5.0",
            "_model_name": "ProgressStyleModel",
            "_view_count": null,
            "_view_module": "@jupyter-widgets/base",
            "_view_module_version": "1.2.0",
            "_view_name": "StyleView",
            "bar_color": null,
            "description_width": ""
          }
        },
        "9f1ea21ad76a4a1bbaedaea655cdf053": {
          "model_module": "@jupyter-widgets/base",
          "model_name": "LayoutModel",
          "model_module_version": "1.2.0",
          "state": {
            "_model_module": "@jupyter-widgets/base",
            "_model_module_version": "1.2.0",
            "_model_name": "LayoutModel",
            "_view_count": null,
            "_view_module": "@jupyter-widgets/base",
            "_view_module_version": "1.2.0",
            "_view_name": "LayoutView",
            "align_content": null,
            "align_items": null,
            "align_self": null,
            "border": null,
            "bottom": null,
            "display": null,
            "flex": null,
            "flex_flow": null,
            "grid_area": null,
            "grid_auto_columns": null,
            "grid_auto_flow": null,
            "grid_auto_rows": null,
            "grid_column": null,
            "grid_gap": null,
            "grid_row": null,
            "grid_template_areas": null,
            "grid_template_columns": null,
            "grid_template_rows": null,
            "height": null,
            "justify_content": null,
            "justify_items": null,
            "left": null,
            "margin": null,
            "max_height": null,
            "max_width": null,
            "min_height": null,
            "min_width": null,
            "object_fit": null,
            "object_position": null,
            "order": null,
            "overflow": null,
            "overflow_x": null,
            "overflow_y": null,
            "padding": null,
            "right": null,
            "top": null,
            "visibility": null,
            "width": null
          }
        },
        "02d4a086f0e04485bb0f0ceee327ac73": {
          "model_module": "@jupyter-widgets/controls",
          "model_name": "DescriptionStyleModel",
          "model_module_version": "1.5.0",
          "state": {
            "_model_module": "@jupyter-widgets/controls",
            "_model_module_version": "1.5.0",
            "_model_name": "DescriptionStyleModel",
            "_view_count": null,
            "_view_module": "@jupyter-widgets/base",
            "_view_module_version": "1.2.0",
            "_view_name": "StyleView",
            "description_width": ""
          }
        },
        "f3e2e83e6eaa46a29ad39c0c14ec58e4": {
          "model_module": "@jupyter-widgets/controls",
          "model_name": "HBoxModel",
          "model_module_version": "1.5.0",
          "state": {
            "_dom_classes": [],
            "_model_module": "@jupyter-widgets/controls",
            "_model_module_version": "1.5.0",
            "_model_name": "HBoxModel",
            "_view_count": null,
            "_view_module": "@jupyter-widgets/controls",
            "_view_module_version": "1.5.0",
            "_view_name": "HBoxView",
            "box_style": "",
            "children": [
              "IPY_MODEL_c3d00ad1c2434c888db5a8640698633f",
              "IPY_MODEL_fe1b980025924126bc1b845a59acd3b7",
              "IPY_MODEL_1362ada2bc174aaba7703498c1733b39"
            ],
            "layout": "IPY_MODEL_ea7193f406c442aa9cddb01f65f97db8"
          }
        },
        "c3d00ad1c2434c888db5a8640698633f": {
          "model_module": "@jupyter-widgets/controls",
          "model_name": "HTMLModel",
          "model_module_version": "1.5.0",
          "state": {
            "_dom_classes": [],
            "_model_module": "@jupyter-widgets/controls",
            "_model_module_version": "1.5.0",
            "_model_name": "HTMLModel",
            "_view_count": null,
            "_view_module": "@jupyter-widgets/controls",
            "_view_module_version": "1.5.0",
            "_view_name": "HTMLView",
            "description": "",
            "description_tooltip": null,
            "layout": "IPY_MODEL_a338642559e840489ae8f3f7922732af",
            "placeholder": "​",
            "style": "IPY_MODEL_1c1707aa19c04e9fbca39eea9f7184ce",
            "value": "tokenizer.model: 100%"
          }
        },
        "fe1b980025924126bc1b845a59acd3b7": {
          "model_module": "@jupyter-widgets/controls",
          "model_name": "FloatProgressModel",
          "model_module_version": "1.5.0",
          "state": {
            "_dom_classes": [],
            "_model_module": "@jupyter-widgets/controls",
            "_model_module_version": "1.5.0",
            "_model_name": "FloatProgressModel",
            "_view_count": null,
            "_view_module": "@jupyter-widgets/controls",
            "_view_module_version": "1.5.0",
            "_view_name": "ProgressView",
            "bar_style": "success",
            "description": "",
            "description_tooltip": null,
            "layout": "IPY_MODEL_c032753b1dad4690a64d5c6cfe22b361",
            "max": 499723,
            "min": 0,
            "orientation": "horizontal",
            "style": "IPY_MODEL_c2bcc95090504a00b1ca6740a46043fe",
            "value": 499723
          }
        },
        "1362ada2bc174aaba7703498c1733b39": {
          "model_module": "@jupyter-widgets/controls",
          "model_name": "HTMLModel",
          "model_module_version": "1.5.0",
          "state": {
            "_dom_classes": [],
            "_model_module": "@jupyter-widgets/controls",
            "_model_module_version": "1.5.0",
            "_model_name": "HTMLModel",
            "_view_count": null,
            "_view_module": "@jupyter-widgets/controls",
            "_view_module_version": "1.5.0",
            "_view_name": "HTMLView",
            "description": "",
            "description_tooltip": null,
            "layout": "IPY_MODEL_83227e98fcc2438abe63a86f7358752e",
            "placeholder": "​",
            "style": "IPY_MODEL_b80a4b5deb4045bca44af868f9da98b6",
            "value": " 500k/500k [00:00&lt;00:00, 732kB/s]"
          }
        },
        "ea7193f406c442aa9cddb01f65f97db8": {
          "model_module": "@jupyter-widgets/base",
          "model_name": "LayoutModel",
          "model_module_version": "1.2.0",
          "state": {
            "_model_module": "@jupyter-widgets/base",
            "_model_module_version": "1.2.0",
            "_model_name": "LayoutModel",
            "_view_count": null,
            "_view_module": "@jupyter-widgets/base",
            "_view_module_version": "1.2.0",
            "_view_name": "LayoutView",
            "align_content": null,
            "align_items": null,
            "align_self": null,
            "border": null,
            "bottom": null,
            "display": null,
            "flex": null,
            "flex_flow": null,
            "grid_area": null,
            "grid_auto_columns": null,
            "grid_auto_flow": null,
            "grid_auto_rows": null,
            "grid_column": null,
            "grid_gap": null,
            "grid_row": null,
            "grid_template_areas": null,
            "grid_template_columns": null,
            "grid_template_rows": null,
            "height": null,
            "justify_content": null,
            "justify_items": null,
            "left": null,
            "margin": null,
            "max_height": null,
            "max_width": null,
            "min_height": null,
            "min_width": null,
            "object_fit": null,
            "object_position": null,
            "order": null,
            "overflow": null,
            "overflow_x": null,
            "overflow_y": null,
            "padding": null,
            "right": null,
            "top": null,
            "visibility": null,
            "width": null
          }
        },
        "a338642559e840489ae8f3f7922732af": {
          "model_module": "@jupyter-widgets/base",
          "model_name": "LayoutModel",
          "model_module_version": "1.2.0",
          "state": {
            "_model_module": "@jupyter-widgets/base",
            "_model_module_version": "1.2.0",
            "_model_name": "LayoutModel",
            "_view_count": null,
            "_view_module": "@jupyter-widgets/base",
            "_view_module_version": "1.2.0",
            "_view_name": "LayoutView",
            "align_content": null,
            "align_items": null,
            "align_self": null,
            "border": null,
            "bottom": null,
            "display": null,
            "flex": null,
            "flex_flow": null,
            "grid_area": null,
            "grid_auto_columns": null,
            "grid_auto_flow": null,
            "grid_auto_rows": null,
            "grid_column": null,
            "grid_gap": null,
            "grid_row": null,
            "grid_template_areas": null,
            "grid_template_columns": null,
            "grid_template_rows": null,
            "height": null,
            "justify_content": null,
            "justify_items": null,
            "left": null,
            "margin": null,
            "max_height": null,
            "max_width": null,
            "min_height": null,
            "min_width": null,
            "object_fit": null,
            "object_position": null,
            "order": null,
            "overflow": null,
            "overflow_x": null,
            "overflow_y": null,
            "padding": null,
            "right": null,
            "top": null,
            "visibility": null,
            "width": null
          }
        },
        "1c1707aa19c04e9fbca39eea9f7184ce": {
          "model_module": "@jupyter-widgets/controls",
          "model_name": "DescriptionStyleModel",
          "model_module_version": "1.5.0",
          "state": {
            "_model_module": "@jupyter-widgets/controls",
            "_model_module_version": "1.5.0",
            "_model_name": "DescriptionStyleModel",
            "_view_count": null,
            "_view_module": "@jupyter-widgets/base",
            "_view_module_version": "1.2.0",
            "_view_name": "StyleView",
            "description_width": ""
          }
        },
        "c032753b1dad4690a64d5c6cfe22b361": {
          "model_module": "@jupyter-widgets/base",
          "model_name": "LayoutModel",
          "model_module_version": "1.2.0",
          "state": {
            "_model_module": "@jupyter-widgets/base",
            "_model_module_version": "1.2.0",
            "_model_name": "LayoutModel",
            "_view_count": null,
            "_view_module": "@jupyter-widgets/base",
            "_view_module_version": "1.2.0",
            "_view_name": "LayoutView",
            "align_content": null,
            "align_items": null,
            "align_self": null,
            "border": null,
            "bottom": null,
            "display": null,
            "flex": null,
            "flex_flow": null,
            "grid_area": null,
            "grid_auto_columns": null,
            "grid_auto_flow": null,
            "grid_auto_rows": null,
            "grid_column": null,
            "grid_gap": null,
            "grid_row": null,
            "grid_template_areas": null,
            "grid_template_columns": null,
            "grid_template_rows": null,
            "height": null,
            "justify_content": null,
            "justify_items": null,
            "left": null,
            "margin": null,
            "max_height": null,
            "max_width": null,
            "min_height": null,
            "min_width": null,
            "object_fit": null,
            "object_position": null,
            "order": null,
            "overflow": null,
            "overflow_x": null,
            "overflow_y": null,
            "padding": null,
            "right": null,
            "top": null,
            "visibility": null,
            "width": null
          }
        },
        "c2bcc95090504a00b1ca6740a46043fe": {
          "model_module": "@jupyter-widgets/controls",
          "model_name": "ProgressStyleModel",
          "model_module_version": "1.5.0",
          "state": {
            "_model_module": "@jupyter-widgets/controls",
            "_model_module_version": "1.5.0",
            "_model_name": "ProgressStyleModel",
            "_view_count": null,
            "_view_module": "@jupyter-widgets/base",
            "_view_module_version": "1.2.0",
            "_view_name": "StyleView",
            "bar_color": null,
            "description_width": ""
          }
        },
        "83227e98fcc2438abe63a86f7358752e": {
          "model_module": "@jupyter-widgets/base",
          "model_name": "LayoutModel",
          "model_module_version": "1.2.0",
          "state": {
            "_model_module": "@jupyter-widgets/base",
            "_model_module_version": "1.2.0",
            "_model_name": "LayoutModel",
            "_view_count": null,
            "_view_module": "@jupyter-widgets/base",
            "_view_module_version": "1.2.0",
            "_view_name": "LayoutView",
            "align_content": null,
            "align_items": null,
            "align_self": null,
            "border": null,
            "bottom": null,
            "display": null,
            "flex": null,
            "flex_flow": null,
            "grid_area": null,
            "grid_auto_columns": null,
            "grid_auto_flow": null,
            "grid_auto_rows": null,
            "grid_column": null,
            "grid_gap": null,
            "grid_row": null,
            "grid_template_areas": null,
            "grid_template_columns": null,
            "grid_template_rows": null,
            "height": null,
            "justify_content": null,
            "justify_items": null,
            "left": null,
            "margin": null,
            "max_height": null,
            "max_width": null,
            "min_height": null,
            "min_width": null,
            "object_fit": null,
            "object_position": null,
            "order": null,
            "overflow": null,
            "overflow_x": null,
            "overflow_y": null,
            "padding": null,
            "right": null,
            "top": null,
            "visibility": null,
            "width": null
          }
        },
        "b80a4b5deb4045bca44af868f9da98b6": {
          "model_module": "@jupyter-widgets/controls",
          "model_name": "DescriptionStyleModel",
          "model_module_version": "1.5.0",
          "state": {
            "_model_module": "@jupyter-widgets/controls",
            "_model_module_version": "1.5.0",
            "_model_name": "DescriptionStyleModel",
            "_view_count": null,
            "_view_module": "@jupyter-widgets/base",
            "_view_module_version": "1.2.0",
            "_view_name": "StyleView",
            "description_width": ""
          }
        },
        "eace1b7d75ea4cd38d83b53750ef9a55": {
          "model_module": "@jupyter-widgets/controls",
          "model_name": "HBoxModel",
          "model_module_version": "1.5.0",
          "state": {
            "_dom_classes": [],
            "_model_module": "@jupyter-widgets/controls",
            "_model_module_version": "1.5.0",
            "_model_name": "HBoxModel",
            "_view_count": null,
            "_view_module": "@jupyter-widgets/controls",
            "_view_module_version": "1.5.0",
            "_view_name": "HBoxView",
            "box_style": "",
            "children": [
              "IPY_MODEL_125835fa34b44f21a5f5cc20d601de3c",
              "IPY_MODEL_edc1773ae7984cfb8360a6857d3ce9dc",
              "IPY_MODEL_780d75ba2ff04faa9de94cf8d157faaa"
            ],
            "layout": "IPY_MODEL_5cf9a2667ba343e9b2e4fbc37d46c83f"
          }
        },
        "125835fa34b44f21a5f5cc20d601de3c": {
          "model_module": "@jupyter-widgets/controls",
          "model_name": "HTMLModel",
          "model_module_version": "1.5.0",
          "state": {
            "_dom_classes": [],
            "_model_module": "@jupyter-widgets/controls",
            "_model_module_version": "1.5.0",
            "_model_name": "HTMLModel",
            "_view_count": null,
            "_view_module": "@jupyter-widgets/controls",
            "_view_module_version": "1.5.0",
            "_view_name": "HTMLView",
            "description": "",
            "description_tooltip": null,
            "layout": "IPY_MODEL_640d4874100b42bd8fbe487cb8a1d120",
            "placeholder": "​",
            "style": "IPY_MODEL_15c282e9590a4279acafe41c6b476e53",
            "value": "tokenizer.json: "
          }
        },
        "edc1773ae7984cfb8360a6857d3ce9dc": {
          "model_module": "@jupyter-widgets/controls",
          "model_name": "FloatProgressModel",
          "model_module_version": "1.5.0",
          "state": {
            "_dom_classes": [],
            "_model_module": "@jupyter-widgets/controls",
            "_model_module_version": "1.5.0",
            "_model_name": "FloatProgressModel",
            "_view_count": null,
            "_view_module": "@jupyter-widgets/controls",
            "_view_module_version": "1.5.0",
            "_view_name": "ProgressView",
            "bar_style": "success",
            "description": "",
            "description_tooltip": null,
            "layout": "IPY_MODEL_93d3c81746af4dc7b97d86285837c207",
            "max": 1,
            "min": 0,
            "orientation": "horizontal",
            "style": "IPY_MODEL_9bc8cad6336548999cfb31ad8f879ef8",
            "value": 1
          }
        },
        "780d75ba2ff04faa9de94cf8d157faaa": {
          "model_module": "@jupyter-widgets/controls",
          "model_name": "HTMLModel",
          "model_module_version": "1.5.0",
          "state": {
            "_dom_classes": [],
            "_model_module": "@jupyter-widgets/controls",
            "_model_module_version": "1.5.0",
            "_model_name": "HTMLModel",
            "_view_count": null,
            "_view_module": "@jupyter-widgets/controls",
            "_view_module_version": "1.5.0",
            "_view_name": "HTMLView",
            "description": "",
            "description_tooltip": null,
            "layout": "IPY_MODEL_d82aa3407504494cb1e96aee2fcba0a5",
            "placeholder": "​",
            "style": "IPY_MODEL_9171fe3b98c8403a8ae9c5c950d93090",
            "value": " 1.84M/? [00:00&lt;00:00, 27.6MB/s]"
          }
        },
        "5cf9a2667ba343e9b2e4fbc37d46c83f": {
          "model_module": "@jupyter-widgets/base",
          "model_name": "LayoutModel",
          "model_module_version": "1.2.0",
          "state": {
            "_model_module": "@jupyter-widgets/base",
            "_model_module_version": "1.2.0",
            "_model_name": "LayoutModel",
            "_view_count": null,
            "_view_module": "@jupyter-widgets/base",
            "_view_module_version": "1.2.0",
            "_view_name": "LayoutView",
            "align_content": null,
            "align_items": null,
            "align_self": null,
            "border": null,
            "bottom": null,
            "display": null,
            "flex": null,
            "flex_flow": null,
            "grid_area": null,
            "grid_auto_columns": null,
            "grid_auto_flow": null,
            "grid_auto_rows": null,
            "grid_column": null,
            "grid_gap": null,
            "grid_row": null,
            "grid_template_areas": null,
            "grid_template_columns": null,
            "grid_template_rows": null,
            "height": null,
            "justify_content": null,
            "justify_items": null,
            "left": null,
            "margin": null,
            "max_height": null,
            "max_width": null,
            "min_height": null,
            "min_width": null,
            "object_fit": null,
            "object_position": null,
            "order": null,
            "overflow": null,
            "overflow_x": null,
            "overflow_y": null,
            "padding": null,
            "right": null,
            "top": null,
            "visibility": null,
            "width": null
          }
        },
        "640d4874100b42bd8fbe487cb8a1d120": {
          "model_module": "@jupyter-widgets/base",
          "model_name": "LayoutModel",
          "model_module_version": "1.2.0",
          "state": {
            "_model_module": "@jupyter-widgets/base",
            "_model_module_version": "1.2.0",
            "_model_name": "LayoutModel",
            "_view_count": null,
            "_view_module": "@jupyter-widgets/base",
            "_view_module_version": "1.2.0",
            "_view_name": "LayoutView",
            "align_content": null,
            "align_items": null,
            "align_self": null,
            "border": null,
            "bottom": null,
            "display": null,
            "flex": null,
            "flex_flow": null,
            "grid_area": null,
            "grid_auto_columns": null,
            "grid_auto_flow": null,
            "grid_auto_rows": null,
            "grid_column": null,
            "grid_gap": null,
            "grid_row": null,
            "grid_template_areas": null,
            "grid_template_columns": null,
            "grid_template_rows": null,
            "height": null,
            "justify_content": null,
            "justify_items": null,
            "left": null,
            "margin": null,
            "max_height": null,
            "max_width": null,
            "min_height": null,
            "min_width": null,
            "object_fit": null,
            "object_position": null,
            "order": null,
            "overflow": null,
            "overflow_x": null,
            "overflow_y": null,
            "padding": null,
            "right": null,
            "top": null,
            "visibility": null,
            "width": null
          }
        },
        "15c282e9590a4279acafe41c6b476e53": {
          "model_module": "@jupyter-widgets/controls",
          "model_name": "DescriptionStyleModel",
          "model_module_version": "1.5.0",
          "state": {
            "_model_module": "@jupyter-widgets/controls",
            "_model_module_version": "1.5.0",
            "_model_name": "DescriptionStyleModel",
            "_view_count": null,
            "_view_module": "@jupyter-widgets/base",
            "_view_module_version": "1.2.0",
            "_view_name": "StyleView",
            "description_width": ""
          }
        },
        "93d3c81746af4dc7b97d86285837c207": {
          "model_module": "@jupyter-widgets/base",
          "model_name": "LayoutModel",
          "model_module_version": "1.2.0",
          "state": {
            "_model_module": "@jupyter-widgets/base",
            "_model_module_version": "1.2.0",
            "_model_name": "LayoutModel",
            "_view_count": null,
            "_view_module": "@jupyter-widgets/base",
            "_view_module_version": "1.2.0",
            "_view_name": "LayoutView",
            "align_content": null,
            "align_items": null,
            "align_self": null,
            "border": null,
            "bottom": null,
            "display": null,
            "flex": null,
            "flex_flow": null,
            "grid_area": null,
            "grid_auto_columns": null,
            "grid_auto_flow": null,
            "grid_auto_rows": null,
            "grid_column": null,
            "grid_gap": null,
            "grid_row": null,
            "grid_template_areas": null,
            "grid_template_columns": null,
            "grid_template_rows": null,
            "height": null,
            "justify_content": null,
            "justify_items": null,
            "left": null,
            "margin": null,
            "max_height": null,
            "max_width": null,
            "min_height": null,
            "min_width": null,
            "object_fit": null,
            "object_position": null,
            "order": null,
            "overflow": null,
            "overflow_x": null,
            "overflow_y": null,
            "padding": null,
            "right": null,
            "top": null,
            "visibility": null,
            "width": "20px"
          }
        },
        "9bc8cad6336548999cfb31ad8f879ef8": {
          "model_module": "@jupyter-widgets/controls",
          "model_name": "ProgressStyleModel",
          "model_module_version": "1.5.0",
          "state": {
            "_model_module": "@jupyter-widgets/controls",
            "_model_module_version": "1.5.0",
            "_model_name": "ProgressStyleModel",
            "_view_count": null,
            "_view_module": "@jupyter-widgets/base",
            "_view_module_version": "1.2.0",
            "_view_name": "StyleView",
            "bar_color": null,
            "description_width": ""
          }
        },
        "d82aa3407504494cb1e96aee2fcba0a5": {
          "model_module": "@jupyter-widgets/base",
          "model_name": "LayoutModel",
          "model_module_version": "1.2.0",
          "state": {
            "_model_module": "@jupyter-widgets/base",
            "_model_module_version": "1.2.0",
            "_model_name": "LayoutModel",
            "_view_count": null,
            "_view_module": "@jupyter-widgets/base",
            "_view_module_version": "1.2.0",
            "_view_name": "LayoutView",
            "align_content": null,
            "align_items": null,
            "align_self": null,
            "border": null,
            "bottom": null,
            "display": null,
            "flex": null,
            "flex_flow": null,
            "grid_area": null,
            "grid_auto_columns": null,
            "grid_auto_flow": null,
            "grid_auto_rows": null,
            "grid_column": null,
            "grid_gap": null,
            "grid_row": null,
            "grid_template_areas": null,
            "grid_template_columns": null,
            "grid_template_rows": null,
            "height": null,
            "justify_content": null,
            "justify_items": null,
            "left": null,
            "margin": null,
            "max_height": null,
            "max_width": null,
            "min_height": null,
            "min_width": null,
            "object_fit": null,
            "object_position": null,
            "order": null,
            "overflow": null,
            "overflow_x": null,
            "overflow_y": null,
            "padding": null,
            "right": null,
            "top": null,
            "visibility": null,
            "width": null
          }
        },
        "9171fe3b98c8403a8ae9c5c950d93090": {
          "model_module": "@jupyter-widgets/controls",
          "model_name": "DescriptionStyleModel",
          "model_module_version": "1.5.0",
          "state": {
            "_model_module": "@jupyter-widgets/controls",
            "_model_module_version": "1.5.0",
            "_model_name": "DescriptionStyleModel",
            "_view_count": null,
            "_view_module": "@jupyter-widgets/base",
            "_view_module_version": "1.2.0",
            "_view_name": "StyleView",
            "description_width": ""
          }
        },
        "749a55ab58244eaa8e16363da08df64b": {
          "model_module": "@jupyter-widgets/controls",
          "model_name": "HBoxModel",
          "model_module_version": "1.5.0",
          "state": {
            "_dom_classes": [],
            "_model_module": "@jupyter-widgets/controls",
            "_model_module_version": "1.5.0",
            "_model_name": "HBoxModel",
            "_view_count": null,
            "_view_module": "@jupyter-widgets/controls",
            "_view_module_version": "1.5.0",
            "_view_name": "HBoxView",
            "box_style": "",
            "children": [
              "IPY_MODEL_0142ac9b727f456b87c84fe5f07ed886",
              "IPY_MODEL_17fd6df1a42c4ff88fba4121c95b2b26",
              "IPY_MODEL_7086e800bd724df18cbe5ef20d3d71ec"
            ],
            "layout": "IPY_MODEL_01b9f4ea3cae48048f0a8d27b40d34dc"
          }
        },
        "0142ac9b727f456b87c84fe5f07ed886": {
          "model_module": "@jupyter-widgets/controls",
          "model_name": "HTMLModel",
          "model_module_version": "1.5.0",
          "state": {
            "_dom_classes": [],
            "_model_module": "@jupyter-widgets/controls",
            "_model_module_version": "1.5.0",
            "_model_name": "HTMLModel",
            "_view_count": null,
            "_view_module": "@jupyter-widgets/controls",
            "_view_module_version": "1.5.0",
            "_view_name": "HTMLView",
            "description": "",
            "description_tooltip": null,
            "layout": "IPY_MODEL_1c74d654fb574dd882c63a7d0d53f557",
            "placeholder": "​",
            "style": "IPY_MODEL_930643b15e614df5b18788d86d226255",
            "value": "added_tokens.json: 100%"
          }
        },
        "17fd6df1a42c4ff88fba4121c95b2b26": {
          "model_module": "@jupyter-widgets/controls",
          "model_name": "FloatProgressModel",
          "model_module_version": "1.5.0",
          "state": {
            "_dom_classes": [],
            "_model_module": "@jupyter-widgets/controls",
            "_model_module_version": "1.5.0",
            "_model_name": "FloatProgressModel",
            "_view_count": null,
            "_view_module": "@jupyter-widgets/controls",
            "_view_module_version": "1.5.0",
            "_view_name": "ProgressView",
            "bar_style": "success",
            "description": "",
            "description_tooltip": null,
            "layout": "IPY_MODEL_2c180c75536949449e7522f15b164d2e",
            "max": 306,
            "min": 0,
            "orientation": "horizontal",
            "style": "IPY_MODEL_e019f1d0e52f4412a555fdda993538d6",
            "value": 306
          }
        },
        "7086e800bd724df18cbe5ef20d3d71ec": {
          "model_module": "@jupyter-widgets/controls",
          "model_name": "HTMLModel",
          "model_module_version": "1.5.0",
          "state": {
            "_dom_classes": [],
            "_model_module": "@jupyter-widgets/controls",
            "_model_module_version": "1.5.0",
            "_model_name": "HTMLModel",
            "_view_count": null,
            "_view_module": "@jupyter-widgets/controls",
            "_view_module_version": "1.5.0",
            "_view_name": "HTMLView",
            "description": "",
            "description_tooltip": null,
            "layout": "IPY_MODEL_eb5fed79077946e6af8fd7fc146bbc1d",
            "placeholder": "​",
            "style": "IPY_MODEL_2e7c3268a5ac4a689b3c11863f462f42",
            "value": " 306/306 [00:00&lt;00:00, 13.7kB/s]"
          }
        },
        "01b9f4ea3cae48048f0a8d27b40d34dc": {
          "model_module": "@jupyter-widgets/base",
          "model_name": "LayoutModel",
          "model_module_version": "1.2.0",
          "state": {
            "_model_module": "@jupyter-widgets/base",
            "_model_module_version": "1.2.0",
            "_model_name": "LayoutModel",
            "_view_count": null,
            "_view_module": "@jupyter-widgets/base",
            "_view_module_version": "1.2.0",
            "_view_name": "LayoutView",
            "align_content": null,
            "align_items": null,
            "align_self": null,
            "border": null,
            "bottom": null,
            "display": null,
            "flex": null,
            "flex_flow": null,
            "grid_area": null,
            "grid_auto_columns": null,
            "grid_auto_flow": null,
            "grid_auto_rows": null,
            "grid_column": null,
            "grid_gap": null,
            "grid_row": null,
            "grid_template_areas": null,
            "grid_template_columns": null,
            "grid_template_rows": null,
            "height": null,
            "justify_content": null,
            "justify_items": null,
            "left": null,
            "margin": null,
            "max_height": null,
            "max_width": null,
            "min_height": null,
            "min_width": null,
            "object_fit": null,
            "object_position": null,
            "order": null,
            "overflow": null,
            "overflow_x": null,
            "overflow_y": null,
            "padding": null,
            "right": null,
            "top": null,
            "visibility": null,
            "width": null
          }
        },
        "1c74d654fb574dd882c63a7d0d53f557": {
          "model_module": "@jupyter-widgets/base",
          "model_name": "LayoutModel",
          "model_module_version": "1.2.0",
          "state": {
            "_model_module": "@jupyter-widgets/base",
            "_model_module_version": "1.2.0",
            "_model_name": "LayoutModel",
            "_view_count": null,
            "_view_module": "@jupyter-widgets/base",
            "_view_module_version": "1.2.0",
            "_view_name": "LayoutView",
            "align_content": null,
            "align_items": null,
            "align_self": null,
            "border": null,
            "bottom": null,
            "display": null,
            "flex": null,
            "flex_flow": null,
            "grid_area": null,
            "grid_auto_columns": null,
            "grid_auto_flow": null,
            "grid_auto_rows": null,
            "grid_column": null,
            "grid_gap": null,
            "grid_row": null,
            "grid_template_areas": null,
            "grid_template_columns": null,
            "grid_template_rows": null,
            "height": null,
            "justify_content": null,
            "justify_items": null,
            "left": null,
            "margin": null,
            "max_height": null,
            "max_width": null,
            "min_height": null,
            "min_width": null,
            "object_fit": null,
            "object_position": null,
            "order": null,
            "overflow": null,
            "overflow_x": null,
            "overflow_y": null,
            "padding": null,
            "right": null,
            "top": null,
            "visibility": null,
            "width": null
          }
        },
        "930643b15e614df5b18788d86d226255": {
          "model_module": "@jupyter-widgets/controls",
          "model_name": "DescriptionStyleModel",
          "model_module_version": "1.5.0",
          "state": {
            "_model_module": "@jupyter-widgets/controls",
            "_model_module_version": "1.5.0",
            "_model_name": "DescriptionStyleModel",
            "_view_count": null,
            "_view_module": "@jupyter-widgets/base",
            "_view_module_version": "1.2.0",
            "_view_name": "StyleView",
            "description_width": ""
          }
        },
        "2c180c75536949449e7522f15b164d2e": {
          "model_module": "@jupyter-widgets/base",
          "model_name": "LayoutModel",
          "model_module_version": "1.2.0",
          "state": {
            "_model_module": "@jupyter-widgets/base",
            "_model_module_version": "1.2.0",
            "_model_name": "LayoutModel",
            "_view_count": null,
            "_view_module": "@jupyter-widgets/base",
            "_view_module_version": "1.2.0",
            "_view_name": "LayoutView",
            "align_content": null,
            "align_items": null,
            "align_self": null,
            "border": null,
            "bottom": null,
            "display": null,
            "flex": null,
            "flex_flow": null,
            "grid_area": null,
            "grid_auto_columns": null,
            "grid_auto_flow": null,
            "grid_auto_rows": null,
            "grid_column": null,
            "grid_gap": null,
            "grid_row": null,
            "grid_template_areas": null,
            "grid_template_columns": null,
            "grid_template_rows": null,
            "height": null,
            "justify_content": null,
            "justify_items": null,
            "left": null,
            "margin": null,
            "max_height": null,
            "max_width": null,
            "min_height": null,
            "min_width": null,
            "object_fit": null,
            "object_position": null,
            "order": null,
            "overflow": null,
            "overflow_x": null,
            "overflow_y": null,
            "padding": null,
            "right": null,
            "top": null,
            "visibility": null,
            "width": null
          }
        },
        "e019f1d0e52f4412a555fdda993538d6": {
          "model_module": "@jupyter-widgets/controls",
          "model_name": "ProgressStyleModel",
          "model_module_version": "1.5.0",
          "state": {
            "_model_module": "@jupyter-widgets/controls",
            "_model_module_version": "1.5.0",
            "_model_name": "ProgressStyleModel",
            "_view_count": null,
            "_view_module": "@jupyter-widgets/base",
            "_view_module_version": "1.2.0",
            "_view_name": "StyleView",
            "bar_color": null,
            "description_width": ""
          }
        },
        "eb5fed79077946e6af8fd7fc146bbc1d": {
          "model_module": "@jupyter-widgets/base",
          "model_name": "LayoutModel",
          "model_module_version": "1.2.0",
          "state": {
            "_model_module": "@jupyter-widgets/base",
            "_model_module_version": "1.2.0",
            "_model_name": "LayoutModel",
            "_view_count": null,
            "_view_module": "@jupyter-widgets/base",
            "_view_module_version": "1.2.0",
            "_view_name": "LayoutView",
            "align_content": null,
            "align_items": null,
            "align_self": null,
            "border": null,
            "bottom": null,
            "display": null,
            "flex": null,
            "flex_flow": null,
            "grid_area": null,
            "grid_auto_columns": null,
            "grid_auto_flow": null,
            "grid_auto_rows": null,
            "grid_column": null,
            "grid_gap": null,
            "grid_row": null,
            "grid_template_areas": null,
            "grid_template_columns": null,
            "grid_template_rows": null,
            "height": null,
            "justify_content": null,
            "justify_items": null,
            "left": null,
            "margin": null,
            "max_height": null,
            "max_width": null,
            "min_height": null,
            "min_width": null,
            "object_fit": null,
            "object_position": null,
            "order": null,
            "overflow": null,
            "overflow_x": null,
            "overflow_y": null,
            "padding": null,
            "right": null,
            "top": null,
            "visibility": null,
            "width": null
          }
        },
        "2e7c3268a5ac4a689b3c11863f462f42": {
          "model_module": "@jupyter-widgets/controls",
          "model_name": "DescriptionStyleModel",
          "model_module_version": "1.5.0",
          "state": {
            "_model_module": "@jupyter-widgets/controls",
            "_model_module_version": "1.5.0",
            "_model_name": "DescriptionStyleModel",
            "_view_count": null,
            "_view_module": "@jupyter-widgets/base",
            "_view_module_version": "1.2.0",
            "_view_name": "StyleView",
            "description_width": ""
          }
        },
        "24edacfb8dbd4f8e8dc369cc9ebf2ea7": {
          "model_module": "@jupyter-widgets/controls",
          "model_name": "HBoxModel",
          "model_module_version": "1.5.0",
          "state": {
            "_dom_classes": [],
            "_model_module": "@jupyter-widgets/controls",
            "_model_module_version": "1.5.0",
            "_model_name": "HBoxModel",
            "_view_count": null,
            "_view_module": "@jupyter-widgets/controls",
            "_view_module_version": "1.5.0",
            "_view_name": "HBoxView",
            "box_style": "",
            "children": [
              "IPY_MODEL_f46020b69752410daf6775556813df35",
              "IPY_MODEL_2b7fa3aaade440bbb322078ba9547320",
              "IPY_MODEL_93b6dc19ffff4a91baf68a76b2bbf2f6"
            ],
            "layout": "IPY_MODEL_38989d2f20304b93b983424b671702f4"
          }
        },
        "f46020b69752410daf6775556813df35": {
          "model_module": "@jupyter-widgets/controls",
          "model_name": "HTMLModel",
          "model_module_version": "1.5.0",
          "state": {
            "_dom_classes": [],
            "_model_module": "@jupyter-widgets/controls",
            "_model_module_version": "1.5.0",
            "_model_name": "HTMLModel",
            "_view_count": null,
            "_view_module": "@jupyter-widgets/controls",
            "_view_module_version": "1.5.0",
            "_view_name": "HTMLView",
            "description": "",
            "description_tooltip": null,
            "layout": "IPY_MODEL_13fb5460ee5d452b9600462f05475203",
            "placeholder": "​",
            "style": "IPY_MODEL_266b7dacc5034cf6ab058b87845f8545",
            "value": "special_tokens_map.json: 100%"
          }
        },
        "2b7fa3aaade440bbb322078ba9547320": {
          "model_module": "@jupyter-widgets/controls",
          "model_name": "FloatProgressModel",
          "model_module_version": "1.5.0",
          "state": {
            "_dom_classes": [],
            "_model_module": "@jupyter-widgets/controls",
            "_model_module_version": "1.5.0",
            "_model_name": "FloatProgressModel",
            "_view_count": null,
            "_view_module": "@jupyter-widgets/controls",
            "_view_module_version": "1.5.0",
            "_view_name": "ProgressView",
            "bar_style": "success",
            "description": "",
            "description_tooltip": null,
            "layout": "IPY_MODEL_7d3d8f699d3144589c4a6f0de3db6d6d",
            "max": 665,
            "min": 0,
            "orientation": "horizontal",
            "style": "IPY_MODEL_ec9a3fe16af34f9f81333fe449e56ee4",
            "value": 665
          }
        },
        "93b6dc19ffff4a91baf68a76b2bbf2f6": {
          "model_module": "@jupyter-widgets/controls",
          "model_name": "HTMLModel",
          "model_module_version": "1.5.0",
          "state": {
            "_dom_classes": [],
            "_model_module": "@jupyter-widgets/controls",
            "_model_module_version": "1.5.0",
            "_model_name": "HTMLModel",
            "_view_count": null,
            "_view_module": "@jupyter-widgets/controls",
            "_view_module_version": "1.5.0",
            "_view_name": "HTMLView",
            "description": "",
            "description_tooltip": null,
            "layout": "IPY_MODEL_15527fa165bc425bb1bc307ac967a800",
            "placeholder": "​",
            "style": "IPY_MODEL_944b2a280dde4590bd17d26061ebe7ac",
            "value": " 665/665 [00:00&lt;00:00, 17.2kB/s]"
          }
        },
        "38989d2f20304b93b983424b671702f4": {
          "model_module": "@jupyter-widgets/base",
          "model_name": "LayoutModel",
          "model_module_version": "1.2.0",
          "state": {
            "_model_module": "@jupyter-widgets/base",
            "_model_module_version": "1.2.0",
            "_model_name": "LayoutModel",
            "_view_count": null,
            "_view_module": "@jupyter-widgets/base",
            "_view_module_version": "1.2.0",
            "_view_name": "LayoutView",
            "align_content": null,
            "align_items": null,
            "align_self": null,
            "border": null,
            "bottom": null,
            "display": null,
            "flex": null,
            "flex_flow": null,
            "grid_area": null,
            "grid_auto_columns": null,
            "grid_auto_flow": null,
            "grid_auto_rows": null,
            "grid_column": null,
            "grid_gap": null,
            "grid_row": null,
            "grid_template_areas": null,
            "grid_template_columns": null,
            "grid_template_rows": null,
            "height": null,
            "justify_content": null,
            "justify_items": null,
            "left": null,
            "margin": null,
            "max_height": null,
            "max_width": null,
            "min_height": null,
            "min_width": null,
            "object_fit": null,
            "object_position": null,
            "order": null,
            "overflow": null,
            "overflow_x": null,
            "overflow_y": null,
            "padding": null,
            "right": null,
            "top": null,
            "visibility": null,
            "width": null
          }
        },
        "13fb5460ee5d452b9600462f05475203": {
          "model_module": "@jupyter-widgets/base",
          "model_name": "LayoutModel",
          "model_module_version": "1.2.0",
          "state": {
            "_model_module": "@jupyter-widgets/base",
            "_model_module_version": "1.2.0",
            "_model_name": "LayoutModel",
            "_view_count": null,
            "_view_module": "@jupyter-widgets/base",
            "_view_module_version": "1.2.0",
            "_view_name": "LayoutView",
            "align_content": null,
            "align_items": null,
            "align_self": null,
            "border": null,
            "bottom": null,
            "display": null,
            "flex": null,
            "flex_flow": null,
            "grid_area": null,
            "grid_auto_columns": null,
            "grid_auto_flow": null,
            "grid_auto_rows": null,
            "grid_column": null,
            "grid_gap": null,
            "grid_row": null,
            "grid_template_areas": null,
            "grid_template_columns": null,
            "grid_template_rows": null,
            "height": null,
            "justify_content": null,
            "justify_items": null,
            "left": null,
            "margin": null,
            "max_height": null,
            "max_width": null,
            "min_height": null,
            "min_width": null,
            "object_fit": null,
            "object_position": null,
            "order": null,
            "overflow": null,
            "overflow_x": null,
            "overflow_y": null,
            "padding": null,
            "right": null,
            "top": null,
            "visibility": null,
            "width": null
          }
        },
        "266b7dacc5034cf6ab058b87845f8545": {
          "model_module": "@jupyter-widgets/controls",
          "model_name": "DescriptionStyleModel",
          "model_module_version": "1.5.0",
          "state": {
            "_model_module": "@jupyter-widgets/controls",
            "_model_module_version": "1.5.0",
            "_model_name": "DescriptionStyleModel",
            "_view_count": null,
            "_view_module": "@jupyter-widgets/base",
            "_view_module_version": "1.2.0",
            "_view_name": "StyleView",
            "description_width": ""
          }
        },
        "7d3d8f699d3144589c4a6f0de3db6d6d": {
          "model_module": "@jupyter-widgets/base",
          "model_name": "LayoutModel",
          "model_module_version": "1.2.0",
          "state": {
            "_model_module": "@jupyter-widgets/base",
            "_model_module_version": "1.2.0",
            "_model_name": "LayoutModel",
            "_view_count": null,
            "_view_module": "@jupyter-widgets/base",
            "_view_module_version": "1.2.0",
            "_view_name": "LayoutView",
            "align_content": null,
            "align_items": null,
            "align_self": null,
            "border": null,
            "bottom": null,
            "display": null,
            "flex": null,
            "flex_flow": null,
            "grid_area": null,
            "grid_auto_columns": null,
            "grid_auto_flow": null,
            "grid_auto_rows": null,
            "grid_column": null,
            "grid_gap": null,
            "grid_row": null,
            "grid_template_areas": null,
            "grid_template_columns": null,
            "grid_template_rows": null,
            "height": null,
            "justify_content": null,
            "justify_items": null,
            "left": null,
            "margin": null,
            "max_height": null,
            "max_width": null,
            "min_height": null,
            "min_width": null,
            "object_fit": null,
            "object_position": null,
            "order": null,
            "overflow": null,
            "overflow_x": null,
            "overflow_y": null,
            "padding": null,
            "right": null,
            "top": null,
            "visibility": null,
            "width": null
          }
        },
        "ec9a3fe16af34f9f81333fe449e56ee4": {
          "model_module": "@jupyter-widgets/controls",
          "model_name": "ProgressStyleModel",
          "model_module_version": "1.5.0",
          "state": {
            "_model_module": "@jupyter-widgets/controls",
            "_model_module_version": "1.5.0",
            "_model_name": "ProgressStyleModel",
            "_view_count": null,
            "_view_module": "@jupyter-widgets/base",
            "_view_module_version": "1.2.0",
            "_view_name": "StyleView",
            "bar_color": null,
            "description_width": ""
          }
        },
        "15527fa165bc425bb1bc307ac967a800": {
          "model_module": "@jupyter-widgets/base",
          "model_name": "LayoutModel",
          "model_module_version": "1.2.0",
          "state": {
            "_model_module": "@jupyter-widgets/base",
            "_model_module_version": "1.2.0",
            "_model_name": "LayoutModel",
            "_view_count": null,
            "_view_module": "@jupyter-widgets/base",
            "_view_module_version": "1.2.0",
            "_view_name": "LayoutView",
            "align_content": null,
            "align_items": null,
            "align_self": null,
            "border": null,
            "bottom": null,
            "display": null,
            "flex": null,
            "flex_flow": null,
            "grid_area": null,
            "grid_auto_columns": null,
            "grid_auto_flow": null,
            "grid_auto_rows": null,
            "grid_column": null,
            "grid_gap": null,
            "grid_row": null,
            "grid_template_areas": null,
            "grid_template_columns": null,
            "grid_template_rows": null,
            "height": null,
            "justify_content": null,
            "justify_items": null,
            "left": null,
            "margin": null,
            "max_height": null,
            "max_width": null,
            "min_height": null,
            "min_width": null,
            "object_fit": null,
            "object_position": null,
            "order": null,
            "overflow": null,
            "overflow_x": null,
            "overflow_y": null,
            "padding": null,
            "right": null,
            "top": null,
            "visibility": null,
            "width": null
          }
        },
        "944b2a280dde4590bd17d26061ebe7ac": {
          "model_module": "@jupyter-widgets/controls",
          "model_name": "DescriptionStyleModel",
          "model_module_version": "1.5.0",
          "state": {
            "_model_module": "@jupyter-widgets/controls",
            "_model_module_version": "1.5.0",
            "_model_name": "DescriptionStyleModel",
            "_view_count": null,
            "_view_module": "@jupyter-widgets/base",
            "_view_module_version": "1.2.0",
            "_view_name": "StyleView",
            "description_width": ""
          }
        }
      }
    }
  },
  "cells": [
    {
      "cell_type": "code",
      "source": [
        "#copied from https://github.com/aburkov/theLMbook/blob/main/news_decoder_language_model.ipynb\n",
        "# Import required libraries\n",
        "import os               # For file and path operations (check_file_exists, extract_dataset)\n",
        "import urllib.request   # For downloading dataset files from URLs\n",
        "import tarfile          # For extracting .tar.gz dataset archives\n",
        "import torch            # Main PyTorch library for tensor operations and deep learning\n",
        "import torch.nn as nn   # Neural network modules, layers, and utilities\n",
        "import torch.nn.functional as F  # For softmax\n",
        "from torch.utils.data import DataLoader, IterableDataset  # For efficient data loading\n",
        "import random           # For setting random seeds\n",
        "from tqdm import tqdm   # For progress bars\n",
        "import math             # For computing perplexity using exp()\n",
        "import re               # For preprocessing text (replacing numbers with placeholders)\n",
        "from transformers import AutoTokenizer  # For loading pre-trained tokenizer\n",
        "#import tempfile         # For temporary file handling during extraction\n",
        "#import shutil           # For file operations during extraction\n",
        "\n",
        "# ----------------------------\n",
        "# Utility Functions\n",
        "# ----------------------------\n",
        "\n",
        "def set_seed(seed):\n",
        "    \"\"\"\n",
        "    Sets random seeds for reproducibility across different Python libraries.\n",
        "    This ensures that random operations give the same results across runs.\n",
        "\n",
        "    Args:\n",
        "        seed (int): Seed value for random number generation\n",
        "    \"\"\"\n",
        "    # Set seed for Python's built-in random module\n",
        "    random.seed(seed)\n",
        "    # Set seed for PyTorch's CPU random number generator\n",
        "    torch.manual_seed(seed)\n",
        "    # Set seed for PyTorch's GPU random number generator\n",
        "    torch.cuda.manual_seed_all(seed)\n",
        "    # Requests cuDNN to use deterministic algorithms when possible\n",
        "    # Note: This may impact performance and might not guarantee determinism in all cases\n",
        "    torch.backends.cudnn.deterministic = True\n",
        "    # Disables cuDNN's auto-tuner which finds the best algorithm for your specific input size\n",
        "    # Ensures consistent behavior but might be slower as it doesn't optimize for input sizes\n",
        "    torch.backends.cudnn.benchmark = False\n",
        "\n",
        "# ----------------------------\n",
        "# Dataset Class\n",
        "# ----------------------------\n",
        "\n",
        "class IterableTextDataset(IterableDataset):\n",
        "    \"\"\"\n",
        "    An iterable dataset for processing text data in a memory-efficient way.\n",
        "    Instead of loading all data into memory, it streams data from disk.\n",
        "    Inherits from PyTorch's IterableDataset for streaming support.\n",
        "\n",
        "    Args:\n",
        "        file_path (str): Path to the text file containing sentences\n",
        "        tokenizer: Tokenizer object for converting text to tokens\n",
        "        max_length (int): Maximum sequence length to process (default: 30)\n",
        "    \"\"\"\n",
        "    def __init__(self, file_path, tokenizer, max_length=30):\n",
        "        # Store file path for reading data\n",
        "        self.file_path = file_path\n",
        "        # Store tokenizer for text processing\n",
        "        self.tokenizer = tokenizer\n",
        "        # Set maximum sequence length to truncate long sequences\n",
        "        self.max_length = max_length\n",
        "        self._count_sentences()\n",
        "\n",
        "    def __iter__(self):\n",
        "        \"\"\"\n",
        "        Creates an iterator over the dataset.\n",
        "        This method is called when iterating over the dataset.\n",
        "\n",
        "        Yields:\n",
        "            tuple: (input_sequence, target_sequence) pairs for language modeling\n",
        "                  input_sequence is the sequence up to the last token\n",
        "                  target_sequence is the sequence shifted one position right\n",
        "        \"\"\"\n",
        "        # Open file in read mode with UTF-8 encoding\n",
        "        with open(self.file_path, 'r', encoding=\"utf-8\") as f:\n",
        "            # Process each line (sentence) in the file\n",
        "            for line in f:\n",
        "                # Remove leading/trailing whitespace\n",
        "                sentence = line.strip()\n",
        "                # Replace all numbers with ### placeholder\n",
        "                # This reduces vocabulary size and helps model generalize\n",
        "                sentence = re.sub(r\"\\d+\", \"###\", sentence)\n",
        "\n",
        "                # Convert sentence to token IDs\n",
        "                encoded_sentence = self.tokenizer.encode(\n",
        "                    sentence,\n",
        "                    max_length=self.max_length,\n",
        "                    truncation=True\n",
        "                )\n",
        "\n",
        "                # Only use sequences with at least 2 tokens\n",
        "                # (need at least one input and one target token)\n",
        "                if len(encoded_sentence) >= 2:\n",
        "                    # Input is all tokens except last\n",
        "                    input_seq = encoded_sentence[:-1]\n",
        "                    # Target is all tokens except first\n",
        "                    target_seq = encoded_sentence[1:]\n",
        "                    # Convert to PyTorch tensors and yield\n",
        "                    yield torch.tensor(input_seq, dtype=torch.long), torch.tensor(target_seq, dtype=torch.long)\n",
        "    def __len__(self):\n",
        "        return self._num_sentences\n",
        "\n",
        "    def _count_sentences(self):\n",
        "        print(f\"\\nCounting sentences in {self.file_path}...\")\n",
        "        with open(self.file_path, 'r', encoding=\"utf-8\") as f:\n",
        "            self._num_sentences = sum(1 for _ in f)\n",
        "        print(f\"\\nFound {self._num_sentences} sentences in {self.file_path}.\")\n",
        "\n",
        "## ----------------------------\n",
        "## Download and prepare data\n",
        "## ----------------------------\n",
        "\n",
        "def create_collate_fn(tokenizer):\n",
        "    \"\"\"\n",
        "    Creates a collate function for batching sequences of different lengths.\n",
        "    This function pads shorter sequences to match the longest sequence in the batch.\n",
        "\n",
        "    Args:\n",
        "        tokenizer: Tokenizer object containing padding token information\n",
        "\n",
        "    Returns:\n",
        "        function: Collate function that handles padding in batches\n",
        "    \"\"\"\n",
        "    def collate_fn(batch):\n",
        "        # Separate inputs and targets from batch\n",
        "        input_seqs, target_seqs = zip(*batch)\n",
        "        # Get padding token ID from tokenizer\n",
        "        pad_index = tokenizer.pad_token_id\n",
        "        # Pad input sequences to same length\n",
        "        input_padded = nn.utils.rnn.pad_sequence(input_seqs, batch_first=True, padding_value=pad_index)\n",
        "        # Pad target sequences to same length\n",
        "        target_padded = nn.utils.rnn.pad_sequence(target_seqs, batch_first=True, padding_value=pad_index)\n",
        "        return input_padded, target_padded\n",
        "    return collate_fn\n",
        "\n",
        "def check_file_exists(filename):\n",
        "    \"\"\"\n",
        "    Checks if a file exists in the current directory.\n",
        "    Args:\n",
        "        filename (str): Name of the file to check\n",
        "    Returns:\n",
        "        bool: True if file exists, False otherwise\n",
        "    \"\"\"\n",
        "    return os.path.exists(filename)\n",
        "\n",
        "def download_file(url):\n",
        "    \"\"\"\n",
        "    Downloads a file from the given URL if it doesn't exist locally.\n",
        "    Uses a custom User-Agent to help prevent download blocks.\n",
        "\n",
        "    Args:\n",
        "        url (str): URL of the file to download\n",
        "    Returns:\n",
        "        str: Name of the downloaded file (\"news.tar.gz\")\n",
        "    \"\"\"\n",
        "    # Always use news.tar.gz as the filename, regardless of URL\n",
        "    filename = \"news.tar.gz\"\n",
        "\n",
        "    if not check_file_exists(filename):\n",
        "        print(f\"\\nDownloading dataset from {url}...\")\n",
        "        req = urllib.request.Request(\n",
        "            url,\n",
        "            headers={\"User-Agent\": \"Mozilla/5.0\"}\n",
        "        )\n",
        "        with urllib.request.urlopen(req) as response:\n",
        "            with open(filename, \"wb\") as out_file:\n",
        "                out_file.write(response.read())\n",
        "        print(\"\\nDownload completed.\")\n",
        "    else:\n",
        "        print(f\"\\n{filename} already downloaded.\")\n",
        "    return filename\n",
        "\n",
        "def is_within_directory(directory, target):\n",
        "    \"\"\"\n",
        "    Checks if a target path is within a specified directory by comparing absolute paths.\n",
        "\n",
        "    Args:\n",
        "        directory (str): Base directory path\n",
        "        target (str): Target path to check\n",
        "    Returns:\n",
        "        bool: True if target's absolute path starts with directory's absolute path\n",
        "    \"\"\"\n",
        "    abs_directory = os.path.abspath(directory)\n",
        "    abs_target = os.path.abspath(target)\n",
        "    prefix = os.path.commonprefix([abs_directory, abs_target])\n",
        "    return prefix == abs_directory\n",
        "\n",
        "def extract_dataset(filename):\n",
        "    \"\"\"\n",
        "    Extracts train.txt and test.txt from the downloaded archive.\n",
        "    Includes debug information about archive contents.\n",
        "\n",
        "    Args:\n",
        "        filename (str): Name of the archive file\n",
        "    Returns:\n",
        "        tuple: Paths to extracted train and test files\n",
        "    \"\"\"\n",
        "    data_dir = os.path.join(os.path.dirname(filename), \"news\")\n",
        "    train_path = os.path.join(data_dir, \"train.txt\")\n",
        "    test_path = os.path.join(data_dir, \"test.txt\")\n",
        "\n",
        "    if check_file_exists(train_path) and check_file_exists(test_path):\n",
        "        print(\"\\nData files already extracted.\")\n",
        "        return train_path, test_path\n",
        "\n",
        "    print(\"\\nListing archive contents:\")\n",
        "    with tarfile.open(filename, \"r:gz\") as tar:\n",
        "        for member in tar.getmembers():\n",
        "            print(f\"\\nArchive member: {member.name}\")\n",
        "\n",
        "        print(\"\\nExtracting files...\")\n",
        "        # Extract to current directory first\n",
        "        tar.extractall('.')\n",
        "\n",
        "    if not (check_file_exists(train_path) and check_file_exists(test_path)):\n",
        "        raise FileNotFoundError(f\"\\nRequired files not found in the archive. Please check the paths above.\")\n",
        "\n",
        "    print(\"\\nExtraction completed.\")\n",
        "    return train_path, test_path\n",
        "\n",
        "def create_datasets(train_file, test_file, tokenizer, max_length=30):\n",
        "    \"\"\"\n",
        "    Creates IterableTextDataset objects for training and testing.\n",
        "    These datasets will stream data from disk instead of loading it all into memory.\n",
        "\n",
        "    Args:\n",
        "        train_file (str): Path to training data file\n",
        "        test_file (str): Path to test data file\n",
        "        tokenizer: Tokenizer object for text processing\n",
        "\n",
        "    Returns:\n",
        "        tuple: (train_dataset, test_dataset) - Dataset objects for training and testing\n",
        "    \"\"\"\n",
        "    # Create training dataset\n",
        "    train_dataset = IterableTextDataset(train_file, tokenizer, max_length)\n",
        "    # Create test dataset\n",
        "    test_dataset = IterableTextDataset(test_file, tokenizer, max_length)\n",
        "\n",
        "    # Print dataset sizes\n",
        "    print(f\"\\nTraining sentences: {len(train_dataset)}\")\n",
        "    print(f\"\\nTest sentences: {len(test_dataset)}\")\n",
        "\n",
        "    return train_dataset, test_dataset\n",
        "\n",
        "def create_dataloaders(train_dataset, test_dataset, batch_size, collate_fn):\n",
        "    \"\"\"\n",
        "    Creates DataLoader objects for efficient data iteration.\n",
        "\n",
        "    Args:\n",
        "        train_dataset: Training dataset\n",
        "        test_dataset: Test dataset\n",
        "        batch_size (int): Number of sequences per batch\n",
        "        collate_fn: Function to handle padding and batch creation\n",
        "\n",
        "    Returns:\n",
        "        tuple: (train_dataloader, test_dataloader) - DataLoader objects for\n",
        "               iterating over batches of data with proper padding\n",
        "    \"\"\"\n",
        "    # Create training data loader\n",
        "    train_dataloader = DataLoader(\n",
        "        train_dataset,\n",
        "        batch_size=batch_size,\n",
        "        collate_fn=collate_fn,    # Function to handle padding\n",
        "        num_workers=0             # Number of worker processes (0 = single process)\n",
        "    )\n",
        "    # Create test data loader\n",
        "    test_dataloader = DataLoader(\n",
        "        test_dataset,\n",
        "        batch_size=batch_size,\n",
        "        collate_fn=collate_fn,\n",
        "        num_workers=0\n",
        "    )\n",
        "    return train_dataloader, test_dataloader\n",
        "\n",
        "def download_and_prepare_data(url, batch_size, tokenizer, max_length=30):\n",
        "    \"\"\"\n",
        "    Main function to handle the complete data preparation pipeline.\n",
        "    Downloads data, extracts it, and creates necessary dataset objects.\n",
        "\n",
        "    Args:\n",
        "        url (str): URL where the dataset archive can be downloaded\n",
        "        batch_size (int): Batch size for data loading\n",
        "        tokenizer: Tokenizer object for text processing\n",
        "        max_length (int): Maximum sequence length for tokenization (default: 30)\n",
        "\n",
        "    Returns:\n",
        "        tuple: (train_dataloader, test_dataloader) - Ready-to-use data loaders\n",
        "    \"\"\"\n",
        "    # Step 1: Download dataset archive from URL\n",
        "    filename = download_file(url)\n",
        "\n",
        "    # Step 2: Extract training and test files from archive\n",
        "    train_file, test_file = extract_dataset(filename)\n",
        "\n",
        "    # Step 3: Create dataset objects for streaming data\n",
        "    train_dataset, test_dataset = create_datasets(train_file, test_file, tokenizer, max_length)\n",
        "\n",
        "    # Step 4: Create function to handle batch creation\n",
        "    collate_fn = create_collate_fn(tokenizer)\n",
        "\n",
        "    # Step 5: Create and return data loaders\n",
        "    return create_dataloaders(train_dataset, test_dataset, batch_size, collate_fn)\n",
        "\n",
        "# ----------------------------\n",
        "# Evaluation Functions\n",
        "# ----------------------------\n",
        "\n",
        "def compute_loss_and_perplexity(model, dataloader, tokenizer, criterion, device, max_sentences=1000):\n",
        "    \"\"\"\n",
        "    Evaluates model performance by computing loss and perplexity on data.\n",
        "\n",
        "    Args:\n",
        "        model (nn.Module): The language model to evaluate\n",
        "        dataloader (DataLoader): Data loader containing batched sequences\n",
        "        tokenizer: Tokenizer for handling special tokens like padding\n",
        "        criterion: Loss function (usually CrossEntropyLoss)\n",
        "        device: Device to run computation on (cuda/cpu)\n",
        "        max_sentences (int): Maximum number of sentences to evaluate (default: 1000)\n",
        "                           Limits evaluation to a subset for faster validation\n",
        "\n",
        "    Returns:\n",
        "        tuple: (average_loss, perplexity, sentences_processed)\n",
        "               - average_loss: Mean loss per token (excluding padding)\n",
        "               - perplexity: exp(average_loss), lower is better\n",
        "    \"\"\"\n",
        "    # Set model to evaluation mode (disables dropout, etc.)\n",
        "    model.eval()\n",
        "\n",
        "    # Initialize counters for loss calculation\n",
        "    total_loss = 0.0          # Accumulator for total loss across all batches\n",
        "    total_tokens = 0          # Counter for total number of tokens (excluding padding)\n",
        "    sentences_processed = 0    # Counter for number of sentences processed\n",
        "\n",
        "    # Disable gradient computation for efficiency\n",
        "    with torch.no_grad():\n",
        "        # Iterate through data with progress bar\n",
        "        for input_seq, target_seq in tqdm(dataloader, desc=\"Evaluating\", leave=False):\n",
        "            # Move input and target sequences to specified device\n",
        "            input_seq = input_seq.to(device)      # Shape: (batch_size, seq_len)\n",
        "            target_seq = target_seq.to(device)    # Shape: (batch_size, seq_len)\n",
        "\n",
        "            # Get current batch size (might be smaller for last batch)\n",
        "            batch_size_current = input_seq.size(0)\n",
        "\n",
        "            # Forward pass through the model\n",
        "            logits = model(input_seq)             # Shape: (batch_size, seq_len, vocab_size)\n",
        "\n",
        "            # Reshape logits and target for loss calculation\n",
        "            logits = logits.reshape(-1, logits.size(-1))  # Shape: (batch_size * seq_len, vocab_size)\n",
        "            target = target_seq.reshape(-1)              # Shape: (batch_size * seq_len)\n",
        "\n",
        "            # Create mask to exclude padding tokens\n",
        "            mask = target != tokenizer.pad_token_id\n",
        "\n",
        "            # Compute loss only on non-padded tokens\n",
        "            loss = criterion(logits[mask], target[mask])\n",
        "\n",
        "            # Update counters\n",
        "            loss_value = loss.item() * mask.sum().item()  # Total loss for this batch\n",
        "            total_loss += loss_value                      # Accumulate batch loss\n",
        "            total_tokens += mask.sum().item()             # Count non-padding tokens\n",
        "\n",
        "            # Update sentence counter and check if we've reached maximum\n",
        "            sentences_processed += batch_size_current\n",
        "            if sentences_processed >= max_sentences:\n",
        "                break\n",
        "\n",
        "    # Calculate final metrics\n",
        "    average_loss = total_loss / total_tokens           # Normalize loss by number of tokens\n",
        "    perplexity = math.exp(average_loss)               # Convert loss to perplexity\n",
        "\n",
        "    return average_loss, perplexity\n",
        "\n",
        "def generate_text(model, start_string, tokenizer, device, max_length=50):\n",
        "    \"\"\"\n",
        "    Generates text continuation from a given start string using greedy decoding.\n",
        "\n",
        "    Args:\n",
        "        model (nn.Module): Trained language model\n",
        "        start_string (str): Initial text to continue from\n",
        "        tokenizer: Tokenizer for text processing\n",
        "        device: Device to run generation on (cuda/cpu)\n",
        "        max_length (int): Maximum length of generated sequence\n",
        "\n",
        "    Returns:\n",
        "        str: Generated text continuation\n",
        "    \"\"\"\n",
        "    # Set model to evaluation mode to disable dropout and other training-specific behaviors\n",
        "    model.eval()\n",
        "\n",
        "    # Convert input string to token indices\n",
        "    input_indices = tokenizer.encode(start_string, add_special_tokens=False)\n",
        "\n",
        "    # Convert indices to tensor and move to specified device (GPU/CPU)\n",
        "    input_tensor = torch.tensor([input_indices], dtype=torch.long).to(device)\n",
        "\n",
        "    # Keep track of all generated tokens, starting with input sequence\n",
        "    generated_indices = input_indices.copy()\n",
        "\n",
        "    # Generate tokens until we hit max length or end-of-sequence token\n",
        "    for _ in range(max_length - len(input_indices)):\n",
        "        # Get model predictions for the entire sequence\n",
        "        logits = model(input_tensor)\n",
        "        # Only take predictions for the last token position\n",
        "        logits = logits[:, -1, :]\n",
        "\n",
        "        # Prevent the model from generating unknown tokens by setting their probability to negative infinity\n",
        "        if tokenizer.unk_token_id is not None:\n",
        "            logits[:, tokenizer.unk_token_id] = float(\"-inf\")\n",
        "\n",
        "        # Greedy decoding: select the token with highest probability\n",
        "        next_token = torch.argmax(logits, dim=-1)\n",
        "\n",
        "        # Add the chosen token to our generated sequence\n",
        "        generated_indices.append(next_token.item())\n",
        "\n",
        "        # If we generate an end-of-sequence token, stop generation\n",
        "        if next_token.item() == tokenizer.eos_token_id:\n",
        "            break\n",
        "\n",
        "        # Add the new token to input tensor for next iteration\n",
        "        input_tensor = torch.cat([input_tensor, next_token.unsqueeze(0)], dim=1)\n",
        "\n",
        "    # Convert token indices back to text, removing any special tokens\n",
        "    return tokenizer.decode(generated_indices, skip_special_tokens=True)\n",
        "\n",
        "def save_model(model, tokenizer, model_name):\n",
        "    \"\"\"\n",
        "    Saves the model state dictionary and tokenizer using the specified model name.\n",
        "\n",
        "    Args:\n",
        "        model (nn.Module): The trained model to save\n",
        "        tokenizer: The tokenizer used with the model\n",
        "        model_name (str): Name to use for the saved model files\n",
        "    \"\"\"\n",
        "    # Create the models directory if it doesn't exist\n",
        "    save_dir = os.path.join(\"models\", model_name)\n",
        "    os.makedirs(save_dir, exist_ok=True)\n",
        "\n",
        "    # Save the model state dictionary and configuration\n",
        "    model_path = os.path.join(save_dir, f\"{model_name}.pth\")\n",
        "    torch.save({\n",
        "        \"model_state_dict\": model.state_dict(),\n",
        "        \"model_config\": {\n",
        "            \"vocab_size\": len(tokenizer),\n",
        "            \"emb_dim\": model.embedding.embedding_dim,\n",
        "            \"num_heads\": len(model.layers[0].attn.heads),\n",
        "            \"num_blocks\": len(model.layers),\n",
        "            \"pad_idx\": model.embedding.padding_idx\n",
        "        }\n",
        "    }, model_path)\n",
        "\n",
        "    # Save the tokenizer\n",
        "    tokenizer_path = os.path.join(save_dir, \"tokenizer\")\n",
        "    tokenizer.save_pretrained(tokenizer_path)\n",
        "\n",
        "    print(f\"Model and tokenizer saved as '{model_name}'\")\n",
        "\n",
        "def load_model(model_name, device=None):\n",
        "    \"\"\"\n",
        "    Loads a saved model and tokenizer using the model name.\n",
        "\n",
        "    Args:\n",
        "        model_name (str): Name of the model to load\n",
        "        device: Device to load the model onto (if None, uses available device)\n",
        "\n",
        "    Returns:\n",
        "        tuple: (loaded_model, loaded_tokenizer)\n",
        "    \"\"\"\n",
        "    if device is None:\n",
        "        device = torch.device(\"cuda\" if torch.cuda.is_available() else \"cpu\")\n",
        "\n",
        "    save_dir = os.path.join(\"models\", model_name)\n",
        "\n",
        "    # Check if model exists\n",
        "    if not os.path.exists(save_dir):\n",
        "        raise FileNotFoundError(f\"No saved model found with name '{model_name}'\")\n",
        "\n",
        "    # Load the tokenizer\n",
        "    tokenizer_path = os.path.join(save_dir, \"tokenizer\")\n",
        "    tokenizer = AutoTokenizer.from_pretrained(tokenizer_path)\n",
        "\n",
        "    # Load the model state and config\n",
        "    model_path = os.path.join(save_dir, f\"{model_name}.pth\")\n",
        "    checkpoint = torch.load(model_path, map_location=device, weights_only=False)\n",
        "\n",
        "    # Create a new model instance with the saved configuration\n",
        "    model = DecoderLanguageModel(\n",
        "        vocab_size=checkpoint[\"model_config\"][\"vocab_size\"],\n",
        "        emb_dim=checkpoint[\"model_config\"][\"emb_dim\"],\n",
        "        num_heads=checkpoint[\"model_config\"][\"num_heads\"],\n",
        "        num_blocks=checkpoint[\"model_config\"][\"num_blocks\"],\n",
        "        pad_idx=checkpoint[\"model_config\"][\"pad_idx\"]\n",
        "    )\n",
        "\n",
        "    # Load the saved state dictionary\n",
        "    model.load_state_dict(checkpoint[\"model_state_dict\"])\n",
        "    model.to(device)\n",
        "    model.eval()\n",
        "\n",
        "    print(f\"\\nModel '{model_name}' loaded successfully\")\n",
        "    return model, tokenizer\n",
        "\n",
        "def get_hyperparameters():\n",
        "    emb_dim = 128\n",
        "    num_heads = 8\n",
        "    num_blocks = 2\n",
        "    batch_size = 128\n",
        "    learning_rate = 0.001\n",
        "    num_epochs = 1\n",
        "    context_size = 30\n",
        "    return emb_dim, num_heads, num_blocks, batch_size, learning_rate, num_epochs, context_size"
      ],
      "metadata": {
        "id": "ALwco6exG1dr"
      },
      "execution_count": 1,
      "outputs": []
    },
    {
      "cell_type": "markdown",
      "source": [],
      "metadata": {
        "id": "n6_oszDrsDrP"
      }
    },
    {
      "cell_type": "code",
      "source": [
        "#copied\n",
        "def initialize_weights(model):\n",
        "    \"\"\"\n",
        "    Initialize the weights of different model components using appropriate schemes.\n",
        "    Each layer type receives specialized initialization for optimal training.\n",
        "    \"\"\"\n",
        "    for module in model.modules():\n",
        "        if isinstance(module, nn.Linear):\n",
        "            # Xavier uniform initialization for linear layers\n",
        "            # Helps maintain variance across network layers\n",
        "            nn.init.xavier_uniform_(module.weight)\n",
        "            if module.bias is not None:\n",
        "                nn.init.zeros_(module.bias)  # Initialize biases to zero\n",
        "        elif isinstance(module, nn.Embedding):\n",
        "            # Initialize embedding layers with normal distribution\n",
        "            nn.init.normal_(module.weight, mean=0, std=0.02)\n",
        "            if module.padding_idx is not None:\n",
        "                # Ensure padding tokens have zero embeddings\n",
        "                with torch.no_grad():\n",
        "                    module.weight[module.padding_idx].fill_(0)\n",
        "        elif isinstance(module, AttentionHead):\n",
        "            # Initialize query, key, and value projection matrices\n",
        "            # Xavier uniform helps maintain good gradient flow\n",
        "            nn.init.xavier_uniform_(module.W_Q)\n",
        "            nn.init.xavier_uniform_(module.W_K)\n",
        "            nn.init.xavier_uniform_(module.W_V)\n",
        "        elif isinstance(module, MultiHeadAttention):\n",
        "            # Initialize output projection matrix for attention mechanism\n",
        "            nn.init.xavier_uniform_(module.W_O)\n",
        "        elif isinstance(module, DecoderLanguageModel):\n",
        "            # Initialize final output projection layer\n",
        "            nn.init.xavier_uniform_(module.output)\n",
        "        elif isinstance(module, RMSNorm):\n",
        "            # Initialize RMSNorm scale parameters to ones\n",
        "            # This starts with identity transformation\n",
        "            nn.init.ones_(module.scale)\n",
        "        elif isinstance(module, MLP):\n",
        "            # Initialize feed-forward network parameters\n",
        "            nn.init.xavier_uniform_(module.W_1)\n",
        "            nn.init.xavier_uniform_(module.W_2)\n",
        "            nn.init.zeros_(module.B_1)\n",
        "            nn.init.zeros_(module.B_2)\n",
        "\n",
        "def rope(x, theta_base=10000.0):\n",
        "    \"\"\"\n",
        "    Implements Rotary Position Embedding (RoPE) for transformer attention.\n",
        "    RoPE encodes position information through rotation matrices applied to pairs of dimensions.\n",
        "\n",
        "    Args:\n",
        "        x: Input tensor of shape (batch_size, seq_len, emb_dim)\n",
        "        theta_base: Base for computing rotation frequencies (default: 10000.0)\n",
        "\n",
        "    Returns:\n",
        "        Tensor with position information encoded through rotations\n",
        "    \"\"\"\n",
        "    batch_size, seq_len, emb_dim = x.size()\n",
        "    assert emb_dim % 2 == 0, \"Embedding dimensionality must be even for RoPE\"\n",
        "\n",
        "    # Generate sequence position indices\n",
        "    pos = torch.arange(0, seq_len, dtype=torch.float32, device=x.device)\n",
        "    pos = pos.unsqueeze(0).expand(batch_size, seq_len)\n",
        "\n",
        "    # Compute frequency bands for each dimension pair\n",
        "    # Modified: frequencies start from p=1 and use (p-1) in exponent\n",
        "    p = torch.arange(1, emb_dim // 2 + 1, dtype=torch.float32, device=x.device)\n",
        "    theta_p = 1.0 / (theta_base ** (2 * (p - 1) / emb_dim))\n",
        "\n",
        "    # Compute rotation angles for each position and frequency\n",
        "    pos = pos.unsqueeze(-1)\n",
        "    theta = pos * theta_p\n",
        "\n",
        "    # Compute rotation components\n",
        "    sin_theta = torch.sin(theta)\n",
        "    cos_theta = torch.cos(theta)\n",
        "\n",
        "    # Split input into alternating dimensions\n",
        "    x1 = x[..., 0::2]  # Dimensions at indices 0,2,4,...\n",
        "    x2 = x[..., 1::2]  # Dimensions at indices 1,3,5,...\n",
        "\n",
        "    # Apply 2D rotations to each pair\n",
        "    x_rotated_1 = x1 * cos_theta - x2 * sin_theta\n",
        "    x_rotated_2 = x1 * sin_theta + x2 * cos_theta\n",
        "\n",
        "    # Recombine rotated pairs into final output\n",
        "    x_rotated = torch.stack((x_rotated_1, x_rotated_2), dim=-1).reshape(batch_size, seq_len, emb_dim)\n",
        "\n",
        "    return x_rotated"
      ],
      "metadata": {
        "id": "Q_65UTvzsZ_K"
      },
      "execution_count": 2,
      "outputs": []
    },
    {
      "cell_type": "code",
      "source": [
        "class MultiHeadAttention(nn.Module):\n",
        "  def __init__(self, emb_dim, num_heads):\n",
        "    super().__init__()\n",
        "    d_h = emb_dim // num_heads\n",
        "    self.heads = nn.ModuleList([AttentionHead(emb_dim, d_h) for _ in range(num_heads)])\n",
        "    self.W_O = nn.Parameter(torch.empty(emb_dim, emb_dim))\n",
        "\n",
        "  def forward(self, x, mask):\n",
        "    head_outputs = [head(x, mask) for head in self.heads]\n",
        "    x = torch.cat(head_outputs, dim=-1)\n",
        "    return x @ self.W_O\n",
        ""
      ],
      "metadata": {
        "id": "D5mXOWg7G0wq"
      },
      "execution_count": 3,
      "outputs": []
    },
    {
      "cell_type": "code",
      "execution_count": 4,
      "metadata": {
        "id": "rBIQAs3-Gqlo"
      },
      "outputs": [],
      "source": [
        "class AttentionHead(nn.Module):\n",
        "  def __init__(self, emb_dim, d_h):\n",
        "    super().__init__()\n",
        "    self.W_Q = nn.Parameter(torch.empty(emb_dim, d_h))\n",
        "    self.W_K = nn.Parameter(torch.empty(emb_dim, d_h))\n",
        "    self.W_V = nn.Parameter(torch.empty(emb_dim, d_h))\n",
        "    self.d_h = d_h\n",
        "\n",
        "  def forward(self, x, mask):\n",
        "    Q = x @ self.W_Q\n",
        "    K = x @ self.W_K\n",
        "    V = x @ self.W_V\n",
        "\n",
        "    Q, K = rope(Q), rope(K)\n",
        "\n",
        "    scores = Q @ K.transpose(-2,-1) / math.sqrt(self.d_h)\n",
        "\n",
        "    # how casual mask is applied??\n",
        "    masked_scores = scores.masked_fill(mask == 0, float('-inf'))\n",
        "\n",
        "    attention_weights = nn.functional.softmax(masked_scores, dim=-1)\n",
        "\n",
        "    return attention_weights @ V"
      ]
    },
    {
      "cell_type": "code",
      "source": [],
      "metadata": {
        "id": "d9Iuw6PisBN2"
      },
      "execution_count": 4,
      "outputs": []
    },
    {
      "cell_type": "code",
      "source": [
        "class MLP(nn.Module):\n",
        "  def __init__(self, emb_dim):\n",
        "    super().__init__()\n",
        "    # use of 4 why??\n",
        "    self.W_1 = nn.Parameter(torch.empty(emb_dim, 4 * emb_dim))\n",
        "    self.W_2 = nn.Parameter(torch.empty(4 * emb_dim, emb_dim))\n",
        "    self.B_1 = nn.Parameter(torch.zeros(4 * emb_dim))\n",
        "    self.B_2 = nn.Parameter(torch.zeros(emb_dim))\n",
        "\n",
        "  def forward(self, x):\n",
        "    x = x @ self.W_1 + self.B_1\n",
        "    x = torch.relu(x)\n",
        "    x = x @ self.W_2 + self.B_2\n",
        "    return x"
      ],
      "metadata": {
        "id": "LWpTS0yQQZNd"
      },
      "execution_count": 5,
      "outputs": []
    },
    {
      "cell_type": "code",
      "source": [
        "class RMSNorm(nn.Module):\n",
        "  def __init__(self, emb_dim, epsilon=1e-8):\n",
        "    super().__init__()\n",
        "    self.scale = nn.Parameter(torch.ones(emb_dim))\n",
        "    self.epsilon = epsilon\n",
        "\n",
        "  def forward(self, x):\n",
        "    squared_x = x**2\n",
        "    mean_squared = torch.mean(squared_x, dim=-1, keepdim=True)\n",
        "    rms = torch.sqrt(mean_squared + self.epsilon)\n",
        "    return self.scale * x / rms\n"
      ],
      "metadata": {
        "id": "DdkaVrVwZQKy"
      },
      "execution_count": 6,
      "outputs": []
    },
    {
      "cell_type": "code",
      "source": [
        "class DecoderBlock(nn.Module):\n",
        "  def __init__(self, emb_dim, num_heads):\n",
        "    super().__init__()\n",
        "    self.norm1 = RMSNorm(emb_dim)\n",
        "    self.norm2 = RMSNorm(emb_dim)\n",
        "    self.attn = MultiHeadAttention(emb_dim, num_heads)\n",
        "    self.mlp = MLP(emb_dim)\n",
        "\n",
        "  def forward(self, x, mask):\n",
        "    attn_out = self.attn(self.norm1(x), mask)\n",
        "    x = x + attn_out\n",
        "    mlp_out = self.mlp(self.norm2(x))\n",
        "    x = x + mlp_out\n",
        "    return x"
      ],
      "metadata": {
        "id": "Xq7lNqPOVS3X"
      },
      "execution_count": 7,
      "outputs": []
    },
    {
      "cell_type": "code",
      "source": [
        "class DecoderLanguageModel(nn.Module):\n",
        "  def __init__(self, vocab_size, emb_dim, num_heads, num_blocks, pad_idx):\n",
        "    super().__init__()\n",
        "    self.embedding = nn.Embedding(\n",
        "        vocab_size, emb_dim, padding_idx=pad_idx\n",
        "    )\n",
        "    self.layers = nn.ModuleList([\n",
        "        DecoderBlock(emb_dim, num_heads) for _ in range(num_blocks)\n",
        "    ])\n",
        "    self.output = nn.Parameter(torch.rand(emb_dim, vocab_size))\n",
        "\n",
        "  def forward(self, x):\n",
        "    x = self.embedding(x)\n",
        "    _, seq_len, _ = x.shape\n",
        "    mask = torch.tril(torch.ones(seq_len, seq_len, device=x.device))\n",
        "    for layer in self.layers:\n",
        "      x = layer(x, mask)\n",
        "    return x @ self.output"
      ],
      "metadata": {
        "id": "5NUbLP2XaVeF"
      },
      "execution_count": 8,
      "outputs": []
    },
    {
      "cell_type": "code",
      "source": [
        "#copied\n",
        "\n",
        "# ----------------------------\n",
        "# Main training loop for a Decoder Language Model\n",
        "# This script handles the entire training process including data loading,\n",
        "# model training, validation, and text generation\n",
        "# ----------------------------\n",
        "\n",
        "if __name__ == \"__main__\":\n",
        "    # Initialize random seeds to ensure reproducible results\n",
        "    set_seed(42)\n",
        "\n",
        "    # Retrieve model architecture and training hyperparameters from configuration\n",
        "    # emb_dim: dimensionality of input token and intermediary embeddings\n",
        "    # num_heads: number of attention heads in each transformer block\n",
        "    # num_blocks: number of transformer blocks in the model\n",
        "    # batch_size: mini-batch size\n",
        "    # learning_rate: step size for optimizer updates\n",
        "    # num_epochs: number of complete passes through the training dataset\n",
        "    # context_size: maximum input sequence length\n",
        "    emb_dim, num_heads, num_blocks, batch_size, learning_rate, num_epochs, context_size = get_hyperparameters()\n",
        "\n",
        "    # Initialize the tokenizer using Microsoft's Phi-3.5-mini model\n",
        "    tokenizer = AutoTokenizer.from_pretrained(\"microsoft/Phi-3.5-mini-instruct\")\n",
        "    # Get padding token index for padding shorter sequences\n",
        "    pad_idx = tokenizer.pad_token_id\n",
        "\n",
        "    # Check for CUDA-capable GPU and set the device accordingly\n",
        "    device = torch.device(\"cuda\" if torch.cuda.is_available() else \"cpu\")\n",
        "\n",
        "    # Download the news dataset and create DataLoader objects for training and testing\n",
        "    # DataLoaders handle batching and shuffling\n",
        "    data_url = \"https://www.thelmbook.com/data/news\"\n",
        "    train_dataloader, test_dataloader = download_and_prepare_data(\n",
        "        data_url, batch_size, tokenizer, context_size\n",
        "    )\n",
        "\n",
        "    # Get the size of the vocabulary that the model needs to handle\n",
        "    vocab_size = len(tokenizer)\n",
        "    print(f\"\\nVocabulary size: {vocab_size}\\n\")\n",
        "\n",
        "    # Initialize the Decoder language model with specified architecture parameters\n",
        "    # vocab_size: determines output layer dimensionality\n",
        "    # emb_dim: size of token embeddings and intermediary embeddings\n",
        "    # num_heads: number of attention heads per transformer block\n",
        "    # num_blocks: number of transformer blocks in the model\n",
        "    # pad_idx: special token ID used for padding shorter sequences\n",
        "    model = DecoderLanguageModel(\n",
        "        vocab_size, emb_dim, num_heads, num_blocks, pad_idx\n",
        "    )\n",
        "\n",
        "    # Move the model to GPU if available\n",
        "    model.to(device)\n",
        "\n",
        "    # Initialize model weights using custom initialization scheme\n",
        "    # This is important for stable training of deep neural networks\n",
        "    initialize_weights(model)\n",
        "\n",
        "    # Initialize the AdamW optimizer with specified learning rate\n",
        "    optimizer = torch.optim.AdamW(model.parameters(), lr=learning_rate)\n",
        "\n",
        "    # Initialize the loss function (Cross Entropy) for training\n",
        "    # ignore_index=pad_idx ensures that padding tokens don't contribute to the loss\n",
        "    criterion = nn.CrossEntropyLoss(ignore_index=pad_idx)\n",
        "\n",
        "    # Calculate and display the total number of trainable parameters in the model\n",
        "    total_params = sum(p.numel() for p in model.parameters() if p.requires_grad)\n",
        "    print(f\"\\nTotal trainable parameters: {total_params}\\n\")\n",
        "\n",
        "    # Set evaluation interval (number of examples after which to perform validation)\n",
        "    # 200,000 examples provides a good balance between training time and monitoring frequency\n",
        "    eval_interval = 200_000\n",
        "    examples_processed = 0  # Counter for tracking progress toward next evaluation\n",
        "\n",
        "    # Define test contexts for generating sample text during evaluation\n",
        "    contexts = [\n",
        "        \"Moscow\",\n",
        "        \"New York\",\n",
        "        \"A hurricane\",\n",
        "        \"The President\"\n",
        "    ]\n",
        "\n",
        "    # Main training loop - iterate through specified number of epochs\n",
        "    for epoch in range(num_epochs):\n",
        "        # Set model to training mode\n",
        "        model.train()\n",
        "\n",
        "        # Initialize tracking variables for this epoch\n",
        "        total_loss = 0.0      # Accumulator for loss across all batches\n",
        "        total_tokens = 0      # Counter for actual tokens processed (excluding padding)\n",
        "\n",
        "        # Create progress bar for monitoring training progress\n",
        "        progress_bar = tqdm(train_dataloader, desc=f\"Epoch {epoch+1}/{num_epochs}\")\n",
        "\n",
        "        # Iterate through batches in the training data\n",
        "        for batch_idx, (input_seq, target_seq) in enumerate(progress_bar):\n",
        "            # Move input and target sequences to GPU if available\n",
        "            input_seq = input_seq.to(device)\n",
        "            target_seq = target_seq.to(device)\n",
        "\n",
        "            # Clear gradients from previous batch\n",
        "            optimizer.zero_grad()\n",
        "\n",
        "            # Forward pass: get model predictions for this batch\n",
        "            # output shape: (batch_size, seq_len, vocab_size)\n",
        "            logits = model(input_seq)\n",
        "\n",
        "            # Reshape logits and target tensors for loss computation\n",
        "            logits = logits.reshape(-1, logits.size(-1))\n",
        "            target = target_seq.reshape(-1)\n",
        "\n",
        "            # Create mask to exclude padding tokens from loss calculation\n",
        "            mask = target != pad_idx\n",
        "\n",
        "            # Compute loss between model predictions and actual targets\n",
        "            # Using masked versions to ignore padding tokens\n",
        "            loss = criterion(logits[mask], target[mask])\n",
        "\n",
        "            # Backward pass: compute gradients of loss with respect to model parameters\n",
        "            loss.backward()\n",
        "\n",
        "            # Update model parameters using calculated gradients\n",
        "            optimizer.step()\n",
        "\n",
        "            # Calculate actual loss value for this batch accounting for padding\n",
        "            loss_value = loss.item() * mask.sum().item()\n",
        "\n",
        "            # Accumulate total loss and tokens for epoch statistics\n",
        "            total_loss += loss_value\n",
        "            total_tokens += mask.sum().item()\n",
        "            examples_processed += input_seq.size(0)\n",
        "\n",
        "            # Update progress bar with current batch loss\n",
        "            progress_bar.set_postfix({\"loss\": f\"{loss.item():.4f}\"})\n",
        "\n",
        "            # Periodic evaluation after processing specified number of examples\n",
        "            if examples_processed >= eval_interval:\n",
        "                # Calculate average loss over the last eval_interval examples\n",
        "                avg_loss = total_loss / total_tokens\n",
        "                print(f\"\\nAfter {examples_processed} examples, Average Loss: {avg_loss:.4f}\")\n",
        "\n",
        "                # Switch to evaluation mode\n",
        "                model.eval()\n",
        "\n",
        "                # Compute validation metrics\n",
        "                average_loss, perplexity = compute_loss_and_perplexity(\n",
        "                    model, test_dataloader, tokenizer, criterion, device, max_sentences=1000\n",
        "                )\n",
        "                # Record validation\n",
        "                print(f\"\\nValidation Average Loss: {average_loss:.4f}, Perplexity: {perplexity:.2f}\")\n",
        "\n",
        "                model.eval()\n",
        "\n",
        "                # Generate sample texts to qualitatively assess model performance\n",
        "                for context in contexts:\n",
        "                    # Generate text continuation for each test context\n",
        "                    generated_text = generate_text(\n",
        "                        model=model,\n",
        "                        start_string=context,\n",
        "                        tokenizer=tokenizer,\n",
        "                        device=device,\n",
        "                        max_length=50\n",
        "                    )\n",
        "                    print(f\"\\nContext: {context}\")\n",
        "                    print(f\"\\nGenerated text: {generated_text}\\n\")\n",
        "\n",
        "                # Switch back to training mode for continued training\n",
        "                model.train()\n",
        "\n",
        "                # Reset counters for next evaluation interval\n",
        "                examples_processed = 0\n",
        "                total_loss = 0.0\n",
        "                total_tokens = 0\n",
        "\n",
        "        # End-of-epoch reporting\n",
        "        if total_tokens > 0:\n",
        "            # Calculate and display average loss for the epoch\n",
        "            avg_loss = total_loss / total_tokens\n",
        "            print(f\"\\nEpoch {epoch+1}/{num_epochs}, Average Loss: {avg_loss:.4f}\")\n",
        "        else:\n",
        "            # Handle edge case where no tokens were processed\n",
        "            print(f\"\\nEpoch {epoch+1}/{num_epochs} completed.\")\n",
        "\n",
        "        # Perform end-of-epoch validation\n",
        "        model.eval()\n",
        "\n",
        "        # Generate sample texts for qualitative assessment\n",
        "        print(\"\\nGenerating text based on contexts using generate_text:\\n\")\n",
        "        for context in contexts:\n",
        "            generated_text = generate_text(\n",
        "                model=model,\n",
        "                start_string=context,\n",
        "                tokenizer=tokenizer,\n",
        "                device=device,\n",
        "                max_length=50\n",
        "            )\n",
        "            print(f\"\\nContext: {context}\")\n",
        "            print(f\"\\nGenerated text: {generated_text}\\n\")\n",
        "\n",
        "        average_loss, perplexity = compute_loss_and_perplexity(\n",
        "            model, test_dataloader, tokenizer, criterion, device, max_sentences=1000\n",
        "        )\n",
        "        print(f\"\\nValidation Average Loss: {average_loss:.4f}, Perplexity: {perplexity:.2f}\")\n",
        "\n",
        "        # Reset to training mode for next epoch\n",
        "        model.train()\n",
        "\n",
        "    # Save the trained model and tokenizer for later use\n",
        "    # This includes model architecture, weights, and tokenizer configuration\n",
        "    model_name = \"Decoder_LM\"\n",
        "    save_model(model, tokenizer, model_name)"
      ],
      "metadata": {
        "colab": {
          "base_uri": "https://localhost:8080/",
          "height": 1000,
          "referenced_widgets": [
            "1921ec73263d490aa91401f2f525f8dc",
            "66e9ee8b3ca2416e8bfb4ba00fea79d9",
            "fec98abba6fd4bd39fa66d348c30afdb",
            "a90f5e3738fe420582d42001984f7f5d",
            "9c830218f5be44ed9fa169b45fae572c",
            "a94f0da44ef74778b2248a18171f94ce",
            "3866580d61d548b6a16352e282784319",
            "06cde203727149018f7bb81d4f4b3c1f",
            "efdf9f0297994a7cb2131b8d65ffa54e",
            "9f1ea21ad76a4a1bbaedaea655cdf053",
            "02d4a086f0e04485bb0f0ceee327ac73",
            "f3e2e83e6eaa46a29ad39c0c14ec58e4",
            "c3d00ad1c2434c888db5a8640698633f",
            "fe1b980025924126bc1b845a59acd3b7",
            "1362ada2bc174aaba7703498c1733b39",
            "ea7193f406c442aa9cddb01f65f97db8",
            "a338642559e840489ae8f3f7922732af",
            "1c1707aa19c04e9fbca39eea9f7184ce",
            "c032753b1dad4690a64d5c6cfe22b361",
            "c2bcc95090504a00b1ca6740a46043fe",
            "83227e98fcc2438abe63a86f7358752e",
            "b80a4b5deb4045bca44af868f9da98b6",
            "eace1b7d75ea4cd38d83b53750ef9a55",
            "125835fa34b44f21a5f5cc20d601de3c",
            "edc1773ae7984cfb8360a6857d3ce9dc",
            "780d75ba2ff04faa9de94cf8d157faaa",
            "5cf9a2667ba343e9b2e4fbc37d46c83f",
            "640d4874100b42bd8fbe487cb8a1d120",
            "15c282e9590a4279acafe41c6b476e53",
            "93d3c81746af4dc7b97d86285837c207",
            "9bc8cad6336548999cfb31ad8f879ef8",
            "d82aa3407504494cb1e96aee2fcba0a5",
            "9171fe3b98c8403a8ae9c5c950d93090",
            "749a55ab58244eaa8e16363da08df64b",
            "0142ac9b727f456b87c84fe5f07ed886",
            "17fd6df1a42c4ff88fba4121c95b2b26",
            "7086e800bd724df18cbe5ef20d3d71ec",
            "01b9f4ea3cae48048f0a8d27b40d34dc",
            "1c74d654fb574dd882c63a7d0d53f557",
            "930643b15e614df5b18788d86d226255",
            "2c180c75536949449e7522f15b164d2e",
            "e019f1d0e52f4412a555fdda993538d6",
            "eb5fed79077946e6af8fd7fc146bbc1d",
            "2e7c3268a5ac4a689b3c11863f462f42",
            "24edacfb8dbd4f8e8dc369cc9ebf2ea7",
            "f46020b69752410daf6775556813df35",
            "2b7fa3aaade440bbb322078ba9547320",
            "93b6dc19ffff4a91baf68a76b2bbf2f6",
            "38989d2f20304b93b983424b671702f4",
            "13fb5460ee5d452b9600462f05475203",
            "266b7dacc5034cf6ab058b87845f8545",
            "7d3d8f699d3144589c4a6f0de3db6d6d",
            "ec9a3fe16af34f9f81333fe449e56ee4",
            "15527fa165bc425bb1bc307ac967a800",
            "944b2a280dde4590bd17d26061ebe7ac"
          ]
        },
        "id": "2PkN4It1cHPA",
        "outputId": "1e0a2ba0-d56c-4c99-d08b-c6b361fa07f6"
      },
      "execution_count": null,
      "outputs": [
        {
          "output_type": "stream",
          "name": "stderr",
          "text": [
            "/usr/local/lib/python3.12/dist-packages/huggingface_hub/utils/_auth.py:94: UserWarning: \n",
            "The secret `HF_TOKEN` does not exist in your Colab secrets.\n",
            "To authenticate with the Hugging Face Hub, create a token in your settings tab (https://huggingface.co/settings/tokens), set it as secret in your Google Colab and restart your session.\n",
            "You will be able to reuse this secret in all of your notebooks.\n",
            "Please note that authentication is recommended but still optional to access public models or datasets.\n",
            "  warnings.warn(\n"
          ]
        },
        {
          "output_type": "display_data",
          "data": {
            "text/plain": [
              "tokenizer_config.json: 0.00B [00:00, ?B/s]"
            ],
            "application/vnd.jupyter.widget-view+json": {
              "version_major": 2,
              "version_minor": 0,
              "model_id": "1921ec73263d490aa91401f2f525f8dc"
            }
          },
          "metadata": {}
        },
        {
          "output_type": "display_data",
          "data": {
            "text/plain": [
              "tokenizer.model:   0%|          | 0.00/500k [00:00<?, ?B/s]"
            ],
            "application/vnd.jupyter.widget-view+json": {
              "version_major": 2,
              "version_minor": 0,
              "model_id": "f3e2e83e6eaa46a29ad39c0c14ec58e4"
            }
          },
          "metadata": {}
        },
        {
          "output_type": "display_data",
          "data": {
            "text/plain": [
              "tokenizer.json: 0.00B [00:00, ?B/s]"
            ],
            "application/vnd.jupyter.widget-view+json": {
              "version_major": 2,
              "version_minor": 0,
              "model_id": "eace1b7d75ea4cd38d83b53750ef9a55"
            }
          },
          "metadata": {}
        },
        {
          "output_type": "display_data",
          "data": {
            "text/plain": [
              "added_tokens.json:   0%|          | 0.00/306 [00:00<?, ?B/s]"
            ],
            "application/vnd.jupyter.widget-view+json": {
              "version_major": 2,
              "version_minor": 0,
              "model_id": "749a55ab58244eaa8e16363da08df64b"
            }
          },
          "metadata": {}
        },
        {
          "output_type": "display_data",
          "data": {
            "text/plain": [
              "special_tokens_map.json:   0%|          | 0.00/665 [00:00<?, ?B/s]"
            ],
            "application/vnd.jupyter.widget-view+json": {
              "version_major": 2,
              "version_minor": 0,
              "model_id": "24edacfb8dbd4f8e8dc369cc9ebf2ea7"
            }
          },
          "metadata": {}
        },
        {
          "output_type": "stream",
          "name": "stdout",
          "text": [
            "\n",
            "Downloading dataset from https://www.thelmbook.com/data/news...\n",
            "\n",
            "Download completed.\n",
            "\n",
            "Listing archive contents:\n",
            "\n",
            "Archive member: news\n",
            "\n",
            "Archive member: news/train.txt\n",
            "\n",
            "Archive member: news/test.txt\n",
            "\n",
            "Extracting files...\n"
          ]
        },
        {
          "output_type": "stream",
          "name": "stderr",
          "text": [
            "/tmp/ipython-input-970221042.py:216: DeprecationWarning: Python 3.14 will, by default, filter extracted tar archives and reject files or modify their metadata. Use the filter argument to control this behavior.\n",
            "  tar.extractall('.')\n"
          ]
        },
        {
          "output_type": "stream",
          "name": "stdout",
          "text": [
            "\n",
            "Extraction completed.\n",
            "\n",
            "Counting sentences in news/train.txt...\n",
            "\n",
            "Found 22034911 sentences in news/train.txt.\n",
            "\n",
            "Counting sentences in news/test.txt...\n",
            "\n",
            "Found 449693 sentences in news/test.txt.\n",
            "\n",
            "Training sentences: 22034911\n",
            "\n",
            "Test sentences: 449693\n",
            "\n",
            "Vocabulary size: 32011\n",
            "\n",
            "\n",
            "Total trainable parameters: 8589824\n",
            "\n"
          ]
        },
        {
          "output_type": "stream",
          "name": "stderr",
          "text": [
            "Epoch 1/1:   1%|          | 1561/172148 [02:37<4:21:18, 10.88it/s, loss=5.0870]"
          ]
        },
        {
          "output_type": "stream",
          "name": "stdout",
          "text": [
            "\n",
            "After 200064 examples, Average Loss: 5.3756\n"
          ]
        },
        {
          "output_type": "stream",
          "name": "stderr",
          "text": [
            "\n",
            "Evaluating:   0%|          | 0/3514 [00:00<?, ?it/s]\u001b[A\n",
            "Evaluating:   0%|          | 2/3514 [00:00<03:13, 18.11it/s]\u001b[A\n",
            "Evaluating:   0%|          | 4/3514 [00:00<03:06, 18.82it/s]\u001b[A\n",
            "Evaluating:   0%|          | 6/3514 [00:00<03:03, 19.10it/s]\u001b[A\n",
            "                                                            \u001b[A"
          ]
        },
        {
          "output_type": "stream",
          "name": "stdout",
          "text": [
            "\n",
            "Validation Average Loss: 4.8355, Perplexity: 125.90\n",
            "\n",
            "Context: Moscow\n",
            "\n",
            "Generated text: Moscow has been charged with murdered in the ####s . 's ' . 's Office . 's Office . 's . 's . 's . 's . 's . 's . ' . ' . ' . ' .\n",
            "\n",
            "\n",
            "Context: New York\n",
            "\n",
            "Generated text: New York , who has been charged with murdered in the ####s . 's ' . 's Office . 's Office . 's Office . 's Office . 's . 's . 's . 's . 's .\n",
            "\n",
            "\n",
            "Context: A hurricane\n",
            "\n",
            "Generated text: A hurricane from the home in the ####s , which is a new . '' . 's Office . 's Office . 's Office . 's Office . 's Office . 's . ' . 's . ' . '\n",
            "\n"
          ]
        },
        {
          "output_type": "stream",
          "name": "stderr",
          "text": [
            "Epoch 1/1:   1%|          | 1564/172148 [02:41<28:37:45,  1.66it/s, loss=4.8098]"
          ]
        },
        {
          "output_type": "stream",
          "name": "stdout",
          "text": [
            "\n",
            "Context: The President\n",
            "\n",
            "Generated text: The President of the ##-year-old was in the ####s of the ##-year-old . 's . 's . 's mother 's . '' . 's mother told the BBC . 's . 's . '\n",
            "\n"
          ]
        },
        {
          "output_type": "stream",
          "name": "stderr",
          "text": [
            "Epoch 1/1:   2%|▏         | 3125/172148 [05:18<5:09:05,  9.11it/s, loss=4.8347]"
          ]
        },
        {
          "output_type": "stream",
          "name": "stdout",
          "text": [
            "\n",
            "After 200064 examples, Average Loss: 4.7397\n"
          ]
        },
        {
          "output_type": "stream",
          "name": "stderr",
          "text": [
            "\n",
            "Evaluating:   0%|          | 0/3514 [00:00<?, ?it/s]\u001b[A\n",
            "Evaluating:   0%|          | 2/3514 [00:00<03:51, 15.19it/s]\u001b[A\n",
            "Evaluating:   0%|          | 4/3514 [00:00<03:55, 14.92it/s]\u001b[A\n",
            "Evaluating:   0%|          | 6/3514 [00:00<03:49, 15.27it/s]\u001b[A\n",
            "                                                            \u001b[A"
          ]
        },
        {
          "output_type": "stream",
          "name": "stdout",
          "text": [
            "\n",
            "Validation Average Loss: 4.6155, Perplexity: 101.04\n",
            "\n",
            "Context: Moscow\n",
            "\n",
            "Generated text: Moscow 's office has been charged with a number of fraud . '' . 's office said . ' '' . ' '' . ' '' . ' '' . 's office said . 's . ' . ' . ' . ' . '\n",
            "\n",
            "\n",
            "Context: New York\n",
            "\n",
            "Generated text: New York City 's side have been in the past few weeks . '' 's office said . ' '' . 'The family 's office . ' '' . 's office said . 's family . 's . 's . ' .\n",
            "\n",
            "\n",
            "Context: A hurricane\n",
            "\n",
            "Generated text: A hurricane , which was found in the village of Stanton , was also found in the village of Stanton , and the ##-year-old . 's mother told the court . ' . ' . ' . ' . ' .\n",
            "\n"
          ]
        },
        {
          "output_type": "stream",
          "name": "stderr",
          "text": [
            "Epoch 1/1:   2%|▏         | 3127/172148 [05:23<50:23:33,  1.07s/it, loss=4.6655]"
          ]
        },
        {
          "output_type": "stream",
          "name": "stdout",
          "text": [
            "\n",
            "Context: The President\n",
            "\n",
            "Generated text: The President was a `` very good '' . '' and the family had a good job . '' . '' . '' . '' . '' . '' . '' . 's office said . 'We 'll be able to get the first time . '\n",
            "\n"
          ]
        },
        {
          "output_type": "stream",
          "name": "stderr",
          "text": [
            "Epoch 1/1:   3%|▎         | 4688/172148 [08:00<4:17:27, 10.84it/s, loss=4.6108]"
          ]
        },
        {
          "output_type": "stream",
          "name": "stdout",
          "text": [
            "\n",
            "After 200064 examples, Average Loss: 4.5857\n"
          ]
        },
        {
          "output_type": "stream",
          "name": "stderr",
          "text": [
            "\n",
            "Evaluating:   0%|          | 0/3514 [00:00<?, ?it/s]\u001b[A\n",
            "Evaluating:   0%|          | 2/3514 [00:00<03:19, 17.61it/s]\u001b[A\n",
            "Evaluating:   0%|          | 4/3514 [00:00<03:09, 18.56it/s]\u001b[A\n",
            "Evaluating:   0%|          | 6/3514 [00:00<03:02, 19.18it/s]\u001b[A\n",
            "                                                            \u001b[A"
          ]
        },
        {
          "output_type": "stream",
          "name": "stdout",
          "text": [
            "\n",
            "Validation Average Loss: 4.5055, Perplexity: 90.52\n",
            "\n",
            "Context: Moscow\n",
            "\n",
            "Generated text: Moscow is not yet clear whether the government is responsible for the attacks . '' 'The . ' '' 's official said . ' '' 'The . ' '' 'The . ' '' 'The . 'The only one of the most of the issue\n",
            "\n",
            "\n",
            "Context: New York\n",
            "\n",
            "Generated text: New York : The couple 's parents , who were killed in the attack . 's ##-year-old , who was killed . 's sister , said . ' I 'm not sure . 's . 's . 's .\n",
            "\n",
            "\n",
            "Context: A hurricane\n",
            "\n",
            "Generated text: A hurricane is a key part of the new era of the world 's most important . '' 's official said . ' '' 'The . ' '' 'The . ' '' 'The . ' . 's . 's 's\n",
            "\n"
          ]
        },
        {
          "output_type": "stream",
          "name": "stderr",
          "text": [
            "Epoch 1/1:   3%|▎         | 4690/172148 [08:04<32:00:46,  1.45it/s, loss=4.5663]"
          ]
        },
        {
          "output_type": "stream",
          "name": "stdout",
          "text": [
            "\n",
            "Context: The President\n",
            "\n",
            "Generated text: The President 's office said the government would not be able to pay the number of people who have been killed . ' '' 'The . ' '' 'The . ' '' 'The . ' '' 's official said . 's . 's\n",
            "\n"
          ]
        },
        {
          "output_type": "stream",
          "name": "stderr",
          "text": [
            "Epoch 1/1:   4%|▎         | 6251/172148 [10:41<5:04:39,  9.08it/s, loss=4.4853]"
          ]
        },
        {
          "output_type": "stream",
          "name": "stdout",
          "text": [
            "\n",
            "After 200064 examples, Average Loss: 4.4960\n"
          ]
        },
        {
          "output_type": "stream",
          "name": "stderr",
          "text": [
            "\n",
            "Evaluating:   0%|          | 0/3514 [00:00<?, ?it/s]\u001b[A\n",
            "Evaluating:   0%|          | 2/3514 [00:00<03:43, 15.73it/s]\u001b[A\n",
            "Evaluating:   0%|          | 4/3514 [00:00<03:53, 15.03it/s]\u001b[A\n",
            "Evaluating:   0%|          | 6/3514 [00:00<03:54, 14.94it/s]\u001b[A\n",
            "                                                            \u001b[A"
          ]
        },
        {
          "output_type": "stream",
          "name": "stdout",
          "text": [
            "\n",
            "Validation Average Loss: 4.4314, Perplexity: 84.05\n",
            "\n",
            "Context: Moscow\n",
            "\n",
            "Generated text: Moscow has been a key role in the country 's economy . '' 'We 're not to be able to do the same . ' '' said . ' '' . ' '' the company said . 's `` to the `` . '' . ''\n",
            "\n",
            "\n",
            "Context: New York\n",
            "\n",
            "Generated text: New York City : The ##-year-old was arrested in the ####s . ' '' 'We 've been charged with the murder of the woman . 's mother . ' '' 's mother said . 's . 's . '\n",
            "\n",
            "\n",
            "Context: A hurricane\n",
            "\n",
            "Generated text: A hurricane , which is the most important thing to be the most important thing to be the most important thing to be the most important thing . '' ' '' . ' '' said . ' '' . 's said . 's . 's\n",
            "\n"
          ]
        },
        {
          "output_type": "stream",
          "name": "stderr",
          "text": [
            "Epoch 1/1:   4%|▎         | 6253/172148 [10:46<45:14:02,  1.02it/s, loss=4.4383]"
          ]
        },
        {
          "output_type": "stream",
          "name": "stdout",
          "text": [
            "\n",
            "Context: The President\n",
            "\n",
            "Generated text: The President said the government had not yet been released . '' . ' '' 'We 're not to be able to do the same . ' '' 'We 're not to be able to-beat . 's . 's . '\n",
            "\n"
          ]
        },
        {
          "output_type": "stream",
          "name": "stderr",
          "text": [
            "Epoch 1/1:   5%|▍         | 7814/172148 [13:22<4:11:10, 10.90it/s, loss=4.4400]"
          ]
        },
        {
          "output_type": "stream",
          "name": "stdout",
          "text": [
            "\n",
            "After 200064 examples, Average Loss: 4.4371\n"
          ]
        },
        {
          "output_type": "stream",
          "name": "stderr",
          "text": [
            "\n",
            "Evaluating:   0%|          | 0/3514 [00:00<?, ?it/s]\u001b[A\n",
            "Evaluating:   0%|          | 2/3514 [00:00<02:58, 19.63it/s]\u001b[A\n",
            "Evaluating:   0%|          | 4/3514 [00:00<03:16, 17.88it/s]\u001b[A\n",
            "Evaluating:   0%|          | 6/3514 [00:00<03:09, 18.55it/s]\u001b[A\n",
            "                                                            \u001b[A"
          ]
        },
        {
          "output_type": "stream",
          "name": "stdout",
          "text": [
            "\n",
            "Validation Average Loss: 4.3852, Perplexity: 80.25\n",
            "\n",
            "Context: Moscow\n",
            "\n",
            "Generated text: Moscow has been a long-running warrant for the attack . '' . '' . '' 'We 're not to be able to do it . ' '' ' . ' '' ' . 's . ' '' ' . ' . ' . '\n",
            "\n",
            "\n",
            "Context: New York\n",
            "\n",
            "Generated text: New York City : The couple are now in the past . ' '' 's family . ' '' . ' '' . ' '' . ' '' . ' '' . ' '' 's . 's . 's . 's . 's .\n",
            "\n",
            "\n",
            "Context: A hurricane\n",
            "\n",
            "Generated text: A hurricane warning was not to be used to be used to be used to be used to be used to be used to be used to be a . ' '' . ' '' . ' '' . ' . ' . ' . ' . '\n",
            "\n"
          ]
        },
        {
          "output_type": "stream",
          "name": "stderr",
          "text": [
            "Epoch 1/1:   5%|▍         | 7816/172148 [13:26<31:01:24,  1.47it/s, loss=4.3329]"
          ]
        },
        {
          "output_type": "stream",
          "name": "stdout",
          "text": [
            "\n",
            "Context: The President\n",
            "\n",
            "Generated text: The President 's decision to be released on a statement from the Commons . ' '' 's decision to be released . ' '' ' . ' '' . ' '' 's . ' '' 's decision to be made . 's decision . '\n",
            "\n"
          ]
        },
        {
          "output_type": "stream",
          "name": "stderr",
          "text": [
            "Epoch 1/1:   5%|▌         | 9377/172148 [16:02<5:49:55,  7.75it/s, loss=4.3985]"
          ]
        },
        {
          "output_type": "stream",
          "name": "stdout",
          "text": [
            "\n",
            "After 200064 examples, Average Loss: 4.3974\n"
          ]
        },
        {
          "output_type": "stream",
          "name": "stderr",
          "text": [
            "\n",
            "Evaluating:   0%|          | 0/3514 [00:00<?, ?it/s]\u001b[A\n",
            "Evaluating:   0%|          | 2/3514 [00:00<04:57, 11.81it/s]\u001b[A\n",
            "Evaluating:   0%|          | 4/3514 [00:00<04:37, 12.65it/s]\u001b[A\n",
            "Evaluating:   0%|          | 6/3514 [00:00<04:28, 13.05it/s]\u001b[A\n",
            "                                                            \u001b[A"
          ]
        },
        {
          "output_type": "stream",
          "name": "stdout",
          "text": [
            "\n",
            "Validation Average Loss: 4.3429, Perplexity: 76.93\n",
            "\n",
            "Context: Moscow\n",
            "\n",
            "Generated text: Moscow has been a major international threat to the United States . '' . ' '' 's statement said . ' '' 'We 'll be able to get the first of the world 's most important . ' '' ' . ' . ' . '\n",
            "\n",
            "\n",
            "Context: New York\n",
            "\n",
            "Generated text: New York Mayor of the . 'We 'll be able to get the best of the world . ' '' 's report . ' '' 's statement . ' '' 's statement said . 's . 's . 's . 's\n",
            "\n",
            "\n",
            "Context: A hurricane\n",
            "\n",
            "Generated text: A hurricane center has been a huge fire for the past ## years . ' '' 's mother said . ' '' 'The . ' '' ' I 'll be able to get the same . ' and the way of the way . '\n",
            "\n"
          ]
        },
        {
          "output_type": "stream",
          "name": "stderr",
          "text": [
            "Epoch 1/1:   5%|▌         | 9379/172148 [16:06<44:33:11,  1.01it/s, loss=4.4746]"
          ]
        },
        {
          "output_type": "stream",
          "name": "stdout",
          "text": [
            "\n",
            "Context: The President\n",
            "\n",
            "Generated text: The President said the government had `` no immediate effect '' . '' . '' 'We 'd have been in the past few weeks . ' '' ' I 'll be able to get the opportunity to get the opportunity to getaway . 's ``\n",
            "\n"
          ]
        },
        {
          "output_type": "stream",
          "name": "stderr",
          "text": [
            "Epoch 1/1:   6%|▋         | 10940/172148 [18:42<4:13:45, 10.59it/s, loss=4.3113]"
          ]
        },
        {
          "output_type": "stream",
          "name": "stdout",
          "text": [
            "\n",
            "After 200064 examples, Average Loss: 4.3638\n"
          ]
        },
        {
          "output_type": "stream",
          "name": "stderr",
          "text": [
            "\n",
            "Evaluating:   0%|          | 0/3514 [00:00<?, ?it/s]\u001b[A\n",
            "Evaluating:   0%|          | 2/3514 [00:00<03:00, 19.43it/s]\u001b[A\n",
            "Evaluating:   0%|          | 4/3514 [00:00<02:58, 19.66it/s]\u001b[A\n",
            "Evaluating:   0%|          | 6/3514 [00:00<03:00, 19.41it/s]\u001b[A\n",
            "                                                            \u001b[A"
          ]
        },
        {
          "output_type": "stream",
          "name": "stdout",
          "text": [
            "\n",
            "Validation Average Loss: 4.3155, Perplexity: 74.85\n",
            "\n",
            "Context: Moscow\n",
            "\n",
            "Generated text: Moscow has been a long-term . '' 'We 're not sure that 's what we 're going to be . ' '' 's report . ' '' 's a long time . ' . ' . ' . ' . ' he\n",
            "\n",
            "\n",
            "Context: New York\n",
            "\n",
            "Generated text: New York Times : The Duke of Cambridge is the first of the ##th century . ' '' 's report . ' '' 's report . ' '' 's report . ' '' 's . 's . 's . 's . '\n",
            "\n",
            "\n",
            "Context: A hurricane\n",
            "\n",
            "Generated text: A hurricane is a popular in the world . ' '' 's report said . ' '' 'We 're not sure how much it 's . ' '' ' he said . ' '' 's . ' ITV 's ' .\n",
            "\n"
          ]
        },
        {
          "output_type": "stream",
          "name": "stderr",
          "text": [
            "Epoch 1/1:   6%|▋         | 10942/172148 [18:47<32:06:52,  1.39it/s, loss=4.3302]"
          ]
        },
        {
          "output_type": "stream",
          "name": "stdout",
          "text": [
            "\n",
            "Context: The President\n",
            "\n",
            "Generated text: The President of the House of Commons , who has been working with the Conservatives , said the party would be `` a very good decision '' . '' . '' 'We 've . '' 's . '' 's . 's . 's\n",
            "\n"
          ]
        },
        {
          "output_type": "stream",
          "name": "stderr",
          "text": [
            "Epoch 1/1:   7%|▋         | 12503/172148 [21:24<5:33:51,  7.97it/s, loss=4.4397]"
          ]
        },
        {
          "output_type": "stream",
          "name": "stdout",
          "text": [
            "\n",
            "After 200064 examples, Average Loss: 4.3322\n"
          ]
        },
        {
          "output_type": "stream",
          "name": "stderr",
          "text": [
            "\n",
            "Evaluating:   0%|          | 0/3514 [00:00<?, ?it/s]\u001b[A\n",
            "Evaluating:   0%|          | 2/3514 [00:00<04:31, 12.93it/s]\u001b[A\n",
            "Evaluating:   0%|          | 4/3514 [00:00<04:46, 12.24it/s]\u001b[A\n",
            "Evaluating:   0%|          | 6/3514 [00:00<04:28, 13.09it/s]\u001b[A\n",
            "                                                            \u001b[A"
          ]
        },
        {
          "output_type": "stream",
          "name": "stdout",
          "text": [
            "\n",
            "Validation Average Loss: 4.2958, Perplexity: 73.39\n",
            "\n",
            "Context: Moscow\n",
            "\n",
            "Generated text: Moscow has been a major part of the conflict in the region . '' ' '' said . ' '' 'The U.S. Department of Defence . ' '' 's . ' '' 's . ' . ' . ' . ' . '\n",
            "\n",
            "\n",
            "Context: New York\n",
            "\n",
            "Generated text: New York City 's Cathedral , which is a major part of the world 's most recent years in the world . ' '' 's report said . ' '' 'The . ' '' 's spokesman said . 's . '\n",
            "\n",
            "\n",
            "Context: A hurricane\n",
            "\n",
            "Generated text: A hurricane in the city of the city of the city of the city of the city of the city of the city of the city . '' 's report said . ' . ' '' 's . ' . ' . ' . ' .\n",
            "\n"
          ]
        },
        {
          "output_type": "stream",
          "name": "stderr",
          "text": [
            "Epoch 1/1:   7%|▋         | 12505/172148 [21:28<43:12:55,  1.03it/s, loss=4.2167]"
          ]
        },
        {
          "output_type": "stream",
          "name": "stdout",
          "text": [
            "\n",
            "Context: The President\n",
            "\n",
            "Generated text: The President 's office said the government has been `` deeply disappointed '' . '' ' '' said . ' '' 'The . ' '' 'The . ' '' ' I 'm sure to be a `` a good idea of the `` a ``\n",
            "\n"
          ]
        },
        {
          "output_type": "stream",
          "name": "stderr",
          "text": [
            "Epoch 1/1:   8%|▊         | 14066/172148 [24:05<4:04:41, 10.77it/s, loss=4.3377]"
          ]
        },
        {
          "output_type": "stream",
          "name": "stdout",
          "text": [
            "\n",
            "After 200064 examples, Average Loss: 4.3086\n"
          ]
        },
        {
          "output_type": "stream",
          "name": "stderr",
          "text": [
            "\n",
            "Evaluating:   0%|          | 0/3514 [00:00<?, ?it/s]\u001b[A\n",
            "Evaluating:   0%|          | 2/3514 [00:00<03:48, 15.35it/s]\u001b[A\n",
            "Evaluating:   0%|          | 4/3514 [00:00<03:19, 17.59it/s]\u001b[A\n",
            "Evaluating:   0%|          | 6/3514 [00:00<03:09, 18.56it/s]\u001b[A\n",
            "                                                            \u001b[A"
          ]
        },
        {
          "output_type": "stream",
          "name": "stdout",
          "text": [
            "\n",
            "Validation Average Loss: 4.2743, Perplexity: 71.83\n",
            "\n",
            "Context: Moscow\n",
            "\n",
            "Generated text: Moscow has also been accused of terrorism and terrorists . '' . ' '' 's report . ' '' 's report said . ' '' . ' '' 's . ' '' 's . 'in-election 's `` a ``\n",
            "\n",
            "\n",
            "Context: New York\n",
            "\n",
            "Generated text: New York City Mayor Bill Clinton said : `` We are not going to be a good idea . '' ' '' . ' '' ' I 'm not sure . ' '' 's report . 's Day . 's . 's . '\n",
            "\n",
            "\n",
            "Context: A hurricane\n",
            "\n",
            "Generated text: A hurricane is a huge part of the world 's largest ever since . '' ' '' . ' '' 's mother said . ' '' ' I 'm not sure . ' '' 's . 's . ' . ' . '\n",
            "\n"
          ]
        },
        {
          "output_type": "stream",
          "name": "stderr",
          "text": [
            "Epoch 1/1:   8%|▊         | 14068/172148 [24:09<30:50:55,  1.42it/s, loss=4.3766]"
          ]
        },
        {
          "output_type": "stream",
          "name": "stdout",
          "text": [
            "\n",
            "Context: The President\n",
            "\n",
            "Generated text: The President has said that the government has been `` a very important step '' . '' ' '' . ' '' ' he said . ' '' ' I 'm not sure that he 's a good . 's been a good . ' . '\n",
            "\n"
          ]
        },
        {
          "output_type": "stream",
          "name": "stderr",
          "text": [
            "Epoch 1/1:   9%|▉         | 15629/172148 [26:47<6:01:08,  7.22it/s, loss=4.2180]"
          ]
        },
        {
          "output_type": "stream",
          "name": "stdout",
          "text": [
            "\n",
            "After 200064 examples, Average Loss: 4.2923\n"
          ]
        },
        {
          "output_type": "stream",
          "name": "stderr",
          "text": [
            "\n",
            "Evaluating:   0%|          | 0/3514 [00:00<?, ?it/s]\u001b[A\n",
            "Evaluating:   0%|          | 2/3514 [00:00<05:05, 11.49it/s]\u001b[A\n",
            "Evaluating:   0%|          | 4/3514 [00:00<04:55, 11.88it/s]\u001b[A\n",
            "Evaluating:   0%|          | 6/3514 [00:00<04:29, 12.99it/s]\u001b[A\n",
            "                                                            \u001b[A"
          ]
        },
        {
          "output_type": "stream",
          "name": "stdout",
          "text": [
            "\n",
            "Validation Average Loss: 4.2489, Perplexity: 70.03\n",
            "\n",
            "Context: Moscow\n",
            "\n",
            "Generated text: Moscow 's government has been accused of being a `` very dangerous '' and the country 's government . '' . '' . '' . '' . '' . '' . ' '' said . 's . 's . 's . ' . 's\n",
            "\n",
            "\n",
            "Context: New York\n",
            "\n",
            "Generated text: New York-based company , which is owned by the company 's company , has been in the UK since #### . ' '' . ' '' . ' '' said . ' '' . ' '' . 's . 's . 's . '\n",
            "\n",
            "\n",
            "Context: A hurricane\n",
            "\n",
            "Generated text: A hurricane in the area is now in the area . ' '' said . ' '' 'The ##-year-old was the first time . ' '' . ' '' said . ' '' ' . ' . ' . ' and 's\n",
            "\n"
          ]
        },
        {
          "output_type": "stream",
          "name": "stderr",
          "text": [
            "Epoch 1/1:   9%|▉         | 15631/172148 [26:53<58:40:29,  1.35s/it, loss=4.2927]"
          ]
        },
        {
          "output_type": "stream",
          "name": "stdout",
          "text": [
            "\n",
            "Context: The President\n",
            "\n",
            "Generated text: The President is accused of being a member of the . ' '' ' and the 's family . ' '' ' . ' '' ' . ' '' . ' '' said . ' '' . ' . 's . ' . ' . ' . '\n",
            "\n"
          ]
        },
        {
          "output_type": "stream",
          "name": "stderr",
          "text": [
            "Epoch 1/1:  10%|▉         | 17191/172148 [29:30<3:55:23, 10.97it/s, loss=4.2537]"
          ]
        },
        {
          "output_type": "stream",
          "name": "stdout",
          "text": [
            "\n",
            "After 200064 examples, Average Loss: 4.2769\n"
          ]
        },
        {
          "output_type": "stream",
          "name": "stderr",
          "text": [
            "\n",
            "Evaluating:   0%|          | 0/3514 [00:00<?, ?it/s]\u001b[A\n",
            "Evaluating:   0%|          | 2/3514 [00:00<02:56, 19.87it/s]\u001b[A\n",
            "Evaluating:   0%|          | 4/3514 [00:00<02:59, 19.56it/s]\u001b[A\n",
            "Evaluating:   0%|          | 6/3514 [00:00<03:11, 18.28it/s]\u001b[A\n",
            "                                                            \u001b[A"
          ]
        },
        {
          "output_type": "stream",
          "name": "stdout",
          "text": [
            "\n",
            "Validation Average Loss: 4.2390, Perplexity: 69.34\n",
            "\n",
            "Context: Moscow\n",
            "\n",
            "Generated text: Moscow 's government has been criticised by the government 's government . '' ' '' . ' '' 'The United Nations said . ' '' 'The . ' '' 'The . ' '' 's . 's . 's . 's\n",
            "\n",
            "\n",
            "Context: New York\n",
            "\n",
            "Generated text: New York City Mayor Michael Bloomberg said : 'The United States is a very important step . ' '' 's report . ' '' 'The . ' '' ' and . ' '' 's . 's . 's . 's .\n",
            "\n",
            "\n",
            "Context: A hurricane\n",
            "\n",
            "Generated text: A hurricane is the most common in the world . '' ' '' he said . ' '' 'The . ' '' 'The . ' '' 'We 're not sure the person 's family 's 's best ' . 's\n",
            "\n"
          ]
        },
        {
          "output_type": "stream",
          "name": "stderr",
          "text": [
            "Epoch 1/1:  10%|▉         | 17194/172148 [29:34<24:49:46,  1.73it/s, loss=4.2656]"
          ]
        },
        {
          "output_type": "stream",
          "name": "stdout",
          "text": [
            "\n",
            "Context: The President\n",
            "\n",
            "Generated text: The President is the first president of the United Nations , which is a major political leader of the country 's government . '' 's Office said . ' '' 's . ' '' 's . 's . 's . 's . '\n",
            "\n"
          ]
        },
        {
          "output_type": "stream",
          "name": "stderr",
          "text": [
            "Epoch 1/1:  11%|█         | 18754/172148 [32:11<3:59:56, 10.65it/s, loss=4.1995]"
          ]
        },
        {
          "output_type": "stream",
          "name": "stdout",
          "text": [
            "\n",
            "After 200064 examples, Average Loss: 4.2623\n"
          ]
        },
        {
          "output_type": "stream",
          "name": "stderr",
          "text": [
            "\n",
            "Evaluating:   0%|          | 0/3514 [00:00<?, ?it/s]\u001b[A\n",
            "Evaluating:   0%|          | 2/3514 [00:00<03:07, 18.77it/s]\u001b[A\n",
            "Evaluating:   0%|          | 4/3514 [00:00<03:04, 18.99it/s]\u001b[A\n",
            "Evaluating:   0%|          | 6/3514 [00:00<03:30, 16.64it/s]\u001b[A\n",
            "                                                            \u001b[A"
          ]
        },
        {
          "output_type": "stream",
          "name": "stdout",
          "text": [
            "\n",
            "Validation Average Loss: 4.2313, Perplexity: 68.81\n",
            "\n",
            "Context: Moscow\n",
            "\n",
            "Generated text: Moscow 's government has been criticised by the government . ' '' 's statement . ' '' 's statement said . ' '' 'The . ' '' ' . ' '' ' and . 's . 's been a . 's .\n",
            "\n",
            "\n",
            "Context: New York\n",
            "\n",
            "Generated text: New York Mayor of London Mayor Michael Bloomberg said : 'We are delighted to be a very good idea . ' '' 's . ' '' 'We are now . ' '' 's . 's . ' . ' . 's\n",
            "\n",
            "\n",
            "Context: A hurricane\n",
            "\n",
            "Generated text: A hurricane in the region is now being built in the southern region of the city of <rare> , which is now ## miles north of the city . ' '' 's spokesman said . 's . 's . ' .\n",
            "\n"
          ]
        },
        {
          "output_type": "stream",
          "name": "stderr",
          "text": [
            "Epoch 1/1:  11%|█         | 18757/172148 [32:16<30:49:15,  1.38it/s, loss=4.1156]"
          ]
        },
        {
          "output_type": "stream",
          "name": "stdout",
          "text": [
            "\n",
            "Context: The President\n",
            "\n",
            "Generated text: The President is now in the middle of the year . ' '' ' , the report said . ' '' 'The . ' '' ' . ' '' 'We 're not going to be a . 's . 's . 's ' .\n",
            "\n"
          ]
        },
        {
          "output_type": "stream",
          "name": "stderr",
          "text": [
            "Epoch 1/1:  12%|█▏        | 20317/172148 [34:53<3:52:30, 10.88it/s, loss=4.1541]"
          ]
        },
        {
          "output_type": "stream",
          "name": "stdout",
          "text": [
            "\n",
            "After 200064 examples, Average Loss: 4.2459\n"
          ]
        },
        {
          "output_type": "stream",
          "name": "stderr",
          "text": [
            "\n",
            "Evaluating:   0%|          | 0/3514 [00:00<?, ?it/s]\u001b[A\n",
            "Evaluating:   0%|          | 2/3514 [00:00<03:03, 19.09it/s]\u001b[A\n",
            "Evaluating:   0%|          | 4/3514 [00:00<03:00, 19.45it/s]\u001b[A\n",
            "Evaluating:   0%|          | 6/3514 [00:00<03:03, 19.10it/s]\u001b[A\n",
            "                                                            \u001b[A"
          ]
        },
        {
          "output_type": "stream",
          "name": "stdout",
          "text": [
            "\n",
            "Validation Average Loss: 4.2161, Perplexity: 67.77\n",
            "\n",
            "Context: Moscow\n",
            "\n",
            "Generated text: Moscow 's office said it was `` a very difficult decision '' . '' 'We 're not going to be able to make sure that the country 's future . ' '' ' . 's . 's a `` . ' . 's\n",
            "\n",
            "\n",
            "Context: New York\n",
            "\n",
            "Generated text: New York : The ##-year-old was shot dead in the head and was shot dead in the head . ' '' 's office said . 'We 're not sure . ' he said . 's . 's . 's .\n",
            "\n",
            "\n",
            "Context: A hurricane\n",
            "\n",
            "Generated text: A hurricane in the northwest of the city of <rare> , which is believed to be a major destination for the country . ' '' 's <rare> . ' . ' . ' . 's . ' . ' . '\n",
            "\n"
          ]
        },
        {
          "output_type": "stream",
          "name": "stderr",
          "text": [
            "Epoch 1/1:  12%|█▏        | 20320/172148 [34:57<24:17:23,  1.74it/s, loss=4.1241]"
          ]
        },
        {
          "output_type": "stream",
          "name": "stdout",
          "text": [
            "\n",
            "Context: The President\n",
            "\n",
            "Generated text: The President 's office said the two-year-old was a 'slight ' and ' a 'would of the '##s ' . ' '' ' . ' '' ' . 's . ' . 's . ' . '\n",
            "\n"
          ]
        },
        {
          "output_type": "stream",
          "name": "stderr",
          "text": [
            "Epoch 1/1:  13%|█▎        | 21880/172148 [37:35<4:55:00,  8.49it/s, loss=4.2967]"
          ]
        },
        {
          "output_type": "stream",
          "name": "stdout",
          "text": [
            "\n",
            "After 200064 examples, Average Loss: 4.2375\n"
          ]
        },
        {
          "output_type": "stream",
          "name": "stderr",
          "text": [
            "\n",
            "Evaluating:   0%|          | 0/3514 [00:00<?, ?it/s]\u001b[A\n",
            "Evaluating:   0%|          | 2/3514 [00:00<03:11, 18.39it/s]\u001b[A\n",
            "Evaluating:   0%|          | 4/3514 [00:00<03:05, 18.90it/s]\u001b[A\n",
            "Evaluating:   0%|          | 6/3514 [00:00<03:02, 19.23it/s]\u001b[A\n",
            "                                                            \u001b[A"
          ]
        },
        {
          "output_type": "stream",
          "name": "stdout",
          "text": [
            "\n",
            "Validation Average Loss: 4.1960, Perplexity: 66.42\n",
            "\n",
            "Context: Moscow\n",
            "\n",
            "Generated text: Moscow has been accused of killing the ##-year-old of the attack . ' '' 's attorney . ' '' . ' '' . ' . ' . ' . ' . ' . 's . ' . 's . ' . '\n",
            "\n",
            "\n",
            "Context: New York\n",
            "\n",
            "Generated text: New York City Mayor Mike P.J . ' '' 's attorney , `` I 'm not sure what the president is . '' '' 's office said . ' '' . ' '' 's . 's . 's . 's\n",
            "\n",
            "\n",
            "Context: A hurricane\n",
            "\n",
            "Generated text: A hurricane in the area is now being held in the eastern province of the capital of the country . ' '' said . 'We 're not sure . ' '' ' . ' he said . ' . ' . ' . ' . '\n",
            "\n"
          ]
        },
        {
          "output_type": "stream",
          "name": "stderr",
          "text": [
            "Epoch 1/1:  13%|█▎        | 21883/172148 [37:39<33:00:19,  1.26it/s, loss=4.0868]"
          ]
        },
        {
          "output_type": "stream",
          "name": "stdout",
          "text": [
            "\n",
            "Context: The President\n",
            "\n",
            "Generated text: The President has been criticised for the `` serious and serious consequences of the violence . '' '' . ' '' said . ' '' . ' '' . ' '' . ' '' . ' '' . 's . ' . ' . 's . '\n",
            "\n"
          ]
        },
        {
          "output_type": "stream",
          "name": "stderr",
          "text": [
            "Epoch 1/1:  14%|█▎        | 23443/172148 [40:16<3:50:48, 10.74it/s, loss=4.1807]"
          ]
        },
        {
          "output_type": "stream",
          "name": "stdout",
          "text": [
            "\n",
            "After 200064 examples, Average Loss: 4.2268\n"
          ]
        },
        {
          "output_type": "stream",
          "name": "stderr",
          "text": [
            "\n",
            "Evaluating:   0%|          | 0/3514 [00:00<?, ?it/s]\u001b[A\n",
            "Evaluating:   0%|          | 2/3514 [00:00<03:19, 17.62it/s]\u001b[A\n",
            "Evaluating:   0%|          | 4/3514 [00:00<03:10, 18.43it/s]\u001b[A\n",
            "Evaluating:   0%|          | 6/3514 [00:00<03:05, 18.88it/s]\u001b[A\n",
            "                                                            \u001b[A"
          ]
        },
        {
          "output_type": "stream",
          "name": "stdout",
          "text": [
            "\n",
            "Validation Average Loss: 4.1884, Perplexity: 65.92\n",
            "\n",
            "Context: Moscow\n",
            "\n",
            "Generated text: Moscow 's government has been in the midst of a crisis . '' ' '' he said . ' '' 's statement . ' '' ' . ' '' 'The . ' '' ' he said . 's . 's . 's . '\n",
            "\n",
            "\n",
            "Context: New York\n",
            "\n",
            "Generated text: New York City 's Secret Service said the ##-year-old was a `` very good , '' and `` a great-grandfather . '' '' '' . '' ' '' . ' '' 's statement . 's . 's . '\n",
            "\n",
            "\n",
            "Context: A hurricane\n",
            "\n",
            "Generated text: A hurricane in the area is a very small area of the area . ' '' ' and the airline 's airline . ' '' 's statement said . ' '' ' . ' '' ' . ' . ' . ' . '\n",
            "\n"
          ]
        },
        {
          "output_type": "stream",
          "name": "stderr",
          "text": [
            "Epoch 1/1:  14%|█▎        | 23446/172148 [40:21<26:54:42,  1.53it/s, loss=4.1899]"
          ]
        },
        {
          "output_type": "stream",
          "name": "stdout",
          "text": [
            "\n",
            "Context: The President\n",
            "\n",
            "Generated text: The President said the government 's decision to be taken to the Commons committee . ' '' 's report said . ' '' 's report . ' '' ' . ' '' ' . 'We . 's . 's . 's . '\n",
            "\n"
          ]
        },
        {
          "output_type": "stream",
          "name": "stderr",
          "text": [
            "Epoch 1/1:  15%|█▍        | 25007/172148 [42:58<3:53:42, 10.49it/s, loss=4.1775]"
          ]
        },
        {
          "output_type": "stream",
          "name": "stdout",
          "text": [
            "\n",
            "After 200064 examples, Average Loss: 4.2131\n"
          ]
        },
        {
          "output_type": "stream",
          "name": "stderr",
          "text": [
            "\n",
            "Evaluating:   0%|          | 0/3514 [00:00<?, ?it/s]\u001b[A\n",
            "Evaluating:   0%|          | 2/3514 [00:00<03:17, 17.80it/s]\u001b[A\n",
            "Evaluating:   0%|          | 4/3514 [00:00<03:08, 18.66it/s]\u001b[A\n",
            "Evaluating:   0%|          | 6/3514 [00:00<03:05, 18.94it/s]\u001b[A\n",
            "                                                            \u001b[A"
          ]
        },
        {
          "output_type": "stream",
          "name": "stdout",
          "text": [
            "\n",
            "Validation Average Loss: 4.1887, Perplexity: 65.94\n",
            "\n",
            "Context: Moscow\n",
            "\n",
            "Generated text: Moscow 's nuclear programme is a major issue of the region . '' ' . ' '' ' . ' '' ' . ' '' ' . ' '' ' . ' '' 's . ' '' 's . 's . 's . 's\n",
            "\n",
            "\n",
            "Context: New York\n",
            "\n",
            "Generated text: New York City police chiefs said the attack was `` a very serious incident '' . '' 'The . ' '' ' . ' '' ' . ' '' ' . ' '' ' . ' '' 's . ' . ' . 's . '\n",
            "\n",
            "\n",
            "Context: A hurricane\n",
            "\n",
            "Generated text: A hurricane in the area is a major area of the city 's city of <rare> , which is a major event . '' ' . ' '' ' . ' '' ' . ' . ' . ' . ' . ' . '\n",
            "\n"
          ]
        },
        {
          "output_type": "stream",
          "name": "stderr",
          "text": [
            "Epoch 1/1:  15%|█▍        | 25009/172148 [43:02<29:29:27,  1.39it/s, loss=4.1637]"
          ]
        },
        {
          "output_type": "stream",
          "name": "stdout",
          "text": [
            "\n",
            "Context: The President\n",
            "\n",
            "Generated text: The President has been accused of a 'great ' and 's ' . ' '' ' . ' '' ' and said he was 'very concerned ' . ' '' ' . ' . ' . ' . ' . ' . ' . ' .\n",
            "\n"
          ]
        },
        {
          "output_type": "stream",
          "name": "stderr",
          "text": [
            "Epoch 1/1:  15%|█▌        | 26570/172148 [45:39<3:49:09, 10.59it/s, loss=4.2747]"
          ]
        },
        {
          "output_type": "stream",
          "name": "stdout",
          "text": [
            "\n",
            "After 200064 examples, Average Loss: 4.2053\n"
          ]
        },
        {
          "output_type": "stream",
          "name": "stderr",
          "text": [
            "\n",
            "Evaluating:   0%|          | 0/3514 [00:00<?, ?it/s]\u001b[A\n",
            "Evaluating:   0%|          | 2/3514 [00:00<03:05, 18.90it/s]\u001b[A\n",
            "Evaluating:   0%|          | 4/3514 [00:00<03:02, 19.21it/s]\u001b[A\n",
            "Evaluating:   0%|          | 6/3514 [00:00<03:03, 19.16it/s]\u001b[A\n",
            "                                                            \u001b[A"
          ]
        },
        {
          "output_type": "stream",
          "name": "stdout",
          "text": [
            "\n",
            "Validation Average Loss: 4.1817, Perplexity: 65.48\n",
            "\n",
            "Context: Moscow\n",
            "\n",
            "Generated text: Moscow has been a major concern for the Russian military and the U.S. military . '' '' said . ' '' . ' '' . ' '' . ' '' 's . ' '' 's . 's . 's . ' . '\n",
            "\n",
            "\n",
            "Context: New York\n",
            "\n",
            "Generated text: New York City Mayor Bill Clinton said : `` We are very pleased to have a good job . '' 's decision . '' ' '' . ' '' ' . ' '' ' . ' '' 's . 's . 's . 's\n",
            "\n",
            "\n",
            "Context: A hurricane\n",
            "\n",
            "Generated text: A hurricane has been reportedly in the area , which has been in the north of the city 's capital , which has been in the region . ' '' said . ' '' . ' . ' and the . ' . ' . '\n",
            "\n"
          ]
        },
        {
          "output_type": "stream",
          "name": "stderr",
          "text": [
            "Epoch 1/1:  15%|█▌        | 26572/172148 [45:44<32:54:40,  1.23it/s, loss=4.2757]"
          ]
        },
        {
          "output_type": "stream",
          "name": "stdout",
          "text": [
            "\n",
            "Context: The President\n",
            "\n",
            "Generated text: The President has said he has been `` a very good man . '' '' . ' '' ' and said he is sorry for the incident . ' '' ' . ' '' ' . ' '' 's . ' . 's . 's . '\n",
            "\n"
          ]
        },
        {
          "output_type": "stream",
          "name": "stderr",
          "text": [
            "Epoch 1/1:  16%|█▋        | 28132/172148 [48:22<3:51:02, 10.39it/s, loss=4.1158]"
          ]
        },
        {
          "output_type": "stream",
          "name": "stdout",
          "text": [
            "\n",
            "After 200064 examples, Average Loss: 4.1980\n"
          ]
        },
        {
          "output_type": "stream",
          "name": "stderr",
          "text": [
            "\n",
            "Evaluating:   0%|          | 0/3514 [00:00<?, ?it/s]\u001b[A\n",
            "Evaluating:   0%|          | 2/3514 [00:00<03:05, 18.88it/s]\u001b[A\n",
            "Evaluating:   0%|          | 4/3514 [00:00<03:08, 18.63it/s]\u001b[A\n",
            "Evaluating:   0%|          | 6/3514 [00:00<03:04, 19.06it/s]\u001b[A\n",
            "                                                            \u001b[A"
          ]
        },
        {
          "output_type": "stream",
          "name": "stdout",
          "text": [
            "\n",
            "Validation Average Loss: 4.1774, Perplexity: 65.19\n",
            "\n",
            "Context: Moscow\n",
            "\n",
            "Generated text: Moscow has been in the past few years , and has been in the past few years . '' ' . ' '' ' . ' '' ' . ' '' ' . ' '' ' . ' . 's . 's . 's . ' .\n",
            "\n",
            "\n",
            "Context: New York\n",
            "\n",
            "Generated text: New York Times : The couple 's mother , who is married to the couple , were married . 'Sapp . ' '' ' . ' '' ' . ' . ' . ' . ' . ' . 's . 's . 's\n",
            "\n",
            "\n",
            "Context: A hurricane\n",
            "\n",
            "Generated text: A hurricane , which is the first time the country is in the world , is now in the midst of a massive storm . '' 's spokesman . ' '' 's . ' . ' . 's . ' . 's\n",
            "\n"
          ]
        },
        {
          "output_type": "stream",
          "name": "stderr",
          "text": [
            "Epoch 1/1:  16%|█▋        | 28135/172148 [48:26<23:29:45,  1.70it/s, loss=4.1421]"
          ]
        },
        {
          "output_type": "stream",
          "name": "stdout",
          "text": [
            "\n",
            "Context: The President\n",
            "\n",
            "Generated text: The President , who is in the midst of a new campaign , has been in the past few years . '' 's ##-year-old son of the British . ' '' 's . 's . 's . 's . 's\n",
            "\n"
          ]
        },
        {
          "output_type": "stream",
          "name": "stderr",
          "text": [
            "Epoch 1/1:  17%|█▋        | 29696/172148 [51:03<3:39:59, 10.79it/s, loss=4.0000]"
          ]
        },
        {
          "output_type": "stream",
          "name": "stdout",
          "text": [
            "\n",
            "After 200064 examples, Average Loss: 4.1884\n"
          ]
        },
        {
          "output_type": "stream",
          "name": "stderr",
          "text": [
            "\n",
            "Evaluating:   0%|          | 0/3514 [00:00<?, ?it/s]\u001b[A\n",
            "Evaluating:   0%|          | 2/3514 [00:00<03:16, 17.86it/s]\u001b[A\n",
            "Evaluating:   0%|          | 4/3514 [00:00<03:05, 18.88it/s]\u001b[A\n",
            "Evaluating:   0%|          | 6/3514 [00:00<03:03, 19.08it/s]\u001b[A\n",
            "                                                            \u001b[A"
          ]
        },
        {
          "output_type": "stream",
          "name": "stdout",
          "text": [
            "\n",
            "Validation Average Loss: 4.1631, Perplexity: 64.27\n",
            "\n",
            "Context: Moscow\n",
            "\n",
            "Generated text: Moscow has been accused of being part of the attack . '' ' and said he was . ' '' . ' '' . ' '' . ' '' . ' '' . ' '' . ' . 's . ' . ' . ' . ' . '\n",
            "\n",
            "\n",
            "Context: New York\n",
            "\n",
            "Generated text: New York City 's first-ever-## win over the United States . '' 's ##-year-old son , who was the first to be the first of the ##th Century . 's . 's . 's . '\n",
            "\n",
            "\n",
            "Context: A hurricane\n",
            "\n",
            "Generated text: A hurricane in the middle of the day of the storm . ' '' , he said . ' '' . ' '' . ' '' . ' '' . ' '' . ' '' . 'The . 's . 's . ' . '\n",
            "\n"
          ]
        },
        {
          "output_type": "stream",
          "name": "stderr",
          "text": [
            "Epoch 1/1:  17%|█▋        | 29698/172148 [51:08<33:17:40,  1.19it/s, loss=4.2216]"
          ]
        },
        {
          "output_type": "stream",
          "name": "stdout",
          "text": [
            "\n",
            "Context: The President\n",
            "\n",
            "Generated text: The President of the U.S. Embassy in the U.S. Embassy in the U.S. Embassy in the U.S. Embassy in the U.S. District of Defense of the\n",
            "\n"
          ]
        },
        {
          "output_type": "stream",
          "name": "stderr",
          "text": [
            "Epoch 1/1:  18%|█▊        | 31258/172148 [53:44<3:36:03, 10.87it/s, loss=4.3244]"
          ]
        },
        {
          "output_type": "stream",
          "name": "stdout",
          "text": [
            "\n",
            "After 200064 examples, Average Loss: 4.1871\n"
          ]
        },
        {
          "output_type": "stream",
          "name": "stderr",
          "text": [
            "\n",
            "Evaluating:   0%|          | 0/3514 [00:00<?, ?it/s]\u001b[A\n",
            "Evaluating:   0%|          | 2/3514 [00:00<02:58, 19.63it/s]\u001b[A\n",
            "Evaluating:   0%|          | 4/3514 [00:00<02:59, 19.60it/s]\u001b[A\n",
            "Evaluating:   0%|          | 6/3514 [00:00<02:57, 19.76it/s]\u001b[A\n",
            "                                                            \u001b[A"
          ]
        },
        {
          "output_type": "stream",
          "name": "stdout",
          "text": [
            "\n",
            "Validation Average Loss: 4.1580, Perplexity: 63.94\n",
            "\n",
            "Context: Moscow\n",
            "\n",
            "Generated text: Moscow has been a major problem in the past . '' ' '' and has been a `` huge increase in the economy . '' '' ' . '' ' '' . ' '' ' . ' '' ' . ' . ' . ' . ' . ' .\n",
            "\n",
            "\n",
            "Context: New York\n",
            "\n",
            "Generated text: New York City 's ##-year-old son , who was a teacher at the time of the shooting . ' '' 's . ' '' ' . ' '' ' . ' '' . ' . ' . ' . ' . ' . '\n",
            "\n",
            "\n",
            "Context: A hurricane\n",
            "\n",
            "Generated text: A hurricane in the area is expected to be closed in the city of <rare> . ' '' ' . ' '' ' . ' '' ' . ' '' ' . ' '' ' . ' . ' . ' . ' . ' .\n",
            "\n"
          ]
        },
        {
          "output_type": "stream",
          "name": "stderr",
          "text": [
            "Epoch 1/1:  18%|█▊        | 31261/172148 [53:48<22:27:49,  1.74it/s, loss=4.2839]"
          ]
        },
        {
          "output_type": "stream",
          "name": "stdout",
          "text": [
            "\n",
            "Context: The President\n",
            "\n",
            "Generated text: The President 's office said the `` no-one '' was notified by the government 's decision . '' 's report . '' ' . '' ' . ' '' ' . '' 's . ' . ' . 's . ' .\n",
            "\n"
          ]
        },
        {
          "output_type": "stream",
          "name": "stderr",
          "text": [
            "Epoch 1/1:  19%|█▉        | 32822/172148 [56:25<4:32:09,  8.53it/s, loss=4.0758]"
          ]
        },
        {
          "output_type": "stream",
          "name": "stdout",
          "text": [
            "\n",
            "After 200064 examples, Average Loss: 4.1766\n"
          ]
        },
        {
          "output_type": "stream",
          "name": "stderr",
          "text": [
            "\n",
            "Evaluating:   0%|          | 0/3514 [00:00<?, ?it/s]\u001b[A\n",
            "Evaluating:   0%|          | 2/3514 [00:00<04:24, 13.29it/s]\u001b[A\n",
            "Evaluating:   0%|          | 4/3514 [00:00<04:36, 12.68it/s]\u001b[A\n",
            "Evaluating:   0%|          | 6/3514 [00:00<04:58, 11.76it/s]\u001b[A\n",
            "                                                            \u001b[A"
          ]
        },
        {
          "output_type": "stream",
          "name": "stdout",
          "text": [
            "\n",
            "Validation Average Loss: 4.1480, Perplexity: 63.31\n",
            "\n",
            "Context: Moscow\n",
            "\n",
            "Generated text: Moscow has been criticized by the U.S. and its nuclear weapons . '' 's report . ' '' said . ' '' . ' '' . ' '' 's . ' . 's . ' . ' . 's ' . '\n",
            "\n",
            "\n",
            "Context: New York\n",
            "\n",
            "Generated text: New York City : The couple were in the middle of the road and the couple were in the car . ' '' 's . ' '' ' . ' '' ' . ' '' ' . ' . 's . 's . 's . '\n",
            "\n",
            "\n",
            "Context: A hurricane\n",
            "\n",
            "Generated text: A hurricane in the region is expected to be closed in the southwest of the city , where the city is expected to be closed . '' 's ##-year-old . 'The . 's . ' . ' . ' .\n",
            "\n"
          ]
        },
        {
          "output_type": "stream",
          "name": "stderr",
          "text": [
            "Epoch 1/1:  19%|█▉        | 32824/172148 [56:30<42:09:04,  1.09s/it, loss=4.2418]"
          ]
        },
        {
          "output_type": "stream",
          "name": "stdout",
          "text": [
            "\n",
            "Context: The President\n",
            "\n",
            "Generated text: The President 's office said the decision was `` a very good thing '' . '' 's report . ' '' ' . ' '' ' . ' '' ' . ' '' ' . ' '' 's . 's . 's . 's\n",
            "\n"
          ]
        },
        {
          "output_type": "stream",
          "name": "stderr",
          "text": [
            "Epoch 1/1:  20%|█▉        | 34384/172148 [59:07<3:34:31, 10.70it/s, loss=4.2542]"
          ]
        },
        {
          "output_type": "stream",
          "name": "stdout",
          "text": [
            "\n",
            "After 200064 examples, Average Loss: 4.1693\n"
          ]
        },
        {
          "output_type": "stream",
          "name": "stderr",
          "text": [
            "\n",
            "Evaluating:   0%|          | 0/3514 [00:00<?, ?it/s]\u001b[A\n",
            "Evaluating:   0%|          | 2/3514 [00:00<03:12, 18.26it/s]\u001b[A\n",
            "Evaluating:   0%|          | 4/3514 [00:00<03:06, 18.85it/s]\u001b[A\n",
            "Evaluating:   0%|          | 6/3514 [00:00<03:03, 19.10it/s]\u001b[A\n",
            "                                                            \u001b[A"
          ]
        },
        {
          "output_type": "stream",
          "name": "stdout",
          "text": [
            "\n",
            "Validation Average Loss: 4.1454, Perplexity: 63.14\n",
            "\n",
            "Context: Moscow\n",
            "\n",
            "Generated text: Moscow has been working on the site since #### . ' '' ' . ' '' ' . ' '' ' . ' '' ' . ' '' ' . ' '' ' . ' '' ' . 's . ' . ' . 's . ' .\n",
            "\n",
            "\n",
            "Context: New York\n",
            "\n",
            "Generated text: New York City : The ##-year-old , who is pictured with his wife , is pictured with her mother . ' '' . ' '' ' . ' . ' . 's . ' . ' . 's . '\n",
            "\n",
            "\n",
            "Context: A hurricane\n",
            "\n",
            "Generated text: A hurricane in the sky is expected to be the first of the year . '' ' . ' '' ' . ' '' ' . ' '' ' . ' '' ' . ' '' ' . ' . ' . ' . ' . ' .\n",
            "\n"
          ]
        },
        {
          "output_type": "stream",
          "name": "stderr",
          "text": [
            "Epoch 1/1:  20%|█▉        | 34387/172148 [59:11<22:26:08,  1.71it/s, loss=4.1616]"
          ]
        },
        {
          "output_type": "stream",
          "name": "stdout",
          "text": [
            "\n",
            "Context: The President\n",
            "\n",
            "Generated text: The President 's office said the two-day investigation was `` a very serious case '' . '' ' '' . ' '' ' . ' '' ' . ' '' ' . ' '' ' . 's . 's . 's . 's\n",
            "\n"
          ]
        },
        {
          "output_type": "stream",
          "name": "stderr",
          "text": [
            "Epoch 1/1:  21%|██        | 35947/172148 [1:01:50<3:41:48, 10.23it/s, loss=4.1273]"
          ]
        },
        {
          "output_type": "stream",
          "name": "stdout",
          "text": [
            "\n",
            "After 200064 examples, Average Loss: 4.1646\n"
          ]
        },
        {
          "output_type": "stream",
          "name": "stderr",
          "text": [
            "\n",
            "Evaluating:   0%|          | 0/3514 [00:00<?, ?it/s]\u001b[A\n",
            "Evaluating:   0%|          | 2/3514 [00:00<03:01, 19.35it/s]\u001b[A\n",
            "Evaluating:   0%|          | 4/3514 [00:00<03:01, 19.36it/s]\u001b[A\n",
            "Evaluating:   0%|          | 6/3514 [00:00<03:03, 19.15it/s]\u001b[A\n",
            "                                                            \u001b[A"
          ]
        },
        {
          "output_type": "stream",
          "name": "stdout",
          "text": [
            "\n",
            "Validation Average Loss: 4.1386, Perplexity: 62.71\n",
            "\n",
            "Context: Moscow\n",
            "\n",
            "Generated text: Moscow 's latest attempt to halt the attack . '' ' '' . ' '' ' I 'm not sure what 's going on . ' '' ' . ' '' ' . ' '' 's . ' . ' . 's . ' .\n",
            "\n",
            "\n",
            "Context: New York\n",
            "\n",
            "Generated text: New York City : The ##-year-old , who was born in #### , was born in the ####s , was born in the ####s . ' '' . ' '' ' . ' . ' . ' I . ' . ' . '\n",
            "\n",
            "\n",
            "Context: A hurricane\n",
            "\n",
            "Generated text: A hurricane in the region of the city of the city of the capital of the city of the city of the city of the city of the city of the capital . ' '' . ' '' . ' . ' . ' . ' . '\n",
            "\n"
          ]
        },
        {
          "output_type": "stream",
          "name": "stderr",
          "text": [
            "Epoch 1/1:  21%|██        | 35950/172148 [1:01:54<23:13:49,  1.63it/s, loss=4.1826]"
          ]
        },
        {
          "output_type": "stream",
          "name": "stdout",
          "text": [
            "\n",
            "Context: The President\n",
            "\n",
            "Generated text: The President said the government was `` very disappointed '' . '' 'We 're not sure what the government would have done . ' '' ' . ' '' ' . ' '' ' . ' '' . '### 's decision to . '\n",
            "\n"
          ]
        },
        {
          "output_type": "stream",
          "name": "stderr",
          "text": [
            "Epoch 1/1:  22%|██▏       | 37511/172148 [1:04:31<3:27:18, 10.82it/s, loss=4.0491]"
          ]
        },
        {
          "output_type": "stream",
          "name": "stdout",
          "text": [
            "\n",
            "After 200064 examples, Average Loss: 4.1612\n"
          ]
        },
        {
          "output_type": "stream",
          "name": "stderr",
          "text": [
            "\n",
            "Evaluating:   0%|          | 0/3514 [00:00<?, ?it/s]\u001b[A\n",
            "Evaluating:   0%|          | 2/3514 [00:00<03:17, 17.80it/s]\u001b[A\n",
            "Evaluating:   0%|          | 4/3514 [00:00<03:11, 18.30it/s]\u001b[A\n",
            "Evaluating:   0%|          | 6/3514 [00:00<03:04, 19.03it/s]\u001b[A\n",
            "                                                            \u001b[A"
          ]
        },
        {
          "output_type": "stream",
          "name": "stdout",
          "text": [
            "\n",
            "Validation Average Loss: 4.1351, Perplexity: 62.50\n",
            "\n",
            "Context: Moscow\n",
            "\n",
            "Generated text: Moscow has been a major blow to the Syrian government . ' '' ' . ' '' ' . ' '' ' . ' '' ' . ' '' ' . ' '' ' . ' `` The . 's . ' . 's . ' .\n",
            "\n",
            "\n",
            "Context: New York\n",
            "\n",
            "Generated text: New York City : The couple 's daughter , who was born in #### , was born in #### . ' '' ' . ' '' ' . ' '' ' . ' '' ' . ' . ' . ' . 's . 's . '\n",
            "\n",
            "\n",
            "Context: A hurricane\n",
            "\n",
            "Generated text: A hurricane warning was not immediately clear . ' '' ' . ' '' ' `` The . ' '' ' `` The . ' '' ' `` The . ' '' `` The . ' '' `` The 's `` the first time to be a\n",
            "\n"
          ]
        },
        {
          "output_type": "stream",
          "name": "stderr",
          "text": [
            "Epoch 1/1:  22%|██▏       | 37513/172148 [1:04:36<28:23:41,  1.32it/s, loss=4.0702]"
          ]
        },
        {
          "output_type": "stream",
          "name": "stdout",
          "text": [
            "\n",
            "Context: The President\n",
            "\n",
            "Generated text: The President 's decision to take the next steps to help the country 's military and the Palestinians . '' ' . ' '' ' . ' '' ' . ' . ' '' 's . ' . ' . 's . ' .\n",
            "\n"
          ]
        },
        {
          "output_type": "stream",
          "name": "stderr",
          "text": [
            "Epoch 1/1:  23%|██▎       | 39073/172148 [1:07:14<3:26:07, 10.76it/s, loss=4.1167]"
          ]
        },
        {
          "output_type": "stream",
          "name": "stdout",
          "text": [
            "\n",
            "After 200064 examples, Average Loss: 4.1552\n"
          ]
        },
        {
          "output_type": "stream",
          "name": "stderr",
          "text": [
            "\n",
            "Evaluating:   0%|          | 0/3514 [00:00<?, ?it/s]\u001b[A\n",
            "Evaluating:   0%|          | 2/3514 [00:00<03:07, 18.75it/s]\u001b[A\n",
            "Evaluating:   0%|          | 4/3514 [00:00<03:04, 19.06it/s]\u001b[A\n",
            "Evaluating:   0%|          | 6/3514 [00:00<03:02, 19.18it/s]\u001b[A\n",
            "                                                            \u001b[A"
          ]
        },
        {
          "output_type": "stream",
          "name": "stdout",
          "text": [
            "\n",
            "Validation Average Loss: 4.1172, Perplexity: 61.39\n",
            "\n",
            "Context: Moscow\n",
            "\n",
            "Generated text: Moscow has been accused of `` a very dangerous act '' in the past . ' '' . ' '' . ' '' . ' '' . ' '' . ' '' . ' '' . 's . 's . 's . 's . ' .\n",
            "\n",
            "\n",
            "Context: New York\n",
            "\n",
            "Generated text: New York 's <rare> , the ##-year-old , was arrested on suspicion of murder in the #### murder of his wife . ' '' . ' '' . ' '' . 's . 's . 's 's .\n",
            "\n",
            "\n",
            "Context: A hurricane\n",
            "\n",
            "Generated text: A hurricane warning is expected to be made to be seen as a result of the storm . ' '' . ' '' . ' '' . ' '' . ' '' . ' . 's . 's spokesman . 's spokes\n",
            "\n"
          ]
        },
        {
          "output_type": "stream",
          "name": "stderr",
          "text": [
            "Epoch 1/1:  23%|██▎       | 39076/172148 [1:07:17<21:23:30,  1.73it/s, loss=4.1353]"
          ]
        },
        {
          "output_type": "stream",
          "name": "stdout",
          "text": [
            "\n",
            "Context: The President\n",
            "\n",
            "Generated text: The President 's office said the decision was `` a very significant step '' . ' '' . ' '' . ' '' 's statement . ' '' 's . ' '' 's . 's . 's `` The . 's . '\n",
            "\n"
          ]
        },
        {
          "output_type": "stream",
          "name": "stderr",
          "text": [
            "Epoch 1/1:  24%|██▎       | 40637/172148 [1:09:54<3:23:21, 10.78it/s, loss=4.0962]"
          ]
        },
        {
          "output_type": "stream",
          "name": "stdout",
          "text": [
            "\n",
            "After 200064 examples, Average Loss: 4.1490\n"
          ]
        },
        {
          "output_type": "stream",
          "name": "stderr",
          "text": [
            "\n",
            "Evaluating:   0%|          | 0/3514 [00:00<?, ?it/s]\u001b[A\n",
            "Evaluating:   0%|          | 2/3514 [00:00<03:06, 18.87it/s]\u001b[A\n",
            "Evaluating:   0%|          | 4/3514 [00:00<03:05, 18.93it/s]\u001b[A\n",
            "Evaluating:   0%|          | 6/3514 [00:00<03:03, 19.16it/s]\u001b[A\n",
            "                                                            \u001b[A"
          ]
        },
        {
          "output_type": "stream",
          "name": "stdout",
          "text": [
            "\n",
            "Validation Average Loss: 4.1209, Perplexity: 61.61\n",
            "\n",
            "Context: Moscow\n",
            "\n",
            "Generated text: Moscow 's military force is the first time the country 's largest nuclear program has been in the world . '' 's ##-year-old . ' '' 's . ' '' said . ' IRA . 's . 's .\n",
            "\n",
            "\n",
            "Context: New York\n",
            "\n",
            "Generated text: New York City : The ##-year-old was arrested on suspicion of murdering his wife , ## , and a ##-year-old girl . 'The . ' I 'm not sure . ' . ' . ' . 's\n",
            "\n",
            "\n",
            "Context: A hurricane\n",
            "\n",
            "Generated text: A hurricane center is expected to be the first of the ##th century . '' ' . ' '' ' . ' '' ' . ' '' ' . ' '' ' . ' '' 's new . 's . 's . 's\n",
            "\n"
          ]
        },
        {
          "output_type": "stream",
          "name": "stderr",
          "text": [
            "Epoch 1/1:  24%|██▎       | 40639/172148 [1:10:00<35:06:09,  1.04it/s, loss=4.2189]"
          ]
        },
        {
          "output_type": "stream",
          "name": "stdout",
          "text": [
            "\n",
            "Context: The President\n",
            "\n",
            "Generated text: The President 's office has been set up to the public to discuss the situation . '' 's report . ' '' ' . ' '' ' . ' '' ' . ' . ' . 's . 's . ' . 's . '\n",
            "\n"
          ]
        },
        {
          "output_type": "stream",
          "name": "stderr",
          "text": [
            "Epoch 1/1:  25%|██▍       | 42199/172148 [1:12:38<3:24:33, 10.59it/s, loss=4.0200]"
          ]
        },
        {
          "output_type": "stream",
          "name": "stdout",
          "text": [
            "\n",
            "After 200064 examples, Average Loss: 4.1474\n"
          ]
        },
        {
          "output_type": "stream",
          "name": "stderr",
          "text": [
            "\n",
            "Evaluating:   0%|          | 0/3514 [00:00<?, ?it/s]\u001b[A\n",
            "Evaluating:   0%|          | 2/3514 [00:00<03:06, 18.86it/s]\u001b[A\n",
            "Evaluating:   0%|          | 4/3514 [00:00<03:02, 19.20it/s]\u001b[A\n",
            "Evaluating:   0%|          | 6/3514 [00:00<03:03, 19.15it/s]\u001b[A\n",
            "                                                            \u001b[A"
          ]
        },
        {
          "output_type": "stream",
          "name": "stdout",
          "text": [
            "\n",
            "Validation Average Loss: 4.1193, Perplexity: 61.51\n",
            "\n",
            "Context: Moscow\n",
            "\n",
            "Generated text: Moscow 's military junta , the U.S. government , said it was `` not a `` significant threat '' . '' '' . ' '' . ' '' ' . ' '' ' . 's . ' . 'sowed President Barack\n",
            "\n",
            "\n",
            "Context: New York\n",
            "\n",
            "Generated text: New York Times Square , which is the first to be seen in the ####s , is the first to be the first of the year . ' '' . ' '' ' . ' . ' . ' . ' . 's <rare> . '\n",
            "\n",
            "\n",
            "Context: A hurricane\n",
            "\n",
            "Generated text: A hurricane warning is expected to be seen as a result of the storm . '' ' . ' '' ' . ' '' ' . ' '' ' . ' '' ' . ' . ' I 's . ' . ' . ' . '\n",
            "\n"
          ]
        },
        {
          "output_type": "stream",
          "name": "stderr",
          "text": [
            "Epoch 1/1:  25%|██▍       | 42202/172148 [1:12:42<20:50:36,  1.73it/s, loss=4.1133]"
          ]
        },
        {
          "output_type": "stream",
          "name": "stdout",
          "text": [
            "\n",
            "Context: The President\n",
            "\n",
            "Generated text: The President 's office said the decision was `` not to be made '' . '' '' . ' '' . ' '' ' I 'm not sure how much it 's been done . ' Ips . ' . 's . ' . '\n",
            "\n"
          ]
        },
        {
          "output_type": "stream",
          "name": "stderr",
          "text": [
            "Epoch 1/1:  25%|██▌       | 43763/172148 [1:15:20<3:45:37,  9.48it/s, loss=4.2313]"
          ]
        },
        {
          "output_type": "stream",
          "name": "stdout",
          "text": [
            "\n",
            "After 200064 examples, Average Loss: 4.1430\n"
          ]
        },
        {
          "output_type": "stream",
          "name": "stderr",
          "text": [
            "\n",
            "Evaluating:   0%|          | 0/3514 [00:00<?, ?it/s]\u001b[A\n",
            "Evaluating:   0%|          | 2/3514 [00:00<03:53, 15.04it/s]\u001b[A\n",
            "Evaluating:   0%|          | 4/3514 [00:00<03:48, 15.35it/s]\u001b[A\n",
            "Evaluating:   0%|          | 6/3514 [00:00<03:47, 15.43it/s]\u001b[A\n",
            "                                                            \u001b[A"
          ]
        },
        {
          "output_type": "stream",
          "name": "stdout",
          "text": [
            "\n",
            "Validation Average Loss: 4.1194, Perplexity: 61.52\n",
            "\n",
            "Context: Moscow\n",
            "\n",
            "Generated text: Moscow has been trying to reassert control of the country . ' '' ' . ' '' ' . ' '' ' . ' '' ' . ' '' ' . ' '' ' . ' . ' . ' . ' . ' . ' . ' .\n",
            "\n",
            "\n",
            "Context: New York\n",
            "\n",
            "Generated text: New York City Mayor Bill de Blasio said the `` very important thing '' would be a `` significant step '' . '' '' `` the `` <rare> '' . '' '' '' . '' '' . '' . '' . '' '' . '' ''\n",
            "\n",
            "\n",
            "Context: A hurricane\n",
            "\n",
            "Generated text: A hurricane surgeon , who was a member of the Royal Navy , said the plane was `` very close '' . '' ' . ' '' . ' '' ' . ' '' ' . ' '' ' . ' . ' . ' . '\n",
            "\n"
          ]
        },
        {
          "output_type": "stream",
          "name": "stderr",
          "text": [
            "Epoch 1/1:  25%|██▌       | 43765/172148 [1:15:25<31:15:17,  1.14it/s, loss=4.1949]"
          ]
        },
        {
          "output_type": "stream",
          "name": "stdout",
          "text": [
            "\n",
            "Context: The President\n",
            "\n",
            "Generated text: The President 's office has been set up to the Senate 's parliamentary committee . ' '' ' . ' '' ' . ' '' ' . ' '' ' . ' '' ' . ' . 's . ' . 's . ' .\n",
            "\n"
          ]
        },
        {
          "output_type": "stream",
          "name": "stderr",
          "text": [
            "Epoch 1/1:  26%|██▋       | 45325/172148 [1:18:02<3:16:03, 10.78it/s, loss=4.0878]"
          ]
        },
        {
          "output_type": "stream",
          "name": "stdout",
          "text": [
            "\n",
            "After 200064 examples, Average Loss: 4.1393\n"
          ]
        },
        {
          "output_type": "stream",
          "name": "stderr",
          "text": [
            "\n",
            "Evaluating:   0%|          | 0/3514 [00:00<?, ?it/s]\u001b[A\n",
            "Evaluating:   0%|          | 2/3514 [00:00<03:06, 18.86it/s]\u001b[A\n",
            "Evaluating:   0%|          | 4/3514 [00:00<03:09, 18.51it/s]\u001b[A\n",
            "Evaluating:   0%|          | 6/3514 [00:00<03:06, 18.77it/s]\u001b[A\n",
            "                                                            \u001b[A"
          ]
        },
        {
          "output_type": "stream",
          "name": "stdout",
          "text": [
            "\n",
            "Validation Average Loss: 4.1040, Perplexity: 60.59\n",
            "\n",
            "Context: Moscow\n",
            "\n",
            "Generated text: Moscow has been accused of trying to tackle the attack . ' '' 's statement . ' '' . ' '' ' . ' I 'm not sure what 's happening . ' . 's . 's . 's . ' . '\n",
            "\n",
            "\n",
            "Context: New York\n",
            "\n",
            "Generated text: New Yorkers 's first game of the game was the first time the game was to be the first of the season . ' '' . ' '' ' . ' I . ' . ' . ' . ' . 's . 's . '\n",
            "\n",
            "\n",
            "Context: A hurricane\n",
            "\n",
            "Generated text: A hurricane warning signs of a storm in the region of the United States . '' 's office said . ' I 'm not sure what 's going to happen . ' '' . 's . 's . ' . ' . '\n",
            "\n"
          ]
        },
        {
          "output_type": "stream",
          "name": "stderr",
          "text": [
            "Epoch 1/1:  26%|██▋       | 45328/172148 [1:18:06<20:21:03,  1.73it/s, loss=4.1018]"
          ]
        },
        {
          "output_type": "stream",
          "name": "stdout",
          "text": [
            "\n",
            "Context: The President\n",
            "\n",
            "Generated text: The President of the United States , which has been in the past , has been in the past . ' '' ' . ' '' ' . ' '' ' . ' . ' . ' . 's . 's . 's . ' . '\n",
            "\n"
          ]
        },
        {
          "output_type": "stream",
          "name": "stderr",
          "text": [
            "Epoch 1/1:  27%|██▋       | 46889/172148 [1:20:44<4:20:18,  8.02it/s, loss=4.2479]"
          ]
        },
        {
          "output_type": "stream",
          "name": "stdout",
          "text": [
            "\n",
            "After 200064 examples, Average Loss: 4.1348\n"
          ]
        },
        {
          "output_type": "stream",
          "name": "stderr",
          "text": [
            "\n",
            "Evaluating:   0%|          | 0/3514 [00:00<?, ?it/s]\u001b[A\n",
            "Evaluating:   0%|          | 2/3514 [00:00<04:33, 12.82it/s]\u001b[A\n",
            "Evaluating:   0%|          | 4/3514 [00:00<04:27, 13.14it/s]\u001b[A\n",
            "Evaluating:   0%|          | 6/3514 [00:00<04:24, 13.28it/s]\u001b[A\n",
            "                                                            \u001b[A"
          ]
        },
        {
          "output_type": "stream",
          "name": "stdout",
          "text": [
            "\n",
            "Validation Average Loss: 4.1088, Perplexity: 60.88\n",
            "\n",
            "Context: Moscow\n",
            "\n",
            "Generated text: Moscow has been accused of plotting to kill a terrorist organization . ' '' . ' '' . ' '' ' Ahmadinejad said . ' '' . ' '' . 's . ' . 's . ' . ' . '\n",
            "\n",
            "\n",
            "Context: New York\n",
            "\n",
            "Generated text: New York City : The ##-year-old was arrested on suspicion of murdering his wife , ## , and ##-year-old son . ' '' . ' '' . ' . ' . 's . 's . 's .\n",
            "\n",
            "\n",
            "Context: A hurricane\n",
            "\n",
            "Generated text: A hurricane in the area is expected to be seen in the area . ' '' , he said . ' '' . ' '' . ' '' . ' . ' . ' . ' '' ' . 's . ' . ' . ' .\n",
            "\n"
          ]
        },
        {
          "output_type": "stream",
          "name": "stderr",
          "text": [
            "Epoch 1/1:  27%|██▋       | 46891/172148 [1:20:48<34:43:20,  1.00it/s, loss=4.0530]"
          ]
        },
        {
          "output_type": "stream",
          "name": "stdout",
          "text": [
            "\n",
            "Context: The President\n",
            "\n",
            "Generated text: The President 's office said the government would not allow the government to be able to provide a `` thorough investigation '' . '' ' . ' '' . ' '' . ' '' . ' '' . 's . ' . '## 's . '\n",
            "\n"
          ]
        },
        {
          "output_type": "stream",
          "name": "stderr",
          "text": [
            "Epoch 1/1:  28%|██▊       | 48451/172148 [1:23:26<3:11:48, 10.75it/s, loss=4.1523]"
          ]
        },
        {
          "output_type": "stream",
          "name": "stdout",
          "text": [
            "\n",
            "After 200064 examples, Average Loss: 4.1315\n"
          ]
        },
        {
          "output_type": "stream",
          "name": "stderr",
          "text": [
            "\n",
            "Evaluating:   0%|          | 0/3514 [00:00<?, ?it/s]\u001b[A\n",
            "Evaluating:   0%|          | 2/3514 [00:00<03:09, 18.58it/s]\u001b[A\n",
            "Evaluating:   0%|          | 4/3514 [00:00<03:05, 18.94it/s]\u001b[A\n",
            "Evaluating:   0%|          | 6/3514 [00:00<03:06, 18.78it/s]\u001b[A\n",
            "                                                            \u001b[A"
          ]
        },
        {
          "output_type": "stream",
          "name": "stdout",
          "text": [
            "\n",
            "Validation Average Loss: 4.0984, Perplexity: 60.24\n",
            "\n",
            "Context: Moscow\n",
            "\n",
            "Generated text: Moscow , which is the first time the country 's nuclear power plant is a .##-caliber-propelled grenades . ' '' . ' . ' . ' . ' . 's a <rares . 's most .\n",
            "\n",
            "\n",
            "Context: New York\n",
            "\n",
            "Generated text: New York City 's most expensive , but the most expensive hotel is a big , and it 's a bit of a bit of a bit of a bit of a bit of a bit of a bit of the world . 's . 's\n",
            "\n",
            "\n",
            "Context: A hurricane\n",
            "\n",
            "Generated text: A hurricane warning was halted after the storm was hit by a stormy storm . '' ' . ' '' ' A.J. , said the Coast Guard . ' . ' Ips the airport . ' . ' . 's\n",
            "\n"
          ]
        },
        {
          "output_type": "stream",
          "name": "stderr",
          "text": [
            "Epoch 1/1:  28%|██▊       | 48454/172148 [1:23:30<21:38:30,  1.59it/s, loss=4.1188]"
          ]
        },
        {
          "output_type": "stream",
          "name": "stdout",
          "text": [
            "\n",
            "Context: The President\n",
            "\n",
            "Generated text: The President 's office said the decision was `` not to be made '' . '' '' . ' '' . ' '' 'The . ' '' ' I 'm not sure how the situation is going to be a `` . 's . 's\n",
            "\n"
          ]
        },
        {
          "output_type": "stream",
          "name": "stderr",
          "text": [
            "Epoch 1/1:  29%|██▉       | 50015/172148 [1:26:08<4:04:45,  8.32it/s, loss=4.1238]"
          ]
        },
        {
          "output_type": "stream",
          "name": "stdout",
          "text": [
            "\n",
            "After 200064 examples, Average Loss: 4.1272\n"
          ]
        },
        {
          "output_type": "stream",
          "name": "stderr",
          "text": [
            "\n",
            "Evaluating:   0%|          | 0/3514 [00:00<?, ?it/s]\u001b[A\n",
            "Evaluating:   0%|          | 2/3514 [00:00<03:06, 18.86it/s]\u001b[A\n",
            "Evaluating:   0%|          | 4/3514 [00:00<03:01, 19.30it/s]\u001b[A\n",
            "Evaluating:   0%|          | 6/3514 [00:00<02:59, 19.55it/s]\u001b[A\n",
            "                                                            \u001b[A"
          ]
        },
        {
          "output_type": "stream",
          "name": "stdout",
          "text": [
            "\n",
            "Validation Average Loss: 4.1020, Perplexity: 60.46\n",
            "\n",
            "Context: Moscow\n",
            "\n",
            "Generated text: Moscow has been accused of a 'little ' of ' a 'picious ' and 'pouring ' . ' '' ' . ' ' I 'm not sure . ' . 's . ' . ' . 's . ' .\n",
            "\n",
            "\n",
            "Context: New York\n",
            "\n",
            "Generated text: New York City : The ##-year-old , who was arrested in #### , was arrested in #### . ' '' 'The . ' '' ' I 'm not sure . ' '' . ' and I 's . 's . 's\n",
            "\n",
            "\n",
            "Context: A hurricane\n",
            "\n",
            "Generated text: A hurricane warning is not expected to be reached . '' ' '' . ' '' 'The 's father said . ' '' ' . ' '' ' I 'd like a man . ' . ' . ' . ' . ' . '\n",
            "\n"
          ]
        },
        {
          "output_type": "stream",
          "name": "stderr",
          "text": [
            "Epoch 1/1:  29%|██▉       | 50017/172148 [1:26:12<31:27:14,  1.08it/s, loss=4.2218]"
          ]
        },
        {
          "output_type": "stream",
          "name": "stdout",
          "text": [
            "\n",
            "Context: The President\n",
            "\n",
            "Generated text: The President 's office said the decision to be made to the House of Representatives . '' 'The . ' '' . ' '' . ' '' . ' '' . ' '' . ' '' . 's . 's . 's . ' .\n",
            "\n"
          ]
        },
        {
          "output_type": "stream",
          "name": "stderr",
          "text": [
            "Epoch 1/1:  30%|██▉       | 51577/172148 [1:28:49<3:09:40, 10.59it/s, loss=4.1736]"
          ]
        },
        {
          "output_type": "stream",
          "name": "stdout",
          "text": [
            "\n",
            "After 200064 examples, Average Loss: 4.1250\n"
          ]
        },
        {
          "output_type": "stream",
          "name": "stderr",
          "text": [
            "\n",
            "Evaluating:   0%|          | 0/3514 [00:00<?, ?it/s]\u001b[A\n",
            "Evaluating:   0%|          | 2/3514 [00:00<03:08, 18.58it/s]\u001b[A\n",
            "Evaluating:   0%|          | 4/3514 [00:00<03:02, 19.28it/s]\u001b[A\n",
            "Evaluating:   0%|          | 6/3514 [00:00<03:05, 18.90it/s]\u001b[A\n",
            "                                                            \u001b[A"
          ]
        },
        {
          "output_type": "stream",
          "name": "stdout",
          "text": [
            "\n",
            "Validation Average Loss: 4.1014, Perplexity: 60.43\n",
            "\n",
            "Context: Moscow\n",
            "\n",
            "Generated text: Moscow has a long-range missile strike against the separatists . '' ' . ' '' . ' '' . ' '' . ' '' ' Ahmadinejad , the statement said . 's . 's . ' . '\n",
            "\n",
            "\n",
            "Context: New York\n",
            "\n",
            "Generated text: New York City Police Chief Mark Duggan said : 'The victim was not injured . ' '' . ' '' . ' '' . ' '' . ' '' . ' '' . ' '' . 's Daily . 's . 's . '\n",
            "\n",
            "\n",
            "Context: A hurricane\n",
            "\n",
            "Generated text: A hurricane center is expected to be seen in the city of <rare> , the state 's largest city in the city of <rare> . ' '' . ' . ' '' . ' . 's . ' . ' . '\n",
            "\n"
          ]
        },
        {
          "output_type": "stream",
          "name": "stderr",
          "text": [
            "Epoch 1/1:  30%|██▉       | 51580/172148 [1:28:54<21:55:35,  1.53it/s, loss=4.0461]"
          ]
        },
        {
          "output_type": "stream",
          "name": "stdout",
          "text": [
            "\n",
            "Context: The President\n",
            "\n",
            "Generated text: The President 's office said the decision was `` not to be made '' . ' '' . ' '' . ' '' . ' '' . ' '' . ' '' . ' '' . 'The . 's . 's . 's . '\n",
            "\n"
          ]
        },
        {
          "output_type": "stream",
          "name": "stderr",
          "text": [
            "Epoch 1/1:  31%|███       | 53141/172148 [1:31:32<4:09:28,  7.95it/s, loss=4.1070]"
          ]
        },
        {
          "output_type": "stream",
          "name": "stdout",
          "text": [
            "\n",
            "After 200064 examples, Average Loss: 4.1202\n"
          ]
        },
        {
          "output_type": "stream",
          "name": "stderr",
          "text": [
            "\n",
            "Evaluating:   0%|          | 0/3514 [00:00<?, ?it/s]\u001b[A\n",
            "Evaluating:   0%|          | 2/3514 [00:00<04:28, 13.08it/s]\u001b[A\n",
            "Evaluating:   0%|          | 4/3514 [00:00<04:23, 13.34it/s]\u001b[A\n",
            "Evaluating:   0%|          | 6/3514 [00:00<04:04, 14.35it/s]\u001b[A\n",
            "                                                            \u001b[A"
          ]
        },
        {
          "output_type": "stream",
          "name": "stdout",
          "text": [
            "\n",
            "Validation Average Loss: 4.0970, Perplexity: 60.16\n",
            "\n",
            "Context: Moscow\n",
            "\n",
            "Generated text: Moscow has been a key part of the Ukraine crisis since #### . '' ' '' . ' '' 'The . ' '' ' I 'll be a 'fair . ' '' ' . ' . ' . ' . ' . ' . ' .\n",
            "\n",
            "\n",
            "Context: New York\n",
            "\n",
            "Generated text: New York City , which is the first time the country 's economy has been in the past year . ' '' ' . ' '' ' . ' '' . ' '' . ' '' . ' the . 's . 's 's most .\n",
            "\n",
            "\n",
            "Context: A hurricane\n",
            "\n",
            "Generated text: A hurricane warning was not to be reached . '' '' . ' '' 'The . ' '' 'The plane was a `` <rare> '' . ' '' . ' '' . ' '' . ' `` . '### '' . '\n",
            "\n"
          ]
        },
        {
          "output_type": "stream",
          "name": "stderr",
          "text": [
            "Epoch 1/1:  31%|███       | 53143/172148 [1:31:36<31:20:17,  1.05it/s, loss=4.0425]"
          ]
        },
        {
          "output_type": "stream",
          "name": "stdout",
          "text": [
            "\n",
            "Context: The President\n",
            "\n",
            "Generated text: The President 's office said the incident was `` not a matter of time '' . '' 'The . ' '' . ' '' . ' '' . ' '' ' I 'm not sure what happened . ' . ' . 's . ' .\n",
            "\n"
          ]
        },
        {
          "output_type": "stream",
          "name": "stderr",
          "text": [
            "Epoch 1/1:  32%|███▏      | 54704/172148 [1:34:12<3:02:56, 10.70it/s, loss=4.1689]"
          ]
        },
        {
          "output_type": "stream",
          "name": "stdout",
          "text": [
            "\n",
            "After 200064 examples, Average Loss: 4.1215\n"
          ]
        },
        {
          "output_type": "stream",
          "name": "stderr",
          "text": [
            "\n",
            "Evaluating:   0%|          | 0/3514 [00:00<?, ?it/s]\u001b[A\n",
            "Evaluating:   0%|          | 2/3514 [00:00<03:11, 18.30it/s]\u001b[A\n",
            "Evaluating:   0%|          | 4/3514 [00:00<03:17, 17.73it/s]\u001b[A\n",
            "Evaluating:   0%|          | 6/3514 [00:00<03:11, 18.36it/s]\u001b[A\n",
            "                                                            \u001b[A"
          ]
        },
        {
          "output_type": "stream",
          "name": "stdout",
          "text": [
            "\n",
            "Validation Average Loss: 4.0916, Perplexity: 59.84\n",
            "\n",
            "Context: Moscow\n",
            "\n",
            "Generated text: Moscow has said it has been `` a long-standing '' . '' ' '' . ' '' . ' '' . ' '' . ' '' . ' '' . ' '' . ' '' . 's . 's . 's . 's not\n",
            "\n",
            "\n",
            "Context: New York\n",
            "\n",
            "Generated text: New York 's `` The WHO '' is a `` <rare> '' , which is the first time in the United States , the United States and the United States . '' ] . '' ] . '' . '' 's . 'The .\n",
            "\n",
            "\n",
            "Context: A hurricane\n",
            "\n",
            "Generated text: A hurricane warning was issued to the airline for the flight to the United States to help the crew members . '' ' . ' '' . ' '' . ' . ' . ' . ' . 's . ' . 's . '\n",
            "\n"
          ]
        },
        {
          "output_type": "stream",
          "name": "stderr",
          "text": [
            "Epoch 1/1:  32%|███▏      | 54706/172148 [1:34:17<23:40:29,  1.38it/s, loss=4.1537]"
          ]
        },
        {
          "output_type": "stream",
          "name": "stdout",
          "text": [
            "\n",
            "Context: The President\n",
            "\n",
            "Generated text: The President 's office said the two sides had been `` in the right direction '' . '' 'The . ' '' . ' '' . ' '' . ' '' . ' '' . ' '' . 's . 's . 's . '\n",
            "\n"
          ]
        },
        {
          "output_type": "stream",
          "name": "stderr",
          "text": [
            "Epoch 1/1:  33%|███▎      | 56267/172148 [1:36:55<4:07:03,  7.82it/s, loss=4.0584]"
          ]
        },
        {
          "output_type": "stream",
          "name": "stdout",
          "text": [
            "\n",
            "After 200064 examples, Average Loss: 4.1145\n"
          ]
        },
        {
          "output_type": "stream",
          "name": "stderr",
          "text": [
            "\n",
            "Evaluating:   0%|          | 0/3514 [00:00<?, ?it/s]\u001b[A\n",
            "Evaluating:   0%|          | 2/3514 [00:00<04:34, 12.79it/s]\u001b[A\n",
            "Evaluating:   0%|          | 4/3514 [00:00<04:28, 13.09it/s]\u001b[A\n",
            "Evaluating:   0%|          | 6/3514 [00:00<04:18, 13.59it/s]\u001b[A\n",
            "                                                            \u001b[A"
          ]
        },
        {
          "output_type": "stream",
          "name": "stdout",
          "text": [
            "\n",
            "Validation Average Loss: 4.0888, Perplexity: 59.67\n",
            "\n",
            "Context: Moscow\n",
            "\n",
            "Generated text: Moscow has been criticised for its efforts to protect the country 's interests of the country . '' ' . ' '' ' . ' '' . ' '' . ' '' . ' '' . 's . ' . ' . ' . ' . '\n",
            "\n",
            "\n",
            "Context: New York\n",
            "\n",
            "Generated text: New York City Mayor Michael Bloomberg said the company had been working on the issue . ' '' . ' '' ' I 'm not sure if it 's not a bad thing . ' '' . ' '' . ' . 's . '\n",
            "\n",
            "\n",
            "Context: A hurricane\n",
            "\n",
            "Generated text: A hurricane warning is expected to be reached in the early hours of Sunday morning . ' '' . ' '' . ' '' . ' '' . ' '' . ' '' . ' '' . ' '' . 's . ' . ' . '\n",
            "\n"
          ]
        },
        {
          "output_type": "stream",
          "name": "stderr",
          "text": [
            "Epoch 1/1:  33%|███▎      | 56269/172148 [1:37:00<36:33:44,  1.14s/it, loss=3.9570]"
          ]
        },
        {
          "output_type": "stream",
          "name": "stdout",
          "text": [
            "\n",
            "Context: The President\n",
            "\n",
            "Generated text: The President 's office has been in the past , but the government has not yet commented on the allegations . ' '' . ' '' . ' '' . ' '' . ' '' . ' . 's . 's . 's . '\n",
            "\n"
          ]
        },
        {
          "output_type": "stream",
          "name": "stderr",
          "text": [
            "Epoch 1/1:  34%|███▎      | 57829/172148 [1:39:38<3:03:50, 10.36it/s, loss=4.0232]"
          ]
        },
        {
          "output_type": "stream",
          "name": "stdout",
          "text": [
            "\n",
            "After 200064 examples, Average Loss: 4.1124\n"
          ]
        },
        {
          "output_type": "stream",
          "name": "stderr",
          "text": [
            "\n",
            "Evaluating:   0%|          | 0/3514 [00:00<?, ?it/s]\u001b[A\n",
            "Evaluating:   0%|          | 2/3514 [00:00<03:15, 17.92it/s]\u001b[A\n",
            "Evaluating:   0%|          | 4/3514 [00:00<03:08, 18.59it/s]\u001b[A\n",
            "Evaluating:   0%|          | 6/3514 [00:00<03:05, 18.91it/s]\u001b[A\n",
            "                                                            \u001b[A"
          ]
        },
        {
          "output_type": "stream",
          "name": "stdout",
          "text": [
            "\n",
            "Validation Average Loss: 4.0891, Perplexity: 59.69\n",
            "\n",
            "Context: Moscow\n",
            "\n",
            "Generated text: Moscow has been in the region of the country 's population . '' 's report . ' '' . ' '' . ' '' . ' '' . ' '' . ' '' 's . 's . ' . ' . 's ' . '\n",
            "\n",
            "\n",
            "Context: New York\n",
            "\n",
            "Generated text: New York City Mayor Michael Bloomberg said : ' I 'm not going to be a good man . ' '' . ' '' . ' '' ' . ' '' ' . ' '' . ' . ' . 's . 's . '\n",
            "\n",
            "\n",
            "Context: A hurricane\n",
            "\n",
            "Generated text: A hurricane warning is expected to be seen in the area . '' ' . ' '' ' . ' '' ' . ' '' ' . ' '' ' . ' '' 's ##-year-ing . 's . 's a ``\n",
            "\n"
          ]
        },
        {
          "output_type": "stream",
          "name": "stderr",
          "text": [
            "Epoch 1/1:  34%|███▎      | 57832/172148 [1:39:43<19:01:03,  1.67it/s, loss=4.1818]"
          ]
        },
        {
          "output_type": "stream",
          "name": "stdout",
          "text": [
            "\n",
            "Context: The President\n",
            "\n",
            "Generated text: The President 's office said the `` unacceptable '' of the `` unacceptable '' . '' `` . '' '' that the government 's `` is a `` <rare> '' . '' . '' . '' . 's . ' .\n",
            "\n"
          ]
        },
        {
          "output_type": "stream",
          "name": "stderr",
          "text": [
            "Epoch 1/1:  35%|███▍      | 59392/172148 [1:42:21<2:56:41, 10.64it/s, loss=4.2125]"
          ]
        },
        {
          "output_type": "stream",
          "name": "stdout",
          "text": [
            "\n",
            "After 200064 examples, Average Loss: 4.1108\n"
          ]
        },
        {
          "output_type": "stream",
          "name": "stderr",
          "text": [
            "\n",
            "Evaluating:   0%|          | 0/3514 [00:00<?, ?it/s]\u001b[A\n",
            "Evaluating:   0%|          | 2/3514 [00:00<03:15, 17.98it/s]\u001b[A\n",
            "Evaluating:   0%|          | 4/3514 [00:00<03:08, 18.60it/s]\u001b[A\n",
            "Evaluating:   0%|          | 6/3514 [00:00<03:03, 19.13it/s]\u001b[A\n",
            "                                                            \u001b[A"
          ]
        },
        {
          "output_type": "stream",
          "name": "stdout",
          "text": [
            "\n",
            "Validation Average Loss: 4.0856, Perplexity: 59.48\n",
            "\n",
            "Context: Moscow\n",
            "\n",
            "Generated text: Moscow has been criticised by the government for failing to provide a safe and secure place to be a key member of the European Union . '' ' . ' '' ' . ' '' . ' . 's . ' . 's . ' . '\n",
            "\n",
            "\n",
            "Context: New York\n",
            "\n",
            "Generated text: New York City Mayor Michael Bloomberg said the `` very few '' was a `` big step '' . '' '' . ' '' . ' '' . ' '' . ' '' ' '' . ' `` . ' '' . ' '' . 's .\n",
            "\n",
            "\n",
            "Context: A hurricane\n",
            "\n",
            "Generated text: A hurricane in the area is expected to be in the area where the water is expected to be damaged . '' ' '' . ' '' ' . ' '' ' . ' '' ' . ' . ' . ' . ' . ' .\n",
            "\n"
          ]
        },
        {
          "output_type": "stream",
          "name": "stderr",
          "text": [
            "Epoch 1/1:  35%|███▍      | 59395/172148 [1:42:25<18:53:05,  1.66it/s, loss=4.0904]"
          ]
        },
        {
          "output_type": "stream",
          "name": "stdout",
          "text": [
            "\n",
            "Context: The President\n",
            "\n",
            "Generated text: The President 's office said the `` very few '' was a `` very difficult '' . '' ' '' . ' '' 'The . ' '' ' . ' '' ' . ' '' 's . 's . 's . 's . '\n",
            "\n"
          ]
        },
        {
          "output_type": "stream",
          "name": "stderr",
          "text": [
            "Epoch 1/1:  35%|███▌      | 60956/172148 [1:45:03<2:58:40, 10.37it/s, loss=4.0565]"
          ]
        },
        {
          "output_type": "stream",
          "name": "stdout",
          "text": [
            "\n",
            "After 200064 examples, Average Loss: 4.1093\n"
          ]
        },
        {
          "output_type": "stream",
          "name": "stderr",
          "text": [
            "\n",
            "Evaluating:   0%|          | 0/3514 [00:00<?, ?it/s]\u001b[A\n",
            "Evaluating:   0%|          | 2/3514 [00:00<03:06, 18.79it/s]\u001b[A\n",
            "Evaluating:   0%|          | 4/3514 [00:00<03:07, 18.75it/s]\u001b[A\n",
            "Evaluating:   0%|          | 6/3514 [00:00<03:03, 19.10it/s]\u001b[A\n",
            "                                                            \u001b[A"
          ]
        },
        {
          "output_type": "stream",
          "name": "stdout",
          "text": [
            "\n",
            "Validation Average Loss: 4.0811, Perplexity: 59.21\n",
            "\n",
            "Context: Moscow\n",
            "\n",
            "Generated text: Moscow 's Foreign Minister Sergei Lavrov said the government had not yet been formally identified . '' . ' '' . ' '' . ' '' said the ##-year-old . ' `` . '' . '' . 's . '' . '\n",
            "\n",
            "\n",
            "Context: New York\n",
            "\n",
            "Generated text: New York City Police said the man was arrested and charged with a criminal investigation . ' '' . ' '' . ' '' . ' '' . ' '' . ' '' Police Chief Robert Gibson said . 's . 's rider 's '\n",
            "\n",
            "\n",
            "Context: A hurricane\n",
            "\n",
            "Generated text: A hurricane warning is not yet known if the storm was not affected . '' ' . ' '' . ' '' 's official said . ' '' . ' '' . ' `` . ' I 's ##-pointing stormed the storm\n",
            "\n"
          ]
        },
        {
          "output_type": "stream",
          "name": "stderr",
          "text": [
            "Epoch 1/1:  35%|███▌      | 60958/172148 [1:45:08<22:18:37,  1.38it/s, loss=4.1219]"
          ]
        },
        {
          "output_type": "stream",
          "name": "stdout",
          "text": [
            "\n",
            "Context: The President\n",
            "\n",
            "Generated text: The President 's office said the government had not been informed . '' 's statement . ' '' the report said . 'The . ' '' . ' '' . ' `` . ' '' . 's . 's . 's . 's\n",
            "\n"
          ]
        },
        {
          "output_type": "stream",
          "name": "stderr",
          "text": [
            "Epoch 1/1:  36%|███▋      | 62518/172148 [1:47:46<2:51:46, 10.64it/s, loss=4.1878]"
          ]
        },
        {
          "output_type": "stream",
          "name": "stdout",
          "text": [
            "\n",
            "After 200064 examples, Average Loss: 4.1035\n"
          ]
        },
        {
          "output_type": "stream",
          "name": "stderr",
          "text": [
            "\n",
            "Evaluating:   0%|          | 0/3514 [00:00<?, ?it/s]\u001b[A\n",
            "Evaluating:   0%|          | 2/3514 [00:00<03:34, 16.35it/s]\u001b[A\n",
            "Evaluating:   0%|          | 4/3514 [00:00<03:20, 17.55it/s]\u001b[A\n",
            "Evaluating:   0%|          | 6/3514 [00:00<03:10, 18.45it/s]\u001b[A\n",
            "                                                            \u001b[A"
          ]
        },
        {
          "output_type": "stream",
          "name": "stdout",
          "text": [
            "\n",
            "Validation Average Loss: 4.0814, Perplexity: 59.23\n",
            "\n",
            "Context: Moscow\n",
            "\n",
            "Generated text: Moscow has been accused of `` terrorist '' and `` a terrorist attack . '' '' . ' '' . ' '' 'The . ' '' ' . ' '' ' '' . ' '' 's . ' . ' . 's . ' .\n",
            "\n",
            "\n",
            "Context: New York\n",
            "\n",
            "Generated text: New York City Mayor Bill Clinton said the `` unprecedented '' of the `` <rare> '' and `` a `` <rare> '' . '' '' . '' '' . '' '' . '' . '' . '' '' . '' . ''\n",
            "\n",
            "\n",
            "Context: A hurricane\n",
            "\n",
            "Generated text: A hurricane warning is expected to be reached at the end of the year . '' 's ##-year-old man . ' '' . ' '' . ' '' . ' . ' I ' . ' . ' . ' . ' .\n",
            "\n"
          ]
        },
        {
          "output_type": "stream",
          "name": "stderr",
          "text": [
            "Epoch 1/1:  36%|███▋      | 62521/172148 [1:47:50<17:58:56,  1.69it/s, loss=4.2966]"
          ]
        },
        {
          "output_type": "stream",
          "name": "stdout",
          "text": [
            "\n",
            "Context: The President\n",
            "\n",
            "Generated text: The President 's office said the government had `` no idea '' . ' '' `` the `` <rare> '' . '' '' . ' '' . ' '' ' '' . ' '' 's `` The same . 's `` a `` a ``\n",
            "\n"
          ]
        },
        {
          "output_type": "stream",
          "name": "stderr",
          "text": [
            "Epoch 1/1:  37%|███▋      | 64081/172148 [1:50:28<2:48:40, 10.68it/s, loss=4.0990]"
          ]
        },
        {
          "output_type": "stream",
          "name": "stdout",
          "text": [
            "\n",
            "After 200064 examples, Average Loss: 4.1003\n"
          ]
        },
        {
          "output_type": "stream",
          "name": "stderr",
          "text": [
            "\n",
            "Evaluating:   0%|          | 0/3514 [00:00<?, ?it/s]\u001b[A\n",
            "Evaluating:   0%|          | 2/3514 [00:00<03:06, 18.86it/s]\u001b[A\n",
            "Evaluating:   0%|          | 4/3514 [00:00<03:03, 19.15it/s]\u001b[A\n",
            "Evaluating:   0%|          | 6/3514 [00:00<03:19, 17.58it/s]\u001b[A\n",
            "                                                            \u001b[A"
          ]
        },
        {
          "output_type": "stream",
          "name": "stdout",
          "text": [
            "\n",
            "Validation Average Loss: 4.0873, Perplexity: 59.58\n",
            "\n",
            "Context: Moscow\n",
            "\n",
            "Generated text: Moscow has been accused of failing to deal with the deal . ' '' ' . ' '' ' . ' '' ' . ' '' ' Ahmadinejad said . ' '' 's . ' . 's 's ' . ' .\n",
            "\n",
            "\n",
            "Context: New York\n",
            "\n",
            "Generated text: New York City , ## , was arrested in the capital of the city 's capital of the city 's capital , where the police were called to the scene . ' '' . ' '' . ' . ' . ' . 's . 's\n",
            "\n",
            "\n",
            "Context: A hurricane\n",
            "\n",
            "Generated text: A hurricane has been seen in the area , which is expected to be seen in the area . ' '' ' . ' '' ' . ' '' ' . ' '' ' . ' '' ' . ' . ' . ' . ' . '\n",
            "\n"
          ]
        },
        {
          "output_type": "stream",
          "name": "stderr",
          "text": [
            "Epoch 1/1:  37%|███▋      | 64084/172148 [1:50:33<21:40:41,  1.38it/s, loss=4.2184]"
          ]
        },
        {
          "output_type": "stream",
          "name": "stdout",
          "text": [
            "\n",
            "Context: The President\n",
            "\n",
            "Generated text: The President has been in the past two years , and has been a very good person . '' ' . ' '' ' . ' '' ' . ' '' ' . ' '' ' . ' '' 's . ' . 's . ' . '\n",
            "\n"
          ]
        },
        {
          "output_type": "stream",
          "name": "stderr",
          "text": [
            "Epoch 1/1:  38%|███▊      | 65644/172148 [1:53:11<2:44:09, 10.81it/s, loss=4.0811]"
          ]
        },
        {
          "output_type": "stream",
          "name": "stdout",
          "text": [
            "\n",
            "After 200064 examples, Average Loss: 4.0988\n"
          ]
        },
        {
          "output_type": "stream",
          "name": "stderr",
          "text": [
            "\n",
            "Evaluating:   0%|          | 0/3514 [00:00<?, ?it/s]\u001b[A\n",
            "Evaluating:   0%|          | 2/3514 [00:00<03:11, 18.30it/s]\u001b[A\n",
            "Evaluating:   0%|          | 4/3514 [00:00<03:05, 18.95it/s]\u001b[A\n",
            "Evaluating:   0%|          | 6/3514 [00:00<03:09, 18.51it/s]\u001b[A\n",
            "                                                            \u001b[A"
          ]
        },
        {
          "output_type": "stream",
          "name": "stdout",
          "text": [
            "\n",
            "Validation Average Loss: 4.0757, Perplexity: 58.89\n",
            "\n",
            "Context: Moscow\n",
            "\n",
            "Generated text: Moscow has been targeted by the rebels . '' ' . ' '' . ' '' . ' '' . ' '' . ' '' . ' '' . ' '' . ' '' . 's . 's . 's . ' . ' .\n",
            "\n",
            "\n",
            "Context: New York\n",
            "\n",
            "Generated text: New York , the largest number of people in the world , said the . ' '' . ' '' . ' '' . ' '' . ' '' . ' '' . ' '' . ' . ' `` . 's ##-year-ren of .\n",
            "\n",
            "\n",
            "Context: A hurricane\n",
            "\n",
            "Generated text: A hurricane warning the plane was not yet to be reached . '' ' . ' '' ' . ' '' ' . ' '' . ' '' . ' '' . ' . ' '' . ' '' . 's . 's decision to be\n",
            "\n"
          ]
        },
        {
          "output_type": "stream",
          "name": "stderr",
          "text": [
            "Epoch 1/1:  38%|███▊      | 65647/172148 [1:53:15<17:12:46,  1.72it/s, loss=3.9819]"
          ]
        },
        {
          "output_type": "stream",
          "name": "stdout",
          "text": [
            "\n",
            "Context: The President\n",
            "\n",
            "Generated text: The President has been a part of the country 's political campaign . '' 's decision to be made . ' '' . ' '' . ' '' . ' '' . ' '' . ' '' . 's . '### . 's '\n",
            "\n"
          ]
        },
        {
          "output_type": "stream",
          "name": "stderr",
          "text": [
            "Epoch 1/1:  39%|███▉      | 67208/172148 [1:55:53<3:40:40,  7.93it/s, loss=4.0752]"
          ]
        },
        {
          "output_type": "stream",
          "name": "stdout",
          "text": [
            "\n",
            "After 200064 examples, Average Loss: 4.0957\n"
          ]
        },
        {
          "output_type": "stream",
          "name": "stderr",
          "text": [
            "\n",
            "Evaluating:   0%|          | 0/3514 [00:00<?, ?it/s]\u001b[A\n",
            "Evaluating:   0%|          | 2/3514 [00:00<04:42, 12.42it/s]\u001b[A\n",
            "Evaluating:   0%|          | 4/3514 [00:00<04:38, 12.60it/s]\u001b[A\n",
            "Evaluating:   0%|          | 6/3514 [00:00<04:36, 12.68it/s]\u001b[A\n",
            "                                                            \u001b[A"
          ]
        },
        {
          "output_type": "stream",
          "name": "stdout",
          "text": [
            "\n",
            "Validation Average Loss: 4.0767, Perplexity: 58.95\n",
            "\n",
            "Context: Moscow\n",
            "\n",
            "Generated text: Moscow has been accused of killing the U.S. and its .###-### . ' '' . ' '' . ' '' . ' '' . ' . ' . ' . 's . ' . 's 's ' . '\n",
            "\n",
            "\n",
            "Context: New York\n",
            "\n",
            "Generated text: New York City : The ##-year-old was killed in the crash . ' '' 's ##-year-old son , who was killed in the crash . ' '' 's . 's . ' . ' . 's . '\n",
            "\n",
            "\n",
            "Context: A hurricane\n",
            "\n",
            "Generated text: A hurricane warning was made by the airliner , which is expected to be seen as a result of the storm . ' '' ' . ' '' . ' '' . ' '' . ' . 's . 's . 's .\n",
            "\n"
          ]
        },
        {
          "output_type": "stream",
          "name": "stderr",
          "text": [
            "Epoch 1/1:  39%|███▉      | 67210/172148 [1:55:58<30:45:15,  1.06s/it, loss=4.1438]"
          ]
        },
        {
          "output_type": "stream",
          "name": "stdout",
          "text": [
            "\n",
            "Context: The President\n",
            "\n",
            "Generated text: The President 's office said the decision was `` not to be made '' . ' '' . ' '' . ' '' . ' '' . ' '' 's . ' '' . ' '' . 's . 's . 's . 's\n",
            "\n"
          ]
        },
        {
          "output_type": "stream",
          "name": "stderr",
          "text": [
            "Epoch 1/1:  40%|███▉      | 68770/172148 [1:58:36<2:42:55, 10.58it/s, loss=4.2020]"
          ]
        },
        {
          "output_type": "stream",
          "name": "stdout",
          "text": [
            "\n",
            "After 200064 examples, Average Loss: 4.0973\n"
          ]
        },
        {
          "output_type": "stream",
          "name": "stderr",
          "text": [
            "\n",
            "Evaluating:   0%|          | 0/3514 [00:00<?, ?it/s]\u001b[A\n",
            "Evaluating:   0%|          | 2/3514 [00:00<03:42, 15.80it/s]\u001b[A\n",
            "Evaluating:   0%|          | 4/3514 [00:00<03:21, 17.41it/s]\u001b[A\n",
            "Evaluating:   0%|          | 6/3514 [00:00<03:15, 17.95it/s]\u001b[A\n",
            "                                                            \u001b[A"
          ]
        },
        {
          "output_type": "stream",
          "name": "stdout",
          "text": [
            "\n",
            "Validation Average Loss: 4.0736, Perplexity: 58.77\n",
            "\n",
            "Context: Moscow\n",
            "\n",
            "Generated text: Moscow has been accused of the attack , saying he was not a member of the .##-caliber pistol . ' '' ' . ' '' ' . ' '' ' . ' . 's . ' . 's 's ' . '\n",
            "\n",
            "\n",
            "Context: New York\n",
            "\n",
            "Generated text: New York City Mayor Bill de Blasio said the ##-year-old was `` a great dealer '' . '' '' . ' '' ' '' . ' '' 's ##-year-based . ' '' . 's Daily . '\n",
            "\n",
            "\n",
            "Context: A hurricane\n",
            "\n",
            "Generated text: A hurricane warning signs of the storm . ' '' ' . ' '' ' . ' '' ' A.###-caliber pistol , ' he said . ' '' 's ##-year-s . 'drew the plane\n",
            "\n"
          ]
        },
        {
          "output_type": "stream",
          "name": "stderr",
          "text": [
            "Epoch 1/1:  40%|███▉      | 68773/172148 [1:58:41<18:39:16,  1.54it/s, loss=4.0845]"
          ]
        },
        {
          "output_type": "stream",
          "name": "stdout",
          "text": [
            "\n",
            "Context: The President\n",
            "\n",
            "Generated text: The President 's office has been working with the U.S. Department of Agriculture , which has a strong understanding of the U.S. and the United States . ' '' 's . 's . 's . 's . '\n",
            "\n"
          ]
        },
        {
          "output_type": "stream",
          "name": "stderr",
          "text": [
            "Epoch 1/1:  41%|████      | 70333/172148 [2:01:20<3:33:34,  7.95it/s, loss=4.0842]"
          ]
        },
        {
          "output_type": "stream",
          "name": "stdout",
          "text": [
            "\n",
            "After 200064 examples, Average Loss: 4.0930\n"
          ]
        },
        {
          "output_type": "stream",
          "name": "stderr",
          "text": [
            "\n",
            "Evaluating:   0%|          | 0/3514 [00:00<?, ?it/s]\u001b[A\n",
            "Evaluating:   0%|          | 2/3514 [00:00<03:10, 18.44it/s]\u001b[A\n",
            "Evaluating:   0%|          | 4/3514 [00:00<03:05, 18.88it/s]\u001b[A\n",
            "Evaluating:   0%|          | 6/3514 [00:00<03:08, 18.65it/s]\u001b[A\n",
            "                                                            \u001b[A"
          ]
        },
        {
          "output_type": "stream",
          "name": "stdout",
          "text": [
            "\n",
            "Validation Average Loss: 4.0613, Perplexity: 58.05\n",
            "\n",
            "Context: Moscow\n",
            "\n",
            "Generated text: Moscow has been a key part of the country 's nuclear programme . '' 's . ' '' . ' '' . ' '' . ' '' . ' '' . ' '' . 's . 's a key part of the first . 's\n",
            "\n",
            "\n",
            "Context: New York\n",
            "\n",
            "Generated text: New York City , New York , and the New York Times , are not the first time the state has been in the state of the state . '' ' . ' '' . ' . ' . 's . 's . 's . ' .\n",
            "\n",
            "\n",
            "Context: A hurricane\n",
            "\n",
            "Generated text: A hurricane warning is expected to be seen in the area . ' '' . ' '' 's mother said . ' '' . ' '' . ' '' . ' . ' . ' '' . ' `` . 's a . ' . '\n",
            "\n"
          ]
        },
        {
          "output_type": "stream",
          "name": "stderr",
          "text": [
            "Epoch 1/1:  41%|████      | 70336/172148 [2:01:24<22:28:06,  1.26it/s, loss=4.0670]"
          ]
        },
        {
          "output_type": "stream",
          "name": "stdout",
          "text": [
            "\n",
            "Context: The President\n",
            "\n",
            "Generated text: The President 's office said the government had `` no intention of harm '' . ' '' . ' '' . ' '' . ' '' . ' '' . ' '' . ' '' . 's . 's . 's . 's . '\n",
            "\n"
          ]
        },
        {
          "output_type": "stream",
          "name": "stderr",
          "text": [
            "Epoch 1/1:  42%|████▏     | 71896/172148 [2:04:02<2:35:02, 10.78it/s, loss=4.0568]"
          ]
        },
        {
          "output_type": "stream",
          "name": "stdout",
          "text": [
            "\n",
            "After 200064 examples, Average Loss: 4.0908\n"
          ]
        },
        {
          "output_type": "stream",
          "name": "stderr",
          "text": [
            "\n",
            "Evaluating:   0%|          | 0/3514 [00:00<?, ?it/s]\u001b[A\n",
            "Evaluating:   0%|          | 2/3514 [00:00<03:20, 17.50it/s]\u001b[A\n",
            "Evaluating:   0%|          | 4/3514 [00:00<03:15, 17.98it/s]\u001b[A\n",
            "Evaluating:   0%|          | 6/3514 [00:00<03:13, 18.10it/s]\u001b[A\n",
            "                                                            \u001b[A"
          ]
        },
        {
          "output_type": "stream",
          "name": "stdout",
          "text": [
            "\n",
            "Validation Average Loss: 4.0675, Perplexity: 58.41\n",
            "\n",
            "Context: Moscow\n",
            "\n",
            "Generated text: Moscow 's nuclear weapons program is not only to be used in the war . '' ' . ' '' . ' '' . ' '' . ' '' . ' '' . ' '' . 's . 's . 's . 's . '\n",
            "\n",
            "\n",
            "Context: New York\n",
            "\n",
            "Generated text: New York City Police said the man was arrested and the man was arrested . '' . ' '' . ' '' . ' '' . ' '' . ' '' . ' '' . ' '' . 's . 's . 's 's 's\n",
            "\n",
            "\n",
            "Context: A hurricane\n",
            "\n",
            "Generated text: A hurricane season is the first time the plane crashed into the sea . '' ' . ' '' , according to the National Weather Service . ' '' . ' . ' '' . ' '' . 's new . ' . 's\n",
            "\n"
          ]
        },
        {
          "output_type": "stream",
          "name": "stderr",
          "text": [
            "Epoch 1/1:  42%|████▏     | 71899/172148 [2:04:07<18:55:20,  1.47it/s, loss=4.1808]"
          ]
        },
        {
          "output_type": "stream",
          "name": "stdout",
          "text": [
            "\n",
            "Context: The President\n",
            "\n",
            "Generated text: The President 's office said the government had `` no involvement '' . ' '' and `` we are not going to be a very good deal . '' '' . ' '' . ' '' . 's new . 's new . '' 's\n",
            "\n"
          ]
        },
        {
          "output_type": "stream",
          "name": "stderr",
          "text": [
            "Epoch 1/1:  43%|████▎     | 73460/172148 [2:06:45<2:36:10, 10.53it/s, loss=4.0999]"
          ]
        },
        {
          "output_type": "stream",
          "name": "stdout",
          "text": [
            "\n",
            "After 200064 examples, Average Loss: 4.0900\n"
          ]
        },
        {
          "output_type": "stream",
          "name": "stderr",
          "text": [
            "\n",
            "Evaluating:   0%|          | 0/3514 [00:00<?, ?it/s]\u001b[A\n",
            "Evaluating:   0%|          | 2/3514 [00:00<03:11, 18.32it/s]\u001b[A\n",
            "Evaluating:   0%|          | 4/3514 [00:00<03:08, 18.65it/s]\u001b[A\n",
            "Evaluating:   0%|          | 6/3514 [00:00<03:06, 18.78it/s]\u001b[A\n",
            "                                                            \u001b[A"
          ]
        },
        {
          "output_type": "stream",
          "name": "stdout",
          "text": [
            "\n",
            "Validation Average Loss: 4.0693, Perplexity: 58.52\n",
            "\n",
            "Context: Moscow\n",
            "\n",
            "Generated text: Moscow has been accused of failing to take place in the country 's capital . '' ' . ' '' ' . ' '' . ' '' . ' '' . ' '' . ' '' . 's . 's the way to . ' . '\n",
            "\n",
            "\n",
            "Context: New York\n",
            "\n",
            "Generated text: New York City , which is the first time in the world , is a .##-caliber pistol , and is a ##-year-old . ' '' . ' '' . ' . 's . 's new . ' . '\n",
            "\n",
            "\n",
            "Context: A hurricane\n",
            "\n",
            "Generated text: A hurricane warning is expected to be reached on Monday . ' '' ' . ' '' 'The . ' '' ' . ' '' ' . ' '' ' A . ' '' ' , the . 's . 's the air the <\n",
            "\n"
          ]
        },
        {
          "output_type": "stream",
          "name": "stderr",
          "text": [
            "Epoch 1/1:  43%|████▎     | 73462/172148 [2:06:49<18:50:08,  1.46it/s, loss=3.9817]"
          ]
        },
        {
          "output_type": "stream",
          "name": "stdout",
          "text": [
            "\n",
            "Context: The President\n",
            "\n",
            "Generated text: The President 's office said the government had been `` inappropriate '' . ' '' . ' '' . ' '' ' `` The . ' '' . ' '' . ' '' . 's . 'Tard said . 's 's\n",
            "\n"
          ]
        },
        {
          "output_type": "stream",
          "name": "stderr",
          "text": [
            "Epoch 1/1:  44%|████▎     | 75023/172148 [2:09:28<3:09:41,  8.53it/s, loss=4.0911]"
          ]
        },
        {
          "output_type": "stream",
          "name": "stdout",
          "text": [
            "\n",
            "After 200064 examples, Average Loss: 4.0877\n"
          ]
        },
        {
          "output_type": "stream",
          "name": "stderr",
          "text": [
            "\n",
            "Evaluating:   0%|          | 0/3514 [00:00<?, ?it/s]\u001b[A\n",
            "Evaluating:   0%|          | 2/3514 [00:00<04:51, 12.05it/s]\u001b[A\n",
            "Evaluating:   0%|          | 4/3514 [00:00<04:50, 12.08it/s]\u001b[A\n",
            "Evaluating:   0%|          | 6/3514 [00:00<04:49, 12.10it/s]\u001b[A\n",
            "                                                            \u001b[A"
          ]
        },
        {
          "output_type": "stream",
          "name": "stdout",
          "text": [
            "\n",
            "Validation Average Loss: 4.0686, Perplexity: 58.48\n",
            "\n",
            "Context: Moscow\n",
            "\n",
            "Generated text: Moscow has been criticized for its efforts to protect the country 's economy . '' 's ##-year-old . ' '' . ' '' . ' '' . ' '' . 's . 's not . 's the first . '\n",
            "\n",
            "\n",
            "Context: New York\n",
            "\n",
            "Generated text: New York City , the first to be the first major winner of the year , is expected to be the first major winner . '' 's ##-year-old . ' '' . ' . ' . 's . 's ##-en '\n",
            "\n",
            "\n",
            "Context: A hurricane\n",
            "\n",
            "Generated text: A hurricane warning is expected to be delayed until the next morning . '' ' . ' '' ' A.###-mile stretch of the coastline . ' '' . ' '' said . ' `` . 's ##- to be a\n",
            "\n"
          ]
        },
        {
          "output_type": "stream",
          "name": "stderr",
          "text": [
            "Epoch 1/1:  44%|████▎     | 75025/172148 [2:09:32<28:36:50,  1.06s/it, loss=4.1969]"
          ]
        },
        {
          "output_type": "stream",
          "name": "stdout",
          "text": [
            "\n",
            "Context: The President\n",
            "\n",
            "Generated text: The President has been criticized for the way the government has been working with the United States . '' 's ##-year-old former President . ' '' . ' '' . ' . 's . ' . 't 's very close to\n",
            "\n"
          ]
        },
        {
          "output_type": "stream",
          "name": "stderr",
          "text": [
            "Epoch 1/1:  44%|████▍     | 76585/172148 [2:12:11<2:32:06, 10.47it/s, loss=4.0024]"
          ]
        },
        {
          "output_type": "stream",
          "name": "stdout",
          "text": [
            "\n",
            "After 200064 examples, Average Loss: 4.0856\n"
          ]
        },
        {
          "output_type": "stream",
          "name": "stderr",
          "text": [
            "\n",
            "Evaluating:   0%|          | 0/3514 [00:00<?, ?it/s]\u001b[A\n",
            "Evaluating:   0%|          | 2/3514 [00:00<03:18, 17.70it/s]\u001b[A\n",
            "Evaluating:   0%|          | 4/3514 [00:00<03:11, 18.38it/s]\u001b[A\n",
            "Evaluating:   0%|          | 6/3514 [00:00<03:17, 17.74it/s]\u001b[A\n",
            "                                                            \u001b[A"
          ]
        },
        {
          "output_type": "stream",
          "name": "stdout",
          "text": [
            "\n",
            "Validation Average Loss: 4.0627, Perplexity: 58.13\n",
            "\n",
            "Context: Moscow\n",
            "\n",
            "Generated text: Moscow has been a long-time role in the search for the .###-year-old . ' '' . ' '' ' A-listed . ' '' . ' . ' . 's a ' . 's . ' . '\n",
            "\n",
            "\n",
            "Context: New York\n",
            "\n",
            "Generated text: New York City Mayor Michael Bloomberg said the company had been working with the company to help the company 's business . ' '' . ' '' . ' '' . ' '' . 's National . ' . 's Times . 's .\n",
            "\n",
            "\n",
            "Context: A hurricane\n",
            "\n",
            "Generated text: A hurricane warning is expected to be expected to be on the day of the weekend . '' ' . ' '' . ' '' . ' '' . ' '' . ' `` . ' '' . ' . ' . ' . ' . '\n",
            "\n"
          ]
        },
        {
          "output_type": "stream",
          "name": "stderr",
          "text": [
            "Epoch 1/1:  44%|████▍     | 76588/172148 [2:12:16<20:20:45,  1.30it/s, loss=3.9910]"
          ]
        },
        {
          "output_type": "stream",
          "name": "stdout",
          "text": [
            "\n",
            "Context: The President\n",
            "\n",
            "Generated text: The President 's office said the government had been working on the investigation . ' '' . ' '' ' I 'm sure he 's a very good person . ' '' . ' '' . 's . ' . 's . 's .\n",
            "\n"
          ]
        },
        {
          "output_type": "stream",
          "name": "stderr",
          "text": [
            "Epoch 1/1:  45%|████▌     | 78148/172148 [2:14:56<2:29:36, 10.47it/s, loss=4.0693]"
          ]
        },
        {
          "output_type": "stream",
          "name": "stdout",
          "text": [
            "\n",
            "After 200064 examples, Average Loss: 4.0848\n"
          ]
        },
        {
          "output_type": "stream",
          "name": "stderr",
          "text": [
            "\n",
            "Evaluating:   0%|          | 0/3514 [00:00<?, ?it/s]\u001b[A\n",
            "Evaluating:   0%|          | 2/3514 [00:00<03:16, 17.87it/s]\u001b[A\n",
            "Evaluating:   0%|          | 4/3514 [00:00<03:19, 17.63it/s]\u001b[A\n",
            "Evaluating:   0%|          | 6/3514 [00:00<03:16, 17.90it/s]\u001b[A\n",
            "                                                            \u001b[A"
          ]
        },
        {
          "output_type": "stream",
          "name": "stdout",
          "text": [
            "\n",
            "Validation Average Loss: 4.0603, Perplexity: 57.99\n",
            "\n",
            "Context: Moscow\n",
            "\n",
            "Generated text: Moscow has been accused of trying to block the .###-acre . ' '' ' . ' '' ' . ' '' ' . ' '' ' . ' '' . ' '' 's . 's . 's out 's . ' .\n",
            "\n",
            "\n",
            "Context: New York\n",
            "\n",
            "Generated text: New York 's first-ever-of-three , the first person to be named , was aired in #### . ' '' . ' '' ' I 'm a 's . ' . ' . ' . ' . 's . '\n",
            "\n",
            "\n",
            "Context: A hurricane\n",
            "\n",
            "Generated text: A hurricane warning was made by the coast of the South Atlantic Ocean , which was the first of the storm to be seen . ' '' . ' '' . ' '' . ' '' . ' '' . 's . 's . 's\n",
            "\n"
          ]
        },
        {
          "output_type": "stream",
          "name": "stderr",
          "text": [
            "Epoch 1/1:  45%|████▌     | 78151/172148 [2:15:00<15:15:34,  1.71it/s, loss=4.1249]"
          ]
        },
        {
          "output_type": "stream",
          "name": "stdout",
          "text": [
            "\n",
            "Context: The President\n",
            "\n",
            "Generated text: The President 's office said the government had `` no intention of the attack . '' '' . ' '' . ' '' . ' '' . ' '' ' . ' '' . ' '' . 's . 's . 's . 's .\n",
            "\n"
          ]
        },
        {
          "output_type": "stream",
          "name": "stderr",
          "text": [
            "Epoch 1/1:  46%|████▋     | 79712/172148 [2:17:39<3:08:10,  8.19it/s, loss=4.1105]"
          ]
        },
        {
          "output_type": "stream",
          "name": "stdout",
          "text": [
            "\n",
            "After 200064 examples, Average Loss: 4.0819\n"
          ]
        },
        {
          "output_type": "stream",
          "name": "stderr",
          "text": [
            "\n",
            "Evaluating:   0%|          | 0/3514 [00:00<?, ?it/s]\u001b[A\n",
            "Evaluating:   0%|          | 2/3514 [00:00<04:29, 13.02it/s]\u001b[A\n",
            "Evaluating:   0%|          | 4/3514 [00:00<04:32, 12.90it/s]\u001b[A\n",
            "Evaluating:   0%|          | 6/3514 [00:00<04:30, 12.96it/s]\u001b[A\n",
            "                                                            \u001b[A"
          ]
        },
        {
          "output_type": "stream",
          "name": "stdout",
          "text": [
            "\n",
            "Validation Average Loss: 4.0615, Perplexity: 58.06\n",
            "\n",
            "Context: Moscow\n",
            "\n",
            "Generated text: Moscow 's government has been accused of being a `` very dangerous '' and that the government has been working on the site . ' '' . ' '' ' . ' '' ' . ' '' 's . 's . 's . 't .\n",
            "\n",
            "\n",
            "Context: New York\n",
            "\n",
            "Generated text: New York City 's <rare> <rare> , a former U.S. Army , was arrested in the city of <rare> , in the United States . ' . ' . ' . ' . ' . ' . ' . '\n",
            "\n",
            "\n",
            "Context: A hurricane\n",
            "\n",
            "Generated text: A hurricane has been hit by a storm in the south of the city of <rare> , which is expected to be seen in the region . ' '' . ' . ' '' . ' . 's spokesman . 's .\n",
            "\n"
          ]
        },
        {
          "output_type": "stream",
          "name": "stderr",
          "text": [
            "Epoch 1/1:  46%|████▋     | 79714/172148 [2:17:44<27:23:52,  1.07s/it, loss=4.0976]"
          ]
        },
        {
          "output_type": "stream",
          "name": "stdout",
          "text": [
            "\n",
            "Context: The President\n",
            "\n",
            "Generated text: The President 's office said the government would not be able to confirm the details of the alleged plot . ' '' . ' '' . ' '' . ' '' . ' '' . ' . 's . 's . 's . 's\n",
            "\n"
          ]
        },
        {
          "output_type": "stream",
          "name": "stderr",
          "text": [
            "Epoch 1/1:  47%|████▋     | 81275/172148 [2:20:23<2:21:38, 10.69it/s, loss=4.0248]"
          ]
        },
        {
          "output_type": "stream",
          "name": "stdout",
          "text": [
            "\n",
            "After 200064 examples, Average Loss: 4.0828\n"
          ]
        },
        {
          "output_type": "stream",
          "name": "stderr",
          "text": [
            "\n",
            "Evaluating:   0%|          | 0/3514 [00:00<?, ?it/s]\u001b[A\n",
            "Evaluating:   0%|          | 2/3514 [00:00<03:32, 16.51it/s]\u001b[A\n",
            "Evaluating:   0%|          | 4/3514 [00:00<03:16, 17.90it/s]\u001b[A\n",
            "Evaluating:   0%|          | 6/3514 [00:00<03:09, 18.53it/s]\u001b[A\n",
            "                                                            \u001b[A"
          ]
        },
        {
          "output_type": "stream",
          "name": "stdout",
          "text": [
            "\n",
            "Validation Average Loss: 4.0516, Perplexity: 57.49\n",
            "\n",
            "Context: Moscow\n",
            "\n",
            "Generated text: Moscow has been accused of 'inappropriate ' and 'pilot ' of the 'sexual ' . ' '' ' and said it was a . ' . ' . ' . ' . ' . ' . ' . ' . '\n",
            "\n",
            "\n",
            "Context: New York\n",
            "\n",
            "Generated text: New York City Police said the ##-year-old was arrested and charged with attempted murder . '' 'The .##-caliber handgun . ' '' . ' '' . ' Ips said . 's . 's police . 's\n",
            "\n",
            "\n",
            "Context: A hurricane\n",
            "\n",
            "Generated text: A hurricane warning is expected to be reached on Wednesday . '' ' . ' '' ' A . ' '' 's report . ' '' . ' '' . ' `` . ' '' . ' `` . '### to be a\n",
            "\n"
          ]
        },
        {
          "output_type": "stream",
          "name": "stderr",
          "text": [
            "Epoch 1/1:  47%|████▋     | 81277/172148 [2:20:27<17:32:48,  1.44it/s, loss=4.1439]"
          ]
        },
        {
          "output_type": "stream",
          "name": "stdout",
          "text": [
            "\n",
            "Context: The President\n",
            "\n",
            "Generated text: The President 's office said the ##-year-old was `` a very good man '' and he was `` a great friend of the world 's most important man . '' '' . '' '' . '' '' . 's . '' '' .\n",
            "\n"
          ]
        },
        {
          "output_type": "stream",
          "name": "stderr",
          "text": [
            "Epoch 1/1:  48%|████▊     | 82838/172148 [2:23:07<2:43:16,  9.12it/s, loss=4.0631]"
          ]
        },
        {
          "output_type": "stream",
          "name": "stdout",
          "text": [
            "\n",
            "After 200064 examples, Average Loss: 4.0785\n"
          ]
        },
        {
          "output_type": "stream",
          "name": "stderr",
          "text": [
            "\n",
            "Evaluating:   0%|          | 0/3514 [00:00<?, ?it/s]\u001b[A\n",
            "Evaluating:   0%|          | 2/3514 [00:00<03:17, 17.79it/s]\u001b[A\n",
            "Evaluating:   0%|          | 4/3514 [00:00<03:10, 18.39it/s]\u001b[A\n",
            "Evaluating:   0%|          | 6/3514 [00:00<03:10, 18.41it/s]\u001b[A\n",
            "                                                            \u001b[A"
          ]
        },
        {
          "output_type": "stream",
          "name": "stdout",
          "text": [
            "\n",
            "Validation Average Loss: 4.0605, Perplexity: 58.00\n",
            "\n",
            "Context: Moscow\n",
            "\n",
            "Generated text: Moscow has been a major blow to the United States since #### . ' '' 's release . ' '' ' . ' '' ' . ' . ' . ' . ' . ' . ' . 's . ' . ' . ' . ' .\n",
            "\n",
            "\n",
            "Context: New York\n",
            "\n",
            "Generated text: New York City Mayor Michael Bloomberg said the company had been `` a great deal of the way '' . '' ' . ' '' . ' '' . ' '' 's report . ' . ' . ' . ' . 's . 's\n",
            "\n",
            "\n",
            "Context: A hurricane\n",
            "\n",
            "Generated text: A hurricane warning was not expected to be reached on Monday . ' '' . ' '' ' . ' '' 's statement said . ' . ' '' . ' '' . ' '' ' of the air traffic . 'the first . 's\n",
            "\n"
          ]
        },
        {
          "output_type": "stream",
          "name": "stderr",
          "text": [
            "Epoch 1/1:  48%|████▊     | 82840/172148 [2:23:11<20:12:31,  1.23it/s, loss=4.1401]"
          ]
        },
        {
          "output_type": "stream",
          "name": "stdout",
          "text": [
            "\n",
            "Context: The President\n",
            "\n",
            "Generated text: The President 's office said the government had `` notified the government of the United States . '' '' . ' '' . ' '' . ' '' . ' '' . ' '' . ' I-of . 's . 's first . '\n",
            "\n"
          ]
        },
        {
          "output_type": "stream",
          "name": "stderr",
          "text": [
            "Epoch 1/1:  49%|████▉     | 84401/172148 [2:25:49<2:15:38, 10.78it/s, loss=4.1898]"
          ]
        },
        {
          "output_type": "stream",
          "name": "stdout",
          "text": [
            "\n",
            "After 200064 examples, Average Loss: 4.0765\n"
          ]
        },
        {
          "output_type": "stream",
          "name": "stderr",
          "text": [
            "\n",
            "Evaluating:   0%|          | 0/3514 [00:00<?, ?it/s]\u001b[A\n",
            "Evaluating:   0%|          | 2/3514 [00:00<03:42, 15.80it/s]\u001b[A\n",
            "Evaluating:   0%|          | 4/3514 [00:00<03:19, 17.62it/s]\u001b[A\n",
            "Evaluating:   0%|          | 6/3514 [00:00<03:12, 18.22it/s]\u001b[A\n",
            "                                                            \u001b[A"
          ]
        },
        {
          "output_type": "stream",
          "name": "stdout",
          "text": [
            "\n",
            "Validation Average Loss: 4.0542, Perplexity: 57.64\n",
            "\n",
            "Context: Moscow\n",
            "\n",
            "Generated text: Moscow 's Foreign Ministry said it was `` a very sad day for the country 's terrorists '' . ' '' . ' '' . ' '' . ' '' . ' . ' . 's . 's . 's . 's .\n",
            "\n",
            "\n",
            "Context: New York\n",
            "\n",
            "Generated text: New York City : The ##-year-old has been charged with murder and has been charged with murder . ' '' . ' '' 's court heard . ' '' . ' . ' . 's Daily . 's . 's . '\n",
            "\n",
            "\n",
            "Context: A hurricane\n",
            "\n",
            "Generated text: A hurricane warning is expected to be completed in the next few weeks . ' '' , the report said . ' '' . ' . ' . ' . ' . ' . ' . ' '' . ' . ' . ' . ' . '\n",
            "\n"
          ]
        },
        {
          "output_type": "stream",
          "name": "stderr",
          "text": [
            "Epoch 1/1:  49%|████▉     | 84403/172148 [2:25:55<20:56:19,  1.16it/s, loss=3.9455]"
          ]
        },
        {
          "output_type": "stream",
          "name": "stdout",
          "text": [
            "\n",
            "Context: The President\n",
            "\n",
            "Generated text: The President has said he has not been able to speak to the media . ' '' . ' '' . ' . ' . ' '' . ' . ' . ' '' . ' . ' . 's . 's been the case 's .\n",
            "\n"
          ]
        },
        {
          "output_type": "stream",
          "name": "stderr",
          "text": [
            "Epoch 1/1:  50%|████▉     | 85964/172148 [2:28:34<2:15:25, 10.61it/s, loss=4.0296]"
          ]
        },
        {
          "output_type": "stream",
          "name": "stdout",
          "text": [
            "\n",
            "After 200064 examples, Average Loss: 4.0758\n"
          ]
        },
        {
          "output_type": "stream",
          "name": "stderr",
          "text": [
            "\n",
            "Evaluating:   0%|          | 0/3514 [00:00<?, ?it/s]\u001b[A\n",
            "Evaluating:   0%|          | 2/3514 [00:00<03:16, 17.90it/s]\u001b[A\n",
            "Evaluating:   0%|          | 4/3514 [00:00<03:10, 18.39it/s]\u001b[A\n",
            "Evaluating:   0%|          | 6/3514 [00:00<03:09, 18.56it/s]\u001b[A\n",
            "                                                            \u001b[A"
          ]
        },
        {
          "output_type": "stream",
          "name": "stdout",
          "text": [
            "\n",
            "Validation Average Loss: 4.0539, Perplexity: 57.62\n",
            "\n",
            "Context: Moscow\n",
            "\n",
            "Generated text: Moscow has been accused of `` a terrorist attack '' in the past . ' '' and `` a very serious threat to the country . '' ' '' . ' '' . ' '' . ' . 's . ' . 's ' . ' .\n",
            "\n",
            "\n",
            "Context: New York\n",
            "\n",
            "Generated text: New York City 's presidential election is a major political party , and the Republican Party has been criticised for the `` unprecedented '' . ' '' . ' '' . ' '' . ' . 's . 's . 's\n",
            "\n",
            "\n",
            "Context: A hurricane\n",
            "\n",
            "Generated text: A hurricane warning is expected to be reached for a ##-mile north of the Pacific Ocean . ' '' , the National Weather Service said . ' '' . ' . ' '' . ' '' . 's . ' . ' . '\n",
            "\n"
          ]
        },
        {
          "output_type": "stream",
          "name": "stderr",
          "text": [
            "Epoch 1/1:  50%|████▉     | 85966/172148 [2:28:38<16:31:26,  1.45it/s, loss=4.2023]"
          ]
        },
        {
          "output_type": "stream",
          "name": "stdout",
          "text": [
            "\n",
            "Context: The President\n",
            "\n",
            "Generated text: The President 's office said the decision to `` get a lot of money '' . ' '' . ' '' . ' '' . ' '' . ' '' . ' '' . ' `` . ' '' . 's . '## 's . '\n",
            "\n"
          ]
        },
        {
          "output_type": "stream",
          "name": "stderr",
          "text": [
            "Epoch 1/1:  51%|█████     | 87527/172148 [2:31:17<2:12:20, 10.66it/s, loss=4.1174]"
          ]
        },
        {
          "output_type": "stream",
          "name": "stdout",
          "text": [
            "\n",
            "After 200064 examples, Average Loss: 4.0764\n"
          ]
        },
        {
          "output_type": "stream",
          "name": "stderr",
          "text": [
            "\n",
            "Evaluating:   0%|          | 0/3514 [00:00<?, ?it/s]\u001b[A\n",
            "Evaluating:   0%|          | 2/3514 [00:00<03:39, 16.01it/s]\u001b[A\n",
            "Evaluating:   0%|          | 4/3514 [00:00<03:20, 17.46it/s]\u001b[A\n",
            "Evaluating:   0%|          | 6/3514 [00:00<03:15, 17.97it/s]\u001b[A\n",
            "                                                            \u001b[A"
          ]
        },
        {
          "output_type": "stream",
          "name": "stdout",
          "text": [
            "\n",
            "Validation Average Loss: 4.0475, Perplexity: 57.25\n",
            "\n",
            "Context: Moscow\n",
            "\n",
            "Generated text: Moscow has been accused of a 'incredible ' and 'very . ' '' ' . ' '' . ' '' . ' '' . ' '' . ' '' . ' '' . 's . 's . 's . 's 's\n",
            "\n",
            "\n",
            "Context: New York\n",
            "\n",
            "Generated text: New York City Mayor Michael Bloomberg said the company had been working with the company to investigate the incident . '' 's report . ' '' . ' '' . ' '' . ' '' . 's Daily News . 's Daily . 's\n",
            "\n",
            "\n",
            "Context: A hurricane\n",
            "\n",
            "Generated text: A hurricane warning is expected to be reached on Monday . '' ' '' , said the Coast Guard spokesman said . 'We . ' '' . ' '' . ' `` . ' '' . 's . 's the air the air\n",
            "\n"
          ]
        },
        {
          "output_type": "stream",
          "name": "stderr",
          "text": [
            "Epoch 1/1:  51%|█████     | 87529/172148 [2:31:22<20:19:47,  1.16it/s, loss=4.0637]"
          ]
        },
        {
          "output_type": "stream",
          "name": "stdout",
          "text": [
            "\n",
            "Context: The President\n",
            "\n",
            "Generated text: The President has been criticised for the fact that the government has been in the past . '' ' . ' '' ' . ' '' . ' '' . ' '' . ' '' . ' `` The . 's . 's . ' . '\n",
            "\n"
          ]
        },
        {
          "output_type": "stream",
          "name": "stderr",
          "text": [
            "Epoch 1/1:  52%|█████▏    | 89090/172148 [2:34:01<2:13:22, 10.38it/s, loss=4.0814]"
          ]
        },
        {
          "output_type": "stream",
          "name": "stdout",
          "text": [
            "\n",
            "After 200064 examples, Average Loss: 4.0738\n"
          ]
        },
        {
          "output_type": "stream",
          "name": "stderr",
          "text": [
            "\n",
            "Evaluating:   0%|          | 0/3514 [00:00<?, ?it/s]\u001b[A\n",
            "Evaluating:   0%|          | 2/3514 [00:00<03:13, 18.15it/s]\u001b[A\n",
            "Evaluating:   0%|          | 4/3514 [00:00<03:11, 18.37it/s]\u001b[A\n",
            "Evaluating:   0%|          | 6/3514 [00:00<03:23, 17.28it/s]\u001b[A\n",
            "                                                            \u001b[A"
          ]
        },
        {
          "output_type": "stream",
          "name": "stdout",
          "text": [
            "\n",
            "Validation Average Loss: 4.0478, Perplexity: 57.27\n",
            "\n",
            "Context: Moscow\n",
            "\n",
            "Generated text: Moscow 's missile missile strike was not immediately clear whether the plane had been delayed . '' ' . ' '' . ' '' . ' '' . ' '' . ' '' . 's spokesman said . 's . ' . '\n",
            "\n",
            "\n",
            "Context: New York\n",
            "\n",
            "Generated text: New York City Mayor Michael Bloomberg said the company 's decision was `` a very important step forward '' . '' '' . ' '' . ' '' . ' '' . ' '' . ' '' . ' '' . 's Times . 's\n",
            "\n",
            "\n",
            "Context: A hurricane\n",
            "\n",
            "Generated text: A hurricane warning is expected to be delayed until next week . '' ' . ' '' . ' '' . ' '' . ' '' . ' '' . ' '' . ' '' . ' '' . 's . ' . ' . ' .\n",
            "\n"
          ]
        },
        {
          "output_type": "stream",
          "name": "stderr",
          "text": [
            "Epoch 1/1:  52%|█████▏    | 89092/172148 [2:34:05<16:46:55,  1.37it/s, loss=4.1184]"
          ]
        },
        {
          "output_type": "stream",
          "name": "stdout",
          "text": [
            "\n",
            "Context: The President\n",
            "\n",
            "Generated text: The President 's office said the government had been `` inappropriate '' . ' '' . ' '' . ' '' . ' '' . ' '' . ' '' . ' '' . 's . 's . 's new . ' .\n",
            "\n"
          ]
        },
        {
          "output_type": "stream",
          "name": "stderr",
          "text": [
            "Epoch 1/1:  53%|█████▎    | 90653/172148 [2:36:45<2:10:36, 10.40it/s, loss=4.0586]"
          ]
        },
        {
          "output_type": "stream",
          "name": "stdout",
          "text": [
            "\n",
            "After 200064 examples, Average Loss: 4.0726\n"
          ]
        },
        {
          "output_type": "stream",
          "name": "stderr",
          "text": [
            "\n",
            "Evaluating:   0%|          | 0/3514 [00:00<?, ?it/s]\u001b[A\n",
            "Evaluating:   0%|          | 2/3514 [00:00<03:13, 18.10it/s]\u001b[A\n",
            "Evaluating:   0%|          | 4/3514 [00:00<03:11, 18.35it/s]\u001b[A\n",
            "Evaluating:   0%|          | 6/3514 [00:00<03:10, 18.38it/s]\u001b[A\n",
            "                                                            \u001b[A"
          ]
        },
        {
          "output_type": "stream",
          "name": "stdout",
          "text": [
            "\n",
            "Validation Average Loss: 4.0399, Perplexity: 56.82\n",
            "\n",
            "Context: Moscow\n",
            "\n",
            "Generated text: Moscow has been a major threat to the country 's economy . '' ' . ' '' ' . ' '' ' I 'm not sure what 's happening . ' '' ' . 's . ' . 's new . ' . ' .\n",
            "\n",
            "\n",
            "Context: New York\n",
            "\n",
            "Generated text: New York City : The ##-year-old has been in the past two years . ' '' , and he 's now-manager of the United States . ' '' . ' . ' . ' . ' . 's . 's .\n",
            "\n",
            "\n",
            "Context: A hurricane\n",
            "\n",
            "Generated text: A hurricane warning signs of rain and rain will be expected to rise in snow in the east . ' '' , according to the National Weather Service . ' '' . ' . ' '' . ' . 's . 'de 's the\n",
            "\n"
          ]
        },
        {
          "output_type": "stream",
          "name": "stderr",
          "text": [
            "Epoch 1/1:  53%|█████▎    | 90655/172148 [2:36:50<18:46:12,  1.21it/s, loss=4.0558]"
          ]
        },
        {
          "output_type": "stream",
          "name": "stdout",
          "text": [
            "\n",
            "Context: The President\n",
            "\n",
            "Generated text: The President 's office said the `` unacceptable '' of the `` `` `` a very serious situation '' . '' '' . '' '' . ' '' . ' '' . ' '' . 's Aman . ' . 's <rares\n",
            "\n"
          ]
        },
        {
          "output_type": "stream",
          "name": "stderr",
          "text": [
            "Epoch 1/1:  54%|█████▎    | 92215/172148 [2:39:30<2:05:41, 10.60it/s, loss=4.0635]"
          ]
        },
        {
          "output_type": "stream",
          "name": "stdout",
          "text": [
            "\n",
            "After 200064 examples, Average Loss: 4.0703\n"
          ]
        },
        {
          "output_type": "stream",
          "name": "stderr",
          "text": [
            "\n",
            "Evaluating:   0%|          | 0/3514 [00:00<?, ?it/s]\u001b[A\n",
            "Evaluating:   0%|          | 2/3514 [00:00<03:19, 17.65it/s]\u001b[A\n",
            "Evaluating:   0%|          | 4/3514 [00:00<03:11, 18.36it/s]\u001b[A\n",
            "Evaluating:   0%|          | 6/3514 [00:00<03:18, 17.70it/s]\u001b[A\n",
            "                                                            \u001b[A"
          ]
        },
        {
          "output_type": "stream",
          "name": "stdout",
          "text": [
            "\n",
            "Validation Average Loss: 4.0431, Perplexity: 57.00\n",
            "\n",
            "Context: Moscow\n",
            "\n",
            "Generated text: Moscow 's government has been accused of `` a long-running terrorist attack '' . ' '' . ' '' ' I 'm not sure what 's going on . ' '' . ' . 's . 's . 's . '\n",
            "\n",
            "\n",
            "Context: New York\n",
            "\n",
            "Generated text: New York City 's ##-year-old boy , who was a member of the public , said he was `` a very intelligent man . '' ' '' . ' '' . ' . ' . ' . ' . ' . ' . '\n",
            "\n",
            "\n",
            "Context: A hurricane\n",
            "\n",
            "Generated text: A hurricane warning is expected to be delayed for a week after the storms were delayed . ' '' . ' '' ' . ' '' ' . ' '' ' I 'm not sure what 's . ' . ' . ' . '\n",
            "\n"
          ]
        },
        {
          "output_type": "stream",
          "name": "stderr",
          "text": [
            "Epoch 1/1:  54%|█████▎    | 92218/172148 [2:39:34<13:05:55,  1.70it/s, loss=4.0944]"
          ]
        },
        {
          "output_type": "stream",
          "name": "stdout",
          "text": [
            "\n",
            "Context: The President\n",
            "\n",
            "Generated text: The President 's office said the `` unfortunate '' `` is the first time a few people are in the process of being a `` very difficult '' . '' '' . '' ' '' . 's I-barers . 's `` a\n",
            "\n"
          ]
        },
        {
          "output_type": "stream",
          "name": "stderr",
          "text": [
            "Epoch 1/1:  54%|█████▍    | 93778/172148 [2:42:13<2:03:38, 10.56it/s, loss=4.0649]"
          ]
        },
        {
          "output_type": "stream",
          "name": "stdout",
          "text": [
            "\n",
            "After 200064 examples, Average Loss: 4.0692\n"
          ]
        },
        {
          "output_type": "stream",
          "name": "stderr",
          "text": [
            "\n",
            "Evaluating:   0%|          | 0/3514 [00:00<?, ?it/s]\u001b[A\n",
            "Evaluating:   0%|          | 2/3514 [00:00<03:10, 18.42it/s]\u001b[A\n",
            "Evaluating:   0%|          | 4/3514 [00:00<03:08, 18.65it/s]\u001b[A\n",
            "Evaluating:   0%|          | 6/3514 [00:00<03:05, 18.90it/s]\u001b[A\n",
            "                                                            \u001b[A"
          ]
        },
        {
          "output_type": "stream",
          "name": "stdout",
          "text": [
            "\n",
            "Validation Average Loss: 4.0426, Perplexity: 56.97\n",
            "\n",
            "Context: Moscow\n",
            "\n",
            "Generated text: Moscow has been a major step towards the end of the war . '' ' . ' '' ' . ' '' ' . ' '' . ' '' . ' '' . ' . ' . 's . 'no a big stepd . ' . '\n",
            "\n",
            "\n",
            "Context: New York\n",
            "\n",
            "Generated text: New York City Police Chief Michael Gove said the decision was `` not to be made '' . '' ' '' . ' '' . ' '' . ' '' . ' '' . ' '' . ' `` . 's Secret Service . 's '' .\n",
            "\n",
            "\n",
            "Context: A hurricane\n",
            "\n",
            "Generated text: A hurricane warning was made to the ground in the north of the city of <rare> , which was the first time the storm was in the area . ' '' . ' . ' '' . ' . 's . 's . '\n",
            "\n"
          ]
        },
        {
          "output_type": "stream",
          "name": "stderr",
          "text": [
            "Epoch 1/1:  54%|█████▍    | 93781/172148 [2:42:19<15:40:01,  1.39it/s, loss=4.0785]"
          ]
        },
        {
          "output_type": "stream",
          "name": "stdout",
          "text": [
            "\n",
            "Context: The President\n",
            "\n",
            "Generated text: The President 's office has been criticised by the government for failing to address the issue . '' ' . ' '' ' . ' '' . ' '' . ' '' . ' . ' . 's . 's . 's . 's\n",
            "\n"
          ]
        },
        {
          "output_type": "stream",
          "name": "stderr",
          "text": [
            "Epoch 1/1:  55%|█████▌    | 95341/172148 [2:44:58<2:00:36, 10.61it/s, loss=4.0387]"
          ]
        },
        {
          "output_type": "stream",
          "name": "stdout",
          "text": [
            "\n",
            "After 200064 examples, Average Loss: 4.0652\n"
          ]
        },
        {
          "output_type": "stream",
          "name": "stderr",
          "text": [
            "\n",
            "Evaluating:   0%|          | 0/3514 [00:00<?, ?it/s]\u001b[A\n",
            "Evaluating:   0%|          | 2/3514 [00:00<03:23, 17.23it/s]\u001b[A\n",
            "Evaluating:   0%|          | 4/3514 [00:00<03:34, 16.37it/s]\u001b[A\n",
            "Evaluating:   0%|          | 6/3514 [00:00<03:24, 17.15it/s]\u001b[A\n",
            "                                                            \u001b[A"
          ]
        },
        {
          "output_type": "stream",
          "name": "stdout",
          "text": [
            "\n",
            "Validation Average Loss: 4.0435, Perplexity: 57.02\n",
            "\n",
            "Context: Moscow\n",
            "\n",
            "Generated text: Moscow has been a key part of the European Union 's nuclear programme . '' 's report . ' '' . ' '' . ' '' . ' '' . ' '' . ' . 's . 's not a key . 's key .\n",
            "\n",
            "\n",
            "Context: New York\n",
            "\n",
            "Generated text: New York City Mayor Bill de Blasio said the party was `` not a matter of time '' . ' '' . ' '' . ' '' . ' '' . ' '' . ' '' . 's . 's . 's Times , a\n",
            "\n",
            "\n",
            "Context: A hurricane\n",
            "\n",
            "Generated text: A hurricane warning is expected to reach the coast of the Pacific Ocean . ' '' , according to the National Oceanic . ' '' . ' '' . ' '' . ' . ' '' . ' . 's . ' . 's a\n",
            "\n"
          ]
        },
        {
          "output_type": "stream",
          "name": "stderr",
          "text": [
            "Epoch 1/1:  55%|█████▌    | 95344/172148 [2:45:02<12:32:00,  1.70it/s, loss=4.1170]"
          ]
        },
        {
          "output_type": "stream",
          "name": "stdout",
          "text": [
            "\n",
            "Context: The President\n",
            "\n",
            "Generated text: The President 's office said the government had `` no immediate comment '' . ' '' . ' '' . ' '' . ' '' . ' '' . ' '' . ' '' . ' '' . 's . 's .###-age '\n",
            "\n"
          ]
        },
        {
          "output_type": "stream",
          "name": "stderr",
          "text": [
            "Epoch 1/1:  56%|█████▋    | 96905/172148 [2:47:43<2:06:20,  9.93it/s, loss=4.0682]"
          ]
        },
        {
          "output_type": "stream",
          "name": "stdout",
          "text": [
            "\n",
            "After 200064 examples, Average Loss: 4.0692\n"
          ]
        },
        {
          "output_type": "stream",
          "name": "stderr",
          "text": [
            "\n",
            "Evaluating:   0%|          | 0/3514 [00:00<?, ?it/s]\u001b[A\n",
            "Evaluating:   0%|          | 2/3514 [00:00<03:20, 17.50it/s]\u001b[A\n",
            "Evaluating:   0%|          | 4/3514 [00:00<03:11, 18.29it/s]\u001b[A\n",
            "Evaluating:   0%|          | 6/3514 [00:00<03:15, 17.97it/s]\u001b[A\n",
            "                                                            \u001b[A"
          ]
        },
        {
          "output_type": "stream",
          "name": "stdout",
          "text": [
            "\n",
            "Validation Average Loss: 4.0382, Perplexity: 56.72\n",
            "\n",
            "Context: Moscow\n",
            "\n",
            "Generated text: Moscow has been accused of being a member of the military and the United States . '' ' . ' '' . ' '' . ' '' . ' . ' '' . ' . ' . 's . ' . ' a ' . ' . 's\n",
            "\n",
            "\n",
            "Context: New York\n",
            "\n",
            "Generated text: New York City Police said the incident was not immediately available to the police . ' '' . ' '' . ' '' . ' '' . ' . ' '' . ' . ' . ' . 's . 's . 's decision 's decision\n",
            "\n",
            "\n",
            "Context: A hurricane\n",
            "\n",
            "Generated text: A hurricane warning is expected to be reached for more than ###,### miles ( ##,### miles ) from the southern coast . ) . ' '' . ' . '### . ' . 's the air to be a\n",
            "\n"
          ]
        },
        {
          "output_type": "stream",
          "name": "stderr",
          "text": [
            "Epoch 1/1:  56%|█████▋    | 96907/172148 [2:47:47<15:12:30,  1.37it/s, loss=4.2387]"
          ]
        },
        {
          "output_type": "stream",
          "name": "stdout",
          "text": [
            "\n",
            "Context: The President\n",
            "\n",
            "Generated text: The President 's office said the government was `` very disappointed '' . ' '' . ' '' . ' '' . ' '' . ' '' . ' '' . ' '' . ' '' . 's . 's . 's . 's\n",
            "\n"
          ]
        },
        {
          "output_type": "stream",
          "name": "stderr",
          "text": [
            "Epoch 1/1:  57%|█████▋    | 98467/172148 [2:50:27<1:56:25, 10.55it/s, loss=3.9815]"
          ]
        },
        {
          "output_type": "stream",
          "name": "stdout",
          "text": [
            "\n",
            "After 200064 examples, Average Loss: 4.0672\n"
          ]
        },
        {
          "output_type": "stream",
          "name": "stderr",
          "text": [
            "\n",
            "Evaluating:   0%|          | 0/3514 [00:00<?, ?it/s]\u001b[A\n",
            "Evaluating:   0%|          | 2/3514 [00:00<03:18, 17.72it/s]\u001b[A\n",
            "Evaluating:   0%|          | 4/3514 [00:00<03:14, 18.03it/s]\u001b[A\n",
            "Evaluating:   0%|          | 6/3514 [00:00<03:13, 18.09it/s]\u001b[A\n",
            "                                                            \u001b[A"
          ]
        },
        {
          "output_type": "stream",
          "name": "stdout",
          "text": [
            "\n",
            "Validation Average Loss: 4.0358, Perplexity: 56.59\n",
            "\n",
            "Context: Moscow\n",
            "\n",
            "Generated text: Moscow has been a major issue in the region , with the U.S. government . '' ' . ' '' . ' '' . ' '' . ' '' . ' '' . ' . 's . 'no . ' . 's ' .\n",
            "\n",
            "\n",
            "Context: New York\n",
            "\n",
            "Generated text: New York City 's most famous movie star , the first to be the first of the year 's film . ' '' . ' '' . ' '' . ' . ' . ' '' . ' . ' . ' . ' . 's .\n",
            "\n",
            "\n",
            "Context: A hurricane\n",
            "\n",
            "Generated text: A hurricane warning was expected to continue to fall in the Pacific Ocean . ' '' ' . ' '' ' I 'm not sure . ' '' ' . ' '' ' . ' '' . ' . 's . 't a . '\n",
            "\n"
          ]
        },
        {
          "output_type": "stream",
          "name": "stderr",
          "text": [
            "Epoch 1/1:  57%|█████▋    | 98470/172148 [2:50:32<12:42:35,  1.61it/s, loss=4.0315]"
          ]
        },
        {
          "output_type": "stream",
          "name": "stdout",
          "text": [
            "\n",
            "Context: The President\n",
            "\n",
            "Generated text: The President 's office said the government had `` no intention of any wrongdoing '' . ' '' . ' '' . ' '' . ' '' . ' '' . ' '' . ' '' . 's . 's . 's . '\n",
            "\n"
          ]
        },
        {
          "output_type": "stream",
          "name": "stderr",
          "text": [
            "Epoch 1/1:  58%|█████▊    | 100031/172148 [2:53:12<1:54:00, 10.54it/s, loss=3.9795]"
          ]
        },
        {
          "output_type": "stream",
          "name": "stdout",
          "text": [
            "\n",
            "After 200064 examples, Average Loss: 4.0636\n"
          ]
        },
        {
          "output_type": "stream",
          "name": "stderr",
          "text": [
            "\n",
            "Evaluating:   0%|          | 0/3514 [00:00<?, ?it/s]\u001b[A\n",
            "Evaluating:   0%|          | 2/3514 [00:00<03:18, 17.69it/s]\u001b[A\n",
            "Evaluating:   0%|          | 4/3514 [00:00<03:10, 18.47it/s]\u001b[A\n",
            "Evaluating:   0%|          | 6/3514 [00:00<03:10, 18.44it/s]\u001b[A\n",
            "                                                            \u001b[A"
          ]
        },
        {
          "output_type": "stream",
          "name": "stdout",
          "text": [
            "\n",
            "Validation Average Loss: 4.0403, Perplexity: 56.84\n",
            "\n",
            "Context: Moscow\n",
            "\n",
            "Generated text: Moscow has been a key target for the United States . '' ' . ' '' ' . ' '' ' Aaron Hernandez said . ' '' . ' '' ' I 'd . ' . ' . ' and the way a key to .\n",
            "\n",
            "\n",
            "Context: New York\n",
            "\n",
            "Generated text: New York City 's most famous movie , and the most popular TV show , is the most popular feature in the world . ' '' . ' '' . ' '' . ' '' . ' `` . ' '' . ' . 's . 's\n",
            "\n",
            "\n",
            "Context: A hurricane\n",
            "\n",
            "Generated text: A hurricane warning is expected to be delayed . '' ' . ' '' ' . ' '' 'The . ' '' ' Aaron 's mother , who was a 's a . ' '' ' . ' . ' . ' . '\n",
            "\n"
          ]
        },
        {
          "output_type": "stream",
          "name": "stderr",
          "text": [
            "Epoch 1/1:  58%|█████▊    | 100033/172148 [2:53:16<13:49:24,  1.45it/s, loss=4.0125]"
          ]
        },
        {
          "output_type": "stream",
          "name": "stdout",
          "text": [
            "\n",
            "Context: The President\n",
            "\n",
            "Generated text: The President 's office said the government had notified the government . ' '' . ' '' . ' '' . ' '' . ' '' . ' '' . ' '' . ' '' . ' '' . ' . 's . 's 's\n",
            "\n"
          ]
        },
        {
          "output_type": "stream",
          "name": "stderr",
          "text": [
            "Epoch 1/1:  59%|█████▉    | 101594/172148 [2:55:55<2:03:08,  9.55it/s, loss=4.0631]"
          ]
        },
        {
          "output_type": "stream",
          "name": "stdout",
          "text": [
            "\n",
            "After 200064 examples, Average Loss: 4.0624\n"
          ]
        },
        {
          "output_type": "stream",
          "name": "stderr",
          "text": [
            "\n",
            "Evaluating:   0%|          | 0/3514 [00:00<?, ?it/s]\u001b[A\n",
            "Evaluating:   0%|          | 2/3514 [00:00<04:11, 13.95it/s]\u001b[A\n",
            "Evaluating:   0%|          | 4/3514 [00:00<03:59, 14.66it/s]\u001b[A\n",
            "Evaluating:   0%|          | 6/3514 [00:00<03:54, 14.94it/s]\u001b[A\n",
            "                                                            \u001b[A"
          ]
        },
        {
          "output_type": "stream",
          "name": "stdout",
          "text": [
            "\n",
            "Validation Average Loss: 4.0348, Perplexity: 56.53\n",
            "\n",
            "Context: Moscow\n",
            "\n",
            "Generated text: Moscow has been trying to re-elect the U.S. government in the past . '' 's ##-year-old . ' '' ' . ' '' . ' . ' . 's a ' . ' . ' . ' . '\n",
            "\n",
            "\n",
            "Context: New York\n",
            "\n",
            "Generated text: New York City 's most popular TV show , which is the most popular feature of the film , is the most popular feature of the film . ' '' . ' '' . ' . ' . ' . ' . ' . ' . 's .\n",
            "\n",
            "\n",
            "Context: A hurricane\n",
            "\n",
            "Generated text: A hurricane warning is expected to be reached on Monday . '' 's ##-year-old said . ' '' . ' '' . ' '' . ' '' . ' . ' '' . ' . 's . 'd to be a\n",
            "\n"
          ]
        },
        {
          "output_type": "stream",
          "name": "stderr",
          "text": [
            "Epoch 1/1:  59%|█████▉    | 101596/172148 [2:56:00<15:44:26,  1.25it/s, loss=3.9700]"
          ]
        },
        {
          "output_type": "stream",
          "name": "stdout",
          "text": [
            "\n",
            "Context: The President\n",
            "\n",
            "Generated text: The President 's office said the government had been working on the issue . '' 's . ' '' . ' '' . ' '' . ' '' . ' '' . ' '' . 's . 's . 's . 's 's\n",
            "\n"
          ]
        },
        {
          "output_type": "stream",
          "name": "stderr",
          "text": [
            "Epoch 1/1:  60%|█████▉    | 103157/172148 [2:58:40<1:51:21, 10.32it/s, loss=4.1036]"
          ]
        },
        {
          "output_type": "stream",
          "name": "stdout",
          "text": [
            "\n",
            "After 200064 examples, Average Loss: 4.0635\n"
          ]
        },
        {
          "output_type": "stream",
          "name": "stderr",
          "text": [
            "\n",
            "Evaluating:   0%|          | 0/3514 [00:00<?, ?it/s]\u001b[A\n",
            "Evaluating:   0%|          | 2/3514 [00:00<03:19, 17.61it/s]\u001b[A\n",
            "Evaluating:   0%|          | 4/3514 [00:00<03:11, 18.29it/s]\u001b[A\n",
            "Evaluating:   0%|          | 6/3514 [00:00<03:12, 18.19it/s]\u001b[A\n",
            "                                                            \u001b[A"
          ]
        },
        {
          "output_type": "stream",
          "name": "stdout",
          "text": [
            "\n",
            "Validation Average Loss: 4.0339, Perplexity: 56.48\n",
            "\n",
            "Context: Moscow\n",
            "\n",
            "Generated text: Moscow denies the allegations of the alleged attack , but the alleged attack was not a 'inous ' . ' '' . ' . ' . ' . ' '' . ' . ' . ' . ' . 's .##-\n",
            "\n",
            "\n",
            "Context: New York\n",
            "\n",
            "Generated text: New York City Mayor Michael Bloomberg said the new government would not be able to get the vote . '' ' . ' '' . ' '' . ' '' . ' '' . ' '' . 's . ' '' . ' . 's Press\n",
            "\n",
            "\n",
            "Context: A hurricane\n",
            "\n",
            "Generated text: A hurricane warning is expected to be reached at #.##pm on Wednesday . '' ) . ' '' . ' '' . ' '' . ' '' . ' . ' '' . ' . 's . 'd the ' .\n",
            "\n"
          ]
        },
        {
          "output_type": "stream",
          "name": "stderr",
          "text": [
            "Epoch 1/1:  60%|█████▉    | 103159/172148 [2:58:44<13:22:36,  1.43it/s, loss=4.0242]"
          ]
        },
        {
          "output_type": "stream",
          "name": "stdout",
          "text": [
            "\n",
            "Context: The President\n",
            "\n",
            "Generated text: The President 's office said the government had been `` deeply concerned about the situation '' . ' '' . ' '' . ' '' . ' '' . ' '' . ' '' . ' '' . 's . ' . 's . ' . '\n",
            "\n"
          ]
        },
        {
          "output_type": "stream",
          "name": "stderr",
          "text": [
            "Epoch 1/1:  61%|██████    | 104720/172148 [3:01:25<1:48:58, 10.31it/s, loss=3.9921]"
          ]
        },
        {
          "output_type": "stream",
          "name": "stdout",
          "text": [
            "\n",
            "After 200064 examples, Average Loss: 4.0620\n"
          ]
        },
        {
          "output_type": "stream",
          "name": "stderr",
          "text": [
            "\n",
            "Evaluating:   0%|          | 0/3514 [00:00<?, ?it/s]\u001b[A\n",
            "Evaluating:   0%|          | 2/3514 [00:00<03:10, 18.39it/s]\u001b[A\n",
            "Evaluating:   0%|          | 4/3514 [00:00<03:14, 18.04it/s]\u001b[A\n",
            "Evaluating:   0%|          | 6/3514 [00:00<03:23, 17.22it/s]\u001b[A\n",
            "                                                            \u001b[A"
          ]
        },
        {
          "output_type": "stream",
          "name": "stdout",
          "text": [
            "\n",
            "Validation Average Loss: 4.0324, Perplexity: 56.40\n",
            "\n",
            "Context: Moscow\n",
            "\n",
            "Generated text: Moscow has been trying to reassure the United States that the U.S. has been in the region . '' ' . ' '' ' . ' '' ' . ' . ' . 's . ' . ' . ' . ' . '\n",
            "\n",
            "\n",
            "Context: New York\n",
            "\n",
            "Generated text: New York 's `` The FBI '' is the first person to be identified as a suspect . '' 'SJ . ' '' `` . '' ] . ' '' . ' '' 's . 's . '' 's . 's .\n",
            "\n",
            "\n",
            "Context: A hurricane\n",
            "\n",
            "Generated text: A hurricane warning is expected to be reached on Friday . '' ' . ' '' ' . ' '' 's statement said . ' '' . ' '' ' I 'm not saying . ' `` . ' . 'the way ' . '\n",
            "\n"
          ]
        },
        {
          "output_type": "stream",
          "name": "stderr",
          "text": [
            "Epoch 1/1:  61%|██████    | 104722/172148 [3:01:29<13:57:45,  1.34it/s, loss=4.1745]"
          ]
        },
        {
          "output_type": "stream",
          "name": "stdout",
          "text": [
            "\n",
            "Context: The President\n",
            "\n",
            "Generated text: The President 's office said the government had `` been trying to establish the circumstances of the attack . '' '' . ' '' . ' '' ' `` . ' '' . ' '' . ' '' . 's . 's `` The Obes ''\n",
            "\n"
          ]
        },
        {
          "output_type": "stream",
          "name": "stderr",
          "text": [
            "Epoch 1/1:  62%|██████▏   | 106283/172148 [3:04:08<1:44:22, 10.52it/s, loss=4.0260]"
          ]
        },
        {
          "output_type": "stream",
          "name": "stdout",
          "text": [
            "\n",
            "After 200064 examples, Average Loss: 4.0600\n"
          ]
        },
        {
          "output_type": "stream",
          "name": "stderr",
          "text": [
            "\n",
            "Evaluating:   0%|          | 0/3514 [00:00<?, ?it/s]\u001b[A\n",
            "Evaluating:   0%|          | 2/3514 [00:00<03:16, 17.85it/s]\u001b[A\n",
            "Evaluating:   0%|          | 4/3514 [00:00<03:09, 18.56it/s]\u001b[A\n",
            "Evaluating:   0%|          | 6/3514 [00:00<03:09, 18.48it/s]\u001b[A\n",
            "                                                            \u001b[A"
          ]
        },
        {
          "output_type": "stream",
          "name": "stdout",
          "text": [
            "\n",
            "Validation Average Loss: 4.0258, Perplexity: 56.03\n",
            "\n",
            "Context: Moscow\n",
            "\n",
            "Generated text: Moscow has been accused of killing a ##-year-old woman and has been arrested in connection with the attack . ' '' . ' '' ' . ' '' ' . ' . ' . 's . ' . ' a ' . ' . '\n",
            "\n",
            "\n",
            "Context: New York\n",
            "\n",
            "Generated text: New York City Mayor Michael Bloomberg said the `` very difficult '' of the investigation was `` a very serious situation '' . '' ' '' . ' '' ' I 'm not sure . ' '' . ' '' . 's Times . 's\n",
            "\n",
            "\n",
            "Context: A hurricane\n",
            "\n",
            "Generated text: A hurricane warning is expected to be cancelled . ' '' ' . ' '' 's statement said . 'Little . ' '' 's statement . ' '' ' I 'd not comment on the air traffic to be a `` the\n",
            "\n"
          ]
        },
        {
          "output_type": "stream",
          "name": "stderr",
          "text": [
            "Epoch 1/1:  62%|██████▏   | 106285/172148 [3:04:13<15:29:31,  1.18it/s, loss=4.0769]"
          ]
        },
        {
          "output_type": "stream",
          "name": "stdout",
          "text": [
            "\n",
            "Context: The President\n",
            "\n",
            "Generated text: The President 's office said the government was `` deeply concerned '' and `` no doubt '' that the government 's decision was `` to be a priority '' . '' ' '' . ' '' . 's . 's .##-in . '\n",
            "\n"
          ]
        },
        {
          "output_type": "stream",
          "name": "stderr",
          "text": [
            "Epoch 1/1:  63%|██████▎   | 107845/172148 [3:06:55<1:41:59, 10.51it/s, loss=4.0794]"
          ]
        },
        {
          "output_type": "stream",
          "name": "stdout",
          "text": [
            "\n",
            "After 200064 examples, Average Loss: 4.0584\n"
          ]
        },
        {
          "output_type": "stream",
          "name": "stderr",
          "text": [
            "\n",
            "Evaluating:   0%|          | 0/3514 [00:00<?, ?it/s]\u001b[A\n",
            "Evaluating:   0%|          | 2/3514 [00:00<03:20, 17.50it/s]\u001b[A\n",
            "Evaluating:   0%|          | 4/3514 [00:00<03:15, 17.93it/s]\u001b[A\n",
            "Evaluating:   0%|          | 6/3514 [00:00<03:12, 18.26it/s]\u001b[A\n",
            "                                                            \u001b[A"
          ]
        },
        {
          "output_type": "stream",
          "name": "stdout",
          "text": [
            "\n",
            "Validation Average Loss: 4.0280, Perplexity: 56.15\n",
            "\n",
            "Context: Moscow\n",
            "\n",
            "Generated text: Moscow has been accused of targeting the country 's nuclear ambassador to the United States . '' ' . ' '' . ' '' . ' '' . ' '' . ' '' . ' . 's . ' . 's a . ' .\n",
            "\n",
            "\n",
            "Context: New York\n",
            "\n",
            "Generated text: New York City Mayor Bill de Blasio said the company was `` not going to be a big deal for the first time '' . ' '' . ' '' . ' '' . ' '' . ' '' . ' '' . ' . 's .\n",
            "\n",
            "\n",
            "Context: A hurricane\n",
            "\n",
            "Generated text: A hurricane warning is expected to be seen as a result of the storm . '' 's report . ' '' . ' '' . ' '' . ' '' . ' '' . ' '' . ' . 's . ' . 's .\n",
            "\n"
          ]
        },
        {
          "output_type": "stream",
          "name": "stderr",
          "text": [
            "Epoch 1/1:  63%|██████▎   | 107848/172148 [3:06:59<10:26:30,  1.71it/s, loss=3.9389]"
          ]
        },
        {
          "output_type": "stream",
          "name": "stdout",
          "text": [
            "\n",
            "Context: The President\n",
            "\n",
            "Generated text: The President 's office said the government had `` no longer support '' . ' '' . ' '' . ' '' . ' '' . ' '' . ' '' . ' '' . ' '' . 's . 's . 's best . '\n",
            "\n"
          ]
        },
        {
          "output_type": "stream",
          "name": "stderr",
          "text": [
            "Epoch 1/1:  64%|██████▎   | 109409/172148 [3:09:39<2:10:54,  7.99it/s, loss=3.8662]"
          ]
        },
        {
          "output_type": "stream",
          "name": "stdout",
          "text": [
            "\n",
            "After 200064 examples, Average Loss: 4.0594\n"
          ]
        },
        {
          "output_type": "stream",
          "name": "stderr",
          "text": [
            "\n",
            "Evaluating:   0%|          | 0/3514 [00:00<?, ?it/s]\u001b[A\n",
            "Evaluating:   0%|          | 2/3514 [00:00<04:17, 13.61it/s]\u001b[A\n",
            "Evaluating:   0%|          | 4/3514 [00:00<04:24, 13.27it/s]\u001b[A\n",
            "Evaluating:   0%|          | 6/3514 [00:00<04:33, 12.81it/s]\u001b[A\n",
            "                                                            \u001b[A"
          ]
        },
        {
          "output_type": "stream",
          "name": "stdout",
          "text": [
            "\n",
            "Validation Average Loss: 4.0226, Perplexity: 55.85\n",
            "\n",
            "Context: Moscow\n",
            "\n",
            "Generated text: Moscow has been targeted by the Ukrainian government and the United States . '' ' . ' '' ' . ' '' ' . ' '' ' . ' '' ' : . ' '' 's . ' . ' a very important to be a .\n",
            "\n",
            "\n",
            "Context: New York\n",
            "\n",
            "Generated text: New York City Mayor Billing said the company had been `` committed to the workforce '' and `` a `` big deal '' . '' '' and `` a `` <rare> '' . '' '' . '' . '' . '' . '' . '' .\n",
            "\n",
            "\n",
            "Context: A hurricane\n",
            "\n",
            "Generated text: A hurricane warning was expected to be reached at the end of the year . ' '' ] said . ' '' ' . ' '' . ' '' . ' '' . ' '' . ' '' ' : . 's new 'w in the\n",
            "\n"
          ]
        },
        {
          "output_type": "stream",
          "name": "stderr",
          "text": [
            "Epoch 1/1:  64%|██████▎   | 109411/172148 [3:09:43<17:02:44,  1.02it/s, loss=4.0282]"
          ]
        },
        {
          "output_type": "stream",
          "name": "stdout",
          "text": [
            "\n",
            "Context: The President\n",
            "\n",
            "Generated text: The President has been criticised for the way he is . '' ' he said . ' '' . ' '' . ' '' . ' '' . ' '' . ' '' ' : . ' . 's said . 's 's out to be\n",
            "\n"
          ]
        },
        {
          "output_type": "stream",
          "name": "stderr",
          "text": [
            "Epoch 1/1:  64%|██████▍   | 110972/172148 [3:12:24<1:36:57, 10.52it/s, loss=3.9500]"
          ]
        },
        {
          "output_type": "stream",
          "name": "stdout",
          "text": [
            "\n",
            "After 200064 examples, Average Loss: 4.0553\n"
          ]
        },
        {
          "output_type": "stream",
          "name": "stderr",
          "text": [
            "\n",
            "Evaluating:   0%|          | 0/3514 [00:00<?, ?it/s]\u001b[A\n",
            "Evaluating:   0%|          | 2/3514 [00:00<03:20, 17.52it/s]\u001b[A\n",
            "Evaluating:   0%|          | 4/3514 [00:00<03:17, 17.78it/s]\u001b[A\n",
            "Evaluating:   0%|          | 6/3514 [00:00<03:13, 18.09it/s]\u001b[A\n",
            "                                                            \u001b[A"
          ]
        },
        {
          "output_type": "stream",
          "name": "stdout",
          "text": [
            "\n",
            "Validation Average Loss: 4.0265, Perplexity: 56.07\n",
            "\n",
            "Context: Moscow\n",
            "\n",
            "Generated text: Moscow has been a key part of the country 's nuclear program , which has been a key part of the country 's nuclear program . '' 's . ' '' . ' . 's . 's . 's new to be a .\n",
            "\n",
            "\n",
            "Context: New York\n",
            "\n",
            "Generated text: New York City Mayor Michael Bloomberg said the company was `` very pleased '' . '' '' . '' '' . '' '' `` The New York Times . '' '' . '' '' . '' '' . '' . '' . '' . '' . '' .\n",
            "\n",
            "\n",
            "Context: A hurricane\n",
            "\n",
            "Generated text: A hurricane warning is expected to be delayed by the storm . '' '###-# . ' '' . ' '' . ' '' . ' '' . ' '' . ' '' . ' '' . 's . 'd the way to\n",
            "\n"
          ]
        },
        {
          "output_type": "stream",
          "name": "stderr",
          "text": [
            "Epoch 1/1:  64%|██████▍   | 110974/172148 [3:12:29<14:34:41,  1.17it/s, loss=4.1227]"
          ]
        },
        {
          "output_type": "stream",
          "name": "stdout",
          "text": [
            "\n",
            "Context: The President\n",
            "\n",
            "Generated text: The President has been a key part of the country 's economy . '' 's newest presidential campaign . ' '' . ' '' . ' '' ' Ahmad . ' '' 's . 's .##-brook the first\n",
            "\n"
          ]
        },
        {
          "output_type": "stream",
          "name": "stderr",
          "text": [
            "Epoch 1/1:  65%|██████▌   | 112534/172148 [3:15:09<1:34:17, 10.54it/s, loss=4.1297]"
          ]
        },
        {
          "output_type": "stream",
          "name": "stdout",
          "text": [
            "\n",
            "After 200064 examples, Average Loss: 4.0570\n"
          ]
        },
        {
          "output_type": "stream",
          "name": "stderr",
          "text": [
            "\n",
            "Evaluating:   0%|          | 0/3514 [00:00<?, ?it/s]\u001b[A\n",
            "Evaluating:   0%|          | 2/3514 [00:00<03:16, 17.84it/s]\u001b[A\n",
            "Evaluating:   0%|          | 4/3514 [00:00<03:11, 18.34it/s]\u001b[A\n",
            "Evaluating:   0%|          | 6/3514 [00:00<03:06, 18.76it/s]\u001b[A\n",
            "                                                            \u001b[A"
          ]
        },
        {
          "output_type": "stream",
          "name": "stdout",
          "text": [
            "\n",
            "Validation Average Loss: 4.0202, Perplexity: 55.71\n",
            "\n",
            "Context: Moscow\n",
            "\n",
            "Generated text: Moscow said it would be a `` significant step '' to the deal . ' '' . ' '' 's ##-year-old said . ' '' . ' '' . ' . ' '' . 's not to say . 's time to show\n",
            "\n",
            "\n",
            "Context: New York\n",
            "\n",
            "Generated text: New York City Mayor Michael Bloomberg said the company was `` very concerned '' that the company had been working with the company . '' 's new chief executive . ' '' . ' '' . 's . 's . 's Daily . '\n",
            "\n",
            "\n",
            "Context: A hurricane\n",
            "\n",
            "Generated text: A hurricane warning signs of rain and snow in the sky , the coastal town of <rare> , is expected to be in the coming days . ' '' . ' . ' '' . ' . 's . 'w . 's\n",
            "\n"
          ]
        },
        {
          "output_type": "stream",
          "name": "stderr",
          "text": [
            "Epoch 1/1:  65%|██████▌   | 112537/172148 [3:15:13<9:35:38,  1.73it/s, loss=3.9791] "
          ]
        },
        {
          "output_type": "stream",
          "name": "stdout",
          "text": [
            "\n",
            "Context: The President\n",
            "\n",
            "Generated text: The President has been in the hands of the public . ' '' 's family . ' '' 's statement . ' '' 's . ' '' 's . ' '' ' . ' . 's . ' a .## .## a .\n",
            "\n"
          ]
        },
        {
          "output_type": "stream",
          "name": "stderr",
          "text": [
            "Epoch 1/1:  66%|██████▋   | 114098/172148 [3:17:54<1:55:09,  8.40it/s, loss=4.0602]"
          ]
        },
        {
          "output_type": "stream",
          "name": "stdout",
          "text": [
            "\n",
            "After 200064 examples, Average Loss: 4.0580\n"
          ]
        },
        {
          "output_type": "stream",
          "name": "stderr",
          "text": [
            "\n",
            "Evaluating:   0%|          | 0/3514 [00:00<?, ?it/s]\u001b[A\n",
            "Evaluating:   0%|          | 2/3514 [00:00<04:50, 12.08it/s]\u001b[A\n",
            "Evaluating:   0%|          | 4/3514 [00:00<04:34, 12.78it/s]\u001b[A\n",
            "Evaluating:   0%|          | 6/3514 [00:00<04:44, 12.32it/s]\u001b[A\n",
            "                                                            \u001b[A"
          ]
        },
        {
          "output_type": "stream",
          "name": "stdout",
          "text": [
            "\n",
            "Validation Average Loss: 4.0313, Perplexity: 56.34\n",
            "\n",
            "Context: Moscow\n",
            "\n",
            "Generated text: Moscow 's Foreign Ministry said it was `` very difficult '' to find out what happened . ' '' . ' '' 'S . ' '' 'S . ' '' . ' '' . ' . 's . 's not to say . 's\n",
            "\n",
            "\n",
            "Context: New York\n",
            "\n",
            "Generated text: New York City Mayor Michael Bloomberg said the `` very difficult '' of the situation . ' '' . ' '' 'S . ' '' ' I 'm not sure what happened . ' '' . ' . ' '' . ' . 's .\n",
            "\n",
            "\n",
            "Context: A hurricane\n",
            "\n",
            "Generated text: A hurricane warning is expected to be the first day of the storm , the National Weather Service said . ' '' . ' '' 'Sucher said . ' '' . ' '' ' . ' . 's new to be a dis\n",
            "\n"
          ]
        },
        {
          "output_type": "stream",
          "name": "stderr",
          "text": [
            "Epoch 1/1:  66%|██████▋   | 114100/172148 [3:17:59<17:20:49,  1.08s/it, loss=4.0789]"
          ]
        },
        {
          "output_type": "stream",
          "name": "stdout",
          "text": [
            "\n",
            "Context: The President\n",
            "\n",
            "Generated text: The President 's office said the government was `` very concerned '' . ' '' . ' '' 'Southam said . ' '' . ' '' . ' '' . ' '' . ' . 's . 's new administration of the case was\n",
            "\n"
          ]
        },
        {
          "output_type": "stream",
          "name": "stderr",
          "text": [
            "Epoch 1/1:  67%|██████▋   | 115660/172148 [3:20:39<1:29:34, 10.51it/s, loss=4.0695]"
          ]
        },
        {
          "output_type": "stream",
          "name": "stdout",
          "text": [
            "\n",
            "After 200064 examples, Average Loss: 4.0566\n"
          ]
        },
        {
          "output_type": "stream",
          "name": "stderr",
          "text": [
            "\n",
            "Evaluating:   0%|          | 0/3514 [00:00<?, ?it/s]\u001b[A\n",
            "Evaluating:   0%|          | 2/3514 [00:00<03:17, 17.76it/s]\u001b[A\n",
            "Evaluating:   0%|          | 4/3514 [00:00<03:13, 18.17it/s]\u001b[A\n",
            "Evaluating:   0%|          | 6/3514 [00:00<03:10, 18.43it/s]\u001b[A\n",
            "                                                            \u001b[A"
          ]
        },
        {
          "output_type": "stream",
          "name": "stdout",
          "text": [
            "\n",
            "Validation Average Loss: 4.0245, Perplexity: 55.95\n",
            "\n",
            "Context: Moscow\n",
            "\n",
            "Generated text: Moscow has been criticised by the rebels , including the rebels , and the rebels have been fighting for the country . ' '' 's . ' '' ' . ' . ' . ' . ' . ' a ' . ' a .\n",
            "\n",
            "\n",
            "Context: New York\n",
            "\n",
            "Generated text: New York City Council spokesman said : 'The . ' '' ' I 'm sure the . ' '' ' I 'm sure the man was a 'sorry ' . ' . ' . ' . ' . ' I 's .\n",
            "\n",
            "\n",
            "Context: A hurricane\n",
            "\n",
            "Generated text: A hurricane warning was made by the FAA to help the region of the United States . ' '' 'S . ' '' 'S . ' '' 'S . ' . ' '' ' . 's . 'the right to be a\n",
            "\n"
          ]
        },
        {
          "output_type": "stream",
          "name": "stderr",
          "text": [
            "Epoch 1/1:  67%|██████▋   | 115663/172148 [3:20:44<10:11:34,  1.54it/s, loss=4.2083]"
          ]
        },
        {
          "output_type": "stream",
          "name": "stdout",
          "text": [
            "\n",
            "Context: The President\n",
            "\n",
            "Generated text: The President has been criticised by the government for supporting the government . ' '' 'South Council spokesman for the National Weather Service . ' '' 's . ' '' 's . ' a . 's 's a 's\n",
            "\n"
          ]
        },
        {
          "output_type": "stream",
          "name": "stderr",
          "text": [
            "Epoch 1/1:  68%|██████▊   | 117224/172148 [3:23:24<1:28:30, 10.34it/s, loss=4.1378]"
          ]
        },
        {
          "output_type": "stream",
          "name": "stdout",
          "text": [
            "\n",
            "After 200064 examples, Average Loss: 4.0546\n"
          ]
        },
        {
          "output_type": "stream",
          "name": "stderr",
          "text": [
            "\n",
            "Evaluating:   0%|          | 0/3514 [00:00<?, ?it/s]\u001b[A\n",
            "Evaluating:   0%|          | 2/3514 [00:00<03:25, 17.08it/s]\u001b[A\n",
            "Evaluating:   0%|          | 4/3514 [00:00<03:15, 17.99it/s]\u001b[A\n",
            "Evaluating:   0%|          | 6/3514 [00:00<03:11, 18.34it/s]\u001b[A\n",
            "                                                            \u001b[A"
          ]
        },
        {
          "output_type": "stream",
          "name": "stdout",
          "text": [
            "\n",
            "Validation Average Loss: 4.0245, Perplexity: 55.95\n",
            "\n",
            "Context: Moscow\n",
            "\n",
            "Generated text: Moscow has been accused of using the U.S. military to help the U.S. and the U.S. military . ' '' . ' '' . ' . ' . ' . ' . ' . ' a ' . ' . '\n",
            "\n",
            "\n",
            "Context: New York\n",
            "\n",
            "Generated text: New York City Mayor Michael Bloomberg said : `` The whole thing is that the government is not a good idea . '' ' '' . ' '' ' I 'm sure he 's best-style . ' . ' . ' . 's\n",
            "\n",
            "\n",
            "Context: A hurricane\n",
            "\n",
            "Generated text: A hurricane warning is expected to be reached at #:##am on Monday . ' '' ' . ' '' ' . ' '' ' A.M . ' '' ' . ' '' ' . ' . ' . ' . ' . '\n",
            "\n"
          ]
        },
        {
          "output_type": "stream",
          "name": "stderr",
          "text": [
            "Epoch 1/1:  68%|██████▊   | 117226/172148 [3:23:28<10:35:44,  1.44it/s, loss=4.0085]"
          ]
        },
        {
          "output_type": "stream",
          "name": "stdout",
          "text": [
            "\n",
            "Context: The President\n",
            "\n",
            "Generated text: The President has said he has been a `` very proud '' of the `` family of the world 's most senior citizens . '' ' '' . ' '' . ' '' . ' . ' . ' . ' . ' .## . ' a .\n",
            "\n"
          ]
        },
        {
          "output_type": "stream",
          "name": "stderr",
          "text": [
            "Epoch 1/1:  69%|██████▉   | 118787/172148 [3:26:10<1:55:58,  7.67it/s, loss=4.0253]"
          ]
        },
        {
          "output_type": "stream",
          "name": "stdout",
          "text": [
            "\n",
            "After 200064 examples, Average Loss: 4.0548\n"
          ]
        },
        {
          "output_type": "stream",
          "name": "stderr",
          "text": [
            "\n",
            "Evaluating:   0%|          | 0/3514 [00:00<?, ?it/s]\u001b[A\n",
            "Evaluating:   0%|          | 2/3514 [00:00<04:25, 13.22it/s]\u001b[A\n",
            "Evaluating:   0%|          | 4/3514 [00:00<04:27, 13.11it/s]\u001b[A\n",
            "Evaluating:   0%|          | 6/3514 [00:00<04:22, 13.38it/s]\u001b[A\n",
            "                                                            \u001b[A"
          ]
        },
        {
          "output_type": "stream",
          "name": "stdout",
          "text": [
            "\n",
            "Validation Average Loss: 4.0206, Perplexity: 55.74\n",
            "\n",
            "Context: Moscow\n",
            "\n",
            "Generated text: Moscow has been targeted by the U.S. military and the United States . '' ' . ' '' . ' '' . ' '' . ' '' . ' '' . ' . 's . ' . ' a ##- .##--\n",
            "\n",
            "\n",
            "Context: New York\n",
            "\n",
            "Generated text: New York City Mayor Michael Bloomberg said the decision was `` very difficult '' . ' '' . ' '' . ' '' . ' '' . ' '' . ' '' . ' '' . ' . 's . 's Daily News . 's\n",
            "\n",
            "\n",
            "Context: A hurricane\n",
            "\n",
            "Generated text: A hurricane warning is expected to be reached at #.##pm on Monday . ' '' . ' '' . ' '' . ' '' . ' '' . ' '' . ' '' . ' `` . 's to be seen on the air\n",
            "\n"
          ]
        },
        {
          "output_type": "stream",
          "name": "stderr",
          "text": [
            "Epoch 1/1:  69%|██████▉   | 118789/172148 [3:26:14<15:14:14,  1.03s/it, loss=3.8876]"
          ]
        },
        {
          "output_type": "stream",
          "name": "stdout",
          "text": [
            "\n",
            "Context: The President\n",
            "\n",
            "Generated text: The President 's office said the decision was `` very difficult '' . ' '' . ' '' . ' '' . ' '' . ' '' . ' '' . ' '' . ' '' . 's . 's . 's new to be '\n",
            "\n"
          ]
        },
        {
          "output_type": "stream",
          "name": "stderr",
          "text": [
            "Epoch 1/1:  70%|██████▉   | 120349/172148 [3:28:55<1:21:33, 10.59it/s, loss=4.0493]"
          ]
        },
        {
          "output_type": "stream",
          "name": "stdout",
          "text": [
            "\n",
            "After 200064 examples, Average Loss: 4.0521\n"
          ]
        },
        {
          "output_type": "stream",
          "name": "stderr",
          "text": [
            "\n",
            "Evaluating:   0%|          | 0/3514 [00:00<?, ?it/s]\u001b[A\n",
            "Evaluating:   0%|          | 2/3514 [00:00<03:50, 15.25it/s]\u001b[A\n",
            "Evaluating:   0%|          | 4/3514 [00:00<03:27, 16.88it/s]\u001b[A\n",
            "Evaluating:   0%|          | 6/3514 [00:00<03:23, 17.20it/s]\u001b[A\n",
            "                                                            \u001b[A"
          ]
        },
        {
          "output_type": "stream",
          "name": "stdout",
          "text": [
            "\n",
            "Validation Average Loss: 4.0216, Perplexity: 55.79\n",
            "\n",
            "Context: Moscow\n",
            "\n",
            "Generated text: Moscow has been a major threat to the U.S. and the U.S. government has been in the region . '' ' . ' '' ' . ' '' 's . ' . ' . ' a . 's .## . '\n",
            "\n",
            "\n",
            "Context: New York\n",
            "\n",
            "Generated text: New York City Mayor Michael Bloomberg said the `` very important thing '' to do with the `` big '' . '' `` The New York Times . '' '' . '' ' '' . ' '' . ' . '' . '' . '' . 's\n",
            "\n",
            "\n",
            "Context: A hurricane\n",
            "\n",
            "Generated text: A hurricane is expected to be closed Friday . '' ' . ' '' 'S . ' '' 'S . ' '' 'S . ' '' 'S . ' '' 'S . ' '' 's . '## a #- a\n",
            "\n"
          ]
        },
        {
          "output_type": "stream",
          "name": "stderr",
          "text": [
            "Epoch 1/1:  70%|██████▉   | 120352/172148 [3:28:59<9:05:26,  1.58it/s, loss=4.1315] "
          ]
        },
        {
          "output_type": "stream",
          "name": "stdout",
          "text": [
            "\n",
            "Context: The President\n",
            "\n",
            "Generated text: The President 's office said the government had `` no reason to believe '' the `` toughest of the country 's history . '' ' '' . ' '' . ' '' . 'T . 's . ' . 's . ' .\n",
            "\n"
          ]
        },
        {
          "output_type": "stream",
          "name": "stderr",
          "text": [
            "Epoch 1/1:  71%|███████   | 121912/172148 [3:31:40<1:20:43, 10.37it/s, loss=3.9923]"
          ]
        },
        {
          "output_type": "stream",
          "name": "stdout",
          "text": [
            "\n",
            "After 200064 examples, Average Loss: 4.0496\n"
          ]
        },
        {
          "output_type": "stream",
          "name": "stderr",
          "text": [
            "\n",
            "Evaluating:   0%|          | 0/3514 [00:00<?, ?it/s]\u001b[A\n",
            "Evaluating:   0%|          | 2/3514 [00:00<03:51, 15.15it/s]\u001b[A\n",
            "Evaluating:   0%|          | 4/3514 [00:00<03:30, 16.69it/s]\u001b[A\n",
            "Evaluating:   0%|          | 6/3514 [00:00<03:21, 17.43it/s]\u001b[A\n",
            "                                                            \u001b[A"
          ]
        },
        {
          "output_type": "stream",
          "name": "stdout",
          "text": [
            "\n",
            "Validation Average Loss: 4.0212, Perplexity: 55.77\n",
            "\n",
            "Context: Moscow\n",
            "\n",
            "Generated text: Moscow has been targeted by the rebels , and the rebels have warned of the conflict . '' ' . ' '' ' . ' '' ' . ' '' ' . ' . 's . ' . ' a . ' . ' a\n",
            "\n",
            "\n",
            "Context: New York\n",
            "\n",
            "Generated text: New York Times reports that the ##-year-old was a member of the public . ' '' ' A.J . ' '' ' . ' '' ' I 'm . ' '' 's Times . 's new . 's . '\n",
            "\n",
            "\n",
            "Context: A hurricane\n",
            "\n",
            "Generated text: A hurricane-like water-shaped flights will be closed on the coast of the Northwest Pacific Ocean , where the plane is now in the air . ' '' ' . ' '' . ' . ' . ' . ' . '\n",
            "\n"
          ]
        },
        {
          "output_type": "stream",
          "name": "stderr",
          "text": [
            "Epoch 1/1:  71%|███████   | 121915/172148 [3:31:44<8:16:50,  1.69it/s, loss=3.9998]"
          ]
        },
        {
          "output_type": "stream",
          "name": "stdout",
          "text": [
            "\n",
            "Context: The President\n",
            "\n",
            "Generated text: The President 's office said the investigation was `` very difficult '' . ' '' and `` the police '' . '' ' '' . ' '' ' I 'm not sure what the investigation is . 's . ' . 's investigation . ' .\n",
            "\n"
          ]
        },
        {
          "output_type": "stream",
          "name": "stderr",
          "text": [
            "Epoch 1/1:  72%|███████▏  | 123476/172148 [3:34:25<1:32:51,  8.74it/s, loss=3.9351]"
          ]
        },
        {
          "output_type": "stream",
          "name": "stdout",
          "text": [
            "\n",
            "After 200064 examples, Average Loss: 4.0509\n"
          ]
        },
        {
          "output_type": "stream",
          "name": "stderr",
          "text": [
            "\n",
            "Evaluating:   0%|          | 0/3514 [00:00<?, ?it/s]\u001b[A\n",
            "Evaluating:   0%|          | 2/3514 [00:00<04:10, 14.02it/s]\u001b[A\n",
            "Evaluating:   0%|          | 4/3514 [00:00<04:10, 14.01it/s]\u001b[A\n",
            "Evaluating:   0%|          | 6/3514 [00:00<04:08, 14.13it/s]\u001b[A\n",
            "                                                            \u001b[A"
          ]
        },
        {
          "output_type": "stream",
          "name": "stdout",
          "text": [
            "\n",
            "Validation Average Loss: 4.0251, Perplexity: 55.98\n",
            "\n",
            "Context: Moscow\n",
            "\n",
            "Generated text: Moscow has been trying to establish a nuclear weapon , but it has been claimed that the United States has been targeted by the Taliban . '' ' said . ' . ' . ' . ' . ' . ' a 's a ' .\n",
            "\n",
            "\n",
            "Context: New York\n",
            "\n",
            "Generated text: New York Times reported that the company was `` a very important step forward '' . ' '' 's official Twitter user , who said . ' . ' '' . ' . ' . ' . ' . ' . ' . 's 's 's\n",
            "\n",
            "\n",
            "Context: A hurricane\n",
            "\n",
            "Generated text: A hurricane warning is expected to be affected by the storm . '' 's spokesman said . ' . ' '' . ' '' . ' '' . ' '' ' I 'm not . ' . 's .## . 's\n",
            "\n"
          ]
        },
        {
          "output_type": "stream",
          "name": "stderr",
          "text": [
            "Epoch 1/1:  72%|███████▏  | 123478/172148 [3:34:30<14:23:36,  1.06s/it, loss=4.1632]"
          ]
        },
        {
          "output_type": "stream",
          "name": "stdout",
          "text": [
            "\n",
            "Context: The President\n",
            "\n",
            "Generated text: The President 's office said the government had `` no doubt '' the government would not comment on the issue . '' 's statement . ' '' 's . ' '' . ' '' . 's . 's . 's next to the .\n",
            "\n"
          ]
        },
        {
          "output_type": "stream",
          "name": "stderr",
          "text": [
            "Epoch 1/1:  73%|███████▎  | 125038/172148 [3:37:11<1:15:39, 10.38it/s, loss=4.0374]"
          ]
        },
        {
          "output_type": "stream",
          "name": "stdout",
          "text": [
            "\n",
            "After 200064 examples, Average Loss: 4.0485\n"
          ]
        },
        {
          "output_type": "stream",
          "name": "stderr",
          "text": [
            "\n",
            "Evaluating:   0%|          | 0/3514 [00:00<?, ?it/s]\u001b[A\n",
            "Evaluating:   0%|          | 2/3514 [00:00<03:14, 18.05it/s]\u001b[A\n",
            "Evaluating:   0%|          | 4/3514 [00:00<03:11, 18.29it/s]\u001b[A\n",
            "Evaluating:   0%|          | 6/3514 [00:00<03:09, 18.55it/s]\u001b[A\n",
            "                                                            \u001b[A"
          ]
        },
        {
          "output_type": "stream",
          "name": "stdout",
          "text": [
            "\n",
            "Validation Average Loss: 4.0260, Perplexity: 56.04\n",
            "\n",
            "Context: Moscow\n",
            "\n",
            "Generated text: Moscow has been accused of being a member of the U.S. government . '' 's statement . ' '' . ' '' . ' '' . ' . ' . ' . ' . ' . ' a ' a ' a ' a 's\n",
            "\n",
            "\n",
            "Context: New York\n",
            "\n",
            "Generated text: New York City Council said the government had been working on the site . '' 's report . ' '' . ' '' . ' '' . ' . ' '' . ' . ' . ' . 's . ' . 's 's 's\n",
            "\n",
            "\n",
            "Context: A hurricane\n",
            "\n",
            "Generated text: A hurricane is a huge winds of ##mph winds and snowfall in the southwest of the city . '' 's spokesman said . ' . ' '' . ' '' . 's spy ##ft . '\n",
            "\n"
          ]
        },
        {
          "output_type": "stream",
          "name": "stderr",
          "text": [
            "Epoch 1/1:  73%|███████▎  | 125041/172148 [3:37:15<7:39:14,  1.71it/s, loss=4.0321]"
          ]
        },
        {
          "output_type": "stream",
          "name": "stdout",
          "text": [
            "\n",
            "Context: The President\n",
            "\n",
            "Generated text: The President 's office said the government was `` deeply disappointed '' and `` a `` very serious '' . '' '' . '' ' . ' '' . ' '' . ' '' . 's . 'it . ' .##- . 's\n",
            "\n"
          ]
        },
        {
          "output_type": "stream",
          "name": "stderr",
          "text": [
            "Epoch 1/1:  74%|███████▎  | 126602/172148 [3:39:58<1:40:46,  7.53it/s, loss=4.0676]"
          ]
        },
        {
          "output_type": "stream",
          "name": "stdout",
          "text": [
            "\n",
            "After 200064 examples, Average Loss: 4.0521\n"
          ]
        },
        {
          "output_type": "stream",
          "name": "stderr",
          "text": [
            "\n",
            "Evaluating:   0%|          | 0/3514 [00:00<?, ?it/s]\u001b[A\n",
            "Evaluating:   0%|          | 2/3514 [00:00<03:15, 17.97it/s]\u001b[A\n",
            "Evaluating:   0%|          | 4/3514 [00:00<03:10, 18.46it/s]\u001b[A\n",
            "Evaluating:   0%|          | 6/3514 [00:00<03:15, 17.98it/s]\u001b[A\n",
            "                                                            \u001b[A"
          ]
        },
        {
          "output_type": "stream",
          "name": "stdout",
          "text": [
            "\n",
            "Validation Average Loss: 4.0160, Perplexity: 55.48\n",
            "\n",
            "Context: Moscow\n",
            "\n",
            "Generated text: Moscow has been accused of being a 'sack ' and 'sutants ' . ' '' ' . ' '' ' . ' '' ' . ' . ' . ' . ' . ' . ' . ' a 's ' . 's\n",
            "\n",
            "\n",
            "Context: New York\n",
            "\n",
            "Generated text: New York Mayor Michael Bloomberg said the `` unfortunate '' incident happened at ##:## GMT on Sunday . '' . ' '' . ' '' . ' '' . ' '' . ' . ' . ' . 's `` . '\n",
            "\n",
            "\n",
            "Context: A hurricane\n",
            "\n",
            "Generated text: A hurricane is a major storm , with a snowfall in the southwest coast of England , with the highest in the world . '' ' . ' '' . ' . ' '' . ' . 's . '##-ly a major\n",
            "\n"
          ]
        },
        {
          "output_type": "stream",
          "name": "stderr",
          "text": [
            "Epoch 1/1:  74%|███████▎  | 126604/172148 [3:40:02<11:54:09,  1.06it/s, loss=4.1706]"
          ]
        },
        {
          "output_type": "stream",
          "name": "stdout",
          "text": [
            "\n",
            "Context: The President\n",
            "\n",
            "Generated text: The President 's office said the government would not comment on the case . '' ' . ' '' . ' '' . ' '' . ' '' . ' '' . ' '' . ' . 's . 's first to be . ' . '\n",
            "\n"
          ]
        },
        {
          "output_type": "stream",
          "name": "stderr",
          "text": [
            "Epoch 1/1:  74%|███████▍  | 128165/172148 [3:42:43<1:08:52, 10.64it/s, loss=3.9599]"
          ]
        },
        {
          "output_type": "stream",
          "name": "stdout",
          "text": [
            "\n",
            "After 200064 examples, Average Loss: 4.0501\n"
          ]
        },
        {
          "output_type": "stream",
          "name": "stderr",
          "text": [
            "\n",
            "Evaluating:   0%|          | 0/3514 [00:00<?, ?it/s]\u001b[A\n",
            "Evaluating:   0%|          | 2/3514 [00:00<03:20, 17.55it/s]\u001b[A\n",
            "Evaluating:   0%|          | 4/3514 [00:00<03:19, 17.55it/s]\u001b[A\n",
            "Evaluating:   0%|          | 6/3514 [00:00<03:13, 18.17it/s]\u001b[A\n",
            "                                                            \u001b[A"
          ]
        },
        {
          "output_type": "stream",
          "name": "stdout",
          "text": [
            "\n",
            "Validation Average Loss: 4.0219, Perplexity: 55.81\n",
            "\n",
            "Context: Moscow\n",
            "\n",
            "Generated text: Moscow has been a key part of the nuclear program , which has been a key part of the nuclear program . '' ' . ' '' 's . ' '' 's . ' . ' . ' . ' a key part . 's . '\n",
            "\n",
            "\n",
            "Context: New York\n",
            "\n",
            "Generated text: New York City 's mayor , who was a former governor , was arrested on suspicion of murdering a child . ' '' 's mother . ' . ' . ' . ' . ' . 's . ' . 's . 's\n",
            "\n",
            "\n",
            "Context: A hurricane\n",
            "\n",
            "Generated text: A hurricane warning is expected to be seen as a result of the storms . ' '' 's mother said . ' '' . ' . ' '' . ' '' . ' '' . ' . ' . 's .## . 's\n",
            "\n"
          ]
        },
        {
          "output_type": "stream",
          "name": "stderr",
          "text": [
            "Epoch 1/1:  74%|███████▍  | 128167/172148 [3:42:47<8:59:44,  1.36it/s, loss=4.0897]"
          ]
        },
        {
          "output_type": "stream",
          "name": "stdout",
          "text": [
            "\n",
            "Context: The President\n",
            "\n",
            "Generated text: The President has been a `` very good man '' and he has been a `` very good man '' . '' ' he said . ' '' ' I 'm not going to be a fanist . ' a great one of .##- .##\n",
            "\n"
          ]
        },
        {
          "output_type": "stream",
          "name": "stderr",
          "text": [
            "Epoch 1/1:  75%|███████▌  | 129728/172148 [3:45:29<1:07:31, 10.47it/s, loss=4.0678]"
          ]
        },
        {
          "output_type": "stream",
          "name": "stdout",
          "text": [
            "\n",
            "After 200064 examples, Average Loss: 4.0486\n"
          ]
        },
        {
          "output_type": "stream",
          "name": "stderr",
          "text": [
            "\n",
            "Evaluating:   0%|          | 0/3514 [00:00<?, ?it/s]\u001b[A\n",
            "Evaluating:   0%|          | 2/3514 [00:00<03:22, 17.31it/s]\u001b[A\n",
            "Evaluating:   0%|          | 4/3514 [00:00<03:18, 17.65it/s]\u001b[A\n",
            "Evaluating:   0%|          | 6/3514 [00:00<03:15, 17.98it/s]\u001b[A\n",
            "                                                            \u001b[A"
          ]
        },
        {
          "output_type": "stream",
          "name": "stdout",
          "text": [
            "\n",
            "Validation Average Loss: 4.0176, Perplexity: 55.57\n",
            "\n",
            "Context: Moscow\n",
            "\n",
            "Generated text: Moscow has been accused of targeting the country 's foreign minister , the U.S. Embassy in Benghazi . '' 's statement . ' '' . ' . 's spokes . 's 's 's 's\n",
            "\n",
            "\n",
            "Context: New York\n",
            "\n",
            "Generated text: New York City Police Department spokesman said : 'The incident was a very serious incident . ' '' . ' '' . ' '' . ' '' . ' '' . ' . ' . 's Press . ' . 's Times . 's\n",
            "\n",
            "\n",
            "Context: A hurricane\n",
            "\n",
            "Generated text: A hurricane warning is expected to be reached at #.##pm on Sunday .### feet . ' '' . ' . ' . ' . ' . ' '' . ' . ' '' . ' . 's ## day after the ##\n",
            "\n"
          ]
        },
        {
          "output_type": "stream",
          "name": "stderr",
          "text": [
            "Epoch 1/1:  75%|███████▌  | 129730/172148 [3:45:33<8:11:45,  1.44it/s, loss=3.9249]"
          ]
        },
        {
          "output_type": "stream",
          "name": "stdout",
          "text": [
            "\n",
            "Context: The President\n",
            "\n",
            "Generated text: The President 's office said the government had been `` notified '' . ' '' . ' '' . ' '' . ' '' . ' '' . ' '' . ' '' . ' . 's . 's first time . 's `` he\n",
            "\n"
          ]
        },
        {
          "output_type": "stream",
          "name": "stderr",
          "text": [
            "Epoch 1/1:  76%|███████▋  | 131291/172148 [3:48:14<1:22:11,  8.29it/s, loss=4.0368]"
          ]
        },
        {
          "output_type": "stream",
          "name": "stdout",
          "text": [
            "\n",
            "After 200064 examples, Average Loss: 4.0439\n"
          ]
        },
        {
          "output_type": "stream",
          "name": "stderr",
          "text": [
            "\n",
            "Evaluating:   0%|          | 0/3514 [00:00<?, ?it/s]\u001b[A\n",
            "Evaluating:   0%|          | 1/3514 [00:00<05:51,  9.99it/s]\u001b[A\n",
            "Evaluating:   0%|          | 3/3514 [00:00<05:05, 11.50it/s]\u001b[A\n",
            "Evaluating:   0%|          | 5/3514 [00:00<04:56, 11.83it/s]\u001b[A\n",
            "Evaluating:   0%|          | 7/3514 [00:00<04:45, 12.30it/s]\u001b[A\n",
            "                                                            \u001b[A"
          ]
        },
        {
          "output_type": "stream",
          "name": "stdout",
          "text": [
            "\n",
            "Validation Average Loss: 4.0198, Perplexity: 55.69\n",
            "\n",
            "Context: Moscow\n",
            "\n",
            "Generated text: Moscow has been accused of a ‘ war ’ and ‘ a .mare ’ . ' . ' . ' . ' . ' . ' . ' . ' . ' . ' . ' . ' . ' . ' . ' . ' . '\n",
            "\n",
            "\n",
            "Context: New York\n",
            "\n",
            "Generated text: New York Times : The ##-year-old was a ##-year-old girl , who was born in #### . ' '' ' , according to the New York Post . ' . ' . ' . ' . 's way . 's\n",
            "\n",
            "\n",
            "Context: A hurricane\n",
            "\n",
            "Generated text: A hurricane warning was the first time the storm was the worst of the storm . ' '' ' . ' '' ' A . ' '' ' A . ' '' ' A . ' '' ' , a sp . 'w one of the storm\n",
            "\n"
          ]
        },
        {
          "output_type": "stream",
          "name": "stderr",
          "text": [
            "Epoch 1/1:  76%|███████▋  | 131293/172148 [3:48:19<12:04:05,  1.06s/it, loss=3.8780]"
          ]
        },
        {
          "output_type": "stream",
          "name": "stdout",
          "text": [
            "\n",
            "Context: The President\n",
            "\n",
            "Generated text: The President 's office said the government had `` no indication that the government is aware of the alleged incident . '' ' '' . ' '' . ' '' . ' '' . ' . 's . 's next toy the . '\n",
            "\n"
          ]
        },
        {
          "output_type": "stream",
          "name": "stderr",
          "text": [
            "Epoch 1/1:  77%|███████▋  | 132853/172148 [3:51:00<1:02:27, 10.49it/s, loss=3.9658]"
          ]
        },
        {
          "output_type": "stream",
          "name": "stdout",
          "text": [
            "\n",
            "After 200064 examples, Average Loss: 4.0498\n"
          ]
        },
        {
          "output_type": "stream",
          "name": "stderr",
          "text": [
            "\n",
            "Evaluating:   0%|          | 0/3514 [00:00<?, ?it/s]\u001b[A\n",
            "Evaluating:   0%|          | 2/3514 [00:00<03:12, 18.23it/s]\u001b[A\n",
            "Evaluating:   0%|          | 4/3514 [00:00<03:11, 18.34it/s]\u001b[A\n",
            "Evaluating:   0%|          | 6/3514 [00:00<03:11, 18.36it/s]\u001b[A\n",
            "                                                            \u001b[A"
          ]
        },
        {
          "output_type": "stream",
          "name": "stdout",
          "text": [
            "\n",
            "Validation Average Loss: 4.0148, Perplexity: 55.41\n",
            "\n",
            "Context: Moscow\n",
            "\n",
            "Generated text: Moscow has been a major blow to the eurozone , with the eurozone crisis , and the eurozone crisis has been a major problem . '' ' . ' '' . ' . ' . 's . 'sh . 's spared . '\n",
            "\n",
            "\n",
            "Context: New York\n",
            "\n",
            "Generated text: New York 's `` The FBI '' is a `` <rare> '' and `` <rare> '' . '' '' . '' ) . '' '' '' . '' ' '' , a spokesman said . '' 's . 's .\n",
            "\n",
            "\n",
            "Context: A hurricane\n",
            "\n",
            "Generated text: A hurricane warning was caused by the storm , the storm 's forecast for the storm . ' '' ' . ' '' 'The . ' '' 'Sucher . ' '' ' . ' . 's sp .### .\n",
            "\n"
          ]
        },
        {
          "output_type": "stream",
          "name": "stderr",
          "text": [
            "Epoch 1/1:  77%|███████▋  | 132856/172148 [3:51:05<6:54:58,  1.58it/s, loss=3.9661]"
          ]
        },
        {
          "output_type": "stream",
          "name": "stdout",
          "text": [
            "\n",
            "Context: The President\n",
            "\n",
            "Generated text: The President 's office said the government had `` notified '' the government of the United States . '' 'Southwest of the country 's capital . ' '' . ' '' . ' . 's new report .##-ed . '\n",
            "\n"
          ]
        },
        {
          "output_type": "stream",
          "name": "stderr",
          "text": [
            "Epoch 1/1:  78%|███████▊  | 134416/172148 [3:53:46<1:01:24, 10.24it/s, loss=4.1389]"
          ]
        },
        {
          "output_type": "stream",
          "name": "stdout",
          "text": [
            "\n",
            "After 200064 examples, Average Loss: 4.0442\n"
          ]
        },
        {
          "output_type": "stream",
          "name": "stderr",
          "text": [
            "\n",
            "Evaluating:   0%|          | 0/3514 [00:00<?, ?it/s]\u001b[A\n",
            "Evaluating:   0%|          | 2/3514 [00:00<03:19, 17.59it/s]\u001b[A\n",
            "Evaluating:   0%|          | 4/3514 [00:00<03:13, 18.09it/s]\u001b[A\n",
            "Evaluating:   0%|          | 6/3514 [00:00<03:13, 18.14it/s]\u001b[A\n",
            "                                                            \u001b[A"
          ]
        },
        {
          "output_type": "stream",
          "name": "stdout",
          "text": [
            "\n",
            "Validation Average Loss: 4.0192, Perplexity: 55.66\n",
            "\n",
            "Context: Moscow\n",
            "\n",
            "Generated text: Moscow has been accused of being a 'cultural ' and 'being ' . ' '' ' Ibrahimovic said . ' '' ' . ' '' . ' . 's . 's . 's not a 's '\n",
            "\n",
            "\n",
            "Context: New York\n",
            "\n",
            "Generated text: New York City Mayor Michael Bloomberg said the `` very important thing to do '' . ' '' 'The Associated Press . ' '' 'The Associated Press . ' '' . ' '' . ' . ' . 's Daily News . '\n",
            "\n",
            "\n",
            "Context: A hurricane\n",
            "\n",
            "Generated text: A hurricane is expected to be damaged in the storm , but the storm is still on the ground . ' '' ' . ' '' ' . ' '' . ' . ' '' . ' . 's sp .## . 's sp\n",
            "\n"
          ]
        },
        {
          "output_type": "stream",
          "name": "stderr",
          "text": [
            "Epoch 1/1:  78%|███████▊  | 134419/172148 [3:53:50<6:20:17,  1.65it/s, loss=4.1251]"
          ]
        },
        {
          "output_type": "stream",
          "name": "stdout",
          "text": [
            "\n",
            "Context: The President\n",
            "\n",
            "Generated text: The President has been in talks with the United States and the United States . '' ' . ' '' ) . ' '' 'The Associated Press . ' '' ' . ' '' 's . 's . 's . 's been a\n",
            "\n"
          ]
        },
        {
          "output_type": "stream",
          "name": "stderr",
          "text": [
            "Epoch 1/1:  79%|███████▉  | 135979/172148 [3:56:31<58:26, 10.32it/s, loss=4.0337]"
          ]
        },
        {
          "output_type": "stream",
          "name": "stdout",
          "text": [
            "\n",
            "After 200064 examples, Average Loss: 4.0457\n"
          ]
        },
        {
          "output_type": "stream",
          "name": "stderr",
          "text": [
            "\n",
            "Evaluating:   0%|          | 0/3514 [00:00<?, ?it/s]\u001b[A\n",
            "Evaluating:   0%|          | 2/3514 [00:00<04:03, 14.45it/s]\u001b[A\n",
            "Evaluating:   0%|          | 4/3514 [00:00<03:56, 14.82it/s]\u001b[A\n",
            "Evaluating:   0%|          | 6/3514 [00:00<03:57, 14.76it/s]\u001b[A\n",
            "                                                            \u001b[A"
          ]
        },
        {
          "output_type": "stream",
          "name": "stdout",
          "text": [
            "\n",
            "Validation Average Loss: 4.0182, Perplexity: 55.60\n",
            "\n",
            "Context: Moscow\n",
            "\n",
            "Generated text: Moscow has been accused of `` a long-standing terrorist attack '' . ' '' 's statement . ' '' 'Sucher . ' '' 'S . ' '' 's . 's . ' a 's 's ' . '\n",
            "\n",
            "\n",
            "Context: New York\n",
            "\n",
            "Generated text: New York Mayor Michael Bloomberg said the company had `` been working closely with the public to make sure that the company is not going to be able to use the same technology . '' '' '' . ' . 's News . 's director .\n",
            "\n",
            "\n",
            "Context: A hurricane\n",
            "\n",
            "Generated text: A hurricane on the coast of the Southwest , the U.S. and the U.S. has been in the area since the ####s .##-#### . '' '## . 's new ##- site . 's\n",
            "\n"
          ]
        },
        {
          "output_type": "stream",
          "name": "stderr",
          "text": [
            "Epoch 1/1:  79%|███████▉  | 135982/172148 [3:56:36<7:09:48,  1.40it/s, loss=4.1092]"
          ]
        },
        {
          "output_type": "stream",
          "name": "stdout",
          "text": [
            "\n",
            "Context: The President\n",
            "\n",
            "Generated text: The President 's office said he was `` very sorry '' and said he was `` very sorry '' . '' ' '' . ' '' . ' '' . ' '' . ' '' . ' . 'sine . 's . 's . '\n",
            "\n"
          ]
        },
        {
          "output_type": "stream",
          "name": "stderr",
          "text": [
            "Epoch 1/1:  80%|███████▉  | 137543/172148 [3:59:15<56:34, 10.20it/s, loss=4.0138]"
          ]
        },
        {
          "output_type": "stream",
          "name": "stdout",
          "text": [
            "\n",
            "After 200064 examples, Average Loss: 4.0416\n"
          ]
        },
        {
          "output_type": "stream",
          "name": "stderr",
          "text": [
            "\n",
            "Evaluating:   0%|          | 0/3514 [00:00<?, ?it/s]\u001b[A\n",
            "Evaluating:   0%|          | 2/3514 [00:00<03:43, 15.74it/s]\u001b[A\n",
            "Evaluating:   0%|          | 4/3514 [00:00<03:22, 17.37it/s]\u001b[A\n",
            "Evaluating:   0%|          | 6/3514 [00:00<03:13, 18.12it/s]\u001b[A\n",
            "                                                            \u001b[A"
          ]
        },
        {
          "output_type": "stream",
          "name": "stdout",
          "text": [
            "\n",
            "Validation Average Loss: 4.0137, Perplexity: 55.35\n",
            "\n",
            "Context: Moscow\n",
            "\n",
            "Generated text: Moscow has been a key part of the country 's history of the country 's economy . '' 'Southam . ' '' 'S . ' '' 'S . ' '' 's . 's not a key one . 's .\n",
            "\n",
            "\n",
            "Context: New York\n",
            "\n",
            "Generated text: New York City 's most famous names are in the world , with the most popularity of the world . ' '' 's ##-year-old son . ' '' 's . ' '' 's . 's . 's not a\n",
            "\n",
            "\n",
            "Context: A hurricane\n",
            "\n",
            "Generated text: A hurricane warning is expected to be delayed , but the weather is expected to be delayed . '' ' said . 'Layside . ' '' 's spokesman said . 'T . ' . 's ## to be a ``\n",
            "\n"
          ]
        },
        {
          "output_type": "stream",
          "name": "stderr",
          "text": [
            "Epoch 1/1:  80%|███████▉  | 137545/172148 [3:59:20<7:00:53,  1.37it/s, loss=3.9152]"
          ]
        },
        {
          "output_type": "stream",
          "name": "stdout",
          "text": [
            "\n",
            "Context: The President\n",
            "\n",
            "Generated text: The President 's office said the government had `` no intention of any of the issues '' . ' '' 'We . ' '' 'Southamall . ' '' . ' '' . 's . 's `` The F- . '' of\n",
            "\n"
          ]
        },
        {
          "output_type": "stream",
          "name": "stderr",
          "text": [
            "Epoch 1/1:  81%|████████  | 139106/172148 [4:02:02<1:09:15,  7.95it/s, loss=4.2012]"
          ]
        },
        {
          "output_type": "stream",
          "name": "stdout",
          "text": [
            "\n",
            "After 200064 examples, Average Loss: 4.0425\n"
          ]
        },
        {
          "output_type": "stream",
          "name": "stderr",
          "text": [
            "\n",
            "Evaluating:   0%|          | 0/3514 [00:00<?, ?it/s]\u001b[A\n",
            "Evaluating:   0%|          | 2/3514 [00:00<04:31, 12.92it/s]\u001b[A\n",
            "Evaluating:   0%|          | 4/3514 [00:00<04:20, 13.46it/s]\u001b[A\n",
            "Evaluating:   0%|          | 6/3514 [00:00<04:19, 13.50it/s]\u001b[A\n",
            "                                                            \u001b[A"
          ]
        },
        {
          "output_type": "stream",
          "name": "stdout",
          "text": [
            "\n",
            "Validation Average Loss: 4.0162, Perplexity: 55.49\n",
            "\n",
            "Context: Moscow\n",
            "\n",
            "Generated text: Moscow has been accused of killing ## people in the country , and the U.S. military has been killed in the attack . ' '' ' . ' '' 's . ' . 's . ' . ' a ##- . ' a .\n",
            "\n",
            "\n",
            "Context: New York\n",
            "\n",
            "Generated text: New York Mayor Bill de Blasio said the `` unanimous decision '' was `` a very important step toward the law '' . '' '' '' . ' '' '' . ' '' . ' . ' . ' . ' . 's a ``\n",
            "\n",
            "\n",
            "Context: A hurricane\n",
            "\n",
            "Generated text: A hurricane warning is expected to be on the beach . ' '' ' . ' '' ' A spokesman for the Coast Guard . ' '' ' . ' '' ' A spokesman . ' . 's spy the airs\n",
            "\n"
          ]
        },
        {
          "output_type": "stream",
          "name": "stderr",
          "text": [
            "Epoch 1/1:  81%|████████  | 139108/172148 [4:02:06<8:56:56,  1.03it/s, loss=4.0138] "
          ]
        },
        {
          "output_type": "stream",
          "name": "stdout",
          "text": [
            "\n",
            "Context: The President\n",
            "\n",
            "Generated text: The President 's office said the government had been working with the government to help the government and the government . ' '' . ' '' . ' '' . ' '' . ' '' . 's . 's a . 's decision . ' .\n",
            "\n"
          ]
        },
        {
          "output_type": "stream",
          "name": "stderr",
          "text": [
            "Epoch 1/1:  82%|████████▏ | 140669/172148 [4:04:47<50:28, 10.39it/s, loss=4.0845]"
          ]
        },
        {
          "output_type": "stream",
          "name": "stdout",
          "text": [
            "\n",
            "After 200064 examples, Average Loss: 4.0430\n"
          ]
        },
        {
          "output_type": "stream",
          "name": "stderr",
          "text": [
            "\n",
            "Evaluating:   0%|          | 0/3514 [00:00<?, ?it/s]\u001b[A\n",
            "Evaluating:   0%|          | 2/3514 [00:00<03:23, 17.29it/s]\u001b[A\n",
            "Evaluating:   0%|          | 4/3514 [00:00<03:20, 17.52it/s]\u001b[A\n",
            "Evaluating:   0%|          | 6/3514 [00:00<03:17, 17.78it/s]\u001b[A\n",
            "                                                            \u001b[A"
          ]
        },
        {
          "output_type": "stream",
          "name": "stdout",
          "text": [
            "\n",
            "Validation Average Loss: 4.0153, Perplexity: 55.44\n",
            "\n",
            "Context: Moscow\n",
            "\n",
            "Generated text: Moscow has been accused of killing the U.S. and the U.S. military . '' ' . ' '' . ' . ' . ' . ' . ' . ' . ' . ' . ' . ' . ' . ' . '\n",
            "\n",
            "\n",
            "Context: New York\n",
            "\n",
            "Generated text: New York Mayor Michael Bloomberg said the incident was `` a very serious matter '' . ' '' . ' '' . ' . ' . ' . ' . ' . ' . ' . ' . ' . ' . ' . 's . '\n",
            "\n",
            "\n",
            "Context: A hurricane\n",
            "\n",
            "Generated text: A hurricane warning was reported to the coast of the city of <rare> , the U.S. and the U.S. is the first to be seen in the area . ' '' . 's sp .## ## day ,\n",
            "\n"
          ]
        },
        {
          "output_type": "stream",
          "name": "stderr",
          "text": [
            "Epoch 1/1:  82%|████████▏ | 140671/172148 [4:04:52<7:39:26,  1.14it/s, loss=4.0261]"
          ]
        },
        {
          "output_type": "stream",
          "name": "stdout",
          "text": [
            "\n",
            "Context: The President\n",
            "\n",
            "Generated text: The President 's office said the `` unacceptable '' of the `` disbelief '' . '' ' `` . '' ' . '' ' . '' ' . ' '' . ' . '' . 's new . 's man is ' .\n",
            "\n"
          ]
        },
        {
          "output_type": "stream",
          "name": "stderr",
          "text": [
            "Epoch 1/1:  83%|████████▎ | 142231/172148 [4:07:33<47:23, 10.52it/s, loss=4.0818]"
          ]
        },
        {
          "output_type": "stream",
          "name": "stdout",
          "text": [
            "\n",
            "After 200064 examples, Average Loss: 4.0406\n"
          ]
        },
        {
          "output_type": "stream",
          "name": "stderr",
          "text": [
            "\n",
            "Evaluating:   0%|          | 0/3514 [00:00<?, ?it/s]\u001b[A\n",
            "Evaluating:   0%|          | 2/3514 [00:00<03:30, 16.67it/s]\u001b[A\n",
            "Evaluating:   0%|          | 4/3514 [00:00<03:30, 16.64it/s]\u001b[A\n",
            "Evaluating:   0%|          | 6/3514 [00:00<03:26, 17.02it/s]\u001b[A\n",
            "                                                            \u001b[A"
          ]
        },
        {
          "output_type": "stream",
          "name": "stdout",
          "text": [
            "\n",
            "Validation Average Loss: 4.0086, Perplexity: 55.07\n",
            "\n",
            "Context: Moscow\n",
            "\n",
            "Generated text: Moscow has been a major threat to the country 's economy , which has been a major issue in the region . ' '' 's statement . ' . ' . ' . ' . ' . 's . ' . 's scepted in\n",
            "\n",
            "\n",
            "Context: New York\n",
            "\n",
            "Generated text: New York City : The ##-year-old was in the middle of the road in the middle of the street . ' '' ' and said he was not aware of the incident . ' . ' . ' . ' . 's New York City\n",
            "\n",
            "\n",
            "Context: A hurricane\n",
            "\n",
            "Generated text: A hurricane warning is expected to be seen in the area . ' '' ' . ' '' 's statement . ' . ' . ' . ' . ' '' ' A spokesman said . ' . 's .## a `` was\n",
            "\n"
          ]
        },
        {
          "output_type": "stream",
          "name": "stderr",
          "text": [
            "Epoch 1/1:  83%|████████▎ | 142234/172148 [4:07:38<4:51:03,  1.71it/s, loss=4.0228]"
          ]
        },
        {
          "output_type": "stream",
          "name": "stdout",
          "text": [
            "\n",
            "Context: The President\n",
            "\n",
            "Generated text: The President 's office said the `` very important '' of the `` new generation of people who have been in the world . '' ' '' . ' '' ' . ' `` . ' '' . 's a `` . 's future . '' .\n",
            "\n"
          ]
        },
        {
          "output_type": "stream",
          "name": "stderr",
          "text": [
            "Epoch 1/1:  84%|████████▎ | 143795/172148 [4:10:20<56:09,  8.42it/s, loss=4.0631]"
          ]
        },
        {
          "output_type": "stream",
          "name": "stdout",
          "text": [
            "\n",
            "After 200064 examples, Average Loss: 4.0404\n"
          ]
        },
        {
          "output_type": "stream",
          "name": "stderr",
          "text": [
            "\n",
            "Evaluating:   0%|          | 0/3514 [00:00<?, ?it/s]\u001b[A\n",
            "Evaluating:   0%|          | 1/3514 [00:00<06:14,  9.37it/s]\u001b[A\n",
            "Evaluating:   0%|          | 3/3514 [00:00<05:01, 11.63it/s]\u001b[A\n",
            "Evaluating:   0%|          | 5/3514 [00:00<05:02, 11.59it/s]\u001b[A\n",
            "Evaluating:   0%|          | 7/3514 [00:00<05:05, 11.48it/s]\u001b[A\n",
            "                                                            \u001b[A"
          ]
        },
        {
          "output_type": "stream",
          "name": "stdout",
          "text": [
            "\n",
            "Validation Average Loss: 4.0153, Perplexity: 55.44\n",
            "\n",
            "Context: Moscow\n",
            "\n",
            "Generated text: Moscow has been in talks with the U.S. government , which has been criticised for its efforts . '' 'Shaul . ' '' . ' '' . ' '' . 's . ' . ' . 's said . '\n",
            "\n",
            "\n",
            "Context: New York\n",
            "\n",
            "Generated text: New York City 's most expensive car is a luxury hotel , which is owned by the company 's company . ' '' . ' '' ) . ' '' . ' . ' . ' . 's . 's . 's . '\n",
            "\n",
            "\n",
            "Context: A hurricane\n",
            "\n",
            "Generated text: A hurricane warning is expected to be expected to be expected to be expected to last Sunday . '' ' '' . ' '' 'S . ' '' . ' '' . ' . 'Ter . ' . 's sp of the storm is\n",
            "\n"
          ]
        },
        {
          "output_type": "stream",
          "name": "stderr",
          "text": [
            "Epoch 1/1:  84%|████████▎ | 143797/172148 [4:10:24<8:38:47,  1.10s/it, loss=3.9941] "
          ]
        },
        {
          "output_type": "stream",
          "name": "stdout",
          "text": [
            "\n",
            "Context: The President\n",
            "\n",
            "Generated text: The President has been in talks with the government for the past few years . '' 'Sucher . ' '' ) . ' '' . ' '' . ' '' . ' . ' . 's . ' a . 's . 's\n",
            "\n"
          ]
        },
        {
          "output_type": "stream",
          "name": "stderr",
          "text": [
            "Epoch 1/1:  84%|████████▍ | 145357/172148 [4:13:06<42:59, 10.39it/s, loss=3.9844]"
          ]
        },
        {
          "output_type": "stream",
          "name": "stdout",
          "text": [
            "\n",
            "After 200064 examples, Average Loss: 4.0388\n"
          ]
        },
        {
          "output_type": "stream",
          "name": "stderr",
          "text": [
            "\n",
            "Evaluating:   0%|          | 0/3514 [00:00<?, ?it/s]\u001b[A\n",
            "Evaluating:   0%|          | 2/3514 [00:00<03:19, 17.57it/s]\u001b[A\n",
            "Evaluating:   0%|          | 4/3514 [00:00<03:19, 17.55it/s]\u001b[A\n",
            "Evaluating:   0%|          | 6/3514 [00:00<03:17, 17.72it/s]\u001b[A\n",
            "                                                            \u001b[A"
          ]
        },
        {
          "output_type": "stream",
          "name": "stdout",
          "text": [
            "\n",
            "Validation Average Loss: 4.0144, Perplexity: 55.39\n",
            "\n",
            "Context: Moscow\n",
            "\n",
            "Generated text: Moscow 's nuclear missiles have been bombed in the U.S. , with the U.S. military base camping in the U.S. . ' '' . ' . 's . ' . 's a . 's\n",
            "\n",
            "\n",
            "Context: New York\n",
            "\n",
            "Generated text: New York City Mayor Michael Bloomberg said the incident was a `` very serious issue '' . ' '' . ' '' . ' '' . ' '' . ' '' . ' . ' . ' . ' . ' . ' . 's . '\n",
            "\n",
            "\n",
            "Context: A hurricane\n",
            "\n",
            "Generated text: A hurricane center is expected to be closed in the early hours of Thursday morning . '' ' . ' '' 'S . ' '' 'S . ' '' 'S . ' '' ' : . 's new to be a possible\n",
            "\n"
          ]
        },
        {
          "output_type": "stream",
          "name": "stderr",
          "text": [
            "Epoch 1/1:  84%|████████▍ | 145360/172148 [4:13:10<4:45:25,  1.56it/s, loss=4.0417]"
          ]
        },
        {
          "output_type": "stream",
          "name": "stdout",
          "text": [
            "\n",
            "Context: The President\n",
            "\n",
            "Generated text: The President 's office said the government had `` notified the government of the United States . '' '' . ' '' . ' '' . ' '' . ' '' . ' '' . 'Tor of the . 's ##-in . '\n",
            "\n"
          ]
        },
        {
          "output_type": "stream",
          "name": "stderr",
          "text": [
            "Epoch 1/1:  85%|████████▌ | 146921/172148 [4:15:52<40:04, 10.49it/s, loss=4.0227]"
          ]
        },
        {
          "output_type": "stream",
          "name": "stdout",
          "text": [
            "\n",
            "After 200064 examples, Average Loss: 4.0422\n"
          ]
        },
        {
          "output_type": "stream",
          "name": "stderr",
          "text": [
            "\n",
            "Evaluating:   0%|          | 0/3514 [00:00<?, ?it/s]\u001b[A\n",
            "Evaluating:   0%|          | 2/3514 [00:00<03:22, 17.32it/s]\u001b[A\n",
            "Evaluating:   0%|          | 4/3514 [00:00<03:17, 17.77it/s]\u001b[A\n",
            "Evaluating:   0%|          | 6/3514 [00:00<03:15, 17.90it/s]\u001b[A\n",
            "                                                            \u001b[A"
          ]
        },
        {
          "output_type": "stream",
          "name": "stdout",
          "text": [
            "\n",
            "Validation Average Loss: 4.0195, Perplexity: 55.67\n",
            "\n",
            "Context: Moscow\n",
            "\n",
            "Generated text: Moscow has been accused of plotting to kill the U.S. and the US . '' ' a spokesman for the U.S. State Department . ' '' . ' . 's . ' . ' . ' . ' . '\n",
            "\n",
            "\n",
            "Context: New York\n",
            "\n",
            "Generated text: New York City Mayor Bill de Blasio , who has been in the past , said he was `` a good man . '' ' '' . ' '' . ' . ' . ' . ' . ' . ' . ' . ' . ' .\n",
            "\n",
            "\n",
            "Context: A hurricane\n",
            "\n",
            "Generated text: A hurricane warning is expected to be reached on Monday . '' ' said . ' . ' '' . ' . ' . ' . ' . ' . ' . ' . ' . ' . ' . ' . ' .## . 's\n",
            "\n"
          ]
        },
        {
          "output_type": "stream",
          "name": "stderr",
          "text": [
            "Epoch 1/1:  85%|████████▌ | 146923/172148 [4:15:56<4:52:54,  1.44it/s, loss=4.0405]"
          ]
        },
        {
          "output_type": "stream",
          "name": "stdout",
          "text": [
            "\n",
            "Context: The President\n",
            "\n",
            "Generated text: The President 's office said the government had been `` very concerned '' . ' '' . ' '' . ' '' . ' '' . ' . ' . ' . ' . ' . ' . 's . ' . 's a `` the only\n",
            "\n"
          ]
        },
        {
          "output_type": "stream",
          "name": "stderr",
          "text": [
            "Epoch 1/1:  86%|████████▋ | 148484/172148 [4:18:38<49:04,  8.04it/s, loss=4.0140]"
          ]
        },
        {
          "output_type": "stream",
          "name": "stdout",
          "text": [
            "\n",
            "After 200064 examples, Average Loss: 4.0389\n"
          ]
        },
        {
          "output_type": "stream",
          "name": "stderr",
          "text": [
            "\n",
            "Evaluating:   0%|          | 0/3514 [00:00<?, ?it/s]\u001b[A\n",
            "Evaluating:   0%|          | 2/3514 [00:00<04:45, 12.28it/s]\u001b[A\n",
            "Evaluating:   0%|          | 4/3514 [00:00<04:23, 13.31it/s]\u001b[A\n",
            "Evaluating:   0%|          | 6/3514 [00:00<04:24, 13.26it/s]\u001b[A\n",
            "                                                            \u001b[A"
          ]
        },
        {
          "output_type": "stream",
          "name": "stdout",
          "text": [
            "\n",
            "Validation Average Loss: 4.0160, Perplexity: 55.48\n",
            "\n",
            "Context: Moscow\n",
            "\n",
            "Generated text: Moscow 's military has been accused of being a member of the Islamic State group , which has been accused of killing ## people . ' '' . ' '' . ' . ' . ' . 's . ' . ' . ' . ' .\n",
            "\n",
            "\n",
            "Context: New York\n",
            "\n",
            "Generated text: New York City Mayor Bill de Blasio said the company was `` a very good deal '' . '' . ' '' . ' '' . ' '' . ' '' . ' . ' '' . ' . ' . ' . ' . ) . '\n",
            "\n",
            "\n",
            "Context: A hurricane\n",
            "\n",
            "Generated text: A hurricane season is expected to be in the next few weeks . ' '' . ' '' ' Arias said . ' '' . ' '' . ' '' . ' . ' '' . ' . ' . 's sp , who is a\n",
            "\n"
          ]
        },
        {
          "output_type": "stream",
          "name": "stderr",
          "text": [
            "Epoch 1/1:  86%|████████▋ | 148486/172148 [4:18:43<6:58:40,  1.06s/it, loss=3.9998]"
          ]
        },
        {
          "output_type": "stream",
          "name": "stdout",
          "text": [
            "\n",
            "Context: The President\n",
            "\n",
            "Generated text: The President 's office said the `` very important thing '' is that he is not a member of the public . '' ' . ' '' . ' '' . ' '' . ' . ' . 's a . ' . 's next step is\n",
            "\n"
          ]
        },
        {
          "output_type": "stream",
          "name": "stderr",
          "text": [
            "Epoch 1/1:  87%|████████▋ | 150047/172148 [4:21:24<35:35, 10.35it/s, loss=4.0948]"
          ]
        },
        {
          "output_type": "stream",
          "name": "stdout",
          "text": [
            "\n",
            "After 200064 examples, Average Loss: 4.0369\n"
          ]
        },
        {
          "output_type": "stream",
          "name": "stderr",
          "text": [
            "\n",
            "Evaluating:   0%|          | 0/3514 [00:00<?, ?it/s]\u001b[A\n",
            "Evaluating:   0%|          | 2/3514 [00:00<03:16, 17.84it/s]\u001b[A\n",
            "Evaluating:   0%|          | 4/3514 [00:00<03:12, 18.19it/s]\u001b[A\n",
            "Evaluating:   0%|          | 6/3514 [00:00<03:15, 17.91it/s]\u001b[A\n",
            "                                                            \u001b[A"
          ]
        },
        {
          "output_type": "stream",
          "name": "stdout",
          "text": [
            "\n",
            "Validation Average Loss: 4.0195, Perplexity: 55.67\n",
            "\n",
            "Context: Moscow\n",
            "\n",
            "Generated text: Moscow has been accused of trying to hide the world 's most famous American people in the world . '' ' . ' '' . ' '' . ' '' . ' . ' '' . ' . 's said to be a 's ' a '\n",
            "\n",
            "\n",
            "Context: New York\n",
            "\n",
            "Generated text: New York City Mayor Michael Bloomberg said the company 's decision was `` a very significant step forward '' . '' . ' '' . ' '' . ' '' . ' '' . ' . ' . ' . ' . 's . 's\n",
            "\n",
            "\n",
            "Context: A hurricane\n",
            "\n",
            "Generated text: A hurricane warning is expected to be caused by the storm , the National Transportation Safety Board said . '' . ' '' . ' '' . ' '' . ' '' . ' '' . ' . 's .### . 's\n",
            "\n"
          ]
        },
        {
          "output_type": "stream",
          "name": "stderr",
          "text": [
            "Epoch 1/1:  87%|████████▋ | 150049/172148 [4:21:28<4:37:23,  1.33it/s, loss=4.0321]"
          ]
        },
        {
          "output_type": "stream",
          "name": "stdout",
          "text": [
            "\n",
            "Context: The President\n",
            "\n",
            "Generated text: The President 's office said the government had not been able to do anything to do with the government 's decision . '' . ' '' . ' '' . ' '' . ' '' . 's new . 's `` . '' of the case\n",
            "\n"
          ]
        },
        {
          "output_type": "stream",
          "name": "stderr",
          "text": [
            "Epoch 1/1:  88%|████████▊ | 151531/172148 [4:24:01<32:36, 10.54it/s, loss=4.0443]"
          ]
        }
      ]
    },
    {
      "cell_type": "code",
      "source": [],
      "metadata": {
        "id": "mP8rawpgtvHt"
      },
      "execution_count": null,
      "outputs": []
    }
  ]
}