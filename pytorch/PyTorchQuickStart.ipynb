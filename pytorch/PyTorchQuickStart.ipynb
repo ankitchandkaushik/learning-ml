{
  "nbformat": 4,
  "nbformat_minor": 0,
  "metadata": {
    "colab": {
      "provenance": []
    },
    "kernelspec": {
      "name": "python3",
      "display_name": "Python 3"
    },
    "language_info": {
      "name": "python"
    }
  },
  "cells": [
    {
      "cell_type": "code",
      "execution_count": null,
      "metadata": {
        "id": "hiEY1yuVh5c-"
      },
      "outputs": [],
      "source": []
    },
    {
      "cell_type": "markdown",
      "source": [
        "# PyTorch"
      ],
      "metadata": {
        "id": "2n95pYMWiGjo"
      }
    },
    {
      "cell_type": "code",
      "source": [
        "import torch"
      ],
      "metadata": {
        "id": "_Gvpq4cmiM_Y"
      },
      "execution_count": 2,
      "outputs": []
    },
    {
      "cell_type": "code",
      "source": [
        "from torch import nn"
      ],
      "metadata": {
        "id": "lHNCi-HEkNzX"
      },
      "execution_count": 3,
      "outputs": []
    },
    {
      "cell_type": "code",
      "source": [
        "from torch.utils.data import DataLoader\n",
        "from torchvision import datasets\n",
        "from torchvision.transforms import ToTensor"
      ],
      "metadata": {
        "id": "k8oUD1xCkQ-g"
      },
      "execution_count": 4,
      "outputs": []
    },
    {
      "cell_type": "code",
      "source": [
        "training_data = datasets.FashionMNIST(\n",
        "    root=\"data\",\n",
        "    train=True,\n",
        "    download=True,\n",
        "    transform=ToTensor()\n",
        ")\n",
        "\n",
        "test_data = datasets.FashionMNIST(\n",
        "    root=\"data\",\n",
        "    train=False,\n",
        "    download=True,\n",
        "    transform=ToTensor()\n",
        ")"
      ],
      "metadata": {
        "id": "W7Au9xLdkg51",
        "colab": {
          "base_uri": "https://localhost:8080/"
        },
        "outputId": "6f5df802-262b-4127-9f28-547099cdef23"
      },
      "execution_count": 5,
      "outputs": [
        {
          "output_type": "stream",
          "name": "stderr",
          "text": [
            "100%|██████████| 26.4M/26.4M [00:01<00:00, 17.8MB/s]\n",
            "100%|██████████| 29.5k/29.5k [00:00<00:00, 306kB/s]\n",
            "100%|██████████| 4.42M/4.42M [00:00<00:00, 5.57MB/s]\n",
            "100%|██████████| 5.15k/5.15k [00:00<00:00, 13.2MB/s]\n"
          ]
        }
      ]
    },
    {
      "cell_type": "code",
      "source": [
        "batch_size = 32\n",
        "\n",
        "train_dataloader = DataLoader(training_data, batch_size=batch_size)\n",
        "test_dataloader = DataLoader(test_data, batch_size=batch_size)\n",
        "\n",
        "for X, y in test_dataloader:\n",
        "    print(f\"Shape of X [N, C, H, W]: {X.shape}\")\n",
        "    print(f\"Shape of y: {y.shape} {y.dtype}\")\n",
        "    break"
      ],
      "metadata": {
        "colab": {
          "base_uri": "https://localhost:8080/"
        },
        "id": "a5_YhkOPlGdf",
        "outputId": "aba5cb1d-86ca-49ad-b3a8-13c40ca9a247"
      },
      "execution_count": 6,
      "outputs": [
        {
          "output_type": "stream",
          "name": "stdout",
          "text": [
            "Shape of X [N, C, H, W]: torch.Size([32, 1, 28, 28])\n",
            "Shape of y: torch.Size([32]) torch.int64\n"
          ]
        }
      ]
    },
    {
      "cell_type": "code",
      "source": [],
      "metadata": {
        "id": "3xIfcShXlh4x"
      },
      "execution_count": 6,
      "outputs": []
    },
    {
      "cell_type": "markdown",
      "source": [
        "#Creating Models"
      ],
      "metadata": {
        "id": "XozMQ_LolxmT"
      }
    },
    {
      "cell_type": "code",
      "source": [
        "device = torch.accelerator.current_accelerator().type if torch.accelerator.is_available() else \"cpu\"\n",
        "print(f\"Using {device} device\")"
      ],
      "metadata": {
        "colab": {
          "base_uri": "https://localhost:8080/"
        },
        "id": "iEj8kYWTl0nh",
        "outputId": "12c4cf01-5add-4911-e14b-6d15d6fbe9f2"
      },
      "execution_count": 7,
      "outputs": [
        {
          "output_type": "stream",
          "name": "stdout",
          "text": [
            "Using cuda device\n"
          ]
        }
      ]
    },
    {
      "cell_type": "code",
      "source": [
        "#Define model\n",
        "\n",
        "class NeuralNetwork(nn.Module):\n",
        "    def __init__(self):\n",
        "        super().__init__()\n",
        "        self.flatten = nn.Flatten()\n",
        "        self.linear_relu_stack = nn.Sequential(\n",
        "            nn.Linear(28*28, 512),\n",
        "            nn.ReLU(),\n",
        "            nn.Linear(512, 512),\n",
        "            nn.ReLU(),\n",
        "            nn.Linear(512, 10)\n",
        "        )\n",
        "\n",
        "    def forward(self, x):\n",
        "        x = self.flatten(x)\n",
        "        logits = self.linear_relu_stack(x)\n",
        "        return logits\n",
        "\n",
        "model = NeuralNetwork().to(device)\n",
        "print(model)"
      ],
      "metadata": {
        "colab": {
          "base_uri": "https://localhost:8080/"
        },
        "id": "cXuUhw1fmMjF",
        "outputId": "eb5f8ba5-185d-4efd-ad58-6b57dd7a43bb"
      },
      "execution_count": 8,
      "outputs": [
        {
          "output_type": "stream",
          "name": "stdout",
          "text": [
            "NeuralNetwork(\n",
            "  (flatten): Flatten(start_dim=1, end_dim=-1)\n",
            "  (linear_relu_stack): Sequential(\n",
            "    (0): Linear(in_features=784, out_features=512, bias=True)\n",
            "    (1): ReLU()\n",
            "    (2): Linear(in_features=512, out_features=512, bias=True)\n",
            "    (3): ReLU()\n",
            "    (4): Linear(in_features=512, out_features=10, bias=True)\n",
            "  )\n",
            ")\n"
          ]
        }
      ]
    },
    {
      "cell_type": "code",
      "source": [],
      "metadata": {
        "id": "JALTiZmXmwba"
      },
      "execution_count": 8,
      "outputs": []
    },
    {
      "cell_type": "markdown",
      "source": [
        "#Optimising model parameters\n"
      ],
      "metadata": {
        "id": "58HAriIbnB3f"
      }
    },
    {
      "cell_type": "code",
      "source": [
        "loss_fn = nn.CrossEntropyLoss()\n",
        "optimizer = torch.optim.SGD(model.parameters(), lr=1e-3)"
      ],
      "metadata": {
        "id": "BDKaId6HnEjp"
      },
      "execution_count": 9,
      "outputs": []
    },
    {
      "cell_type": "code",
      "source": [
        "def train(dataloader, model, loss_fn, optimizer):\n",
        "    size = len(dataloader.dataset)\n",
        "    model.train()\n",
        "    for batch, (X, y) in enumerate(dataloader):\n",
        "        X, y = X.to(device), y.to(device)\n",
        "\n",
        "        pred = model(X)\n",
        "        loss = loss_fn(pred, y)\n",
        "\n",
        "        loss.backward()\n",
        "        optimizer.step()\n",
        "        optimizer.zero_grad()\n",
        "\n",
        "        if batch % 100 == 0:\n",
        "            loss, current = loss.item(), (batch + 1) * len(X)\n",
        "            print(f\"loss: {loss:>7f}  [{current:>5d}/{size:>5d}]\")\n"
      ],
      "metadata": {
        "id": "6yxXacp8nI2B"
      },
      "execution_count": 10,
      "outputs": []
    },
    {
      "cell_type": "code",
      "source": [
        "def test(dataloader, model, loss_fn):\n",
        "  size = len(dataloader.dataset)\n",
        "  num_batches = len(dataloader)\n",
        "  model.eval()\n",
        "  test_loss, correct = 0,0\n",
        "  with torch.no_grad():\n",
        "    for X, y in dataloader:\n",
        "      X, y = X.to(device), y.to(device)\n",
        "      pred = model(X)\n",
        "      test_loss += loss_fn(pred, y).item()\n",
        "      correct += (pred.argmax(1) == y).type(torch.float).sum().item()\n",
        "  test_loss /= num_batches\n",
        "  correct /= size\n",
        "  print(f\"Test Error: \\n Accuracy: {(100*correct):>0.1f}%, Avg loss: {test_loss:>8f} \\n\")"
      ],
      "metadata": {
        "id": "EAn36VpIn7pv"
      },
      "execution_count": 11,
      "outputs": []
    },
    {
      "cell_type": "code",
      "source": [
        "epochs = 5\n",
        "for t in range(epochs):\n",
        "  print(f\"Epoch {t+1}\\n-------------------------------\")\n",
        "  train(train_dataloader, model, loss_fn, optimizer)\n",
        "  test(test_dataloader, model, loss_fn)\n",
        "print(\"Done!\")"
      ],
      "metadata": {
        "colab": {
          "base_uri": "https://localhost:8080/"
        },
        "id": "Wp-MZWOBogWq",
        "outputId": "9d3d0995-4396-4dc9-b8f9-195c08177dfb"
      },
      "execution_count": 12,
      "outputs": [
        {
          "output_type": "stream",
          "name": "stdout",
          "text": [
            "Epoch 1\n",
            "-------------------------------\n",
            "loss: 2.282813  [   32/60000]\n",
            "loss: 2.281031  [ 3232/60000]\n",
            "loss: 2.254449  [ 6432/60000]\n",
            "loss: 2.251040  [ 9632/60000]\n",
            "loss: 2.233239  [12832/60000]\n",
            "loss: 2.231071  [16032/60000]\n",
            "loss: 2.189500  [19232/60000]\n",
            "loss: 2.171431  [22432/60000]\n",
            "loss: 2.167997  [25632/60000]\n",
            "loss: 2.111499  [28832/60000]\n",
            "loss: 2.064140  [32032/60000]\n",
            "loss: 2.033029  [35232/60000]\n",
            "loss: 2.130269  [38432/60000]\n",
            "loss: 2.039198  [41632/60000]\n",
            "loss: 1.976361  [44832/60000]\n",
            "loss: 1.967541  [48032/60000]\n",
            "loss: 2.037031  [51232/60000]\n",
            "loss: 1.931521  [54432/60000]\n",
            "loss: 1.843266  [57632/60000]\n",
            "Test Error: \n",
            " Accuracy: 57.0%, Avg loss: 1.839236 \n",
            "\n",
            "Epoch 2\n",
            "-------------------------------\n",
            "loss: 1.830835  [   32/60000]\n",
            "loss: 1.853156  [ 3232/60000]\n",
            "loss: 1.767166  [ 6432/60000]\n",
            "loss: 1.718447  [ 9632/60000]\n",
            "loss: 1.665517  [12832/60000]\n",
            "loss: 1.731644  [16032/60000]\n",
            "loss: 1.530828  [19232/60000]\n",
            "loss: 1.526505  [22432/60000]\n",
            "loss: 1.526646  [25632/60000]\n",
            "loss: 1.494541  [28832/60000]\n",
            "loss: 1.342822  [32032/60000]\n",
            "loss: 1.281075  [35232/60000]\n",
            "loss: 1.487757  [38432/60000]\n",
            "loss: 1.364864  [41632/60000]\n",
            "loss: 1.265164  [44832/60000]\n",
            "loss: 1.236311  [48032/60000]\n",
            "loss: 1.350645  [51232/60000]\n",
            "loss: 1.346937  [54432/60000]\n",
            "loss: 1.158479  [57632/60000]\n",
            "Test Error: \n",
            " Accuracy: 64.5%, Avg loss: 1.213860 \n",
            "\n",
            "Epoch 3\n",
            "-------------------------------\n",
            "loss: 1.209244  [   32/60000]\n",
            "loss: 1.202763  [ 3232/60000]\n",
            "loss: 1.188096  [ 6432/60000]\n",
            "loss: 1.259542  [ 9632/60000]\n",
            "loss: 1.109562  [12832/60000]\n",
            "loss: 1.272862  [16032/60000]\n",
            "loss: 0.985365  [19232/60000]\n",
            "loss: 1.007378  [22432/60000]\n",
            "loss: 1.064158  [25632/60000]\n",
            "loss: 1.153707  [28832/60000]\n",
            "loss: 0.969433  [32032/60000]\n",
            "loss: 0.910721  [35232/60000]\n",
            "loss: 1.185939  [38432/60000]\n",
            "loss: 1.047680  [41632/60000]\n",
            "loss: 0.969761  [44832/60000]\n",
            "loss: 0.884860  [48032/60000]\n",
            "loss: 1.021237  [51232/60000]\n",
            "loss: 1.125906  [54432/60000]\n",
            "loss: 0.889330  [57632/60000]\n",
            "Test Error: \n",
            " Accuracy: 67.0%, Avg loss: 0.960597 \n",
            "\n",
            "Epoch 4\n",
            "-------------------------------\n",
            "loss: 0.919106  [   32/60000]\n",
            "loss: 0.958942  [ 3232/60000]\n",
            "loss: 0.948525  [ 6432/60000]\n",
            "loss: 1.091287  [ 9632/60000]\n",
            "loss: 0.873521  [12832/60000]\n",
            "loss: 1.078104  [16032/60000]\n",
            "loss: 0.763859  [19232/60000]\n",
            "loss: 0.776477  [22432/60000]\n",
            "loss: 0.868437  [25632/60000]\n",
            "loss: 1.045689  [28832/60000]\n",
            "loss: 0.804778  [32032/60000]\n",
            "loss: 0.740648  [35232/60000]\n",
            "loss: 1.080707  [38432/60000]\n",
            "loss: 0.931252  [41632/60000]\n",
            "loss: 0.856716  [44832/60000]\n",
            "loss: 0.734832  [48032/60000]\n",
            "loss: 0.875691  [51232/60000]\n",
            "loss: 1.022444  [54432/60000]\n",
            "loss: 0.780263  [57632/60000]\n",
            "Test Error: \n",
            " Accuracy: 69.2%, Avg loss: 0.843336 \n",
            "\n",
            "Epoch 5\n",
            "-------------------------------\n",
            "loss: 0.773959  [   32/60000]\n",
            "loss: 0.864717  [ 3232/60000]\n",
            "loss: 0.826948  [ 6432/60000]\n",
            "loss: 0.978997  [ 9632/60000]\n",
            "loss: 0.755302  [12832/60000]\n",
            "loss: 0.980992  [16032/60000]\n",
            "loss: 0.651826  [19232/60000]\n",
            "loss: 0.651863  [22432/60000]\n",
            "loss: 0.764745  [25632/60000]\n",
            "loss: 0.991471  [28832/60000]\n",
            "loss: 0.722575  [32032/60000]\n",
            "loss: 0.651980  [35232/60000]\n",
            "loss: 1.017158  [38432/60000]\n",
            "loss: 0.881623  [41632/60000]\n",
            "loss: 0.807602  [44832/60000]\n",
            "loss: 0.656872  [48032/60000]\n",
            "loss: 0.792153  [51232/60000]\n",
            "loss: 0.955369  [54432/60000]\n",
            "loss: 0.725198  [57632/60000]\n",
            "Test Error: \n",
            " Accuracy: 71.7%, Avg loss: 0.775033 \n",
            "\n",
            "Done!\n"
          ]
        }
      ]
    },
    {
      "cell_type": "code",
      "source": [],
      "metadata": {
        "id": "lpjYHGMgotcG"
      },
      "execution_count": 12,
      "outputs": []
    },
    {
      "cell_type": "markdown",
      "source": [
        "#Saving Models"
      ],
      "metadata": {
        "id": "iZ4PdyajpJ0s"
      }
    },
    {
      "cell_type": "code",
      "source": [
        "torch.save(model.state_dict(), \"model.pth\")\n",
        "print(\"Saved PyTorch Model State to model.pth\")"
      ],
      "metadata": {
        "colab": {
          "base_uri": "https://localhost:8080/"
        },
        "id": "l-v9MzOcpLid",
        "outputId": "60bac1b3-a1b8-424f-eb62-1725b6c57c00"
      },
      "execution_count": 13,
      "outputs": [
        {
          "output_type": "stream",
          "name": "stdout",
          "text": [
            "Saved PyTorch Model State to model.pth\n"
          ]
        }
      ]
    },
    {
      "cell_type": "code",
      "source": [],
      "metadata": {
        "id": "QSx3pPh8pQfI"
      },
      "execution_count": 13,
      "outputs": []
    },
    {
      "cell_type": "markdown",
      "source": [
        "#Loading models"
      ],
      "metadata": {
        "id": "_bhgrbeZpUz1"
      }
    },
    {
      "cell_type": "code",
      "source": [
        "model = NeuralNetwork().to(device)\n",
        "model.load_state_dict(torch.load(\"model.pth\", weights_only=True))\n"
      ],
      "metadata": {
        "colab": {
          "base_uri": "https://localhost:8080/"
        },
        "id": "5JOvqGvlpXZU",
        "outputId": "856a48c0-4cf4-472e-ff51-65ebe08df216"
      },
      "execution_count": 14,
      "outputs": [
        {
          "output_type": "execute_result",
          "data": {
            "text/plain": [
              "<All keys matched successfully>"
            ]
          },
          "metadata": {},
          "execution_count": 14
        }
      ]
    },
    {
      "cell_type": "code",
      "source": [
        "classes = [\n",
        "    \"T-shirt/top\",\n",
        "    \"Trouser\",\n",
        "    \"Pullover\",\n",
        "    \"Dress\",\n",
        "    \"Coat\",\n",
        "    \"Sandal\",\n",
        "    \"Shirt\",\n",
        "    \"Sneaker\",\n",
        "    \"Bag\",\n",
        "    \"Ankle boot\"\n",
        "]\n",
        "model.eval()\n",
        "x,y = test_data[0][0], test_data[0][1]\n",
        "with torch.no_grad():\n",
        "  x = x.to(device)\n",
        "  pred = model(x)\n",
        "  predicted, actual = classes[pred[0].argmax(0)], classes[y]\n",
        "  print(f'Predicted: \"{predicted}\", Actual: \"{actual}\"')"
      ],
      "metadata": {
        "colab": {
          "base_uri": "https://localhost:8080/"
        },
        "id": "rZZiA9jbpj1f",
        "outputId": "e2996f2a-f0bf-457f-e4f6-bf1c5cf9d95c"
      },
      "execution_count": 15,
      "outputs": [
        {
          "output_type": "stream",
          "name": "stdout",
          "text": [
            "Predicted: \"Ankle boot\", Actual: \"Ankle boot\"\n"
          ]
        }
      ]
    },
    {
      "cell_type": "markdown",
      "source": [
        "#Tensor"
      ],
      "metadata": {
        "id": "HBW6_85ueoXA"
      }
    },
    {
      "cell_type": "code",
      "source": [
        "import numpy as np"
      ],
      "metadata": {
        "id": "oFW6UD9oqMpx"
      },
      "execution_count": 16,
      "outputs": []
    },
    {
      "cell_type": "code",
      "source": [
        "data = [[1,2],[3,4]]\n",
        "x_data = torch.tensor(data)"
      ],
      "metadata": {
        "id": "hz7OPHNheSbh"
      },
      "execution_count": 17,
      "outputs": []
    },
    {
      "cell_type": "code",
      "source": [
        "np_array = np.array(data)\n",
        "x_np = torch.from_numpy(np_array)"
      ],
      "metadata": {
        "id": "uAbOuMpleeI8"
      },
      "execution_count": 18,
      "outputs": []
    },
    {
      "cell_type": "code",
      "source": [
        "x_ones = torch.ones_like(x_data)\n",
        "print(f\"Ones Tensor: \\n {x_ones} \\n\")\n",
        "\n",
        "x_rand = torch.rand_like(x_data, dtype=torch.float)\n",
        "print(f\"Random Tensor: \\n {x_rand} \\n\")"
      ],
      "metadata": {
        "colab": {
          "base_uri": "https://localhost:8080/"
        },
        "id": "48g7ngW1e5PF",
        "outputId": "0d9de921-0ab3-4986-d73c-e6786c8bb51a"
      },
      "execution_count": 19,
      "outputs": [
        {
          "output_type": "stream",
          "name": "stdout",
          "text": [
            "Ones Tensor: \n",
            " tensor([[1, 1],\n",
            "        [1, 1]]) \n",
            "\n",
            "Random Tensor: \n",
            " tensor([[0.8626, 0.9835],\n",
            "        [0.8317, 0.6207]]) \n",
            "\n"
          ]
        }
      ]
    },
    {
      "cell_type": "code",
      "source": [
        "shape = (2,3, )\n",
        "rand_tensor = torch.rand(shape)\n",
        "ones_tensor = torch.ones(shape)\n",
        "zeros_tensor = torch.zeros(shape)\n",
        "\n",
        "print(f\"Random Tensor: \\n {rand_tensor} \\n\")\n",
        "print(f\"Ones Tensor: \\n {ones_tensor} \\n\")\n",
        "print(f\"Zeros Tensor: \\n {zeros_tensor}\")"
      ],
      "metadata": {
        "colab": {
          "base_uri": "https://localhost:8080/"
        },
        "id": "7RO6731VfC-X",
        "outputId": "aea61821-5fc8-4ada-b325-656a9d019b55"
      },
      "execution_count": 20,
      "outputs": [
        {
          "output_type": "stream",
          "name": "stdout",
          "text": [
            "Random Tensor: \n",
            " tensor([[0.0228, 0.3780, 0.8852],\n",
            "        [0.1426, 0.7472, 0.2895]]) \n",
            "\n",
            "Ones Tensor: \n",
            " tensor([[1., 1., 1.],\n",
            "        [1., 1., 1.]]) \n",
            "\n",
            "Zeros Tensor: \n",
            " tensor([[0., 0., 0.],\n",
            "        [0., 0., 0.]])\n"
          ]
        }
      ]
    },
    {
      "cell_type": "markdown",
      "metadata": {
        "id": "b29d6824"
      },
      "source": [
        "# CUDA and GPUs\n",
        "\n",
        "**GPU** stands for Graphics Processing Unit. While originally designed for rendering graphics, GPUs have evolved into powerful parallel processors capable of handling a wide range of computational tasks.\n",
        "\n",
        "**CUDA** (Compute Unified Device Architecture) is a parallel computing platform and API developed by NVIDIA. It allows developers to use NVIDIA GPUs for general-purpose processing (GPGPU) beyond just graphics rendering.\n",
        "\n",
        "**Why are they called Accelerators?**\n",
        "\n",
        "GPUs are called accelerators because they can significantly speed up computations compared to traditional CPUs for tasks that can be parallelized. Their architecture, with thousands of smaller cores, is highly efficient at performing many simple operations simultaneously, which is common in tasks like:\n",
        "\n",
        "* **Machine Learning and Deep Learning:** Training neural networks involves a massive number of matrix multiplications and other parallelizable operations.\n",
        "* **Scientific Simulations:** Many scientific simulations involve complex calculations that can be broken down into independent parts.\n",
        "* **Data Processing:** Large datasets can be processed much faster by distributing the work across multiple GPU cores.\n",
        "\n",
        "By offloading these parallelizable tasks to the GPU, the CPU is freed up to handle other parts of the program, resulting in a significant overall performance increase."
      ]
    },
    {
      "cell_type": "code",
      "source": [
        "if torch.accelerator.is_available():\n",
        "  accelerator = torch.accelerator.current_accelerator()\n",
        "  print(f\"Using {accelerator.type}\")\n",
        "else:\n",
        "  print(\"Using CPU\")"
      ],
      "metadata": {
        "colab": {
          "base_uri": "https://localhost:8080/"
        },
        "id": "I-Gwn8UmfcZd",
        "outputId": "c29508b4-ae05-4901-def8-544dd7347ff3"
      },
      "execution_count": 21,
      "outputs": [
        {
          "output_type": "stream",
          "name": "stdout",
          "text": [
            "Using cuda\n"
          ]
        }
      ]
    },
    {
      "cell_type": "code",
      "source": [
        "tensor = torch.rand(3,4)\n",
        "print(f\"Device tensor is stored on: {tensor.device}\")\n",
        "print(f\"Tensor: {tensor.shape}\")\n",
        "print(f\"Tensor: {tensor.dtype}\")"
      ],
      "metadata": {
        "colab": {
          "base_uri": "https://localhost:8080/"
        },
        "id": "gPq6IyDQgytW",
        "outputId": "02b2bbf7-c19e-438f-84b8-031518bb4789"
      },
      "execution_count": 24,
      "outputs": [
        {
          "output_type": "stream",
          "name": "stdout",
          "text": [
            "Device tensor is stored on: cpu\n",
            "Tensor: torch.Size([3, 4])\n",
            "Tensor: torch.float32\n"
          ]
        }
      ]
    },
    {
      "cell_type": "code",
      "source": [
        "if torch.accelerator.is_available():\n",
        "  tensor = tensor.to(torch.accelerator.current_accelerator())\n",
        "  print(\"Device tensor is stored on:\", tensor.device)"
      ],
      "metadata": {
        "colab": {
          "base_uri": "https://localhost:8080/"
        },
        "id": "e8tx2bMfgJ-J",
        "outputId": "9d777c58-c04d-461d-ebb5-7203a93b00a6"
      },
      "execution_count": 25,
      "outputs": [
        {
          "output_type": "stream",
          "name": "stdout",
          "text": [
            "Device tensor is stored on: cuda:0\n"
          ]
        }
      ]
    },
    {
      "cell_type": "code",
      "source": [
        "tensor = torch.ones(4, 4)\n",
        "print(f\"First row: {tensor[0]}\")\n",
        "print(f\"First column: {tensor[:, 0]}\")\n",
        "print(f\"Last column: {tensor[..., -1]}\")\n",
        "tensor[:,1] = 0\n",
        "print(tensor)"
      ],
      "metadata": {
        "colab": {
          "base_uri": "https://localhost:8080/"
        },
        "id": "tmAUpnnVhNqd",
        "outputId": "5926b72f-3b72-49b9-ad49-5ec5d15606bd"
      },
      "execution_count": 27,
      "outputs": [
        {
          "output_type": "stream",
          "name": "stdout",
          "text": [
            "First row: tensor([1., 1., 1., 1.])\n",
            "First column: tensor([1., 1., 1., 1.])\n",
            "Last column: tensor([1., 1., 1., 1.])\n",
            "tensor([[1., 0., 1., 1.],\n",
            "        [1., 0., 1., 1.],\n",
            "        [1., 0., 1., 1.],\n",
            "        [1., 0., 1., 1.]])\n"
          ]
        }
      ]
    },
    {
      "cell_type": "code",
      "source": [
        "t1 = torch.cat((tensor, tensor, tensor), dim=1)\n",
        "print(t1)"
      ],
      "metadata": {
        "colab": {
          "base_uri": "https://localhost:8080/"
        },
        "id": "X6WLTJG6hk4c",
        "outputId": "44cf90fb-50a6-4377-fd01-760abe84dd9b"
      },
      "execution_count": 30,
      "outputs": [
        {
          "output_type": "stream",
          "name": "stdout",
          "text": [
            "tensor([[1., 0., 1., 1., 1., 0., 1., 1., 1., 0., 1., 1.],\n",
            "        [1., 0., 1., 1., 1., 0., 1., 1., 1., 0., 1., 1.],\n",
            "        [1., 0., 1., 1., 1., 0., 1., 1., 1., 0., 1., 1.],\n",
            "        [1., 0., 1., 1., 1., 0., 1., 1., 1., 0., 1., 1.]])\n"
          ]
        }
      ]
    },
    {
      "cell_type": "code",
      "source": [
        "y1 = tensor @ tensor.T\n",
        "y2 = tensor.matmul(tensor.T)\n",
        "\n",
        "y3 = torch.rand_like(tensor)\n",
        "print(y3)\n",
        "\n",
        "torch.matmul(tensor, tensor.T, out=y3)\n",
        "print(y1)\n",
        "print(y2)\n",
        "print(y3)\n",
        "\n",
        "z1 = tensor * tensor\n",
        "z2 = tensor.mul(tensor)\n",
        "\n",
        "z3 = torch.rand_like(tensor)\n",
        "torch.mul(tensor, tensor, out=z3)\n",
        "print(z1)\n",
        "print(z2)\n",
        "print(z3)"
      ],
      "metadata": {
        "colab": {
          "base_uri": "https://localhost:8080/"
        },
        "id": "1wupk2qAh121",
        "outputId": "5b140752-01b6-4ce7-cb40-4e9fac738726"
      },
      "execution_count": 32,
      "outputs": [
        {
          "output_type": "stream",
          "name": "stdout",
          "text": [
            "tensor([[0.6492, 0.9012, 0.7038, 0.8392],\n",
            "        [0.1111, 0.1089, 0.4811, 0.8669],\n",
            "        [0.6007, 0.3967, 0.1431, 0.9670],\n",
            "        [0.3500, 0.8840, 0.1011, 0.0156]])\n",
            "tensor([[3., 3., 3., 3.],\n",
            "        [3., 3., 3., 3.],\n",
            "        [3., 3., 3., 3.],\n",
            "        [3., 3., 3., 3.]])\n",
            "tensor([[3., 3., 3., 3.],\n",
            "        [3., 3., 3., 3.],\n",
            "        [3., 3., 3., 3.],\n",
            "        [3., 3., 3., 3.]])\n",
            "tensor([[3., 3., 3., 3.],\n",
            "        [3., 3., 3., 3.],\n",
            "        [3., 3., 3., 3.],\n",
            "        [3., 3., 3., 3.]])\n",
            "tensor([[1., 0., 1., 1.],\n",
            "        [1., 0., 1., 1.],\n",
            "        [1., 0., 1., 1.],\n",
            "        [1., 0., 1., 1.]])\n",
            "tensor([[1., 0., 1., 1.],\n",
            "        [1., 0., 1., 1.],\n",
            "        [1., 0., 1., 1.],\n",
            "        [1., 0., 1., 1.]])\n",
            "tensor([[1., 0., 1., 1.],\n",
            "        [1., 0., 1., 1.],\n",
            "        [1., 0., 1., 1.],\n",
            "        [1., 0., 1., 1.]])\n"
          ]
        }
      ]
    },
    {
      "cell_type": "code",
      "source": [
        "agg = tensor.sum()\n",
        "agg_item = agg.item()\n",
        "print(agg_item, type(agg_item))"
      ],
      "metadata": {
        "colab": {
          "base_uri": "https://localhost:8080/"
        },
        "id": "5rRBJ_jenvrU",
        "outputId": "78dccb2a-8533-4dba-82fd-7b89fc4ec263"
      },
      "execution_count": 33,
      "outputs": [
        {
          "output_type": "stream",
          "name": "stdout",
          "text": [
            "12.0 <class 'float'>\n"
          ]
        }
      ]
    },
    {
      "cell_type": "code",
      "source": [
        "print(f\"{tensor} \\n\")\n",
        "tensor.add_(5)\n",
        "print(tensor)"
      ],
      "metadata": {
        "colab": {
          "base_uri": "https://localhost:8080/"
        },
        "id": "PJ8vBxiooHQ7",
        "outputId": "63e6f30f-f9ab-42a0-9190-c670878a2c82"
      },
      "execution_count": 34,
      "outputs": [
        {
          "output_type": "stream",
          "name": "stdout",
          "text": [
            "tensor([[1., 0., 1., 1.],\n",
            "        [1., 0., 1., 1.],\n",
            "        [1., 0., 1., 1.],\n",
            "        [1., 0., 1., 1.]]) \n",
            "\n",
            "tensor([[6., 5., 6., 6.],\n",
            "        [6., 5., 6., 6.],\n",
            "        [6., 5., 6., 6.],\n",
            "        [6., 5., 6., 6.]])\n"
          ]
        }
      ]
    },
    {
      "cell_type": "markdown",
      "source": [
        "#Bridge with numpy"
      ],
      "metadata": {
        "id": "tPAsLuJeoZon"
      }
    },
    {
      "cell_type": "code",
      "source": [
        "n = np.ones(5)\n",
        "t = torch.from_numpy(n)\n",
        "print(f\"t: {t}\")\n",
        "np.add(n, 1, out=n)\n",
        "print(f\"t: {t}\")"
      ],
      "metadata": {
        "colab": {
          "base_uri": "https://localhost:8080/"
        },
        "id": "yWVtfImUoS_P",
        "outputId": "83e69bb2-ab8d-4de3-a7e2-419360f5b4fe"
      },
      "execution_count": 35,
      "outputs": [
        {
          "output_type": "stream",
          "name": "stdout",
          "text": [
            "t: tensor([1., 1., 1., 1., 1.], dtype=torch.float64)\n",
            "t: tensor([2., 2., 2., 2., 2.], dtype=torch.float64)\n"
          ]
        }
      ]
    },
    {
      "cell_type": "markdown",
      "source": [
        "# Datasets & DataLoaders"
      ],
      "metadata": {
        "id": "lWAX5c-1qLKu"
      }
    },
    {
      "cell_type": "code",
      "source": [
        "import torch\n",
        "from torch.utils.data import Dataset\n",
        "from torchvision import datasets\n",
        "from torchvision.transforms import ToTensor\n",
        "import matplotlib.pyplot as plt"
      ],
      "metadata": {
        "id": "vlOGK3fFphJ3"
      },
      "execution_count": 2,
      "outputs": []
    },
    {
      "cell_type": "code",
      "source": [
        "training_data = datasets.FashionMNIST(\n",
        "    root=\"data\",\n",
        "    train=True,\n",
        "    download=True,\n",
        "    transform=ToTensor()\n",
        ")\n",
        "\n",
        "test_data = datasets.FashionMNIST(\n",
        "    root=\"data\",\n",
        "    train=False,\n",
        "    download=True,\n",
        "    transform=ToTensor()\n",
        ")"
      ],
      "metadata": {
        "colab": {
          "base_uri": "https://localhost:8080/"
        },
        "id": "_uU0w7NQOXCK",
        "outputId": "c7ecec82-55c4-4888-a392-0e55e6b8ab4d"
      },
      "execution_count": 3,
      "outputs": [
        {
          "output_type": "stream",
          "name": "stderr",
          "text": [
            "100%|██████████| 26.4M/26.4M [00:01<00:00, 15.1MB/s]\n",
            "100%|██████████| 29.5k/29.5k [00:00<00:00, 274kB/s]\n",
            "100%|██████████| 4.42M/4.42M [00:00<00:00, 4.51MB/s]\n",
            "100%|██████████| 5.15k/5.15k [00:00<00:00, 17.3MB/s]\n"
          ]
        }
      ]
    },
    {
      "cell_type": "code",
      "source": [
        "labels_map = {\n",
        "    0: \"T-Shirt\",\n",
        "    1: \"Trouser\",\n",
        "    2: \"Pullover\",\n",
        "    3: \"Dress\",\n",
        "    4: \"Coat\",\n",
        "    5: \"Sandal\",\n",
        "    6: \"Shirt\",\n",
        "    7: \"Sneaker\",\n",
        "    8: \"Bag\",\n",
        "    9: \"Ankle Boot\"\n",
        "}\n",
        "figure = plt.figure(figsize=(8,8))\n",
        "cols, rows = 3,3\n",
        "for i in range(1, cols*rows + 1):\n",
        "  sample_idx = torch.randint(len(training_data), size=(1,)).item()\n",
        "  img, label = training_data[sample_idx]\n",
        "  figure.add_subplot(rows, cols, i)\n",
        "  plt.title(labels_map[label])\n",
        "  plt.axis(\"off\")\n",
        "  plt.imshow(img.squeeze(), cmap=\"gray\")\n",
        "plt.show()"
      ],
      "metadata": {
        "colab": {
          "base_uri": "https://localhost:8080/",
          "height": 675
        },
        "id": "M83yMKuoOdt_",
        "outputId": "ee14c3c5-f115-4348-9b95-76169c9aa252"
      },
      "execution_count": 4,
      "outputs": [
        {
          "output_type": "display_data",
          "data": {
            "text/plain": [
              "<Figure size 800x800 with 9 Axes>"
            ],
            "image/png": "[encoded data removed]"
          },
          "metadata": {}
        }
      ]
    },
    {
      "cell_type": "code",
      "source": [
        "#creating custom dataset, needs to define __init__, __len__, and __getitem__\n",
        "import os\n",
        "import pandas as pd\n",
        "from torchvision.io import decode_image\n",
        "\n",
        "class CustomImageDataset(Dataset):\n",
        "  def __init__(self, annotations_file, img_dir, transform=None, target_transform=None):\n",
        "    self.img_labels = pd.read_csv(annotations_file)\n",
        "    self.img_dir = img_dir\n",
        "    self.transform = transform\n",
        "    self.target_transform = target_transform\n",
        "\n",
        "  def __len__(self):\n",
        "    return len(self.img_labels)\n",
        "\n",
        "\n",
        "  def __getitem__(self, idx):\n",
        "    img_path = os.path.join(self.img_dir, self.img_labels.iloc[idx, 0])\n",
        "    image = decode_image(img_path)\n",
        "    label = self.img_labels.iloc[idx, 1]\n",
        "    if self.transform:\n",
        "      image = self.transform(image)\n",
        "    if self.target_transform:\n",
        "      label = self.target_transform(label)\n",
        "    sample = {\"image\": image, \"label\": label}"
      ],
      "metadata": {
        "id": "dyspt5mSPQMg"
      },
      "execution_count": 6,
      "outputs": []
    },
    {
      "cell_type": "code",
      "source": [
        "# training data with dataloaders\n",
        "\n",
        "from torch.utils.data import DataLoader\n",
        "\n",
        "train_dataloader = DataLoader(training_data, batch_size=64, shuffle=True)\n",
        "test_dataloader = DataLoader(test_data, batch_size=64, shuffle=True)"
      ],
      "metadata": {
        "id": "M6ERG_cvXVmA"
      },
      "execution_count": 7,
      "outputs": []
    },
    {
      "cell_type": "code",
      "source": [
        "#iterate through dataloder\n",
        "train_features, train_labels = next(iter(train_dataloader))\n",
        "print(f\"Feature batch shape: {train_features.size()}\")\n",
        "print(f\"Labels batch shape: {train_labels.size()}\")\n",
        "img = train_features[0].squeeze()\n",
        "label = train_labels[0]\n",
        "plt.imshow(img, cmap=\"gray\")\n",
        "plt.show()\n",
        "print(f\"Label: {label}\")"
      ],
      "metadata": {
        "colab": {
          "base_uri": "https://localhost:8080/",
          "height": 484
        },
        "id": "sBbT6-pzXtuC",
        "outputId": "daa7e1be-8996-4fd3-afc4-0af6d277665d"
      },
      "execution_count": 11,
      "outputs": [
        {
          "output_type": "stream",
          "name": "stdout",
          "text": [
            "Feature batch shape: torch.Size([64, 1, 28, 28])\n",
            "Labels batch shape: torch.Size([64])\n"
          ]
        },
        {
          "output_type": "display_data",
          "data": {
            "text/plain": [
              "<Figure size 640x480 with 1 Axes>"
            ],
            "image/png": "[encoded data removed]"
          },
          "metadata": {}
        },
        {
          "output_type": "stream",
          "name": "stdout",
          "text": [
            "Label: 6\n"
          ]
        }
      ]
    },
    {
      "cell_type": "markdown",
      "source": [
        "#Transformers"
      ],
      "metadata": {
        "id": "zOXFzaLhYg0C"
      }
    },
    {
      "cell_type": "code",
      "source": [
        "import torch\n",
        "from torchvision import datasets\n",
        "from torchvision.transforms import ToTensor, Lambda"
      ],
      "metadata": {
        "id": "UOZuCBNzXwYj"
      },
      "execution_count": 12,
      "outputs": []
    },
    {
      "cell_type": "code",
      "source": [
        "ds = datasets.FashionMNIST(\n",
        "    root=\"data\",\n",
        "    train=True,\n",
        "    download=True,\n",
        "    transform=ToTensor(),\n",
        "    target_transform=Lambda(lambda y: torch.zeros(10, dtype=torch.float).scatter_(0, torch.tensor(y), value=1))\n",
        ")"
      ],
      "metadata": {
        "id": "ChX9TVuvYyCC"
      },
      "execution_count": 13,
      "outputs": []
    },
    {
      "cell_type": "markdown",
      "source": [
        "#Building NN"
      ],
      "metadata": {
        "id": "JgSRQqpLe3KT"
      }
    },
    {
      "cell_type": "code",
      "source": [
        "import os\n",
        "import torch\n",
        "from torch import nn\n",
        "from torch.utils.data import DataLoader\n",
        "from torchvision import datasets, transforms"
      ],
      "metadata": {
        "id": "vsZ7zMlUY3ru"
      },
      "execution_count": 15,
      "outputs": []
    },
    {
      "cell_type": "code",
      "source": [
        "device = torch.accelerator.current_accelerator().type if torch.accelerator.is_available() else \"cpu\"\n",
        "print(f\"Using {device} device\")"
      ],
      "metadata": {
        "colab": {
          "base_uri": "https://localhost:8080/"
        },
        "id": "JnR_JtfVfJqT",
        "outputId": "f09ce1b6-c24c-47d2-8a01-214e706da8ea"
      },
      "execution_count": 20,
      "outputs": [
        {
          "output_type": "stream",
          "name": "stdout",
          "text": [
            "Using cpu device\n"
          ]
        }
      ]
    },
    {
      "cell_type": "code",
      "source": [
        "class NeuralNetwork(nn.Module):\n",
        "  def __init__(self):\n",
        "    super().__init__()\n",
        "    self.flatten = nn.Flatten()\n",
        "    self.linear_relu_stack = nn.Sequential(\n",
        "        nn.Linear(28*28, 512),\n",
        "        nn.ReLU(),\n",
        "        nn.Linear(512, 512),\n",
        "        nn.ReLU(),\n",
        "        nn.Linear(512, 10),\n",
        "    )\n",
        "\n",
        "  def forward(self, x):\n",
        "    x = self.flatten(x)\n",
        "    logits = self.linear_relu_stack(x)\n",
        "    return logits"
      ],
      "metadata": {
        "id": "kCCbIWa-faR6"
      },
      "execution_count": 23,
      "outputs": []
    },
    {
      "cell_type": "code",
      "source": [
        "model = NeuralNetwork().to(device)\n",
        "print(model)"
      ],
      "metadata": {
        "colab": {
          "base_uri": "https://localhost:8080/"
        },
        "id": "BbS8AqUFgOJ0",
        "outputId": "1a568bb6-2bee-48d4-b7ef-68e757d93d2f"
      },
      "execution_count": 24,
      "outputs": [
        {
          "output_type": "stream",
          "name": "stdout",
          "text": [
            "NeuralNetwork(\n",
            "  (flatten): Flatten(start_dim=1, end_dim=-1)\n",
            "  (linear_relu_stack): Sequential(\n",
            "    (0): Linear(in_features=784, out_features=512, bias=True)\n",
            "    (1): ReLU()\n",
            "    (2): Linear(in_features=512, out_features=512, bias=True)\n",
            "    (3): ReLU()\n",
            "    (4): Linear(in_features=512, out_features=10, bias=True)\n",
            "  )\n",
            ")\n"
          ]
        }
      ]
    },
    {
      "cell_type": "code",
      "source": [
        "X = torch.rand(1, 28, 28, device=device)\n",
        "logits = model(X)\n",
        "pred_pobab = nn.Softmax(dim=1)(logits)\n",
        "y_pred = pred_pobab.argmax(1)\n",
        "print(f\"Predicted class: {y_pred}\")"
      ],
      "metadata": {
        "colab": {
          "base_uri": "https://localhost:8080/"
        },
        "id": "8Whke4bBgUZc",
        "outputId": "9e7b0233-11aa-4457-e8a1-9a00e53e9019"
      },
      "execution_count": 25,
      "outputs": [
        {
          "output_type": "stream",
          "name": "stdout",
          "text": [
            "Predicted class: tensor([9])\n"
          ]
        }
      ]
    },
    {
      "cell_type": "markdown",
      "source": [
        "#Automatic Differentiation"
      ],
      "metadata": {
        "id": "HabXelqPqKev"
      }
    },
    {
      "cell_type": "code",
      "source": [
        "\n",
        "x = torch.ones(5)\n",
        "y = torch.zeros(3)\n",
        "w = torch.randn(5, 3, requires_grad=True)\n",
        "b = torch.randn(3, requires_grad=True)\n",
        "z = torch.matmul(x, w) + b\n",
        "loss = torch.nn.functional.binary_cross_entropy_with_logits(z, y)"
      ],
      "metadata": {
        "id": "BwJr-SBnhSnp"
      },
      "execution_count": 26,
      "outputs": []
    },
    {
      "cell_type": "code",
      "source": [
        "print(f\"Gradient function for z = {z.grad_fn}\")\n",
        "print(f\"Gradient function for loss = {loss.grad_fn}\")"
      ],
      "metadata": {
        "colab": {
          "base_uri": "https://localhost:8080/"
        },
        "id": "MEG_uvF9rXTQ",
        "outputId": "2df3cd3b-46e4-4d16-9a14-b8c45abca723"
      },
      "execution_count": 28,
      "outputs": [
        {
          "output_type": "stream",
          "name": "stdout",
          "text": [
            "Gradient function for z = <AddBackward0 object at 0x7ce5c87c54e0>\n",
            "Gradient function for loss = <BinaryCrossEntropyWithLogitsBackward0 object at 0x7ce5c919e7d0>\n"
          ]
        }
      ]
    },
    {
      "cell_type": "code",
      "source": [
        "loss.backward()\n",
        "print(w.grad)\n",
        "print(b.grad)"
      ],
      "metadata": {
        "colab": {
          "base_uri": "https://localhost:8080/"
        },
        "id": "jWN29D78rcPD",
        "outputId": "5fb61d4b-9649-404d-a9b2-e62d475baff5"
      },
      "execution_count": 29,
      "outputs": [
        {
          "output_type": "stream",
          "name": "stdout",
          "text": [
            "tensor([[0.0263, 0.2360, 0.0620],\n",
            "        [0.0263, 0.2360, 0.0620],\n",
            "        [0.0263, 0.2360, 0.0620],\n",
            "        [0.0263, 0.2360, 0.0620],\n",
            "        [0.0263, 0.2360, 0.0620]])\n",
            "tensor([0.0263, 0.2360, 0.0620])\n"
          ]
        }
      ]
    },
    {
      "cell_type": "code",
      "source": [
        "#disabling grad\n",
        "z = torch.matmul(x, w) + b\n",
        "print(z.requires_grad)\n",
        "\n",
        "with torch.no_grad():\n",
        "  z = torch.matmul(x, w) + b\n",
        "print(z.requires_grad)"
      ],
      "metadata": {
        "colab": {
          "base_uri": "https://localhost:8080/"
        },
        "id": "CAQOrePdrphH",
        "outputId": "17f7049f-3f88-4fb4-e7ed-eb3978adeb08"
      },
      "execution_count": 31,
      "outputs": [
        {
          "output_type": "stream",
          "name": "stdout",
          "text": [
            "True\n",
            "False\n"
          ]
        }
      ]
    },
    {
      "cell_type": "code",
      "source": [
        "z = torch.matmul(x,w)+b\n",
        "z_det = z.detach()\n",
        "print(z_det.requires_grad)"
      ],
      "metadata": {
        "colab": {
          "base_uri": "https://localhost:8080/"
        },
        "id": "Qp-ro_Pory2z",
        "outputId": "6075f515-6217-46a9-ae82-c00dae28b50d"
      },
      "execution_count": 33,
      "outputs": [
        {
          "output_type": "stream",
          "name": "stdout",
          "text": [
            "False\n"
          ]
        }
      ]
    },
    {
      "cell_type": "code",
      "source": [
        "#optimising model params\n",
        "import torch\n",
        "from torch import nn\n",
        "from torch.utils.data import DataLoader\n",
        "from torchvision import datasets\n",
        "from torchvision.transforms import ToTensor\n",
        "\n",
        "training_data = datasets.FashionMNIST(\n",
        "    root=\"data\",\n",
        "    train=True,\n",
        "    download=True,\n",
        "    transform=ToTensor()\n",
        ")\n",
        "\n",
        "test_data = datasets.FashionMNIST(\n",
        "    root=\"data\",\n",
        "    train=False,\n",
        "    download=True,\n",
        "    transform=ToTensor()\n",
        ")\n",
        "\n",
        "train_dataloader = DataLoader(training_data, batch_size=64)\n",
        "test_dataloader = DataLoader(test_data, batch_size=64)\n",
        "\n",
        "class NeuralNetwork(nn.Module):\n",
        "    def __init__(self):\n",
        "        super().__init__()\n",
        "        self.flatten = nn.Flatten()\n",
        "        self.linear_relu_stack = nn.Sequential(\n",
        "            nn.Linear(28*28, 512),\n",
        "            nn.ReLU(),\n",
        "            nn.Linear(512, 512),\n",
        "            nn.ReLU(),\n",
        "            nn.Linear(512, 10),\n",
        "        )\n",
        "\n",
        "    def forward(self, x):\n",
        "        x = self.flatten(x)\n",
        "        logits = self.linear_relu_stack(x)\n",
        "        return logits\n",
        "\n",
        "model = NeuralNetwork()"
      ],
      "metadata": {
        "id": "HktmdA3ysKLt"
      },
      "execution_count": 35,
      "outputs": []
    },
    {
      "cell_type": "code",
      "source": [
        "learning_rate = 1e-3\n",
        "batch_size = 64\n",
        "epochs = 5"
      ],
      "metadata": {
        "id": "t0m6A1GztI_h"
      },
      "execution_count": 36,
      "outputs": []
    },
    {
      "cell_type": "code",
      "source": [
        "# Initialize the loss function\n",
        "loss_fn = nn.CrossEntropyLoss()"
      ],
      "metadata": {
        "id": "b2-pl7UOxLmS"
      },
      "execution_count": 37,
      "outputs": []
    },
    {
      "cell_type": "code",
      "source": [
        "optimizer = torch.optim.SGD(model.parameters(), lr=learning_rate)"
      ],
      "metadata": {
        "id": "taswGd7vxYmJ"
      },
      "execution_count": 38,
      "outputs": []
    },
    {
      "cell_type": "code",
      "source": [
        "def train_loop(dataloader, model, loss_fn, optimizer):\n",
        "    size = len(dataloader.dataset)\n",
        "    # Set the model to training mode - important for batch normalization and dropout layers\n",
        "    # Unnecessary in this situation but added for best practices\n",
        "    model.train()\n",
        "    for batch, (X, y) in enumerate(dataloader):\n",
        "        # Compute prediction and loss\n",
        "        pred = model(X)\n",
        "        loss = loss_fn(pred, y)\n",
        "\n",
        "        # Backpropagation\n",
        "        loss.backward()\n",
        "        optimizer.step()\n",
        "        optimizer.zero_grad()\n",
        "\n",
        "        if batch % 100 == 0:\n",
        "            loss, current = loss.item(), batch * batch_size + len(X)\n",
        "            print(f\"loss: {loss:>7f}  [{current:>5d}/{size:>5d}]\")\n",
        "\n",
        "\n",
        "def test_loop(dataloader, model, loss_fn):\n",
        "    # Set the model to evaluation mode - important for batch normalization and dropout layers\n",
        "    # Unnecessary in this situation but added for best practices\n",
        "    model.eval()\n",
        "    size = len(dataloader.dataset)\n",
        "    num_batches = len(dataloader)\n",
        "    test_loss, correct = 0, 0\n",
        "\n",
        "    # Evaluating the model with torch.no_grad() ensures that no gradients are computed during test mode\n",
        "    # also serves to reduce unnecessary gradient computations and memory usage for tensors with requires_grad=True\n",
        "    with torch.no_grad():\n",
        "        for X, y in dataloader:\n",
        "            pred = model(X)\n",
        "            test_loss += loss_fn(pred, y).item()\n",
        "            correct += (pred.argmax(1) == y).type(torch.float).sum().item()\n",
        "\n",
        "    test_loss /= num_batches\n",
        "    correct /= size\n",
        "    print(f\"Test Error: \\n Accuracy: {(100*correct):>0.1f}%, Avg loss: {test_loss:>8f} \\n\")"
      ],
      "metadata": {
        "id": "iOP9Ig_Kxr-Y"
      },
      "execution_count": 39,
      "outputs": []
    },
    {
      "cell_type": "code",
      "source": [
        "loss_fn = nn.CrossEntropyLoss()\n",
        "optimizer = torch.optim.SGD(model.parameters(), lr=learning_rate)\n",
        "\n",
        "epochs = 10\n",
        "for t in range(epochs):\n",
        "    print(f\"Epoch {t+1}\\n-------------------------------\")\n",
        "    train_loop(train_dataloader, model, loss_fn, optimizer)\n",
        "    test_loop(test_dataloader, model, loss_fn)\n",
        "print(\"Done!\")"
      ],
      "metadata": {
        "colab": {
          "base_uri": "https://localhost:8080/"
        },
        "id": "XfQ5n7LlyCsU",
        "outputId": "ce8b961a-d2a8-4d5b-cec6-365884c44523"
      },
      "execution_count": 40,
      "outputs": [
        {
          "output_type": "stream",
          "name": "stdout",
          "text": [
            "Epoch 1\n",
            "-------------------------------\n",
            "loss: 2.298360  [   64/60000]\n",
            "loss: 2.296858  [ 6464/60000]\n",
            "loss: 2.268834  [12864/60000]\n",
            "loss: 2.268271  [19264/60000]\n",
            "loss: 2.246887  [25664/60000]\n",
            "loss: 2.211412  [32064/60000]\n",
            "loss: 2.231688  [38464/60000]\n",
            "loss: 2.185681  [44864/60000]\n",
            "loss: 2.200842  [51264/60000]\n",
            "loss: 2.165257  [57664/60000]\n",
            "Test Error: \n",
            " Accuracy: 35.3%, Avg loss: 2.161551 \n",
            "\n",
            "Epoch 2\n",
            "-------------------------------\n",
            "loss: 2.163890  [   64/60000]\n",
            "loss: 2.169891  [ 6464/60000]\n",
            "loss: 2.104145  [12864/60000]\n",
            "loss: 2.124216  [19264/60000]\n",
            "loss: 2.076651  [25664/60000]\n",
            "loss: 2.011813  [32064/60000]\n",
            "loss: 2.049794  [38464/60000]\n",
            "loss: 1.962413  [44864/60000]\n",
            "loss: 1.983871  [51264/60000]\n",
            "loss: 1.913585  [57664/60000]\n",
            "Test Error: \n",
            " Accuracy: 51.6%, Avg loss: 1.911025 \n",
            "\n",
            "Epoch 3\n",
            "-------------------------------\n",
            "loss: 1.933333  [   64/60000]\n",
            "loss: 1.922820  [ 6464/60000]\n",
            "loss: 1.799210  [12864/60000]\n",
            "loss: 1.837567  [19264/60000]\n",
            "loss: 1.734182  [25664/60000]\n",
            "loss: 1.683103  [32064/60000]\n",
            "loss: 1.705255  [38464/60000]\n",
            "loss: 1.600237  [44864/60000]\n",
            "loss: 1.638614  [51264/60000]\n",
            "loss: 1.530980  [57664/60000]\n",
            "Test Error: \n",
            " Accuracy: 59.1%, Avg loss: 1.547749 \n",
            "\n",
            "Epoch 4\n",
            "-------------------------------\n",
            "loss: 1.605802  [   64/60000]\n",
            "loss: 1.584507  [ 6464/60000]\n",
            "loss: 1.427173  [12864/60000]\n",
            "loss: 1.492904  [19264/60000]\n",
            "loss: 1.379839  [25664/60000]\n",
            "loss: 1.371000  [32064/60000]\n",
            "loss: 1.380966  [38464/60000]\n",
            "loss: 1.302905  [44864/60000]\n",
            "loss: 1.350651  [51264/60000]\n",
            "loss: 1.244533  [57664/60000]\n",
            "Test Error: \n",
            " Accuracy: 62.7%, Avg loss: 1.272781 \n",
            "\n",
            "Epoch 5\n",
            "-------------------------------\n",
            "loss: 1.342417  [   64/60000]\n",
            "loss: 1.336217  [ 6464/60000]\n",
            "loss: 1.164422  [12864/60000]\n",
            "loss: 1.262594  [19264/60000]\n",
            "loss: 1.143609  [25664/60000]\n",
            "loss: 1.164197  [32064/60000]\n",
            "loss: 1.179432  [38464/60000]\n",
            "loss: 1.116700  [44864/60000]\n",
            "loss: 1.169774  [51264/60000]\n",
            "loss: 1.077421  [57664/60000]\n",
            "Test Error: \n",
            " Accuracy: 64.3%, Avg loss: 1.100036 \n",
            "\n",
            "Epoch 6\n",
            "-------------------------------\n",
            "loss: 1.163676  [   64/60000]\n",
            "loss: 1.178955  [ 6464/60000]\n",
            "loss: 0.989359  [12864/60000]\n",
            "loss: 1.117944  [19264/60000]\n",
            "loss: 0.994283  [25664/60000]\n",
            "loss: 1.025009  [32064/60000]\n",
            "loss: 1.053917  [38464/60000]\n",
            "loss: 0.997672  [44864/60000]\n",
            "loss: 1.052476  [51264/60000]\n",
            "loss: 0.972012  [57664/60000]\n",
            "Test Error: \n",
            " Accuracy: 65.6%, Avg loss: 0.988129 \n",
            "\n",
            "Epoch 7\n",
            "-------------------------------\n",
            "loss: 1.039142  [   64/60000]\n",
            "loss: 1.077209  [ 6464/60000]\n",
            "loss: 0.869921  [12864/60000]\n",
            "loss: 1.021846  [19264/60000]\n",
            "loss: 0.899851  [25664/60000]\n",
            "loss: 0.927260  [32064/60000]\n",
            "loss: 0.971413  [38464/60000]\n",
            "loss: 0.920712  [44864/60000]\n",
            "loss: 0.972094  [51264/60000]\n",
            "loss: 0.901687  [57664/60000]\n",
            "Test Error: \n",
            " Accuracy: 66.8%, Avg loss: 0.912520 \n",
            "\n",
            "Epoch 8\n",
            "-------------------------------\n",
            "loss: 0.948079  [   64/60000]\n",
            "loss: 1.006951  [ 6464/60000]\n",
            "loss: 0.785354  [12864/60000]\n",
            "loss: 0.954873  [19264/60000]\n",
            "loss: 0.837347  [25664/60000]\n",
            "loss: 0.856523  [32064/60000]\n",
            "loss: 0.913587  [38464/60000]\n",
            "loss: 0.869885  [44864/60000]\n",
            "loss: 0.914665  [51264/60000]\n",
            "loss: 0.851955  [57664/60000]\n",
            "Test Error: \n",
            " Accuracy: 68.1%, Avg loss: 0.858854 \n",
            "\n",
            "Epoch 9\n",
            "-------------------------------\n",
            "loss: 0.878930  [   64/60000]\n",
            "loss: 0.954725  [ 6464/60000]\n",
            "loss: 0.723136  [12864/60000]\n",
            "loss: 0.905895  [19264/60000]\n",
            "loss: 0.793382  [25664/60000]\n",
            "loss: 0.803906  [32064/60000]\n",
            "loss: 0.870214  [38464/60000]\n",
            "loss: 0.834577  [44864/60000]\n",
            "loss: 0.872021  [51264/60000]\n",
            "loss: 0.814630  [57664/60000]\n",
            "Test Error: \n",
            " Accuracy: 69.3%, Avg loss: 0.818757 \n",
            "\n",
            "Epoch 10\n",
            "-------------------------------\n",
            "loss: 0.824519  [   64/60000]\n",
            "loss: 0.913267  [ 6464/60000]\n",
            "loss: 0.675397  [12864/60000]\n",
            "loss: 0.868653  [19264/60000]\n",
            "loss: 0.760498  [25664/60000]\n",
            "loss: 0.763793  [32064/60000]\n",
            "loss: 0.835722  [38464/60000]\n",
            "loss: 0.808677  [44864/60000]\n",
            "loss: 0.839049  [51264/60000]\n",
            "loss: 0.785146  [57664/60000]\n",
            "Test Error: \n",
            " Accuracy: 70.9%, Avg loss: 0.787313 \n",
            "\n",
            "Done!\n"
          ]
        }
      ]
    },
    {
      "cell_type": "code",
      "source": [
        "#save and load model\n",
        "import torch\n",
        "import torchvision.models as models\n",
        "\n",
        "model = models.vgg16(weights='IMAGENET1K_V1')\n",
        "torch.save(model.state_dict(), 'model_weights.pth')\n",
        "\n",
        "model = models.vgg16() # we do not specify ``weights``, i.e. create untrained model\n",
        "model.load_state_dict(torch.load('model_weights.pth', weights_only=True))\n",
        "model.eval()"
      ],
      "metadata": {
        "colab": {
          "base_uri": "https://localhost:8080/"
        },
        "id": "XdJSHm1VyFym",
        "outputId": "a99d38b2-1c51-4c63-820a-c1a7f9e98b2f"
      },
      "execution_count": 43,
      "outputs": [
        {
          "output_type": "stream",
          "name": "stdout",
          "text": [
            "Downloading: \"https://download.pytorch.org/models/vgg16-397923af.pth\" to /root/.cache/torch/hub/checkpoints/vgg16-397923af.pth\n"
          ]
        },
        {
          "output_type": "stream",
          "name": "stderr",
          "text": [
            "100%|██████████| 528M/528M [00:06<00:00, 86.9MB/s]\n"
          ]
        },
        {
          "output_type": "execute_result",
          "data": {
            "text/plain": [
              "VGG(\n",
              "  (features): Sequential(\n",
              "    (0): Conv2d(3, 64, kernel_size=(3, 3), stride=(1, 1), padding=(1, 1))\n",
              "    (1): ReLU(inplace=True)\n",
              "    (2): Conv2d(64, 64, kernel_size=(3, 3), stride=(1, 1), padding=(1, 1))\n",
              "    (3): ReLU(inplace=True)\n",
              "    (4): MaxPool2d(kernel_size=2, stride=2, padding=0, dilation=1, ceil_mode=False)\n",
              "    (5): Conv2d(64, 128, kernel_size=(3, 3), stride=(1, 1), padding=(1, 1))\n",
              "    (6): ReLU(inplace=True)\n",
              "    (7): Conv2d(128, 128, kernel_size=(3, 3), stride=(1, 1), padding=(1, 1))\n",
              "    (8): ReLU(inplace=True)\n",
              "    (9): MaxPool2d(kernel_size=2, stride=2, padding=0, dilation=1, ceil_mode=False)\n",
              "    (10): Conv2d(128, 256, kernel_size=(3, 3), stride=(1, 1), padding=(1, 1))\n",
              "    (11): ReLU(inplace=True)\n",
              "    (12): Conv2d(256, 256, kernel_size=(3, 3), stride=(1, 1), padding=(1, 1))\n",
              "    (13): ReLU(inplace=True)\n",
              "    (14): Conv2d(256, 256, kernel_size=(3, 3), stride=(1, 1), padding=(1, 1))\n",
              "    (15): ReLU(inplace=True)\n",
              "    (16): MaxPool2d(kernel_size=2, stride=2, padding=0, dilation=1, ceil_mode=False)\n",
              "    (17): Conv2d(256, 512, kernel_size=(3, 3), stride=(1, 1), padding=(1, 1))\n",
              "    (18): ReLU(inplace=True)\n",
              "    (19): Conv2d(512, 512, kernel_size=(3, 3), stride=(1, 1), padding=(1, 1))\n",
              "    (20): ReLU(inplace=True)\n",
              "    (21): Conv2d(512, 512, kernel_size=(3, 3), stride=(1, 1), padding=(1, 1))\n",
              "    (22): ReLU(inplace=True)\n",
              "    (23): MaxPool2d(kernel_size=2, stride=2, padding=0, dilation=1, ceil_mode=False)\n",
              "    (24): Conv2d(512, 512, kernel_size=(3, 3), stride=(1, 1), padding=(1, 1))\n",
              "    (25): ReLU(inplace=True)\n",
              "    (26): Conv2d(512, 512, kernel_size=(3, 3), stride=(1, 1), padding=(1, 1))\n",
              "    (27): ReLU(inplace=True)\n",
              "    (28): Conv2d(512, 512, kernel_size=(3, 3), stride=(1, 1), padding=(1, 1))\n",
              "    (29): ReLU(inplace=True)\n",
              "    (30): MaxPool2d(kernel_size=2, stride=2, padding=0, dilation=1, ceil_mode=False)\n",
              "  )\n",
              "  (avgpool): AdaptiveAvgPool2d(output_size=(7, 7))\n",
              "  (classifier): Sequential(\n",
              "    (0): Linear(in_features=25088, out_features=4096, bias=True)\n",
              "    (1): ReLU(inplace=True)\n",
              "    (2): Dropout(p=0.5, inplace=False)\n",
              "    (3): Linear(in_features=4096, out_features=4096, bias=True)\n",
              "    (4): ReLU(inplace=True)\n",
              "    (5): Dropout(p=0.5, inplace=False)\n",
              "    (6): Linear(in_features=4096, out_features=1000, bias=True)\n",
              "  )\n",
              ")"
            ]
          },
          "metadata": {},
          "execution_count": 43
        }
      ]
    },
    {
      "cell_type": "code",
      "source": [
        "torch.save(model, 'model.pth')\n",
        "# model = torch.load('model.pth')"
      ],
      "metadata": {
        "id": "nMFJyJy1yLfV"
      },
      "execution_count": 44,
      "outputs": []
    },
    {
      "cell_type": "code",
      "source": [],
      "metadata": {
        "id": "hq76gSs_y7kp"
      },
      "execution_count": null,
      "outputs": []
    }
  ]
}